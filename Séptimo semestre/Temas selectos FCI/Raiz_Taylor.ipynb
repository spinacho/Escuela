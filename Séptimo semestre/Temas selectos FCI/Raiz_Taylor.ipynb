{
 "metadata": {
  "language": "Julia",
  "name": "",
  "signature": "sha256:0152a8af154f934393e2c2d958bdfff93a02f7c5817955e29a64432c575d90ec"
 },
 "nbformat": 3,
 "nbformat_minor": 0,
 "worksheets": [
  {
   "cells": [
    {
     "cell_type": "markdown",
     "metadata": {},
     "source": [
      "Vamos a implementar la funci\u00f3n ra\u00edz cuadrada en polinomios de Taylor:"
     ]
    },
    {
     "cell_type": "code",
     "collapsed": false,
     "input": [
      "type Taylor{T<:Number}\n",
      "    coeffs::Array{T,1}\n",
      "    order :: Int\n",
      "    #constructor interno\n",
      "    function Taylor(coeffs::Array{T,1},order::Int)\n",
      "        ll=length(coeffs)\n",
      "        order=max(ll-1,order)\n",
      "        v=zeros(T,order+1)\n",
      "        v[1:ll]=coeffs[1:ll]\n",
      "        new(v,order)\n",
      "    end\n",
      "end\n",
      "\n",
      "Taylor{T<:Number}(v::Array{T,1}, n::Int)=Taylor{T}(v,n)\n",
      "Taylor{T<:Number}(v::Array{T,1})=Taylor{T}(v,0)\n",
      "Taylor{T<:Number}(c::T, n::Int)=Taylor{T}([c],n)\n",
      "Taylor{T<:Number}(c::T)=Taylor{T}([c],0)\n",
      "Taylor{T<:Number}(t::Taylor{T},n::Int)=Taylor{T}(t.coeffs, n)\n",
      "Taylor{T<:Number}(t::Taylor{T})=Taylor{T}(t.coeffs, 0)\n",
      "\n",
      "\n",
      "function +(f::Taylor,g::Taylor)\n",
      "    m=max(f.order,g.order)\n",
      "    if m==f.order\n",
      "        g=Taylor(g,m)\n",
      "    else\n",
      "        f=Taylor(f,m)\n",
      "    end\n",
      "    Taylor(f.coeffs+g.coeffs,m)\n",
      "end\n",
      "+(f::Taylor)=f\n",
      "+(c::Number,f::Taylor)=Taylor(c)+f\n",
      "+(f::Taylor,c::Number)=f+Taylor(c)\n",
      "\n",
      "function -(f::Taylor,g::Taylor)\n",
      "    fcoeffs,g=promote\n",
      "    m=max(f.order,g.order)\n",
      "    if m==f.order\n",
      "        g=Taylor(g,m)\n",
      "    else\n",
      "        f=Taylor(f,m)\n",
      "    end\n",
      "    Taylor(f.coeffs-g.coeffs,m)\n",
      "end\n",
      "-(f::Taylor)=Taylor(-f.coeffs,f.order)\n",
      "-(c::Number,f::Taylor)=Taylor(c)-f\n",
      "-(f::Taylor,c::Number)=f-Taylor(c)\n",
      "\n",
      "function *(f::Taylor, g::Taylor)\n",
      "    m=max(f.order,g.order)\n",
      "        if m==f.order #f,g=Taylor(f,m),Taylor(g,m)\n",
      "        g=Taylor(g,m)\n",
      "    else\n",
      "        f=Taylor(f,m)\n",
      "    end\n",
      "    T=promote_type(eltype(f.coeffs),eltype(g.coeffs))\n",
      "    v=zeros(T,m+1)\n",
      "    for ord = 0:m\n",
      "        suma=zero(T)\n",
      "        for n=0:ord\n",
      "            suma+=f.coeffs[n+1]*g.coeffs[ord-n+1]\n",
      "        end\n",
      "        v[ord+1]=suma\n",
      "    end\n",
      "    Taylor(v, m)\n",
      "end\n",
      "*(f::Taylor,c::Number)=Taylor(c*f.coeffs, f.order)\n",
      "*(c::Number,f::Taylor)=Taylor(c*f.coeffs, f.order)\n",
      "\n",
      "function /(f::Taylor, g::Taylor)\n",
      "    m=max(f.order,g.order)\n",
      "    if g.coeffs[1]==0\n",
      "        error(\"Divisi\u00f3n por cero\")\n",
      "    end\n",
      "        if m==f.order #f,g=Taylor(f,m),Taylor(g,m)\n",
      "        g=Taylor(g,m)\n",
      "    else\n",
      "        f=Taylor(f,m)\n",
      "    end\n",
      "    T=promote_type(eltype(f.coeffs),eltype(g.coeffs))\n",
      "    v=zeros(T,m+1)\n",
      "    for i in 0:m\n",
      "        v[i+1]=(1/g.coeffs[1])*(f.coeffs[i+1]-sum([v[n+1]*g.coeffs[i-n+1] for n in 0:i-1]))\n",
      "    end\n",
      "    Taylor(v, m)\n",
      "end\n",
      "/(f::Taylor,c::Number)=f*inv(c)\n",
      "/(c::Number,f::Taylor)=Taylor(c)/f;"
     ],
     "language": "python",
     "metadata": {},
     "outputs": [
      {
       "ename": "LoadError",
       "evalue": "invalid redefinition of constant Taylor\nwhile loading In[10], in expression starting on line 1",
       "output_type": "pyerr",
       "traceback": [
        "invalid redefinition of constant Taylor\nwhile loading In[10], in expression starting on line 1",
        ""
       ]
      }
     ],
     "prompt_number": 10
    },
    {
     "cell_type": "code",
     "collapsed": false,
     "input": [
      "import Base.sqrt"
     ],
     "language": "python",
     "metadata": {},
     "outputs": [],
     "prompt_number": 11
    },
    {
     "cell_type": "code",
     "collapsed": false,
     "input": [
      "function sqrt(f::Taylor)\n",
      "    if f.coeffs[1]<0\n",
      "        error(\"Ra\u00edz negativa\")\n",
      "    end\n",
      "    m=f.order\n",
      "    v=zeros(Float64,m+1)\n",
      "    v[1]=sqrt(f.coeffs[1])\n",
      "    cte=0.5/v[1]\n",
      "    for i in 1:m #vamos a ir sacando el coeficiente v[i+1], el cual corresponde a p_i\n",
      "        if iseven(i) #i es par\n",
      "            s=(i-2)/2\n",
      "            suma=sum([v[j+1]*v[i-j+1] for j in 1:s])\n",
      "            v[i+1]=cte*(f.coeffs[i+1]-2*suma-(v[(i/2)+1]^2))\n",
      "        else\n",
      "            s=(i-1)/2\n",
      "            suma=sum([v[j+1]*v[i-j+1] for j in 1:s])\n",
      "            v[i+1]=cte*(f.coeffs[i+1]-2*suma)\n",
      "        end\n",
      "    end\n",
      "    Taylor(v,m)\n",
      "end"
     ],
     "language": "python",
     "metadata": {},
     "outputs": [
      {
       "metadata": {},
       "output_type": "pyout",
       "prompt_number": 17,
       "text": [
        "sqrt (generic function with 13 methods)"
       ]
      }
     ],
     "prompt_number": 17
    },
    {
     "cell_type": "code",
     "collapsed": false,
     "input": [
      "sqrt(Taylor([1,1],17))"
     ],
     "language": "python",
     "metadata": {},
     "outputs": [
      {
       "metadata": {},
       "output_type": "pyout",
       "prompt_number": 18,
       "text": [
        "Taylor{Float64}([1.0,0.5,-0.125,0.0625,-0.0390625,0.0273438,-0.0205078,0.0161133,-0.013092,0.01091,-0.00927353,0.00800896,-0.00700784,0.00619924,-0.00553504,0.00498153,-0.00451451,0.00411617],17)"
       ]
      }
     ],
     "prompt_number": 18
    },
    {
     "cell_type": "code",
     "collapsed": false,
     "input": [
      "sqrt(Taylor([1,2,1],10))"
     ],
     "language": "python",
     "metadata": {},
     "outputs": [
      {
       "metadata": {},
       "output_type": "pyout",
       "prompt_number": 19,
       "text": [
        "Taylor{Float64}([1.0,1.0,0.0,0.0,0.0,0.0,0.0,0.0,0.0,0.0,0.0],10)"
       ]
      }
     ],
     "prompt_number": 19
    },
    {
     "cell_type": "code",
     "collapsed": false,
     "input": [
      "function sqrt(f::Taylor)\n",
      "    if f.coeffs[1]<0\n",
      "        error(\"Ra\u00edz negativa\")\n",
      "    end\n",
      "    m=f.order\n",
      "    v=zeros(Float64,m+1)\n",
      "    v[1]=sqrt(f.coeffs[1])\n",
      "    cte=0.5/v[1]\n",
      "    #if m>1\n",
      "    #    v[2]=f.coeffs[2]*cte\n",
      "    #end\n",
      "    for i in 1:m\n",
      "        k=ceil(i/2)\n",
      "        S=sum([v[j+1]*v[i-j+1] for j in 1:k])\n",
      "        v[i+1]=cte*(f.coeffs[i+1]-S)\n",
      "    end\n",
      "    Taylor(v,m)\n",
      "end\n"
     ],
     "language": "python",
     "metadata": {},
     "outputs": [
      {
       "metadata": {},
       "output_type": "pyout",
       "prompt_number": 7,
       "text": [
        "sqrt (generic function with 13 methods)"
       ]
      }
     ],
     "prompt_number": 7
    }
   ],
   "metadata": {}
  }
 ]
}