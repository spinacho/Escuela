{
 "metadata": {
  "language": "Julia",
  "name": "",
  "signature": "sha256:3a35b80bd246d67aece9114d3291df71164381cd0cea837d7881263e9e21dfdc"
 },
 "nbformat": 3,
 "nbformat_minor": 0,
 "worksheets": [
  {
   "cells": [
    {
     "cell_type": "markdown",
     "metadata": {},
     "source": [
      "Vamos a construir una funci\u00f3n que construya, dados $n$ cuerpos, una matriz de $nxn$, d\u00f3nde la entrada $ij$ va a ser la aceleraci\u00f3n que el cuerpo $i$ est\u00e1 \"ejerciendo\" en el cuerpo $j$. Esta funci\u00f3n generadora de la matriz va a tener que tomar como entrada las n masas de los cuerpos. Adem\u00e1s, claramente la diagonal de la matriz va a estar compuesta de ceros."
     ]
    },
    {
     "cell_type": "markdown",
     "metadata": {},
     "source": [
      "Vamos a tomar en cuenta el vector de posiciones del sistema $Q$. Este vector va a necesitar tener $3n$ entradas, cada una correspondiendo a la coordenada de una de las dimensiones de cada cuerpo. Vamos a tomar entonces:\n",
      "$$Q=[x_1, y_1, z_1, x_2, ..., z_n]$$"
     ]
    },
    {
     "cell_type": "markdown",
     "metadata": {},
     "source": [
      "Vamos a tener entonces que (tomando $G=1$, $m_1>m_j,\\ \\forall j \\in [2:n]$, y $m_1=1$) \n",
      "$$A[ij]=(aceleracion\\ debida\\ a\\ j\\ en\\ i)=\\frac{m_j*(\\vec r_j-\\vec r_i)}{R_{ij}^3}$$"
     ]
    },
    {
     "cell_type": "markdown",
     "metadata": {},
     "source": [
      "Tenemos entonces que la l\u00ednea $i$ de la matriz va a estar dada por:\n",
      "$$A[linea\\_i]=[A[i1], A[i2], ..., A[in]]$$"
     ]
    },
    {
     "cell_type": "code",
     "collapsed": false,
     "input": [
      "using PyPlot\n",
      "using Interact;"
     ],
     "language": "python",
     "metadata": {},
     "outputs": [
      {
       "html": [
        "<script charset=\"utf-8\">(function ($, undefined) {\n",
        "\n",
        "    function createElem(tag, attr, content) {\n",
        "\t// TODO: remove jQuery dependency\n",
        "\tvar el = $(\"<\" + tag + \"/>\").attr(attr);\n",
        "\tif (content) {\n",
        "\t    el.append(content);\n",
        "\t}\n",
        "\treturn el[0];\n",
        "    }\n",
        "\n",
        "    // A widget must expose an id field which identifies it to the backend,\n",
        "    // an elem attribute which is will be added to the DOM, and\n",
        "    // a getState() method which returns the value to be sent to the backend\n",
        "    // a sendUpdate() method which sends its current value to the backend\n",
        "    var Widget = {\n",
        "\tid: undefined,\n",
        "\telem: undefined,\n",
        "\tlabel: undefined,\n",
        "\tgetState: function () {\n",
        "\t    return this.elem.value;\n",
        "\t},\n",
        "\tsendUpdate: undefined\n",
        "    };\n",
        "\n",
        "    var Slider = function (typ, id, init) {\n",
        "\tvar attr = { type:  \"range\",\n",
        "\t\t     value: init.value,\n",
        "\t\t     min:   init.min,\n",
        "\t\t     max:   init.max,\n",
        "\t\t     step:  init.step },\n",
        "\t    elem = createElem(\"input\", attr),\n",
        "\t    self = this;\n",
        "\n",
        "\telem.onchange = function () {\n",
        "\t    self.sendUpdate();\n",
        "\t}\n",
        "\n",
        "\tthis.id = id;\n",
        "\tthis.elem = elem;\n",
        "\tthis.label = init.label;\n",
        "\n",
        "\tInputWidgets.commInitializer(this); // Initialize communication\n",
        "    }\n",
        "    Slider.prototype = Widget;\n",
        "\n",
        "    var Checkbox = function (typ, id, init) {\n",
        "\tvar attr = { type: \"checkbox\",\n",
        "\t\t     checked: init.value },\n",
        "\t    elem = createElem(\"input\", attr),\n",
        "\t    self = this;\n",
        "\n",
        "\tthis.getState = function () {\n",
        "\t    return elem.checked;\n",
        "\t}\n",
        "\telem.onchange = function () {\n",
        "\t    self.sendUpdate();\n",
        "\t}\n",
        "\n",
        "\tthis.id = id;\n",
        "\tthis.elem = elem;\n",
        "\tthis.label = init.label;\n",
        "\n",
        "\tInputWidgets.commInitializer(this);\n",
        "    }\n",
        "    Checkbox.prototype = Widget;\n",
        "\n",
        "    var Button = function (typ, id, init) {\n",
        "\tvar attr = { type:    \"button\",\n",
        "\t\t     value:   init.label },\n",
        "\t    elem = createElem(\"input\", attr),\n",
        "\t    self = this;\n",
        "\tthis.getState = function () {\n",
        "\t    return null;\n",
        "\t}\n",
        "\telem.onclick = function () {\n",
        "\t    self.sendUpdate();\n",
        "\t}\n",
        "\n",
        "\tthis.id = id;\n",
        "\tthis.elem = elem;\n",
        "\tthis.label = init.label;\n",
        "\n",
        "\tInputWidgets.commInitializer(this);\n",
        "    }\n",
        "    Button.prototype = Widget;\n",
        "\n",
        "    var Text = function (typ, id, init) {\n",
        "\tvar attr = { type:  \"text\",\n",
        "\t\t     placeholder: init.label,\n",
        "\t\t     value: init.value },\n",
        "\t    elem = createElem(\"input\", attr),\n",
        "\t    self = this;\n",
        "\tthis.getState = function () {\n",
        "\t    return elem.value;\n",
        "\t}\n",
        "\telem.onkeyup = function () {\n",
        "\t    self.sendUpdate();\n",
        "\t}\n",
        "\n",
        "\tthis.id = id;\n",
        "\tthis.elem = elem;\n",
        "\tthis.label = init.label;\n",
        "\n",
        "\tInputWidgets.commInitializer(this);\n",
        "    }\n",
        "    Text.prototype = Widget;\n",
        "\n",
        "    var Textarea = function (typ, id, init) {\n",
        "\tvar attr = { placeholder: init.label },\n",
        "\t    elem = createElem(\"textarea\", attr, init.value),\n",
        "\t    self = this;\n",
        "\tthis.getState = function () {\n",
        "\t    return elem.value;\n",
        "\t}\n",
        "\telem.onchange = function () {\n",
        "\t    self.sendUpdate();\n",
        "\t}\n",
        "\n",
        "\tthis.id = id;\n",
        "\tthis.elem = elem;\n",
        "\tthis.label = init.label;\n",
        "\n",
        "\tInputWidgets.commInitializer(this);\n",
        "    }\n",
        "    Textarea.prototype = Widget;\n",
        "\n",
        "    // RadioButtons\n",
        "    // Dropdown\n",
        "    // HTML\n",
        "    // Latex\n",
        "\n",
        "    var InputWidgets = {\n",
        "\tSlider: Slider,\n",
        "\tCheckbox: Checkbox,\n",
        "\tButton: Button,\n",
        "\tText: Text,\n",
        "\tTextarea: Textarea,\n",
        "\tdebug: false,\n",
        "\tlog: function () {\n",
        "\t    if (InputWidgets.debug) {\n",
        "\t\tconsole.log.apply(console, arguments);\n",
        "\t    }\n",
        "\t},\n",
        "\t// a central way to initalize communication\n",
        "\t// for widgets.\n",
        "\tcommInitializer: function (widget) {\n",
        "\t    widget.sendUpdate = function () {};\n",
        "\t}\n",
        "    };\n",
        "\n",
        "    window.InputWidgets = InputWidgets;\n",
        "\n",
        "})(jQuery, undefined);\n",
        "</script>"
       ],
       "metadata": {},
       "output_type": "display_data"
      },
      {
       "html": [
        "<script charset=\"utf-8\">(function (IPython, $, _, MathJax, Widgets) {\n",
        "    $.event.special.destroyed = {\n",
        "\tremove: function(o) {\n",
        "\t    if (o.handler) {\n",
        "\t\to.handler.apply(this, arguments)\n",
        "\t    }\n",
        "\t}\n",
        "    }\n",
        "\n",
        "    $(document).ready(function() {\n",
        "\tWidgets.debug = false; // log messages etc in console.\n",
        "\tfunction initComm(evt, data) {\n",
        "\t    var comm_manager = data.kernel.comm_manager;\n",
        "\t    comm_manager.register_target(\"Signal\", function (comm) {\n",
        "\t\tcomm.on_msg(function (msg) {\n",
        "\t\t    //Widgets.log(\"message received\", msg);\n",
        "\t\t    var val = msg.content.data.value;\n",
        "\t\t    $(\".signal-\" + comm.comm_id).each(function() {\n",
        "\t\t\tvar self = this;\n",
        "\t\t\tvar type = $(this).data(\"type\");\n",
        "\t\t\tif (val[type]) {\n",
        "\t\t\t    $(self).empty();\n",
        "\t\t\t    var selector = $(\"<div/>\");\n",
        "\t\t\t    var oa = new IPython.OutputArea(_.extend(selector, {\n",
        "\t\t\t\tselector: selector,\n",
        "\t\t\t\tprompt_area: true,\n",
        "\t\t\t\tevents: IPython.events,\n",
        "\t\t\t\tkeyboard_manager: IPython.keyboard_manager\n",
        "\t\t\t    })); // Hack to work with IPython 2.1.0\n",
        "\t\t\t    var toinsert = IPython.OutputArea.append_map[type].apply(\n",
        "\t\t\t\toa, [val[type], {}, selector]\n",
        "\t\t\t    );\n",
        "\t\t\t    if (type === \"text/latex\" && MathJax) {\n",
        "\t\t\t\tMathJax.Hub.Queue([\"Typeset\", MathJax.Hub, toinsert.get(0)]);\n",
        "\t\t\t    }\n",
        "\n",
        "\t\t\t    $(self).append(toinsert.contents());\n",
        "\t\t\t    selector.remove();\n",
        "\t\t\t}\n",
        "\t\t    });\n",
        "\t\t    delete val;\n",
        "\t\t    delete msg.content.data.value;\n",
        "\t\t});\n",
        "\t    });\n",
        "\n",
        "\t    // coordingate with Comm and redraw Signals\n",
        "\t    // XXX: Test using Reactive here to improve performance\n",
        "\t    $([IPython.events]).on(\n",
        "\t\t'output_appended.OutputArea', function (event, type, value, md, toinsert) {\n",
        "\t\t    if (md && md.reactive) {\n",
        "\t\t\t// console.log(md.comm_id);\n",
        "\t\t\ttoinsert.addClass(\"signal-\" + md.comm_id);\n",
        "\t\t\ttoinsert.data(\"type\", type);\n",
        "\t\t\t// Signal back indicating the mimetype required\n",
        "\t\t\tvar comm_manager = IPython.notebook.kernel.comm_manager;\n",
        "\t\t\tvar comm = comm_manager.comms[md.comm_id];\n",
        "\t\t\tcomm.send({action: \"subscribe_mime\",\n",
        "\t\t\t\t   mime: type});\n",
        "\t\t\ttoinsert.bind(\"destroyed\", function() {\n",
        "\t\t\t    comm.send({action: \"unsubscribe_mime\",\n",
        "\t\t\t\t       mime: type});\n",
        "\t\t\t});\n",
        "\t\t    }\n",
        "\t    });\n",
        "\n",
        "\t    // Set up communication for Widgets\n",
        "\t    Widgets.commInitializer = function (widget) {\n",
        "\t\tvar comm = comm_manager.new_comm(\n",
        "\t\t    \"InputWidget\", {widget_id: widget.id}\n",
        "\t\t);\n",
        "\t\twidget.sendUpdate = function () {\n",
        "\t\t    // `this` is a widget here.\n",
        "\t\t    // TODO: I have a feeling there's some\n",
        "\t\t    //       IPython bookkeeping to be done here.\n",
        "\t\t    // Widgets.log(\"State changed\", this, this.getState());\n",
        "\t\t    comm.send({value: this.getState()});\n",
        "\t\t}\n",
        "\t    };\n",
        "\t}\n",
        "\n",
        "\ttry {\n",
        "\t    // try to initialize right away. otherwise, wait on the status_started event.\n",
        "\t    initComm(undefined, IPython.notebook);\n",
        "\t} catch (e) {\n",
        "\t    $([IPython.events]).on('status_started.Kernel', initComm);\n",
        "\t}\n",
        "    });\n",
        "})(IPython, jQuery, _, MathJax, InputWidgets);\n",
        "</script>"
       ],
       "metadata": {},
       "output_type": "display_data"
      }
     ],
     "prompt_number": 1
    },
    {
     "cell_type": "code",
     "collapsed": false,
     "input": [
      "R(i,j,Q)=sqrt((Q[3i-2]-Q[3j-2])^2+(Q[3i-1]-Q[3j-1])^2+(Q[3i]-Q[3j])^2)\n",
      "R_3(i,j,Q)=1/(R(i,j,Q)^3)"
     ],
     "language": "python",
     "metadata": {},
     "outputs": [
      {
       "metadata": {},
       "output_type": "pyout",
       "prompt_number": 2,
       "text": [
        "R_3 (generic function with 1 method)"
       ]
      }
     ],
     "prompt_number": 2
    },
    {
     "cell_type": "code",
     "collapsed": false,
     "input": [
      "R(i,j,Q)=sqrt((Q[3i-2]-Q[3j-2])^2+(Q[3i-1]-Q[3j-1])^2+(Q[3i]-Q[3j])^2)\n",
      "R_3(i,j,Q)=1/(R(i,j,Q)^3)\n",
      "function accel(Q,M,i,j)\n",
      "    #Esta funcion saca la aceleraci\u00f3n que siente j debido a i\n",
      "    if i==j\n",
      "        [0,0,0]\n",
      "    else\n",
      "        (M[i]*R_3(i,j,Q)).*[Q[3i-2]-Q[3j-2],Q[3i-1]-Q[3j-1],Q[3i]-Q[3j]]\n",
      "    end\n",
      "end"
     ],
     "language": "python",
     "metadata": {},
     "outputs": [
      {
       "metadata": {},
       "output_type": "pyout",
       "prompt_number": 3,
       "text": [
        "accel (generic function with 1 method)"
       ]
      }
     ],
     "prompt_number": 3
    },
    {
     "cell_type": "code",
     "collapsed": false,
     "input": [
      "function total_accel(Q,M,j,n=length(M))\n",
      "    sum([accel(Q,M,s,j) for s in 1:n])\n",
      "end"
     ],
     "language": "python",
     "metadata": {},
     "outputs": [
      {
       "metadata": {},
       "output_type": "pyout",
       "prompt_number": 4,
       "text": [
        "total_accel (generic function with 2 methods)"
       ]
      }
     ],
     "prompt_number": 4
    },
    {
     "cell_type": "code",
     "collapsed": false,
     "input": [
      "function sistema(t,Q,V,M,n=length(M))\n",
      "    A=Float64[]\n",
      "    for i in 1:n\n",
      "        T=total_accel(Q,M,i,n)\n",
      "        push!(A,T[1],T[2],T[3])\n",
      "    end\n",
      "    A\n",
      "end"
     ],
     "language": "python",
     "metadata": {},
     "outputs": [
      {
       "metadata": {},
       "output_type": "pyout",
       "prompt_number": 5,
       "text": [
        "sistema (generic function with 2 methods)"
       ]
      }
     ],
     "prompt_number": 5
    },
    {
     "cell_type": "markdown",
     "metadata": {},
     "source": [
      "Queremos que $acel(t,Q,V,M)=[\\ddot x_1, \\ddot y_1, \\ddot z_1, \\ddot x_2, ..., \\ddot z_n]$"
     ]
    },
    {
     "cell_type": "code",
     "collapsed": false,
     "input": [
      "function rungekutta4(q0,v0,f,t,h,w=1)\n",
      "    l1=h*f(t,q0,v0,w)\n",
      "    k1=h*v0\n",
      "    l2=h*f(t+h/2,q0+k1/2,v0+l1/2,w)\n",
      "    k2=h*(v0+l1/2)\n",
      "    l3=h*f(t+h/2,q0+k2/2,v0+l2/2,w)\n",
      "    k3=h*(v0+l2/2)\n",
      "    l4=h*f(t+h,q0+k3,v0+l3,w)\n",
      "    k4=h*(v0+l3)\n",
      "    qnueva=q0+(1/6)*(k1+2k2+2k3+k4)\n",
      "    vnueva=v0+(1/6)*(l1+2l2+2l3+l4)\n",
      "    vnueva,qnueva\n",
      "end"
     ],
     "language": "python",
     "metadata": {},
     "outputs": [
      {
       "metadata": {},
       "output_type": "pyout",
       "prompt_number": 6,
       "text": [
        "rungekutta4 (generic function with 2 methods)"
       ]
      }
     ],
     "prompt_number": 6
    },
    {
     "cell_type": "code",
     "collapsed": false,
     "input": [
      "function integrar(metodo,q0,v0,t0,tf,h,f,w=1)\n",
      "    q = Vector{Float64}[]\n",
      "    v = Vector{Float64}[]\n",
      "    t = Float64[]\n",
      "    for ti in t0:h:tf\n",
      "        v0,q0=metodo(q0,v0,f,ti,h,w)\n",
      "        push!(t,ti)\n",
      "        push!(q,[q0])\n",
      "        push!(v,[v0])\n",
      "    end\n",
      "    t,hcat(q...)',hcat(v...)'\n",
      "end"
     ],
     "language": "python",
     "metadata": {},
     "outputs": [
      {
       "metadata": {},
       "output_type": "pyout",
       "prompt_number": 7,
       "text": [
        "integrar (generic function with 2 methods)"
       ]
      }
     ],
     "prompt_number": 7
    },
    {
     "cell_type": "code",
     "collapsed": false,
     "input": [
      "function graficadora_cuerpos(q0,v0,t0,tf,h,M,excluidos)\n",
      "    T,Q,DQ=integrar(rungekutta4,q0,v0,t0,tf,h,sistema,M)\n",
      "    n=length(M)\n",
      "    for i in 1:n\n",
      "        if i in excluidos\n",
      "        else\n",
      "            x=3i-2\n",
      "            y=3i-1\n",
      "            plot(Q[:,x],Q[:,y],\"o\",label=\"Planeta $i\")\n",
      "        end\n",
      "    end\n",
      "    xlabel(L\"$x$\")\n",
      "    ylabel(L\"$y$\")\n",
      "    title(\"Movimiento de los dos cuerpos con m2=$(M[2]) m1\")\n",
      "    axis(\"equal\")\n",
      "    legend(loc=0,fontsize=10)\n",
      "end"
     ],
     "language": "python",
     "metadata": {},
     "outputs": [
      {
       "metadata": {},
       "output_type": "pyout",
       "prompt_number": 12,
       "text": [
        "graficadora_cuerpos (generic function with 1 method)"
       ]
      }
     ],
     "prompt_number": 12
    },
    {
     "cell_type": "code",
     "collapsed": false,
     "input": [
      "Q=[0,0,0,1,0,0,0,3,0]\n",
      "V=[0,0.3,0,0,0.7,0,-0.3,0,0]\n",
      "M=[1,1e-7,1]\n",
      "t0=0\n",
      "tf=20\n",
      "h=1e-2\n",
      "graficadora_cuerpos(Q,V,t0,tf,h,M,[2])"
     ],
     "language": "python",
     "metadata": {},
     "outputs": [
      {
       "metadata": {},
       "output_type": "display_data",
       "png": "[encoded data removed]",
       "text": [
        "Figure(PyObject <matplotlib.figure.Figure object at 0x7f91b88ccf90>)"
       ]
      },
      {
       "metadata": {},
       "output_type": "pyout",
       "prompt_number": 23,
       "text": [
        "PyObject <matplotlib.legend.Legend object at 0x7f91b84c50d0>"
       ]
      }
     ],
     "prompt_number": 23
    },
    {
     "cell_type": "code",
     "collapsed": false,
     "input": [
      "fig1 = figure()\n",
      "@manipulate for vx1 in -1:0.1:1, vy1 in -1:0.1:1, vx2 in -1:0.1:1, vy2 in -1:0.1:1, vx3 in -1:0.1:1, vy3 in -1:0.1:1,m2 in [1e-7,1e-4,0.1,1], m3 in [1e-7,1e-4,0.1,1]\n",
      "    withfig(fig1) do\n",
      "        graficadora_cuerpos([0,0,0,1,0,0,0,3,0],[vx1,vy1,0,vx2,vy2,0,vx3,vy3,0],0,20,0.01,[1,m2,m3],[])\n",
      "    end\n",
      "end"
     ],
     "language": "python",
     "metadata": {},
     "outputs": [
      {
       "html": [],
       "metadata": {},
       "output_type": "display_data",
       "text": [
        "Slider{Float64}([Input{Float64}] 0.0,\"vx1\",0.0,-1.0:0.1:1.0)"
       ]
      },
      {
       "html": [],
       "metadata": {},
       "output_type": "display_data",
       "text": [
        "Slider{Float64}([Input{Float64}] 0.0,\"vy1\",0.0,-1.0:0.1:1.0)"
       ]
      },
      {
       "html": [],
       "metadata": {},
       "output_type": "display_data",
       "text": [
        "Slider{Float64}([Input{Float64}] 0.0,\"vx2\",0.0,-1.0:0.1:1.0)"
       ]
      },
      {
       "html": [],
       "metadata": {},
       "output_type": "display_data",
       "text": [
        "Slider{Float64}([Input{Float64}] 0.0,\"vy2\",0.0,-1.0:0.1:1.0)"
       ]
      },
      {
       "html": [],
       "metadata": {},
       "output_type": "display_data",
       "text": [
        "Slider{Float64}([Input{Float64}] 0.0,\"vx3\",0.0,-1.0:0.1:1.0)"
       ]
      },
      {
       "html": [],
       "metadata": {},
       "output_type": "display_data",
       "text": [
        "Slider{Float64}([Input{Float64}] 0.0,\"vy3\",0.0,-1.0:0.1:1.0)"
       ]
      },
      {
       "html": [],
       "metadata": {},
       "output_type": "display_data",
       "text": [
        "Options{:ToggleButtons,Float64}([Input{Float64}] 1.0e-7,\"m2\",1.0e-7,\"1.0e-7\",[\"1.0e-7\"=>1.0e-7,\"0.0001\"=>0.0001,\"0.1\"=>0.1,\"1.0\"=>1.0])"
       ]
      },
      {
       "html": [],
       "metadata": {},
       "output_type": "display_data",
       "text": [
        "Options{:ToggleButtons,Float64}([Input{Float64}] 1.0e-7,\"m3\",1.0e-7,\"1.0e-7\",[\"1.0e-7\"=>1.0e-7,\"0.0001\"=>0.0001,\"0.1\"=>0.1,\"1.0\"=>1.0])"
       ]
      },
      {
       "metadata": {
        "comm_id": "9f354b31-dbbc-4626-96ab-84843d98ef9a",
        "reactive": true
       },
       "output_type": "pyout",
       "png": "[encoded data removed]",
       "prompt_number": 24,
       "text": [
        "Figure(PyObject <matplotlib.figure.Figure object at 0x7f91b845bcd0>)"
       ]
      }
     ],
     "prompt_number": 24
    },
    {
     "cell_type": "code",
     "collapsed": false,
     "input": [],
     "language": "python",
     "metadata": {},
     "outputs": [],
     "prompt_number": 11
    }
   ],
   "metadata": {}
  }
 ]
}