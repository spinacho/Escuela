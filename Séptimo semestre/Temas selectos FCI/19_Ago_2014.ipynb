{
 "metadata": {
  "language": "Julia",
  "name": "",
  "signature": "sha256:8b25f644b72c91e1601e47bde8518ca87972ae8941110a959a667887181f6c1d"
 },
 "nbformat": 3,
 "nbformat_minor": 0,
 "worksheets": [
  {
   "cells": [
    {
     "cell_type": "code",
     "collapsed": false,
     "input": [
      "function dorada(n)\n",
      "    x=1\n",
      "    for i=1:n\n",
      "        x=1+1/x\n",
      "    end\n",
      "    return x\n",
      "end"
     ],
     "language": "python",
     "metadata": {},
     "outputs": [
      {
       "metadata": {},
       "output_type": "pyout",
       "prompt_number": 1,
       "text": [
        "dorada (generic function with 1 method)"
       ]
      }
     ],
     "prompt_number": 1
    },
    {
     "cell_type": "code",
     "collapsed": false,
     "input": [
      "dorada(500)"
     ],
     "language": "python",
     "metadata": {},
     "outputs": [
      {
       "metadata": {},
       "output_type": "pyout",
       "prompt_number": 2,
       "text": [
        "1.618033988749895"
       ]
      }
     ],
     "prompt_number": 2
    },
    {
     "cell_type": "code",
     "collapsed": false,
     "input": [
      "\u03c6 # = \\varphi <tab>"
     ],
     "language": "python",
     "metadata": {},
     "outputs": [
      {
       "metadata": {},
       "output_type": "pyout",
       "prompt_number": 3,
       "text": [
        "\u03c6 = 1.6180339887498..."
       ]
      }
     ],
     "prompt_number": 3
    },
    {
     "cell_type": "code",
     "collapsed": false,
     "input": [
      "golden"
     ],
     "language": "python",
     "metadata": {},
     "outputs": [
      {
       "metadata": {},
       "output_type": "pyout",
       "prompt_number": 4,
       "text": [
        "\u03c6 = 1.6180339887498..."
       ]
      }
     ],
     "prompt_number": 4
    },
    {
     "cell_type": "code",
     "collapsed": false,
     "input": [
      "@time dorada(1000)"
     ],
     "language": "python",
     "metadata": {},
     "outputs": [
      {
       "output_type": "stream",
       "stream": "stdout",
       "text": [
        "elapsed time: 0."
       ]
      },
      {
       "output_type": "stream",
       "stream": "stdout",
       "text": [
        "001361251 seconds (45880 bytes allocated)\n"
       ]
      },
      {
       "metadata": {},
       "output_type": "pyout",
       "prompt_number": 5,
       "text": [
        "1.618033988749895"
       ]
      }
     ],
     "prompt_number": 5
    },
    {
     "cell_type": "code",
     "collapsed": false,
     "input": [
      "@time dorada(10) #primera ejecuci\u00f3n"
     ],
     "language": "python",
     "metadata": {},
     "outputs": [
      {
       "output_type": "stream",
       "stream": "stdout",
       "text": [
        "elapsed time: 5.872e-6 seconds (400 bytes allocated)\n"
       ]
      },
      {
       "metadata": {},
       "output_type": "pyout",
       "prompt_number": 6,
       "text": [
        "1.6179775280898876"
       ]
      }
     ],
     "prompt_number": 6
    },
    {
     "cell_type": "code",
     "collapsed": false,
     "input": [
      "@time dorada(10) #segunda ejecuci\u00f3n"
     ],
     "language": "python",
     "metadata": {},
     "outputs": [
      {
       "output_type": "stream",
       "stream": "stdout",
       "text": [
        "elapsed time: 8.227e-6 seconds (400 bytes allocated)\n"
       ]
      },
      {
       "metadata": {},
       "output_type": "pyout",
       "prompt_number": 7,
       "text": [
        "1.6179775280898876"
       ]
      }
     ],
     "prompt_number": 7
    },
    {
     "cell_type": "markdown",
     "metadata": {},
     "source": [
      "#Conditionals"
     ]
    },
    {
     "cell_type": "code",
     "collapsed": false,
     "input": [
      "bb= 1//1==1.0\n",
      "if bb\n",
      "    print(\"S\u00ed\")\n",
      "else\n",
      "    print(\"No!\")\n",
      "end"
     ],
     "language": "python",
     "metadata": {},
     "outputs": [
      {
       "output_type": "stream",
       "stream": "stdout",
       "text": [
        "S\u00ed"
       ]
      }
     ],
     "prompt_number": 8
    },
    {
     "cell_type": "code",
     "collapsed": false,
     "input": [
      "sqrt(2)>golden? println(\"S\u00ed\"):println(\"No!\")"
     ],
     "language": "python",
     "metadata": {},
     "outputs": [
      {
       "output_type": "stream",
       "stream": "stdout",
       "text": [
        "No!\n"
       ]
      }
     ],
     "prompt_number": 9
    },
    {
     "cell_type": "code",
     "collapsed": false,
     "input": [
      "1<2"
     ],
     "language": "python",
     "metadata": {},
     "outputs": [
      {
       "metadata": {},
       "output_type": "pyout",
       "prompt_number": 10,
       "text": [
        "true"
       ]
      }
     ],
     "prompt_number": 10
    },
    {
     "cell_type": "code",
     "collapsed": false,
     "input": [
      "1>2"
     ],
     "language": "python",
     "metadata": {},
     "outputs": [
      {
       "metadata": {},
       "output_type": "pyout",
       "prompt_number": 11,
       "text": [
        "false"
       ]
      }
     ],
     "prompt_number": 11
    },
    {
     "cell_type": "markdown",
     "metadata": {},
     "source": [
      "#Short circuit evaluation"
     ]
    },
    {
     "cell_type": "code",
     "collapsed": false,
     "input": [
      "ff(bb)=(println(bb);bb)"
     ],
     "language": "python",
     "metadata": {},
     "outputs": [
      {
       "metadata": {},
       "output_type": "pyout",
       "prompt_number": 12,
       "text": [
        "ff (generic function with 1 method)"
       ]
      }
     ],
     "prompt_number": 12
    },
    {
     "cell_type": "code",
     "collapsed": false,
     "input": [
      "ff(true)"
     ],
     "language": "python",
     "metadata": {},
     "outputs": [
      {
       "output_type": "stream",
       "stream": "stdout",
       "text": [
        "true\n"
       ]
      },
      {
       "metadata": {},
       "output_type": "pyout",
       "prompt_number": 13,
       "text": [
        "true"
       ]
      }
     ],
     "prompt_number": 13
    },
    {
     "cell_type": "code",
     "collapsed": false,
     "input": [
      "ff(false)"
     ],
     "language": "python",
     "metadata": {},
     "outputs": [
      {
       "output_type": "stream",
       "stream": "stdout",
       "text": [
        "false\n"
       ]
      },
      {
       "metadata": {},
       "output_type": "pyout",
       "prompt_number": 14,
       "text": [
        "false"
       ]
      }
     ],
     "prompt_number": 14
    },
    {
     "cell_type": "code",
     "collapsed": false,
     "input": [
      "ff(true) && ff(true)"
     ],
     "language": "python",
     "metadata": {},
     "outputs": [
      {
       "output_type": "stream",
       "stream": "stdout",
       "text": [
        "true\n"
       ]
      },
      {
       "output_type": "stream",
       "stream": "stdout",
       "text": [
        "true\n"
       ]
      },
      {
       "metadata": {},
       "output_type": "pyout",
       "prompt_number": 15,
       "text": [
        "true"
       ]
      }
     ],
     "prompt_number": 15
    },
    {
     "cell_type": "code",
     "collapsed": false,
     "input": [
      "ff(true) && ff(false)"
     ],
     "language": "python",
     "metadata": {},
     "outputs": [
      {
       "output_type": "stream",
       "stream": "stdout",
       "text": [
        "true\n"
       ]
      },
      {
       "output_type": "stream",
       "stream": "stdout",
       "text": [
        "false\n"
       ]
      },
      {
       "metadata": {},
       "output_type": "pyout",
       "prompt_number": 16,
       "text": [
        "false"
       ]
      }
     ],
     "prompt_number": 16
    },
    {
     "cell_type": "code",
     "collapsed": false,
     "input": [
      "ff(false) && ff(true)"
     ],
     "language": "python",
     "metadata": {},
     "outputs": [
      {
       "output_type": "stream",
       "stream": "stdout",
       "text": [
        "false\n"
       ]
      },
      {
       "metadata": {},
       "output_type": "pyout",
       "prompt_number": 17,
       "text": [
        "false"
       ]
      }
     ],
     "prompt_number": 17
    },
    {
     "cell_type": "markdown",
     "metadata": {},
     "source": [
      "Podemos ver como, si la primera es falsa, el operador && ni siquiera comienza con la ejecuci\u00f3n de la segunda expresi\u00f3n."
     ]
    },
    {
     "cell_type": "markdown",
     "metadata": {},
     "source": [
      "En el lenguaje l\u00f3gico de Julia, && equivale a ***and*** y || a ***or***."
     ]
    },
    {
     "cell_type": "code",
     "collapsed": false,
     "input": [
      "@time golden"
     ],
     "language": "python",
     "metadata": {},
     "outputs": [
      {
       "output_type": "stream",
       "stream": "stdout",
       "text": [
        "elapsed time: 2"
       ]
      },
      {
       "output_type": "stream",
       "stream": "stdout",
       "text": [
        ".346e-6 seconds (80 bytes allocated)\n"
       ]
      },
      {
       "metadata": {},
       "output_type": "pyout",
       "prompt_number": 18,
       "text": [
        "\u03c6 = 1.6180339887498..."
       ]
      }
     ],
     "prompt_number": 18
    },
    {
     "cell_type": "code",
     "collapsed": false,
     "input": [
      "@time pi"
     ],
     "language": "python",
     "metadata": {},
     "outputs": [
      {
       "output_type": "stream",
       "stream": "stdout",
       "text": [
        "elapsed time: 9"
       ]
      },
      {
       "output_type": "stream",
       "stream": "stdout",
       "text": [
        ".439e-6 seconds (128 bytes allocated)\n"
       ]
      },
      {
       "metadata": {},
       "output_type": "pyout",
       "prompt_number": 19,
       "text": [
        "\u03c0 = 3.1415926535897..."
       ]
      }
     ],
     "prompt_number": 19
    },
    {
     "cell_type": "code",
     "collapsed": false,
     "input": [
      "@time 1.0*golden"
     ],
     "language": "python",
     "metadata": {},
     "outputs": [
      {
       "output_type": "stream",
       "stream": "stdout",
       "text": [
        "elapsed time: 0."
       ]
      },
      {
       "output_type": "stream",
       "stream": "stdout",
       "text": [
        "006652306 seconds (183332 bytes allocated)\n"
       ]
      },
      {
       "metadata": {},
       "output_type": "pyout",
       "prompt_number": 20,
       "text": [
        "1.618033988749895"
       ]
      }
     ],
     "prompt_number": 20
    },
    {
     "cell_type": "markdown",
     "metadata": {},
     "source": [
      "#Matrices"
     ]
    },
    {
     "cell_type": "code",
     "collapsed": false,
     "input": [
      "v=[3,4,5]"
     ],
     "language": "python",
     "metadata": {},
     "outputs": [
      {
       "metadata": {},
       "output_type": "pyout",
       "prompt_number": 21,
       "text": [
        "3-element Array{Int64,1}:\n",
        " 3\n",
        " 4\n",
        " 5"
       ]
      }
     ],
     "prompt_number": 21
    },
    {
     "cell_type": "code",
     "collapsed": false,
     "input": [
      "v'"
     ],
     "language": "python",
     "metadata": {},
     "outputs": [
      {
       "metadata": {},
       "output_type": "pyout",
       "prompt_number": 22,
       "text": [
        "1x3 Array{Int64,2}:\n",
        " 3  4  5"
       ]
      }
     ],
     "prompt_number": 22
    },
    {
     "cell_type": "code",
     "collapsed": false,
     "input": [
      "x=[1 2 3]"
     ],
     "language": "python",
     "metadata": {},
     "outputs": [
      {
       "metadata": {},
       "output_type": "pyout",
       "prompt_number": 23,
       "text": [
        "1x3 Array{Int64,2}:\n",
        " 1  2  3"
       ]
      }
     ],
     "prompt_number": 23
    },
    {
     "cell_type": "code",
     "collapsed": false,
     "input": [
      "x'"
     ],
     "language": "python",
     "metadata": {},
     "outputs": [
      {
       "metadata": {},
       "output_type": "pyout",
       "prompt_number": 24,
       "text": [
        "3x1 Array{Int64,2}:\n",
        " 1\n",
        " 2\n",
        " 3"
       ]
      }
     ],
     "prompt_number": 24
    },
    {
     "cell_type": "code",
     "collapsed": false,
     "input": [
      "M=[[1 2 3],[4 5 6],[7 8 9]]"
     ],
     "language": "python",
     "metadata": {},
     "outputs": [
      {
       "metadata": {},
       "output_type": "pyout",
       "prompt_number": 25,
       "text": [
        "3x3 Array{Int64,2}:\n",
        " 1  2  3\n",
        " 4  5  6\n",
        " 7  8  9"
       ]
      }
     ],
     "prompt_number": 25
    },
    {
     "cell_type": "code",
     "collapsed": false,
     "input": [
      "m=[[1,2,3] [4,5,6] [7,8,9]]"
     ],
     "language": "python",
     "metadata": {},
     "outputs": [
      {
       "metadata": {},
       "output_type": "pyout",
       "prompt_number": 26,
       "text": [
        "3x3 Array{Int64,2}:\n",
        " 1  4  7\n",
        " 2  5  8\n",
        " 3  6  9"
       ]
      }
     ],
     "prompt_number": 26
    },
    {
     "cell_type": "code",
     "collapsed": false,
     "input": [
      "M*m"
     ],
     "language": "python",
     "metadata": {},
     "outputs": [
      {
       "metadata": {},
       "output_type": "pyout",
       "prompt_number": 27,
       "text": [
        "3x3 Array{Int64,2}:\n",
        " 14   32   50\n",
        " 32   77  122\n",
        " 50  122  194"
       ]
      }
     ],
     "prompt_number": 27
    },
    {
     "cell_type": "code",
     "collapsed": false,
     "input": [
      "M+m"
     ],
     "language": "python",
     "metadata": {},
     "outputs": [
      {
       "metadata": {},
       "output_type": "pyout",
       "prompt_number": 28,
       "text": [
        "3x3 Array{Int64,2}:\n",
        "  2   6  10\n",
        "  6  10  14\n",
        " 10  14  18"
       ]
      }
     ],
     "prompt_number": 28
    },
    {
     "cell_type": "code",
     "collapsed": false,
     "input": [
      "M'==m"
     ],
     "language": "python",
     "metadata": {},
     "outputs": [
      {
       "metadata": {},
       "output_type": "pyout",
       "prompt_number": 29,
       "text": [
        "true"
       ]
      }
     ],
     "prompt_number": 29
    },
    {
     "cell_type": "code",
     "collapsed": false,
     "input": [
      "reshape([1,2,3,4],(2,2))"
     ],
     "language": "python",
     "metadata": {},
     "outputs": [
      {
       "metadata": {},
       "output_type": "pyout",
       "prompt_number": 30,
       "text": [
        "2x2 Array{Int64,2}:\n",
        " 1  3\n",
        " 2  4"
       ]
      }
     ],
     "prompt_number": 30
    },
    {
     "cell_type": "code",
     "collapsed": false,
     "input": [
      "reshape([1 2 3 4],(2,2))"
     ],
     "language": "python",
     "metadata": {},
     "outputs": [
      {
       "metadata": {},
       "output_type": "pyout",
       "prompt_number": 31,
       "text": [
        "2x2 Array{Int64,2}:\n",
        " 1  3\n",
        " 2  4"
       ]
      }
     ],
     "prompt_number": 31
    },
    {
     "cell_type": "code",
     "collapsed": false,
     "input": [
      "rand()"
     ],
     "language": "python",
     "metadata": {},
     "outputs": [
      {
       "metadata": {},
       "output_type": "pyout",
       "prompt_number": 32,
       "text": [
        "0.5121410866988736"
       ]
      }
     ],
     "prompt_number": 32
    },
    {
     "cell_type": "code",
     "collapsed": false,
     "input": [
      "?rand"
     ],
     "language": "python",
     "metadata": {},
     "outputs": [
      {
       "output_type": "stream",
       "stream": "stderr",
       "text": [
        "INFO: Loading help data...\n"
       ]
      },
      {
       "output_type": "stream",
       "stream": "stdout",
       "text": [
        "Base.rand() -> Float64\n",
        "\n",
        "   Generate a \"Float64\" random number uniformly in [0,1)\n"
       ]
      },
      {
       "output_type": "stream",
       "stream": "stdout",
       "text": [
        "\n",
        "Base.rand(rng::AbstractRNG[, dims...])\n",
        "\n",
        "   Generate a random \"Float64\" number or array of the size specified\n",
        "   by dims, using the specified RNG object. Currently,\n",
        "   \"MersenneTwister\" is the only available Random Number Generator\n",
        "   (RNG), which may be seeded using srand.\n",
        "\n",
        "Base.rand(dims or [dims...])\n",
        "\n",
        "   Generate a random \"Float64\" array of the size specified by dims\n",
        "\n",
        "Base.rand(Int32|Uint32|Int64|Uint64|Int128|Uint128[, dims...])\n",
        "\n",
        "   Generate a random integer of the given type. Optionally, generate\n",
        "   an array of random integers of the given type by specifying dims.\n",
        "\n",
        "Base.rand(r[, dims...])\n",
        "\n",
        "   Generate a random integer from the inclusive interval specified by\n",
        "   \"Range1 r\" (for example, \"1:n\"). Optionally, generate a random\n",
        "   integer array.\n"
       ]
      }
     ],
     "prompt_number": 33
    },
    {
     "cell_type": "code",
     "collapsed": false,
     "input": [
      "?randn"
     ],
     "language": "python",
     "metadata": {},
     "outputs": [
      {
       "output_type": "stream",
       "stream": "stdout",
       "text": [
        "Base.randn([rng], dims or [dims...])\n",
        "\n",
        "   Generate a normally-distributed random number with mean 0 and\n",
        "   standard deviation 1. Optionally generate an array of normally-\n",
        "   distributed random numbers.\n"
       ]
      }
     ],
     "prompt_number": 34
    },
    {
     "cell_type": "code",
     "collapsed": false,
     "input": [
      "rand(10)"
     ],
     "language": "python",
     "metadata": {},
     "outputs": [
      {
       "metadata": {},
       "output_type": "pyout",
       "prompt_number": 35,
       "text": [
        "10-element Array{Float64,1}:\n",
        " 0.707195\n",
        " 0.476541\n",
        " 0.618176\n",
        " 0.996509\n",
        " 0.163778\n",
        " 0.105179\n",
        " 0.908278\n",
        " 0.975942\n",
        " 0.33397 \n",
        " 0.915126"
       ]
      }
     ],
     "prompt_number": 35
    },
    {
     "cell_type": "code",
     "collapsed": false,
     "input": [
      "randn(100)"
     ],
     "language": "python",
     "metadata": {},
     "outputs": [
      {
       "metadata": {},
       "output_type": "pyout",
       "prompt_number": 36,
       "text": [
        "100-element Array{Float64,1}:\n",
        " -1.30404  \n",
        "  0.214748 \n",
        "  0.948698 \n",
        " -0.374116 \n",
        " -1.48329  \n",
        "  0.205559 \n",
        "  0.528311 \n",
        "  1.77697  \n",
        "  0.0608371\n",
        "  0.827087 \n",
        " -0.0719763\n",
        "  1.05059  \n",
        "  0.626143 \n",
        "  \u22ee        \n",
        " -0.608772 \n",
        " -0.461747 \n",
        "  1.4134   \n",
        "  0.063721 \n",
        "  0.949206 \n",
        " -1.17232  \n",
        " -0.64024  \n",
        "  0.548583 \n",
        "  0.802961 \n",
        "  0.643194 \n",
        " -1.31674  \n",
        "  0.710752 "
       ]
      }
     ],
     "prompt_number": 36
    },
    {
     "cell_type": "code",
     "collapsed": false,
     "input": [
      "using PyPlot"
     ],
     "language": "python",
     "metadata": {},
     "outputs": [],
     "prompt_number": 37
    },
    {
     "cell_type": "code",
     "collapsed": false,
     "input": [
      "plot(rand(100))"
     ],
     "language": "python",
     "metadata": {},
     "outputs": [
      {
       "metadata": {},
       "output_type": "display_data",
       "png": "[encoded data removed]",
       "text": [
        "Figure(PyObject <matplotlib.figure.Figure object at 0x7f391c07abd0>)"
       ]
      },
      {
       "metadata": {},
       "output_type": "pyout",
       "prompt_number": 38,
       "text": [
        "1-element Array{Any,1}:\n",
        " PyObject <matplotlib.lines.Line2D object at 0x7f391bd15490>"
       ]
      }
     ],
     "prompt_number": 38
    },
    {
     "cell_type": "code",
     "collapsed": false,
     "input": [
      "plot(randn(100))"
     ],
     "language": "python",
     "metadata": {},
     "outputs": [
      {
       "metadata": {},
       "output_type": "display_data",
       "png": "[encoded data removed]",
       "text": [
        "Figure(PyObject <matplotlib.figure.Figure object at 0x7f391bd4a390>)"
       ]
      },
      {
       "metadata": {},
       "output_type": "pyout",
       "prompt_number": 39,
       "text": [
        "1-element Array{Any,1}:\n",
        " PyObject <matplotlib.lines.Line2D object at 0x7f391bbfa3d0>"
       ]
      }
     ],
     "prompt_number": 39
    },
    {
     "cell_type": "code",
     "collapsed": false,
     "input": [
      "M=randn(100,100)"
     ],
     "language": "python",
     "metadata": {},
     "outputs": [
      {
       "metadata": {},
       "output_type": "pyout",
       "prompt_number": 40,
       "text": [
        "100x100 Array{Float64,2}:\n",
        "  1.55015     0.8505     -0.0063019  \u2026  -0.42064     1.20107    -0.998238 \n",
        "  0.555411    0.927336    1.36626        0.37933    -0.0201622   0.220413 \n",
        "  1.39425    -1.46087     0.375282      -0.0349565   0.0382991   1.32104  \n",
        "  1.2249      0.422935    0.604957      -0.304398   -1.03296    -0.0274973\n",
        " -0.474111    0.0132913   0.912669       0.239916   -0.700945    0.12942  \n",
        " -0.472781   -0.667788   -1.02218    \u2026  -0.367302    0.175293    0.48885  \n",
        "  0.259717    0.407104   -0.309641      -1.1505      1.98612     1.12935  \n",
        " -0.536723    0.126897    1.83505       -1.30874     0.203636   -0.47606  \n",
        " -0.608338   -0.742842    0.866213      -0.152488    2.269       1.62075  \n",
        " -0.505393    0.885708   -0.481925       1.99861    -0.171766   -0.487887 \n",
        " -0.187009   -0.540393    1.17297    \u2026  -0.564533    0.305188    0.188963 \n",
        " -0.618662    0.303863   -1.44752        0.557565   -0.446742   -0.765855 \n",
        " -1.11784    -0.905231   -2.1381         1.95171    -0.0423703   0.148396 \n",
        "  \u22ee                                  \u22f1                                    \n",
        " -0.554517    0.771204   -1.33741       -0.430744   -0.874197   -2.68394  \n",
        " -0.372083    1.14479    -1.33221        0.424253    1.05173     1.16457  \n",
        " -0.769322   -1.6334     -0.934107   \u2026   0.0288162   0.649227   -0.684538 \n",
        "  0.636692   -1.05173     1.98806        0.619261    1.34155     0.453057 \n",
        " -1.52356     1.22947     0.282791      -1.52471     0.967781    1.45923  \n",
        " -1.69986     0.200842   -1.09394       -0.014023   -0.614656   -0.0992406\n",
        " -0.533236   -1.2465      0.679065      -0.803878    0.514051   -2.36987  \n",
        "  0.0388434   0.0834823   0.104794   \u2026   0.521599   -0.728507    1.55572  \n",
        "  0.474859   -0.514586    0.655964       1.50712    -0.144469   -1.10407  \n",
        " -0.386323    0.0349118  -0.332501       1.25019     0.395238    2.02423  \n",
        "  0.186868   -1.59909    -0.952585      -0.324703   -0.727098   -0.716489 \n",
        " -0.0426888   0.487146    1.16483        0.459288   -1.39166     0.460543 "
       ]
      }
     ],
     "prompt_number": 40
    },
    {
     "cell_type": "markdown",
     "metadata": {},
     "source": [
      "Notamos que esta matriz no tiene ninguna simetr\u00eda"
     ]
    },
    {
     "cell_type": "code",
     "collapsed": false,
     "input": [
      "H=(M+M')/2"
     ],
     "language": "python",
     "metadata": {},
     "outputs": [
      {
       "metadata": {},
       "output_type": "pyout",
       "prompt_number": 41,
       "text": [
        "100x100 Array{Float64,2}:\n",
        "  1.55015     0.702955    0.693973   \u2026  -0.403481    0.693967   -0.520463 \n",
        "  0.702955    0.927336   -0.0473021      0.207121   -0.809626    0.35378  \n",
        "  0.693973   -0.0473021   0.375282      -0.183729   -0.457143    1.24294  \n",
        "  1.06054    -0.103422   -0.387861       0.0660733  -1.36781     1.01396  \n",
        " -0.648241    0.482327    1.13187        0.198512   -0.325216   -0.288511 \n",
        " -0.243395    0.0988928  -0.618199   \u2026  -0.415411   -0.187859    0.795322 \n",
        "  0.409907    0.225605   -1.19428        0.0694901   0.709343    0.30222  \n",
        "  0.0327451   0.234       1.0529        -0.564566   -0.476176   -0.481565 \n",
        " -0.0569196  -0.119202    0.862519       0.398118    0.780038    1.28464  \n",
        " -0.330656    0.437461    0.0581265      0.219196    0.358967    0.980024 \n",
        "  0.333536    0.327982    0.358689   \u2026   0.265521   -0.26238     1.05582  \n",
        " -0.146535   -0.742849   -2.03092        0.469571    0.469378   -0.57874  \n",
        " -0.261618   -0.721308   -1.50726        0.39178     0.714513   -0.383026 \n",
        "  \u22ee                                  \u22f1                                    \n",
        "  0.178932   -0.201775   -0.687174       0.156562   -0.275399   -2.02603  \n",
        " -0.76555     0.438421   -0.516966       0.293756   -0.550798   -0.744602 \n",
        " -0.450365   -0.769361    0.0574859  \u2026   0.0865539   0.154766    0.0916665\n",
        "  0.244363   -0.806505    0.904675       1.50343     0.29077     0.658045 \n",
        " -1.0881      1.08045    -0.151688      -0.285851    0.450765    1.79997  \n",
        " -0.838712   -0.325936   -0.601828       0.0369541  -0.879205    0.315589 \n",
        " -0.854693   -0.142735    1.11304       -0.593755    0.0307034  -1.63701  \n",
        " -1.1146     -0.28047    -0.361881   \u2026   0.952664   -0.809452    0.677396 \n",
        "  1.48332     0.0987038   0.50751        1.16806    -0.489187   -0.871763 \n",
        " -0.403481    0.207121   -0.183729       1.25019     0.0352676   1.24176  \n",
        "  0.693967   -0.809626   -0.457143       0.0352676  -0.727098   -1.05408  \n",
        " -0.520463    0.35378     1.24294        1.24176    -1.05408     0.460543 "
       ]
      }
     ],
     "prompt_number": 41
    },
    {
     "cell_type": "code",
     "collapsed": false,
     "input": [
      "eigvals(H)"
     ],
     "language": "python",
     "metadata": {},
     "outputs": [
      {
       "metadata": {},
       "output_type": "pyout",
       "prompt_number": 42,
       "text": [
        "100-element Array{Float64,1}:\n",
        " -14.298  \n",
        " -12.8662 \n",
        " -12.5284 \n",
        " -12.0032 \n",
        " -11.5544 \n",
        " -11.3406 \n",
        " -10.9585 \n",
        " -10.5541 \n",
        " -10.3063 \n",
        " -10.1376 \n",
        "  -9.54617\n",
        "  -9.10884\n",
        "  -8.82324\n",
        "   \u22ee      \n",
        "   9.79441\n",
        "   9.96566\n",
        "  10.1577 \n",
        "  10.6405 \n",
        "  10.8307 \n",
        "  11.1636 \n",
        "  11.5435 \n",
        "  11.8911 \n",
        "  12.3106 \n",
        "  12.4537 \n",
        "  13.176  \n",
        "  14.5853 "
       ]
      }
     ],
     "prompt_number": 42
    },
    {
     "cell_type": "code",
     "collapsed": false,
     "input": [
      "eigvecs(H)"
     ],
     "language": "python",
     "metadata": {},
     "outputs": [
      {
       "metadata": {},
       "output_type": "pyout",
       "prompt_number": 43,
       "text": [
        "100x100 Array{Float64,2}:\n",
        " -0.0638832   0.0879786    0.0141409  \u2026  -0.1955       0.0541395  \n",
        "  0.0296767   0.127793    -0.047954      -0.0424529   -0.14704    \n",
        "  0.08332     0.0499796    0.0484808      0.0042966    0.149652   \n",
        "  0.02722    -0.25825      0.135005      -0.027359    -0.111196   \n",
        " -0.181386   -0.00532312   0.0779283      0.216279     0.167946   \n",
        " -0.131423    0.0566466    0.0100845  \u2026   0.181082    -0.0576673  \n",
        " -0.0390239  -0.0682567   -0.0626633     -0.110264    -0.0960426  \n",
        " -0.119756    0.0639617    0.0730996      0.0480892    0.0950796  \n",
        " -0.0709924   0.00581057   0.267919       0.135606    -0.0257521  \n",
        "  0.0315773  -0.035185    -0.0270744      0.0533854   -0.0312846  \n",
        " -0.0337217  -0.0966086    0.198895   \u2026   0.0408416   -0.0748883  \n",
        " -0.0823006   0.0900639    0.188928      -0.0636749   -0.0701244  \n",
        "  0.0324368   0.218346    -0.0421632      0.112385    -0.0607019  \n",
        "  \u22ee                                   \u22f1                           \n",
        "  0.0693995  -0.00728553  -0.200172       0.067053    -0.0324183  \n",
        "  0.0375784  -0.195361    -0.0862861      0.193703    -0.156737   \n",
        "  0.118933   -0.0353515   -0.044033   \u2026   0.0867558   -0.102238   \n",
        "  0.088421   -0.0512366   -0.13175        0.284265     0.000928361\n",
        "  0.113747    0.0329606    0.0830448      0.0701226   -0.105876   \n",
        " -0.0749688   0.106752     0.0115763      0.009085     0.0503008  \n",
        " -0.231623    0.102717    -0.136297      -0.0291706   -0.00338957 \n",
        " -0.112419    0.15882     -0.0207878  \u2026   0.0338089   -0.0955796  \n",
        " -0.172605   -0.014328    -0.0581262     -0.0976026   -0.0113976  \n",
        " -0.0673588  -0.0584796   -0.0501073      0.119528     0.00919996 \n",
        "  0.134805   -0.0553182    0.0535103     -0.00757441   0.0364485  \n",
        " -0.0846172   0.0279972   -0.0736316      0.0655381   -0.0394433  "
       ]
      }
     ],
     "prompt_number": 43
    },
    {
     "cell_type": "code",
     "collapsed": false,
     "input": [
      "Pkg.status()"
     ],
     "language": "python",
     "metadata": {},
     "outputs": [
      {
       "output_type": "stream",
       "stream": "stdout",
       "text": [
        "3 required packages:\n"
       ]
      },
      {
       "output_type": "stream",
       "stream": "stdout",
       "text": [
        " - IJulia                        0.1.12\n",
        " - PyCall                        0.4.8\n",
        " - PyPlot                        1.2.10\n",
        "9 additional packages:\n",
        " - BinDeps                       0.3.2\n",
        " - Color                         0.3.1\n",
        " - FixedPointNumbers             0.0.1\n",
        " - JSON                          0.3.7\n",
        " - Nettle                        0.1.4\n",
        " - REPLCompletions               0.0.1\n",
        " - SHA                           0"
       ]
      },
      {
       "output_type": "stream",
       "stream": "stdout",
       "text": [
        ".0.2\n",
        " - URIParser                     0.0.2\n",
        " - ZMQ                           0.1.13\n"
       ]
      }
     ],
     "prompt_number": 44
    },
    {
     "cell_type": "code",
     "collapsed": false,
     "input": [
      "ee=eigvals(H)"
     ],
     "language": "python",
     "metadata": {},
     "outputs": [
      {
       "metadata": {},
       "output_type": "pyout",
       "prompt_number": 45,
       "text": [
        "100-element Array{Float64,1}:\n",
        " -14.298  \n",
        " -12.8662 \n",
        " -12.5284 \n",
        " -12.0032 \n",
        " -11.5544 \n",
        " -11.3406 \n",
        " -10.9585 \n",
        " -10.5541 \n",
        " -10.3063 \n",
        " -10.1376 \n",
        "  -9.54617\n",
        "  -9.10884\n",
        "  -8.82324\n",
        "   \u22ee      \n",
        "   9.79441\n",
        "   9.96566\n",
        "  10.1577 \n",
        "  10.6405 \n",
        "  10.8307 \n",
        "  11.1636 \n",
        "  11.5435 \n",
        "  11.8911 \n",
        "  12.3106 \n",
        "  12.4537 \n",
        "  13.176  \n",
        "  14.5853 "
       ]
      }
     ],
     "prompt_number": 45
    },
    {
     "cell_type": "code",
     "collapsed": false,
     "input": [
      "PyPlot.plt.hist(ee,20)"
     ],
     "language": "python",
     "metadata": {},
     "outputs": [
      {
       "metadata": {},
       "output_type": "display_data",
       "png": "[encoded data removed]",
       "text": [
        "Figure(PyObject <matplotlib.figure.Figure object at 0x7f391ba24f90>)"
       ]
      },
      {
       "metadata": {},
       "output_type": "pyout",
       "prompt_number": 48,
       "text": [
        "([2.0,3.0,5.0,4.0,5.0,6.0,7.0,5.0,6.0,7.0,7.0,5.0,8.0,5.0,6.0,6.0,4.0,4.0,3.0,2.0],[-14.298,-12.8539,-11.4097,-9.96552,-8.52135,-7.07718,-5.63301,-4.18884,-2.74468,-1.30051  \u2026  1.58783,3.032,4.47617,5.92034,7.3645,8.80867,10.2528,11.697,13.1412,14.5853],{PyObject <matplotlib.patches.Rectangle object at 0x7f391b7d38d0>,PyObject <matplotlib.patches.Rectangle object at 0x7f391b7d3f10>,PyObject <matplotlib.patches.Rectangle object at 0x7f391b7625d0>,PyObject <matplotlib.patches.Rectangle object at 0x7f391b762c50>,PyObject <matplotlib.patches.Rectangle object at 0x7f391b76e310>,PyObject <matplotlib.patches.Rectangle object at 0x7f391b76e990>,PyObject <matplotlib.patches.Rectangle object at 0x7f391b76ee90>,PyObject <matplotlib.patches.Rectangle object at 0x7f391b77b6d0>,PyObject <matplotlib.patches.Rectangle object at 0x7f391b77bd50>,PyObject <matplotlib.patches.Rectangle object at 0x7f391b788410>,PyObject <matplotlib.patches.Rectangle object at 0x7f391b8e4b10>,PyObject <matplotlib.patches.Rectangle object at 0x7f391b80de10>,PyObject <matplotlib.patches.Rectangle object at 0x7f391b888310>,PyObject <matplotlib.patches.Rectangle object at 0x7f391bb623d0>,PyObject <matplotlib.patches.Rectangle object at 0x7f391b846390>,PyObject <matplotlib.patches.Rectangle object at 0x7f391b8239d0>,PyObject <matplotlib.patches.Rectangle object at 0x7f391b897c90>,PyObject <matplotlib.patches.Rectangle object at 0x7f391b71d3d0>,PyObject <matplotlib.patches.Rectangle object at 0x7f391b71da50>,PyObject <matplotlib.patches.Rectangle object at 0x7f391b71df50>})"
       ]
      }
     ],
     "prompt_number": 48
    },
    {
     "cell_type": "code",
     "collapsed": false,
     "input": [
      "plt.hist(ee,15)"
     ],
     "language": "python",
     "metadata": {},
     "outputs": [
      {
       "metadata": {},
       "output_type": "display_data",
       "png": "[encoded data removed]",
       "text": [
        "Figure(PyObject <matplotlib.figure.Figure object at 0x7f391b9fdfd0>)"
       ]
      },
      {
       "metadata": {},
       "output_type": "pyout",
       "prompt_number": 49,
       "text": [
        "([3.0,5.0,6.0,6.0,9.0,8.0,9.0,8.0,8.0,10.0,8.0,7.0,5.0,6.0,2.0],[-14.298,-12.3725,-10.4469,-8.52135,-6.59579,-4.67023,-2.74468,-0.819118,1.10644,3.032,4.95756,6.88311,8.80867,10.7342,12.6598,14.5853],{PyObject <matplotlib.patches.Rectangle object at 0x7f391b6793d0>,PyObject <matplotlib.patches.Rectangle object at 0x7f391b679a10>,PyObject <matplotlib.patches.Rectangle object at 0x7f391b679f10>,PyObject <matplotlib.patches.Rectangle object at 0x7f391b687750>,PyObject <matplotlib.patches.Rectangle object at 0x7f391b687dd0>,PyObject <matplotlib.patches.Rectangle object at 0x7f391b693490>,PyObject <matplotlib.patches.Rectangle object at 0x7f391b693b10>,PyObject <matplotlib.patches.Rectangle object at 0x7f391b61f1d0>,PyObject <matplotlib.patches.Rectangle object at 0x7f391b61f850>,PyObject <matplotlib.patches.Rectangle object at 0x7f391b61fed0>,PyObject <matplotlib.patches.Rectangle object at 0x7f391b62c590>,PyObject <matplotlib.patches.Rectangle object at 0x7f391b62cc10>,PyObject <matplotlib.patches.Rectangle object at 0x7f391b6392d0>,PyObject <matplotlib.patches.Rectangle object at 0x7f391b639950>,PyObject <matplotlib.patches.Rectangle object at 0x7f391b639fd0>})"
       ]
      }
     ],
     "prompt_number": 49
    },
    {
     "cell_type": "markdown",
     "metadata": {},
     "source": [
      "#Diferenciaci\u00f3n autom\u00e1tica"
     ]
    },
    {
     "cell_type": "markdown",
     "metadata": {},
     "source": [
      "##Destruyendio paradigmas"
     ]
    },
    {
     "cell_type": "code",
     "collapsed": false,
     "input": [
      "function derivada(ff,x,h)\n",
      "    der=(ff(x+h)-ff(x))/h\n",
      "    return der\n",
      "end"
     ],
     "language": "python",
     "metadata": {},
     "outputs": [
      {
       "metadata": {},
       "output_type": "pyout",
       "prompt_number": 104,
       "text": [
        "derivada (generic function with 2 methods)"
       ]
      }
     ],
     "prompt_number": 104
    },
    {
     "cell_type": "code",
     "collapsed": false,
     "input": [
      "f(x)=x^2"
     ],
     "language": "python",
     "metadata": {},
     "outputs": [
      {
       "metadata": {},
       "output_type": "pyout",
       "prompt_number": 105,
       "text": [
        "f (generic function with 1 method)"
       ]
      }
     ],
     "prompt_number": 105
    },
    {
     "cell_type": "code",
     "collapsed": false,
     "input": [
      "derivada(f,2.0,1e-10)"
     ],
     "language": "python",
     "metadata": {},
     "outputs": [
      {
       "metadata": {},
       "output_type": "pyout",
       "prompt_number": 106,
       "text": [
        "4.000000330961484"
       ]
      }
     ],
     "prompt_number": 106
    },
    {
     "cell_type": "code",
     "collapsed": false,
     "input": [
      "derivada(function f(x)\n",
      "    x^2\n",
      "    end\n",
      ",2.0,1e-10)"
     ],
     "language": "python",
     "metadata": {},
     "outputs": [
      {
       "metadata": {},
       "output_type": "pyout",
       "prompt_number": 109,
       "text": [
        "4.000000330961484"
       ]
      }
     ],
     "prompt_number": 109
    },
    {
     "cell_type": "code",
     "collapsed": false,
     "input": [
      "for i=1:20\n",
      "    h=1/10^i\n",
      "    println(\"$h       \", derivada(f,2,h))\n",
      "end"
     ],
     "language": "python",
     "metadata": {},
     "outputs": [
      {
       "output_type": "stream",
       "stream": "stdout",
       "text": [
        "0.1       4"
       ]
      },
      {
       "output_type": "stream",
       "stream": "stdout",
       "text": [
        ".100000000000001\n",
        "0.01       4.009999999999891\n",
        "0.001       4.000999999999699\n",
        "0.0001       4.0001000000078335\n",
        "1.0e-5       4.000010000027032\n",
        "1.0e-6       4.0000010006480125\n",
        "1.0e-7       4.000000091153311\n",
        "1.0e-8       3.999999975690116\n",
        "1.0e-9       4.000000330961484\n",
        "1.0e-10       4.000000330961484\n",
        "1.0e-11       4.000000330961484\n",
        "1.0e-12       4.000355602329364\n",
        "1.0e-13       3.9968028886505635\n",
        "1.0e-14       4.085620730620576\n",
        "1.0e-15       3.5527136788005005\n",
        "1.0e-16       0.0\n",
        "1.0e-17       0.0\n",
        "1.0e-18       0.0\n",
        "-1.1838881245526248e-19       -0.0\n",
        "1.2876178137472069e-19       0.0\n"
       ]
      }
     ],
     "prompt_number": 120
    },
    {
     "cell_type": "markdown",
     "metadata": {},
     "source": [
      "Notamos que el error se empieza a volver extremadamente grande ya que, como no tenemos continuidad sino puntos flotantes, cuando $h$ es muy peque\u00f1a acaba tomando el mismo valor, tomando el valor de la diferencial como $0$."
     ]
    },
    {
     "cell_type": "markdown",
     "metadata": {},
     "source": [
      "Vamos a utilizar entonces la f\u00f3rmula:\n",
      "$$\\frac{f(x+h)-f(x-h)}{2h}=f'(x)+\\frac{h^2f''(x)}{2}$$\n",
      "(deducci\u00f3n directa de Taylor)"
     ]
    },
    {
     "cell_type": "code",
     "collapsed": false,
     "input": [
      "function derivada2(ff,x,h)\n",
      "    der=(ff(x+h)-ff(x-h))/2h\n",
      "    return der\n",
      "end"
     ],
     "language": "python",
     "metadata": {},
     "outputs": [
      {
       "metadata": {},
       "output_type": "pyout",
       "prompt_number": 122,
       "text": [
        "derivada2 (generic function with 1 method)"
       ]
      }
     ],
     "prompt_number": 122
    },
    {
     "cell_type": "code",
     "collapsed": false,
     "input": [
      "for i=1:20\n",
      "    h=1/10^i\n",
      "    println(\"$h       \", derivada2(f,2,h))\n",
      "end"
     ],
     "language": "python",
     "metadata": {},
     "outputs": [
      {
       "output_type": "stream",
       "stream": "stdout",
       "text": [
        "0.1       4"
       ]
      },
      {
       "output_type": "stream",
       "stream": "stdout",
       "text": [
        ".000000000000001\n",
        "0.01       3.999999999999937\n",
        "0.001       3.9999999999995595\n",
        "0.0001       4.000000000004\n",
        "1.0e-5       4.000000000026205\n",
        "1.0e-6       4.000000000115023\n",
        "1.0e-7       3.9999999956741306\n",
        "1.0e-8       3.999999975690116\n",
        "1.0e-9       4.000000330961484\n",
        "1.0e-10       4.000000330961484\n",
        "1.0e-11       4.000000330961484\n",
        "1.0e-12       4.000355602329364\n",
        "1.0e-13       3.9968028886505635\n",
        "1.0e-14       4.04121180963557\n",
        "1.0e-15       3.996802888650563\n",
        "1.0e-16       0.0\n",
        "1.0e-17       0.0\n",
        "1.0e-18       0.0\n",
        "-1.1838881245526248e-19       -0.0\n",
        "1.2876178137472069e-19       0.0\n"
       ]
      }
     ],
     "prompt_number": 123
    },
    {
     "cell_type": "code",
     "collapsed": false,
     "input": [],
     "language": "python",
     "metadata": {},
     "outputs": []
    }
   ],
   "metadata": {}
  }
 ]
}