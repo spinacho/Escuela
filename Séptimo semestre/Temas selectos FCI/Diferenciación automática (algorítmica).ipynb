{
 "metadata": {
  "language": "Julia",
  "name": "",
  "signature": "sha256:17fd5dd935bc4e440dbc7a302016d4d0ccf65c7a856241389b0e602a052d9c90"
 },
 "nbformat": 3,
 "nbformat_minor": 0,
 "worksheets": [
  {
   "cells": [
    {
     "cell_type": "markdown",
     "metadata": {},
     "source": [
      "Vamos a estar trabajando en un espacio $\\mathbb{D}$, el cual va a tener vectores de la forma:\n",
      "$$u(x_0)=(u_0, u'_0)$$\n",
      "D\u00f3nde $u_0=u(x=x_0)$.\n",
      "<p>Vamos a querer que, para $u,w\\in \\mathbb{D}$:\n",
      "- $\\vec{u}(x_0)\\pm \\vec{w}(x_0)=(u_0\\pm w_0, u'_0\\pm w'_0)$\n",
      "- $\\vec{u}(x_0)*\\vec{w}(x_0)=(u_0*w_0, u'_0*w_0+u_0*w'_0)$\n",
      "- $\\frac{\\vec{u}(x_0)}{\\vec{w}(x_0)}=(\\frac{u_0}{w_0}, \\frac{u'_0*w_0-u_0*w'_0}{w_0^2})$\n",
      "- $\\vec{u}^{\\alpha}(x_0) =(u_0, \\alpha u_0^{\\alpha -1}*u'_0)$\n",
      "Por ejemplo, si $u(x)=3x^2-2$ tomando $x_0=1$ y representamos las constantes como $c=(c,0)$ y las evaluaciones como $x=(x,1)$, llegamos a que:\n",
      "$$\\vec{u}(x_0=1)=(3,0)*(1,1)^3-(2,0)$$\n",
      "De aqu\u00ed, aplicando las definiciones de las operaciones tenemos que:\n",
      "$$(3,0)*(1,1)^3-(2,0)=(3,0)*(1^3,3*1^2)-(2,0)=(3,0)*(1,3)-(2,0)=(3*1,3*3+0*1)-(2,0)=(3,9)-(2,0)=(1,9)$$\n",
      "Llegando finalmente a que:\n",
      "$$\\vec{u}(1)=(u(1),u'(1))=(1,9)$$\n",
      "Por lo cual se tiene que:\n",
      "$$u'(1)=9$$"
     ]
    },
    {
     "cell_type": "code",
     "collapsed": false,
     "input": [
      "type Dual{T <: Real}\n",
      "    fun::T\n",
      "    der::T\n",
      "end"
     ],
     "language": "python",
     "metadata": {},
     "outputs": [],
     "prompt_number": 1
    },
    {
     "cell_type": "code",
     "collapsed": false,
     "input": [
      "Dual{T<:Real}(c::T)=Dual(c,zero(T))\n",
      "#O tambi\u00e9n se puede Dual(c::T<:Real)=Dual(c,zero(c))"
     ],
     "language": "python",
     "metadata": {},
     "outputs": [
      {
       "metadata": {},
       "output_type": "pyout",
       "prompt_number": 2,
       "text": [
        "Dual{T<:Real} (constructor with 2 methods)"
       ]
      }
     ],
     "prompt_number": 2
    },
    {
     "cell_type": "code",
     "collapsed": false,
     "input": [
      "+(u::Dual,w::Dual)=Dual(+(u.fun,w.fun),+(u.der,w.der))\n",
      "+(u::Dual,\u03b1::Real)=u+Dual(\u03b1)\n",
      "+(\u03b1::Real,u::Dual)=Dual(\u03b1)+u\n",
      "-(u::Dual,w::Dual)=Dual(-(u.fun,w.fun),-(u.der,w.der))\n",
      "-(u::Dual,\u03b1::Real)=u-Dual(\u03b1)\n",
      "-(\u03b1::Real,u::Dual)=Dual(\u03b1)-u\n",
      "*(u::Dual,w::Dual)=Dual(*(u.fun,w.fun),+(*(u.der,w.fun),*(u.fun,w.der)))\n",
      "*(\u03b1::Real,u::Dual)=Dual(\u03b1)*u\n",
      "*(u::Dual,\u03b1::Real)=u*Dual(\u03b1)\n",
      "/(u::Dual,w::Dual)=Dual(/(u.fun,w.fun),(u.der*w.fun-u.fun*w.der)/(w.fun*w.fun))\n",
      "/(\u03b1::Real,u::Dual)=Dual(\u03b1)/u\n",
      "/(u::Dual,\u03b1::Real)=u/Dual(\u03b1)\n",
      "\n",
      "function ^(u::Dual, \u03b1::Integer)\n",
      "    ff=u.fun^(\u03b1-1)\n",
      "    Dual(ff*u.fun,\u03b1*u.der*ff)\n",
      "end\n",
      "function ^(u::Dual, \u03b1::Real)\n",
      "    ff=u.fun^(\u03b1-1)\n",
      "    Dual(ff*u.fun,\u03b1*u.der*ff)\n",
      "end\n",
      "+(u::Dual)=u\n",
      "-(u::Dual)=Dual(-u.fun,-u.der)"
     ],
     "language": "python",
     "metadata": {},
     "outputs": [
      {
       "metadata": {},
       "output_type": "pyout",
       "prompt_number": 3,
       "text": [
        "- (generic function with 141 methods)"
       ]
      }
     ],
     "prompt_number": 3
    },
    {
     "cell_type": "code",
     "collapsed": false,
     "input": [
      "Dual(0,1)"
     ],
     "language": "python",
     "metadata": {},
     "outputs": [
      {
       "metadata": {},
       "output_type": "pyout",
       "prompt_number": 4,
       "text": [
        "Dual{Int64}(0,1)"
       ]
      }
     ],
     "prompt_number": 4
    },
    {
     "cell_type": "code",
     "collapsed": false,
     "input": [
      "Dual(1.3)"
     ],
     "language": "python",
     "metadata": {},
     "outputs": [
      {
       "metadata": {},
       "output_type": "pyout",
       "prompt_number": 5,
       "text": [
        "Dual{Float64}(1.3,0.0)"
       ]
      }
     ],
     "prompt_number": 5
    },
    {
     "cell_type": "code",
     "collapsed": false,
     "input": [
      "Dual(3,0)*Dual(1,1)^3-Dual(2,0)"
     ],
     "language": "python",
     "metadata": {},
     "outputs": [
      {
       "metadata": {},
       "output_type": "pyout",
       "prompt_number": 6,
       "text": [
        "Dual{Int64}(1,9)"
       ]
      }
     ],
     "prompt_number": 6
    },
    {
     "cell_type": "code",
     "collapsed": false,
     "input": [
      "f(x)=3x^3-2"
     ],
     "language": "python",
     "metadata": {},
     "outputs": [
      {
       "metadata": {},
       "output_type": "pyout",
       "prompt_number": 7,
       "text": [
        "f (generic function with 1 method)"
       ]
      }
     ],
     "prompt_number": 7
    },
    {
     "cell_type": "code",
     "collapsed": false,
     "input": [
      "f(Dual(1,1))"
     ],
     "language": "python",
     "metadata": {},
     "outputs": [
      {
       "metadata": {},
       "output_type": "pyout",
       "prompt_number": 8,
       "text": [
        "Dual{Int64}(1,9)"
       ]
      }
     ],
     "prompt_number": 8
    },
    {
     "cell_type": "code",
     "collapsed": false,
     "input": [
      "g(x)=x^4-x^3+4x^2-x^1+9"
     ],
     "language": "python",
     "metadata": {},
     "outputs": [
      {
       "metadata": {},
       "output_type": "pyout",
       "prompt_number": 9,
       "text": [
        "g (generic function with 1 method)"
       ]
      }
     ],
     "prompt_number": 9
    },
    {
     "cell_type": "code",
     "collapsed": false,
     "input": [
      "h(x)=x^7-6x^3+56"
     ],
     "language": "python",
     "metadata": {},
     "outputs": [
      {
       "metadata": {},
       "output_type": "pyout",
       "prompt_number": 10,
       "text": [
        "h (generic function with 1 method)"
       ]
      }
     ],
     "prompt_number": 10
    },
    {
     "cell_type": "code",
     "collapsed": false,
     "input": [
      "i(x)=g(x)/h(x)"
     ],
     "language": "python",
     "metadata": {},
     "outputs": [
      {
       "metadata": {},
       "output_type": "pyout",
       "prompt_number": 11,
       "text": [
        "i (generic function with 1 method)"
       ]
      }
     ],
     "prompt_number": 11
    },
    {
     "cell_type": "code",
     "collapsed": false,
     "input": [
      "g(Dual(5,1))"
     ],
     "language": "python",
     "metadata": {},
     "outputs": [
      {
       "metadata": {},
       "output_type": "pyout",
       "prompt_number": 12,
       "text": [
        "Dual{Int64}(604,464)"
       ]
      }
     ],
     "prompt_number": 12
    },
    {
     "cell_type": "code",
     "collapsed": false,
     "input": [
      "h(Dual(5,1))"
     ],
     "language": "python",
     "metadata": {},
     "outputs": [
      {
       "metadata": {},
       "output_type": "pyout",
       "prompt_number": 13,
       "text": [
        "Dual{Int64}(77431,108925)"
       ]
      }
     ],
     "prompt_number": 13
    },
    {
     "cell_type": "code",
     "collapsed": false,
     "input": [
      "i(Dual(1//1,1//1))"
     ],
     "language": "python",
     "metadata": {},
     "outputs": [
      {
       "metadata": {},
       "output_type": "pyout",
       "prompt_number": 14,
       "text": [
        "Dual{Rational{Int64}}(4//17,60//289)"
       ]
      }
     ],
     "prompt_number": 14
    },
    {
     "cell_type": "code",
     "collapsed": false,
     "input": [
      "j(x)=(3x^2-8x+5)/(7x^3-1)"
     ],
     "language": "python",
     "metadata": {},
     "outputs": [
      {
       "metadata": {},
       "output_type": "pyout",
       "prompt_number": 15,
       "text": [
        "j (generic function with 1 method)"
       ]
      }
     ],
     "prompt_number": 15
    },
    {
     "cell_type": "code",
     "collapsed": false,
     "input": [
      "j(Dual(1//1,1//1))"
     ],
     "language": "python",
     "metadata": {},
     "outputs": [
      {
       "metadata": {},
       "output_type": "pyout",
       "prompt_number": 16,
       "text": [
        "Dual{Rational{Int64}}(0//1,-1//3)"
       ]
      }
     ],
     "prompt_number": 16
    },
    {
     "cell_type": "code",
     "collapsed": false,
     "input": [
      "function derivada(f,x)\n",
      "    deri=f(Dual(x,one(x)))\n",
      "    deri.der\n",
      "end"
     ],
     "language": "python",
     "metadata": {},
     "outputs": [
      {
       "metadata": {},
       "output_type": "pyout",
       "prompt_number": 31,
       "text": [
        "derivada (generic function with 1 method)"
       ]
      }
     ],
     "prompt_number": 31
    },
    {
     "cell_type": "code",
     "collapsed": false,
     "input": [
      "derivada(g,1)"
     ],
     "language": "python",
     "metadata": {},
     "outputs": [
      {
       "metadata": {},
       "output_type": "pyout",
       "prompt_number": 32,
       "text": [
        "8"
       ]
      }
     ],
     "prompt_number": 32
    },
    {
     "cell_type": "code",
     "collapsed": false,
     "input": [
      "for (ff,dd) in ((:(Base.exp),:(Base.exp)), (:(Base.log),:(x->1/x)), (:(Base.sin),:(Base.cos)),\n",
      "    (:(Base.cos),:(x->-sin(x))), (:(Base.tan),:(x->((sec(x))^2))), (:(Base.sqrt),:(x->0.5/sqrt(x))))\n",
      "    @eval ($ff)(u::Dual)=Dual(($ff)(u.fun),u.der*($dd)(u.fun))\n",
      "end"
     ],
     "language": "python",
     "metadata": {},
     "outputs": [],
     "prompt_number": 23
    },
    {
     "cell_type": "code",
     "collapsed": false,
     "input": [
      "exp(Dual(1,1))"
     ],
     "language": "python",
     "metadata": {},
     "outputs": [
      {
       "metadata": {},
       "output_type": "pyout",
       "prompt_number": 24,
       "text": [
        "Dual{Float64}(2.718281828459045,2.718281828459045)"
       ]
      }
     ],
     "prompt_number": 24
    },
    {
     "cell_type": "code",
     "collapsed": false,
     "input": [
      "sqrt(Dual(1,1))"
     ],
     "language": "python",
     "metadata": {},
     "outputs": [
      {
       "metadata": {},
       "output_type": "pyout",
       "prompt_number": 25,
       "text": [
        "Dual{Float64}(1.0,0.5)"
       ]
      }
     ],
     "prompt_number": 25
    },
    {
     "cell_type": "code",
     "collapsed": false,
     "input": [
      "ftest(x)=sin(x^3-2/x^6)"
     ],
     "language": "python",
     "metadata": {},
     "outputs": [
      {
       "metadata": {},
       "output_type": "pyout",
       "prompt_number": 26,
       "text": [
        "ftest (generic function with 1 method)"
       ]
      }
     ],
     "prompt_number": 26
    },
    {
     "cell_type": "code",
     "collapsed": false,
     "input": [
      "ftest(Dual(2,1))"
     ],
     "language": "python",
     "metadata": {},
     "outputs": [
      {
       "metadata": {},
       "output_type": "pyout",
       "prompt_number": 28,
       "text": [
        "Dual{Float64}(0.9934213368955197,-1.384934905523464)"
       ]
      }
     ],
     "prompt_number": 28
    },
    {
     "cell_type": "code",
     "collapsed": false,
     "input": [
      "derivada(ftest,2)"
     ],
     "language": "python",
     "metadata": {},
     "outputs": [
      {
       "metadata": {},
       "output_type": "pyout",
       "prompt_number": 29,
       "text": [
        "-1.384934905523464"
       ]
      }
     ],
     "prompt_number": 29
    },
    {
     "cell_type": "markdown",
     "metadata": {},
     "source": [
      "#Ahora intentaremos hacer la segunda derivada:"
     ]
    },
    {
     "cell_type": "code",
     "collapsed": false,
     "input": [
      "function dder(f,x)\n",
      "    deriv=f(Dual(derivada(f,x),1))\n",
      "    deriv.der\n",
      "end"
     ],
     "language": "python",
     "metadata": {},
     "outputs": [
      {
       "metadata": {},
       "output_type": "pyout",
       "prompt_number": 37,
       "text": [
        "dder (generic function with 1 method)"
       ]
      }
     ],
     "prompt_number": 37
    },
    {
     "cell_type": "code",
     "collapsed": false,
     "input": [
      "dder(x->x^2,1)"
     ],
     "language": "python",
     "metadata": {},
     "outputs": [
      {
       "metadata": {},
       "output_type": "pyout",
       "prompt_number": 38,
       "text": [
        "4"
       ]
      }
     ],
     "prompt_number": 38
    },
    {
     "cell_type": "code",
     "collapsed": false,
     "input": [
      "function der(f,x,n=1)\n",
      "if n==1\n",
      "der(f,x)\n",
      "else\n",
      "f=f(Dual(derivada(f,x),1))\n",
      "der(f,x,n-1)\n",
      "end\n",
      "end"
     ],
     "language": "python",
     "metadata": {},
     "outputs": [
      {
       "metadata": {},
       "output_type": "pyout",
       "prompt_number": 2,
       "text": [
        "der (generic function with 2 methods)"
       ]
      }
     ],
     "prompt_number": 2
    },
    {
     "cell_type": "code",
     "collapsed": false,
     "input": [],
     "language": "python",
     "metadata": {},
     "outputs": []
    }
   ],
   "metadata": {}
  }
 ]
}