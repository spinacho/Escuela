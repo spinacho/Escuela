{
 "metadata": {
  "language": "Julia",
  "name": "",
  "signature": "sha256:091c4691aa179eead44dff66fd0234ad6e0b8ebbdfd54ce797906ce9432d736e"
 },
 "nbformat": 3,
 "nbformat_minor": 0,
 "worksheets": [
  {
   "cells": [
    {
     "cell_type": "code",
     "collapsed": false,
     "input": [
      "include (\"Taylor.jl\")"
     ],
     "language": "python",
     "metadata": {},
     "outputs": [
      {
       "metadata": {},
       "output_type": "pyout",
       "prompt_number": 1,
       "text": [
        "/ (generic function with 53 methods)"
       ]
      }
     ],
     "prompt_number": 1
    },
    {
     "cell_type": "markdown",
     "metadata": {},
     "source": [
      "##Integrando Taylor.\n",
      "Vamos a comenzar integrando la ecuaci\u00f3n:\n",
      "$$\\dot x=-x^2;\\ x(0)=1$$\n",
      "Vamos a tener entonces que:\n",
      "$$x_{n+1}=\\frac{f_n(x)}{n+1}$$"
     ]
    },
    {
     "cell_type": "code",
     "collapsed": false,
     "input": [
      "f(x)=-x*x"
     ],
     "language": "python",
     "metadata": {},
     "outputs": [
      {
       "metadata": {},
       "output_type": "pyout",
       "prompt_number": 2,
       "text": [
        "f (generic function with 1 method)"
       ]
      }
     ],
     "prompt_number": 2
    },
    {
     "cell_type": "code",
     "collapsed": false,
     "input": [
      "const orderMax=18\n",
      "const epsilon=1e-20\n",
      "\n",
      "c0=1.0"
     ],
     "language": "python",
     "metadata": {},
     "outputs": [
      {
       "metadata": {},
       "output_type": "pyout",
       "prompt_number": 1,
       "text": [
        "1.0"
       ]
      }
     ],
     "prompt_number": 1
    },
    {
     "cell_type": "code",
     "collapsed": false,
     "input": [
      "q0=Taylor(c0)"
     ],
     "language": "python",
     "metadata": {},
     "outputs": [
      {
       "metadata": {},
       "output_type": "pyout",
       "prompt_number": 4,
       "text": [
        "Taylor{Float64}([1.0],0)"
       ]
      }
     ],
     "prompt_number": 4
    },
    {
     "cell_type": "markdown",
     "metadata": {},
     "source": [
      "Buscamos la serie de Taylor de $x(t)=x_0+tx_1+t^2x_2+...$. Tenemos entonces que:\n",
      "$$-f(x)=x_0^2+2x_0x_1t+...$$\n",
      "De aqu\u00ed vamos a encontrar $x_1, x_2, x_3, ...$."
     ]
    },
    {
     "cell_type": "code",
     "collapsed": false,
     "input": [
      "f(q0)"
     ],
     "language": "python",
     "metadata": {},
     "outputs": [
      {
       "metadata": {},
       "output_type": "pyout",
       "prompt_number": 5,
       "text": [
        "Taylor{Float64}([-1.0],0)"
       ]
      }
     ],
     "prompt_number": 5
    },
    {
     "cell_type": "code",
     "collapsed": false,
     "input": [
      "c1=f(q0).coeffs[1]/1"
     ],
     "language": "python",
     "metadata": {},
     "outputs": [
      {
       "metadata": {},
       "output_type": "pyout",
       "prompt_number": 6,
       "text": [
        "-1.0"
       ]
      }
     ],
     "prompt_number": 6
    },
    {
     "cell_type": "code",
     "collapsed": false,
     "input": [
      "v=q0.coeffs\n",
      "push!(v,c1)\n",
      "q1=Taylor(v)"
     ],
     "language": "python",
     "metadata": {},
     "outputs": [
      {
       "metadata": {},
       "output_type": "pyout",
       "prompt_number": 7,
       "text": [
        "Taylor{Float64}([1.0,-1.0],1)"
       ]
      }
     ],
     "prompt_number": 7
    },
    {
     "cell_type": "code",
     "collapsed": false,
     "input": [
      "c2=f(q1).coeffs[2]/2\n",
      "push!(v,c2)\n",
      "q2=Taylor(v)"
     ],
     "language": "python",
     "metadata": {},
     "outputs": [
      {
       "metadata": {},
       "output_type": "pyout",
       "prompt_number": 8,
       "text": [
        "Taylor{Float64}([1.0,-1.0,1.0],2)"
       ]
      }
     ],
     "prompt_number": 8
    },
    {
     "cell_type": "markdown",
     "metadata": {},
     "source": [
      "Vamos a escribir el bucle:"
     ]
    },
    {
     "cell_type": "code",
     "collapsed": false,
     "input": [
      "function NextTaylor(f::Function,c0::Real)\n",
      "    v=[c0]\n",
      "    for ord=1:orderMax\n",
      "        q0=Taylor(v)\n",
      "        c1=f(q0).coeffs[ord]/ord\n",
      "        push!(v,c1)\n",
      "    end\n",
      "    v\n",
      "end"
     ],
     "language": "python",
     "metadata": {},
     "outputs": [
      {
       "metadata": {},
       "output_type": "pyout",
       "prompt_number": 31,
       "text": [
        "NextTaylor (generic function with 2 methods)"
       ]
      }
     ],
     "prompt_number": 31
    },
    {
     "cell_type": "code",
     "collapsed": false,
     "input": [
      "NextTaylor(1)"
     ],
     "language": "python",
     "metadata": {},
     "outputs": [
      {
       "metadata": {},
       "output_type": "pyout",
       "prompt_number": 10,
       "text": [
        "19-element Array{Int64,1}:\n",
        "  1\n",
        " -1\n",
        "  1\n",
        " -1\n",
        "  1\n",
        " -1\n",
        "  1\n",
        " -1\n",
        "  1\n",
        " -1\n",
        "  1\n",
        " -1\n",
        "  1\n",
        " -1\n",
        "  1\n",
        " -1\n",
        "  1\n",
        " -1\n",
        "  1"
       ]
      }
     ],
     "prompt_number": 10
    },
    {
     "cell_type": "markdown",
     "metadata": {},
     "source": [
      "Ahora vamos a buscar pasar de $0 \\rightarrow 0+h$. Recoramos que:\n",
      "$$c_nh^n<\\epsilon$$\n",
      "Por lo cual:\n",
      "$$h\\leq \\Bigg(\\frac{\\epsilon}{|c_n|}\\Bigg)^{\\frac{1}{n}}$$\n",
      "$$h=min\\Bigg[\\Bigg(\\frac{\\epsilon}{|c_n|}\\Bigg)^{\\frac{1}{n}},\\Bigg(\\frac{\\epsilon}{|c_{n-1}|}\\Bigg)^{\\frac{1}{n-1}} \\Bigg]$$"
     ]
    },
    {
     "cell_type": "code",
     "collapsed": false,
     "input": [
      "function TimeStep(v)\n",
      "    pot=inv(orderMax)\n",
      "    h1=(epsilon/abs(v[end]))^pot\n",
      "    pot=inv(orderMax)-1\n",
      "    h2=(epsilon/abs(v[end-1]))^pot\n",
      "    min(h1,h2)\n",
      "end"
     ],
     "language": "python",
     "metadata": {},
     "outputs": [
      {
       "metadata": {},
       "output_type": "pyout",
       "prompt_number": 21,
       "text": [
        "TimeStep (generic function with 1 method)"
       ]
      }
     ],
     "prompt_number": 21
    },
    {
     "cell_type": "code",
     "collapsed": false,
     "input": [
      "h=TimeStep(v)"
     ],
     "language": "python",
     "metadata": {},
     "outputs": [
      {
       "metadata": {},
       "output_type": "pyout",
       "prompt_number": 22,
       "text": [
        "0.07742636826811272"
       ]
      }
     ],
     "prompt_number": 22
    },
    {
     "cell_type": "code",
     "collapsed": false,
     "input": [
      "function EvalHorner(v,h)\n",
      "    m=length(v)\n",
      "    suma=0.0\n",
      "    for i=m-1:-1:1\n",
      "        suma=v[i]+h*suma\n",
      "    end\n",
      "    suma\n",
      "end"
     ],
     "language": "python",
     "metadata": {},
     "outputs": [
      {
       "metadata": {},
       "output_type": "pyout",
       "prompt_number": 23,
       "text": [
        "EvalHorner (generic function with 1 method)"
       ]
      }
     ],
     "prompt_number": 23
    },
    {
     "cell_type": "code",
     "collapsed": false,
     "input": [
      "EvalHorner(v,h)"
     ],
     "language": "python",
     "metadata": {},
     "outputs": [
      {
       "metadata": {},
       "output_type": "pyout",
       "prompt_number": 24,
       "text": [
        "0.9225736317318873"
       ]
      }
     ],
     "prompt_number": 24
    },
    {
     "cell_type": "markdown",
     "metadata": {},
     "source": [
      "A partir de aqu\u00ed vamos a intentar implementar todo el integrador. La salida de TimeStep va a darnos el paso de tiempo necesario para caer dentro de nuestra incertidumbre, mientras que la salida de EvalHorner nos va a dar *en donde estamos* al cabo de ese tiempo."
     ]
    },
    {
     "cell_type": "code",
     "collapsed": false,
     "input": [
      "function TaylorStepper(f::Function,c0,tiempo)\n",
      "    v=NextTaylor(f,c0)\n",
      "    h=TimeStep(v)\n",
      "    c1=EvalHorner(v,h)\n",
      "    tiempo+=h\n",
      "    return c1,tiempo\n",
      "end"
     ],
     "language": "python",
     "metadata": {},
     "outputs": [
      {
       "metadata": {},
       "output_type": "pyout",
       "prompt_number": 30,
       "text": [
        "TaylorStepper (generic function with 2 methods)"
       ]
      }
     ],
     "prompt_number": 30
    },
    {
     "cell_type": "code",
     "collapsed": false,
     "input": [
      "x0=1.0\n",
      "tiempo=0\n",
      "while tiempo<10.0\n",
      "    x0, tiempo = TaylorStepper(f,x0,tiempo)\n",
      "    println(tiempo,\"\\t\",x0,\"\\t\", (abs(inv(1+tiempo)-x0))/eps(1.0))\n",
      "end"
     ],
     "language": "python",
     "metadata": {},
     "outputs": [
      {
       "output_type": "stream",
       "stream": "stdout",
       "text": [
        "0.0"
       ]
      },
      {
       "output_type": "stream",
       "stream": "stdout",
       "text": [
        "7742636826811272\t0.9281376708901508\t0.5\n",
        "0.1611939156524605\t0.8611826039736975\t0.0\n",
        "0.25185052250394246\t0.7988174163156534\t0.0\n",
        "0.3499938878197845\t0.7407440944899253\t0.5\n",
        "0.45627628634338135\t0.6866828838577997\t0.0\n",
        "0.5714098017388458\t0.6363712374031577\t0.0\n",
        "0.6961720856830946\t0.5895628211551853\t0.0\n",
        "0.8314126981683712\t0.5460265733660785\t0.0\n",
        "0.978060090379625\t0.5055458147422013\t0.5\n",
        "1.137129298277937\t0.46791740715256824\t0.0\n",
        "1.3097304225660866\t0.4329509583585994\t0.0\n",
        "1.4970779791286029\t0.40046807042404287\t0.0\n",
        "1.700501213431003\t0.370301629573976\t0.25\n",
        "1.921455482849299\t0.3422951353770754\t0.0\n",
        "2.161534822613958\t0.3163020672260695\t0.25\n",
        "2.4224858241417686\t0.29218528618763895\t0.0\n",
        "2.7062229691628903\t0.26981647038517653\t0.0\n",
        "3.014845579418549\t0.2490755821659336\t0.0\n",
        "3.3506565600214624\t0.22985036538831438\t0.125\n",
        "3.7161831350776926\t0.2120358712455992\t0.125\n",
        "4.114199797137918\t0.195534011119322\t0.125\n",
        "4.547753717786135\t0.1802531350290467\t0.125\n",
        "5.020192895532609\t0.1661076343155163\t0.125\n",
        "5.535197349549077\t0.15301756726122417\t0.125\n",
        "6.096813704113029\t0.14090830641650348\t0.125\n",
        "6.709493549418258\t0.12971020646037867\t0.125\n",
        "7.378136010231503\t0.11935829148378412\t0.0\n",
        "8.108135005376555\t0.10979196063845094\t0.0625\n",
        "8.905431738940639\t0.1009547111479007\t0.0625\n",
        "9.77657302925483\t0.09279387772767193\t0.0625\n",
        "10.728776155044272\t0.08526038751024533\t0.0625\n"
       ]
      }
     ],
     "prompt_number": 32
    },
    {
     "cell_type": "markdown",
     "metadata": {},
     "source": [
      "####Ahora vamos a intentarlo para la funci\u00f3n $\\dot x=x^2$\n",
      "En este caso, cabe notar que la soluci\u00f3n diverge con respecto al tiempo. La soluci\u00f3n de esta ecuaci\u00f3n es:\n",
      "$$x=\\frac{x_0}{1-tx_0}$$"
     ]
    },
    {
     "cell_type": "code",
     "collapsed": false,
     "input": [
      "g(x)=x^2"
     ],
     "language": "python",
     "metadata": {},
     "outputs": [
      {
       "metadata": {},
       "output_type": "pyout",
       "prompt_number": 33,
       "text": [
        "g (generic function with 1 method)"
       ]
      }
     ],
     "prompt_number": 33
    },
    {
     "cell_type": "code",
     "collapsed": false,
     "input": [
      "x0=1.0\n",
      "tiempo=0\n",
      "for i=1:100\n",
      "    x0, tiempo = TaylorStepper(g,x0,tiempo)\n",
      "    println(tiempo,\"\\t\",x0)\n",
      "end"
     ],
     "language": "python",
     "metadata": {},
     "outputs": [
      {
       "output_type": "stream",
       "stream": "stdout",
       "text": [
        "0.0"
       ]
      },
      {
       "output_type": "stream",
       "stream": "stdout",
       "text": [
        "7742636826811272\t1.0839243238751202\n",
        "0.14853880164335465\t1.1744516390530073\n",
        "0.21387803292018218\t1.2720672387704264\n",
        "0.273936287455817\t1.3772895996908083\n",
        "0.3291618304746143\t1.490672483212299\n",
        "0.37996306985555\t1.6128071593526372\n",
        "0.42671225962581527\t1.744324759757291\n",
        "0.46974884460397426\t1.8858987666950684\n",
        "0.5093824823805104\t2.038247645237108\n",
        "0.5458957750323825\t2.2021376261612864\n",
        "0.5795467395889526\t2.3783856474852185\n",
        "0.6105710432529786\t2.567862462907745\n",
        "0.639184026691324\t2.7714959258317142\n",
        "0.6655825363094182\t2.9902744580505685\n",
        "0.6899465842792563\t3.225250712608409\n",
        "0.7124408531745122\t3.4775454407884805\n",
        "0.7332160603530342\t3.7483515736490607\n",
        "0.7524101956943423\t4.038938529009327\n",
        "0.7701496449280354\t4.350656755291533\n",
        "0.7865502095607251\t4.684942524150634\n",
        "0.8017180333087249\t5.0433229843690235\n",
        "0.815750443957438\t5.427421490063177\n",
        "0.8287367186839496\t5.8389632168415275\n",
        "0.8407587800858519\t6.279781080169646\n",
        "0.8518918294471156\t6.751821970840797\n",
        "0.8622049231322604\t7.257153323117881\n",
        "0.8717614974254823\t7.797970031807826\n",
        "0.8806198466149399\t8.376601735252464\n",
        "0.8888335586579879\t8.995520481971916\n",
        "0.8964519123453429\t9.657348799478529\n",
        "0.9035202395061318\t10.364868184592504\n",
        "0.9100802554571724\t11.121028035435668\n",
        "0.9161703605948257\t11.928955046158471\n",
        "0.9218259157528661\t12.7919630863685\n",
        "0.9270794937019804\t13.713563588177609\n",
        "0.9319611089429561\t14.697476464770675\n",
        "0.9364984277438944\t15.747641585423079\n",
        "0.940716960189674\t16.86823083295767\n",
        "0.9446402358474308\t18.06366077073668\n",
        "0.9482899645032146\t19.338605947430906\n",
        "0.9516861832906796\t20.698012868999495\n",
        "0.954847391411213\t22.147114668549463\n",
        "0.9577906735350419\t23.691446506027287\n",
        "0.9605318128734367\t25.33686173102605\n",
        "0.9630853948221207\t27.08954884337314\n",
        "0.9654649019944738\t28.956049287596556\n",
        "0.9676828013892598\t30.943276118854516\n",
        "0.9697506243706625\t33.058533579454874\n",
        "0.9716790400777121\t35.30953762668978\n",
        "0.9734779228251256\t37.70443745436886\n",
        "0.9751564140076205\t40.25183805215298\n",
        "0.9767229789744076\t42.96082384857249\n",
        "0.9781854592993806\t45.84098348546011\n",
        "0.9795511208351088\t48.90243577344285\n",
        "0.9808266979047342\t52.15585688011993\n",
        "0.982018433954968\t55.61250880460819\n",
        "0.9831321189652664\t59.284269194265015\n",
        "0.9841731238826967\t63.1836625616028\n",
        "0.9851464323287279\t67.32389296169231\n",
        "0.9860566698029929\t71.71887819271618\n",
        "0.9869081305897739\t76.38328558478179\n",
        "0.9877048025553813\t81.33256944463658\n",
        "0.9884503900085782\t86.58301022655222\n",
        "0.9891483347815944\t92.15175550235891\n",
        "0.9898018356759575\t98.05686280642067\n",
        "0.9904138664052146\t104.31734443425\n",
        "0.9909871921555313\t110.95321427646813\n",
        "0.9915243848750331\t117.98553677292877\n",
        "0.9920278373935075\t125.4364780750424\n",
        "0.9924997764656444\t133.32935950766705\n",
        "0.9929422748232755\t141.68871342537403\n",
        "0.9933572623150205\t150.54034156145767\n",
        "0.9937465362052996\t159.91137597173773\n",
        "0.9941117706987729\t169.8303426790091\n",
        "0.9944545257508723\t180.32722812792582\n",
        "0.9947762552201515\t191.43354856417145\n",
        "0.9950783144136561\t203.1824224559694\n",
        "0.9953619670723807\t215.60864608032688\n",
        "0.9956283918400776\t228.7487724008919\n",
        "0.9958786882552153\t242.6411933689359\n",
        "0.9961138823026912\t257.32622578376083\n",
        "0.9963349315589851\t272.846200853774\n",
        "0.9965427299617612\t289.2455576045777\n",
        "0.9967381122324638\t306.57094028569543\n",
        "0.9969218579782018\t324.87129993299817\n",
        "0.997094695497141\t344.19800024951587\n",
        "0.997257305309725\t364.6049279731209\n",
        "0.997410323436296\t386.14860790555883\n",
        "0.9975543444400845\t408.8883227834842\n",
        "0.9976899242530609\t432.88623817853676\n",
        "0.997817582800785\t458.2075326200766\n",
        "0.9979378064411449\t484.9205331409896\n",
        "0.9980510502307285\t513.0968564539793\n",
        "0.9981577400315154\t542.8115559729915\n",
        "0.9982582744696072\t574.1432749018743\n",
        "0.9983530267568201\t607.1744056200629\n",
        "0.998442346385138\t641.9912556030134\n",
        "0.9985265607032705\t678.6842201232844\n",
        "0.9986059763838591\t717.3479619865979\n",
        "0.9986808807892296\t758.0815985659043\n"
       ]
      }
     ],
     "prompt_number": 35
    },
    {
     "cell_type": "code",
     "collapsed": false,
     "input": [
      "function TayInteger(f,x0,t0=0,max=1000)\n",
      "    x=Float64[x0]\n",
      "    t=Float64[t0]\n",
      "    for i=1:max\n",
      "        x0, t0=TaylorStepper(f,x0,t0)\n",
      "        push!(x,x0)\n",
      "        push!(t,t0)\n",
      "    end\n",
      "    t,x\n",
      "end"
     ],
     "language": "python",
     "metadata": {},
     "outputs": [
      {
       "metadata": {},
       "output_type": "pyout",
       "prompt_number": 39,
       "text": [
        "TayInteger (generic function with 3 methods)"
       ]
      }
     ],
     "prompt_number": 39
    },
    {
     "cell_type": "code",
     "collapsed": false,
     "input": [
      "using PyPlot"
     ],
     "language": "python",
     "metadata": {},
     "outputs": [
      {
       "output_type": "stream",
       "stream": "stderr",
       "text": [
        "INFO: Loading help data...\n"
       ]
      }
     ],
     "prompt_number": 42
    },
    {
     "cell_type": "code",
     "collapsed": false,
     "input": [
      "@time t,x=TayInteger(g,1,0,100);"
     ],
     "language": "python",
     "metadata": {},
     "outputs": [
      {
       "output_type": "stream",
       "stream": "stdout",
       "text": [
        "elapsed time: 0."
       ]
      },
      {
       "output_type": "stream",
       "stream": "stdout",
       "text": [
        "005383006 seconds (1880192 bytes allocated)\n"
       ]
      }
     ],
     "prompt_number": 67
    },
    {
     "cell_type": "code",
     "collapsed": false,
     "input": [
      "plot(t,x)\n",
      "xlabel(L\"$t$\")\n",
      "ylabel(L\"$x(t)$\")\n",
      "title(L\"Grafica de la solucion a la ecuacion diferencial $\\dot x(t)=-x^2$\")"
     ],
     "language": "python",
     "metadata": {},
     "outputs": [
      {
       "metadata": {},
       "output_type": "display_data",
       "png": "[encoded data removed]",
       "text": [
        "Figure(PyObject <matplotlib.figure.Figure object at 0x7ff124e5fe10>)"
       ]
      },
      {
       "metadata": {},
       "output_type": "pyout",
       "prompt_number": 72,
       "text": [
        "PyObject <matplotlib.text.Text object at 0x7ff124d2df90>"
       ]
      }
     ],
     "prompt_number": 72
    },
    {
     "cell_type": "code",
     "collapsed": false,
     "input": [
      "[1,2,3]"
     ],
     "language": "python",
     "metadata": {},
     "outputs": [
      {
       "metadata": {},
       "output_type": "pyout",
       "prompt_number": 1,
       "text": [
        "3-element Array{Int64,1}:\n",
        " 1\n",
        " 2\n",
        " 3"
       ]
      }
     ],
     "prompt_number": 1
    },
    {
     "cell_type": "code",
     "collapsed": false,
     "input": [
      "2*ans"
     ],
     "language": "python",
     "metadata": {},
     "outputs": [
      {
       "metadata": {},
       "output_type": "pyout",
       "prompt_number": 2,
       "text": [
        "3-element Array{Int64,1}:\n",
        " 2\n",
        " 4\n",
        " 6"
       ]
      }
     ],
     "prompt_number": 2
    },
    {
     "cell_type": "code",
     "collapsed": false,
     "input": [
      "ans'"
     ],
     "language": "python",
     "metadata": {},
     "outputs": [
      {
       "metadata": {},
       "output_type": "pyout",
       "prompt_number": 3,
       "text": [
        "1x3 Array{Int64,2}:\n",
        " 2  4  6"
       ]
      }
     ],
     "prompt_number": 3
    },
    {
     "cell_type": "code",
     "collapsed": false,
     "input": [
      "ans'*ans"
     ],
     "language": "python",
     "metadata": {},
     "outputs": [
      {
       "metadata": {},
       "output_type": "pyout",
       "prompt_number": 4,
       "text": [
        "3x3 Array{Int64,2}:\n",
        "  4   8  12\n",
        "  8  16  24\n",
        " 12  24  36"
       ]
      }
     ],
     "prompt_number": 4
    },
    {
     "cell_type": "code",
     "collapsed": false,
     "input": [
      "ans"
     ],
     "language": "python",
     "metadata": {},
     "outputs": [
      {
       "metadata": {},
       "output_type": "pyout",
       "prompt_number": 5,
       "text": [
        "3x3 Array{Int64,2}:\n",
        "  4   8  12\n",
        "  8  16  24\n",
        " 12  24  36"
       ]
      }
     ],
     "prompt_number": 5
    },
    {
     "cell_type": "code",
     "collapsed": false,
     "input": [
      "ans/3"
     ],
     "language": "python",
     "metadata": {},
     "outputs": [
      {
       "metadata": {},
       "output_type": "pyout",
       "prompt_number": 6,
       "text": [
        "3x3 Array{Float64,2}:\n",
        " 1.33333  2.66667   4.0\n",
        " 2.66667  5.33333   8.0\n",
        " 4.0      8.0      12.0"
       ]
      }
     ],
     "prompt_number": 6
    },
    {
     "cell_type": "code",
     "collapsed": false,
     "input": [
      "ans*3"
     ],
     "language": "python",
     "metadata": {},
     "outputs": [
      {
       "metadata": {},
       "output_type": "pyout",
       "prompt_number": 7,
       "text": [
        "3x3 Array{Float64,2}:\n",
        "  4.0   8.0  12.0\n",
        "  8.0  16.0  24.0\n",
        " 12.0  24.0  36.0"
       ]
      }
     ],
     "prompt_number": 7
    },
    {
     "cell_type": "code",
     "collapsed": false,
     "input": [
      "A=ans"
     ],
     "language": "python",
     "metadata": {},
     "outputs": [
      {
       "metadata": {},
       "output_type": "pyout",
       "prompt_number": 8,
       "text": [
        "3x3 Array{Float64,2}:\n",
        "  4.0   8.0  12.0\n",
        "  8.0  16.0  24.0\n",
        " 12.0  24.0  36.0"
       ]
      }
     ],
     "prompt_number": 8
    },
    {
     "cell_type": "code",
     "collapsed": false,
     "input": [
      "function /(M::Array,c::Real)\n",
      "    l=length(M)\n",
      "    for i in 1:l\n",
      "        M[i]=M[i]/c\n",
      "        end\n",
      "    M\n",
      "end"
     ],
     "language": "python",
     "metadata": {},
     "outputs": [
      {
       "metadata": {},
       "output_type": "pyout",
       "prompt_number": 13,
       "text": [
        "/ (generic function with 54 methods)"
       ]
      }
     ],
     "prompt_number": 13
    },
    {
     "cell_type": "code",
     "collapsed": false,
     "input": [
      "A"
     ],
     "language": "python",
     "metadata": {},
     "outputs": [
      {
       "metadata": {},
       "output_type": "pyout",
       "prompt_number": 12,
       "text": [
        "3x3 Array{Float64,2}:\n",
        " 1.33333  2.66667   4.0\n",
        " 2.66667  5.33333   8.0\n",
        " 4.0      8.0      12.0"
       ]
      }
     ],
     "prompt_number": 12
    },
    {
     "cell_type": "code",
     "collapsed": false,
     "input": [
      "A/3"
     ],
     "language": "python",
     "metadata": {},
     "outputs": [
      {
       "metadata": {},
       "output_type": "pyout",
       "prompt_number": 14,
       "text": [
        "3x3 Array{Float64,2}:\n",
        " 0.444444  0.888889  1.33333\n",
        " 0.888889  1.77778   2.66667\n",
        " 1.33333   2.66667   4.0    "
       ]
      }
     ],
     "prompt_number": 14
    },
    {
     "cell_type": "code",
     "collapsed": false,
     "input": [
      "type TempVect(t::Real,x)"
     ],
     "language": "python",
     "metadata": {},
     "outputs": []
    }
   ],
   "metadata": {}
  }
 ]
}