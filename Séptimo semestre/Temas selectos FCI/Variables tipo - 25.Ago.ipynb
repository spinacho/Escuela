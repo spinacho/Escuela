{
 "metadata": {
  "language": "Julia",
  "name": "",
  "signature": "sha256:58ede86aa4c9116a994330afd2025dec342c364d20849c14c380add89f6be4c9"
 },
 "nbformat": 3,
 "nbformat_minor": 0,
 "worksheets": [
  {
   "cells": [
    {
     "cell_type": "markdown",
     "metadata": {},
     "source": [
      "#Variables tipo"
     ]
    },
    {
     "cell_type": "code",
     "collapsed": false,
     "input": [
      "type Mivec\n",
      "    x\n",
      "    y\n",
      "end"
     ],
     "language": "python",
     "metadata": {},
     "outputs": [],
     "prompt_number": 1
    },
    {
     "cell_type": "code",
     "collapsed": false,
     "input": [
      "v1=Mivec(1,2)"
     ],
     "language": "python",
     "metadata": {},
     "outputs": [
      {
       "metadata": {},
       "output_type": "pyout",
       "prompt_number": 2,
       "text": [
        "Mivec(1,2)"
       ]
      }
     ],
     "prompt_number": 2
    },
    {
     "cell_type": "code",
     "collapsed": false,
     "input": [
      "typeof(v1)"
     ],
     "language": "python",
     "metadata": {},
     "outputs": [
      {
       "metadata": {},
       "output_type": "pyout",
       "prompt_number": 3,
       "text": [
        "Mivec (constructor with 1 method)"
       ]
      }
     ],
     "prompt_number": 3
    },
    {
     "cell_type": "code",
     "collapsed": false,
     "input": [
      "type MivecT{T} #La T es un tipo gen\u00e9rico, s\u00f3lo restringe que las dos entradas deben de ser del mismo tipo\n",
      "    x :: T     #Se anotar\u00eda como MiVecT{T <: Any}#\n",
      "    y :: T\n",
      "end"
     ],
     "language": "python",
     "metadata": {},
     "outputs": [],
     "prompt_number": 4
    },
    {
     "cell_type": "code",
     "collapsed": false,
     "input": [
      "v1=MivecT(1,2)"
     ],
     "language": "python",
     "metadata": {},
     "outputs": [
      {
       "metadata": {},
       "output_type": "pyout",
       "prompt_number": 5,
       "text": [
        "MivecT{Int64}(1,2)"
       ]
      }
     ],
     "prompt_number": 5
    },
    {
     "cell_type": "code",
     "collapsed": false,
     "input": [
      "v2=MivecT(\"Hola\",1)"
     ],
     "language": "python",
     "metadata": {},
     "outputs": [
      {
       "ename": "LoadError",
       "evalue": "`MivecT{T}` has no method matching MivecT{T}(::ASCIIString, ::Int64)\nwhile loading In[6], in expression starting on line 1",
       "output_type": "pyerr",
       "traceback": [
        "`MivecT{T}` has no method matching MivecT{T}(::ASCIIString, ::Int64)\nwhile loading In[6], in expression starting on line 1"
       ]
      }
     ],
     "prompt_number": 6
    },
    {
     "cell_type": "code",
     "collapsed": false,
     "input": [
      "v2=Mivec(\"hola\",1)"
     ],
     "language": "python",
     "metadata": {},
     "outputs": [
      {
       "metadata": {},
       "output_type": "pyout",
       "prompt_number": 7,
       "text": [
        "Mivec(\"hola\",1)"
       ]
      }
     ],
     "prompt_number": 7
    },
    {
     "cell_type": "code",
     "collapsed": false,
     "input": [
      "typeof(v1)"
     ],
     "language": "python",
     "metadata": {},
     "outputs": [
      {
       "metadata": {},
       "output_type": "pyout",
       "prompt_number": 8,
       "text": [
        "MivecT{Int64} (constructor with 1 method)"
       ]
      }
     ],
     "prompt_number": 8
    },
    {
     "cell_type": "code",
     "collapsed": false,
     "input": [
      "typeof(v2)"
     ],
     "language": "python",
     "metadata": {},
     "outputs": [
      {
       "metadata": {},
       "output_type": "pyout",
       "prompt_number": 9,
       "text": [
        "Mivec (constructor with 1 method)"
       ]
      }
     ],
     "prompt_number": 9
    },
    {
     "cell_type": "code",
     "collapsed": false,
     "input": [
      "v1.x"
     ],
     "language": "python",
     "metadata": {},
     "outputs": [
      {
       "metadata": {},
       "output_type": "pyout",
       "prompt_number": 10,
       "text": [
        "1"
       ]
      }
     ],
     "prompt_number": 10
    },
    {
     "cell_type": "code",
     "collapsed": false,
     "input": [
      "v1.y"
     ],
     "language": "python",
     "metadata": {},
     "outputs": [
      {
       "metadata": {},
       "output_type": "pyout",
       "prompt_number": 11,
       "text": [
        "2"
       ]
      }
     ],
     "prompt_number": 11
    },
    {
     "cell_type": "code",
     "collapsed": false,
     "input": [
      "+(a::MivecT, b::MivecT) = MivecT(a.x+b.x, a.y+b.y)"
     ],
     "language": "python",
     "metadata": {},
     "outputs": [
      {
       "metadata": {},
       "output_type": "pyout",
       "prompt_number": 12,
       "text": [
        "+ (generic function with 126 methods)"
       ]
      }
     ],
     "prompt_number": 12
    },
    {
     "cell_type": "code",
     "collapsed": false,
     "input": [
      "v2=MivecT(3.5,4.2)"
     ],
     "language": "python",
     "metadata": {},
     "outputs": [
      {
       "metadata": {},
       "output_type": "pyout",
       "prompt_number": 13,
       "text": [
        "MivecT{Float64}(3.5,4.2)"
       ]
      }
     ],
     "prompt_number": 13
    },
    {
     "cell_type": "code",
     "collapsed": false,
     "input": [
      "v1"
     ],
     "language": "python",
     "metadata": {},
     "outputs": [
      {
       "metadata": {},
       "output_type": "pyout",
       "prompt_number": 14,
       "text": [
        "MivecT{Int64}(1,2)"
       ]
      }
     ],
     "prompt_number": 14
    },
    {
     "cell_type": "code",
     "collapsed": false,
     "input": [
      "v1+v2"
     ],
     "language": "python",
     "metadata": {},
     "outputs": [
      {
       "metadata": {},
       "output_type": "pyout",
       "prompt_number": 15,
       "text": [
        "MivecT{Float64}(4.5,6.2)"
       ]
      }
     ],
     "prompt_number": 15
    },
    {
     "cell_type": "code",
     "collapsed": false,
     "input": [
      "?Complex"
     ],
     "language": "python",
     "metadata": {},
     "outputs": [
      {
       "output_type": "stream",
       "stream": "stderr",
       "text": [
        "INFO: Loading help data...\n"
       ]
      },
      {
       "output_type": "stream",
       "stream": "stdout",
       "text": [
        "DataType   : Complex"
       ]
      },
      {
       "output_type": "stream",
       "stream": "stdout",
       "text": [
        "{T<:Real} (constructor with 3 methods)\n",
        "  supertype: Number\n",
        "  fields   : (:re,:im)\n"
       ]
      }
     ],
     "prompt_number": 16
    },
    {
     "cell_type": "code",
     "collapsed": false,
     "input": [
      "?MivecT"
     ],
     "language": "python",
     "metadata": {},
     "outputs": [
      {
       "output_type": "stream",
       "stream": "stdout",
       "text": [
        "DataType   : MivecT{T} (constructor with 1 method)\n",
        "  supertype: Any\n",
        "  fields   : (:x,:y)\n"
       ]
      }
     ],
     "prompt_number": 17
    },
    {
     "cell_type": "code",
     "collapsed": false,
     "input": [
      "?<:"
     ],
     "language": "python",
     "metadata": {},
     "outputs": [
      {
       "output_type": "stream",
       "stream": "stdout",
       "text": [
        "Base.issubtype(type1, type2)\n",
        "\n",
        "   True if and only if all values of \"type1\" are also of \"type2\".\n",
        "   Can also be written using the \"<:\" infix operator as \"type1 <:\n",
        "   type2\"."
       ]
      },
      {
       "output_type": "stream",
       "stream": "stdout",
       "text": [
        "\n"
       ]
      }
     ],
     "prompt_number": 18
    },
    {
     "cell_type": "code",
     "collapsed": false,
     "input": [
      "MivecT(\"Hola\", \"DonNacho\") + MivecT(\"Eres\", \"Nacho\")"
     ],
     "language": "python",
     "metadata": {},
     "outputs": [
      {
       "ename": "LoadError",
       "evalue": "`+` has no method matching +(::ASCIIString, ::ASCIIString)\nwhile loading In[19], in expression starting on line 1",
       "output_type": "pyerr",
       "traceback": [
        "`+` has no method matching +(::ASCIIString, ::ASCIIString)\nwhile loading In[19], in expression starting on line 1",
        " in + at In[12]:1"
       ]
      }
     ],
     "prompt_number": 19
    },
    {
     "cell_type": "code",
     "collapsed": false,
     "input": [
      "?Float64"
     ],
     "language": "python",
     "metadata": {},
     "outputs": [
      {
       "output_type": "stream",
       "stream": "stdout",
       "text": [
        "DataType   : Float64"
       ]
      },
      {
       "output_type": "stream",
       "stream": "stdout",
       "text": [
        "\n",
        "  supertype: FloatingPoint\n"
       ]
      }
     ],
     "prompt_number": 20
    },
    {
     "cell_type": "code",
     "collapsed": false,
     "input": [
      "?Any"
     ],
     "language": "python",
     "metadata": {},
     "outputs": [
      {
       "output_type": "stream",
       "stream": "stdout",
       "text": [
        "DataType   : Any"
       ]
      },
      {
       "output_type": "stream",
       "stream": "stdout",
       "text": [
        "\n",
        "  supertype: Any\n",
        "  subtypes : "
       ]
      },
      {
       "output_type": "stream",
       "stream": "stdout",
       "text": [
        "{AbstractArray{T,N},AbstractCmd,AbstractREPL,AbstractRNG,Algorithm,Any,Associative{K,V},AsyncWork,Available,BoundingBox,Box,CFILE,CPUinfo,CallStack,ChmCommon,CholmodDense{T<:Union(Float64,Float32,Complex{Float32},Complex{Float64})},CholmodFactor{Tv<:Union(Float64,Float32,Complex{Float32},Complex{Float64}),Ti<:Union(Int64,Int32)},CholmodSparse{Tv<:Union(Float64,Float32,Complex{Float32},Complex{Float64}),Ti<:Union(Int64,Int32)},CholmodTriplet{Tv<:Union(Float64,Float32,Complex{Float32},Complex{Float64}),Ti<:Union(Int64,Int32)},ClusterManager,Colon,Combinations{T},CompletionProvider,Condition,Context,DLMHandler,DSFMT_state,Display,EachLine,EmptyCallStack,Enumerate{I},Exception,Expr,FDEvent,Factorization{T},FieldValue,FileEvent,FileMonitor,FileRedirect,Filter{I},Fixed,FixedPartitions,FixedSetPartitions{T<:AbstractArray{T,1}},Function,Func{N},GetfieldNode,GitVersionInfo,GotoNode,Graph,GraphicsContext,GraphicsDevice,HMACState{T<:HashAlgorithm},HashAlgorithm,HashState{T<:HashAlgorithm},HierarchicalValue{T},HistoryProvider,IO,InetAddr,InputAreaState,IntSet,IntegerPartitions,Interface,IntrinsicFunction,IpAddr,KeyIterator{T<:Associative{K,V}},LabelNode,LambdaStaticData,Line,LineInfo,LineNumberNode,LocalProcess,LongExpr,LongSymbol,LongTuple,MIME{mime},MIState,MaxSumParams,Messages,Method,MethodTable,Mivec,MivecT{T},Module,Msg,NTuple{N,T},NettleHash,NewvarNode,NotFound,Nothing,Number,Ordering,ParserState{T<:String},Permutations{T},Plan{T<:Union(Float64,Float32,Complex{Float32},Complex{Float64})},Prehashed,Process,ProcessChain,ProcessGroup,PromptState,Ptr{T},QuoteNode,REPLBackend,REPLBackendRef,RandIntGen{T<:Integer,U<:Unsigned},RawFD,Regex,RegexMatch,RegexMatchIterator,RemoteRef,RemoteValue,Rest{I,S},Result,Rotation{T},RoundingMode,SearchState,Segment,SetPartitions{T<:AbstractArray{T,1}},Set{T},Socket,SpDiagIterator{Tv,Ti},StatStruct,State,StateUpdate,State{I},StaticVarInfo,String,Symbol,SymbolNode,T...,Task,TextInterface,TmStruct,TopNode,TypeName,TypeVar,Type{T<:Top},UUID,UVPollingWatcher,UVServer,UV_cpu_info_t,UndefRefTag,UniformScaling{T<:Number},VWPreBuild,VWPreBuildItem,ValueIterator{T<:Associative{K,V}},Vec2,VersionInterval,VersionNumber,VersionSet,VersionWeight,WeakRef,Worker,ZeroOffsetVector,Zip2{I1,I2},Zip{I<:(Any...,)},c_CholmodDense{T<:Union(Float64,Float32,Complex{Float32},Complex{Float64})},c_CholmodFactor{Tv<:Union(Float64,Float32,Complex{Float32},Complex{Float64}),Ti<:Union(Int64,Int32)},c_CholmodSparse{Tv<:Union(Float64,Float32,Complex{Float32},Complex{Float64}),Ti<:Union(Int64,Int32)},c_CholmodTriplet{Tv<:Union(Float64,Float32,Complex{Float32},Complex{Float64}),Ti<:Union(Int64,Int32)},dl_phdr_info}\n"
       ]
      }
     ],
     "prompt_number": 21
    },
    {
     "cell_type": "code",
     "collapsed": false,
     "input": [
      "?real"
     ],
     "language": "python",
     "metadata": {},
     "outputs": [
      {
       "output_type": "stream",
       "stream": "stdout",
       "text": [
        "Base.real(z)\n",
        "\n",
        "   Return the real part of the complex number \"z\"\n"
       ]
      }
     ],
     "prompt_number": 22
    },
    {
     "cell_type": "code",
     "collapsed": false,
     "input": [
      "?Real"
     ],
     "language": "python",
     "metadata": {},
     "outputs": [
      {
       "output_type": "stream",
       "stream": "stdout",
       "text": [
        "DataType   : "
       ]
      },
      {
       "output_type": "stream",
       "stream": "stdout",
       "text": [
        "Real\n",
        "  supertype: Number\n",
        "  subtypes : {FloatingPoint,Integer,MathConst{sym},Rational{T<:Integer}}\n"
       ]
      }
     ],
     "prompt_number": 23
    },
    {
     "cell_type": "code",
     "collapsed": false,
     "input": [
      "?Int"
     ],
     "language": "python",
     "metadata": {},
     "outputs": [
      {
       "output_type": "stream",
       "stream": "stdout",
       "text": [
        "DataType   : Int64\n",
        "  supertype: Signed\n"
       ]
      }
     ],
     "prompt_number": 24
    },
    {
     "cell_type": "code",
     "collapsed": false,
     "input": [
      "?Signed"
     ],
     "language": "python",
     "metadata": {},
     "outputs": [
      {
       "output_type": "stream",
       "stream": "stdout",
       "text": [
        "DataType   : Signed"
       ]
      },
      {
       "output_type": "stream",
       "stream": "stdout",
       "text": [
        "\n",
        "  supertype: Integer\n",
        "  subtypes : {Int128,Int16,Int32,Int64,Int8}\n"
       ]
      }
     ],
     "prompt_number": 25
    },
    {
     "cell_type": "code",
     "collapsed": false,
     "input": [
      "?Integer"
     ],
     "language": "python",
     "metadata": {},
     "outputs": [
      {
       "output_type": "stream",
       "stream": "stdout",
       "text": [
        "DataType   : Integer"
       ]
      },
      {
       "output_type": "stream",
       "stream": "stdout",
       "text": [
        "\n",
        "  supertype: Real\n",
        "  subtypes : {BigInt,Bool,Char,Signed,Unsigned}\n"
       ]
      }
     ],
     "prompt_number": 26
    },
    {
     "cell_type": "code",
     "collapsed": false,
     "input": [
      "type Myvec1{T <: FloatingPoint}\n",
      "    x :: T\n",
      "    y :: T\n",
      "end"
     ],
     "language": "python",
     "metadata": {},
     "outputs": [],
     "prompt_number": 1
    },
    {
     "cell_type": "code",
     "collapsed": false,
     "input": [
      "Myvec1(x::Integer, y::Integer) = Myvec1(convert(Float64,x), convert(Float64,y))"
     ],
     "language": "python",
     "metadata": {},
     "outputs": [
      {
       "metadata": {},
       "output_type": "pyout",
       "prompt_number": 7,
       "text": [
        "Myvec1{T<:FloatingPoint} (constructor with 2 methods)"
       ]
      }
     ],
     "prompt_number": 7
    },
    {
     "cell_type": "code",
     "collapsed": false,
     "input": [
      "Myvec1(1,2)"
     ],
     "language": "python",
     "metadata": {},
     "outputs": [
      {
       "metadata": {},
       "output_type": "pyout",
       "prompt_number": 8,
       "text": [
        "Myvec1{Float64}(1.0,2.0)"
       ]
      }
     ],
     "prompt_number": 8
    },
    {
     "cell_type": "code",
     "collapsed": false,
     "input": [
      "#Este es un ejemplo de METAPROGRAMING\n",
      "for op in (:+, :-, :*)\n",
      "    @eval $(op)(a::Mivec1, b::Mivec1) = \n",
      "        Mivec1($(op)(a.x,b.x), $(op)(a.y,b.y))\n",
      "end"
     ],
     "language": "python",
     "metadata": {},
     "outputs": [
      {
       "ename": "LoadError",
       "evalue": "invalid type for argument a in method definition for + at In[29]:3\nwhile loading In[29], in expression starting on line 2",
       "output_type": "pyerr",
       "traceback": [
        "invalid type for argument a in method definition for + at In[29]:3\nwhile loading In[29], in expression starting on line 2",
        " in anonymous at no file:3"
       ]
      }
     ],
     "prompt_number": 29
    },
    {
     "cell_type": "code",
     "collapsed": false,
     "input": [
      "?@eval"
     ],
     "language": "python",
     "metadata": {},
     "outputs": [
      {
       "output_type": "stream",
       "stream": "stdout",
       "text": [
        "Base.@eval()\n",
        "\n",
        "   Evaluate an expression and return the value.\n"
       ]
      }
     ],
     "prompt_number": 30
    },
    {
     "cell_type": "code",
     "collapsed": false,
     "input": [
      "?Mivec1"
     ],
     "language": "python",
     "metadata": {},
     "outputs": [
      {
       "output_type": "stream",
       "stream": "stdout",
       "text": [
        "Mivec1 (generic function with 1 method)\n"
       ]
      }
     ],
     "prompt_number": 31
    },
    {
     "cell_type": "code",
     "collapsed": false,
     "input": [
      "?&"
     ],
     "language": "python",
     "metadata": {},
     "outputs": [
      {
       "output_type": "stream",
       "stream": "stdout",
       "text": [
        "Base.&(x, y)\n",
        "\n",
        "   Bitwise and\n"
       ]
      },
      {
       "output_type": "stream",
       "stream": "stdout",
       "text": [
        "\n",
        "Base.Graphics.&(bb1::BoundingBox, bb2::BoundingBox) -> BoundingBox\n",
        "\n",
        "   Returns the intersection, the largest box contained in both boxes\n"
       ]
      }
     ],
     "prompt_number": 32
    },
    {
     "cell_type": "markdown",
     "metadata": {},
     "source": [
      "###Cosas por hacer:\n",
      "- Mivec1(1.2) -------> Mivec(1.2,0.0)\n",
      "- Mivec1(1,2)+3=3+Mivec1(1,2)---------->Mivec1(4,2)"
     ]
    },
    {
     "cell_type": "code",
     "collapsed": false,
     "input": [],
     "language": "python",
     "metadata": {},
     "outputs": []
    }
   ],
   "metadata": {}
  }
 ]
}