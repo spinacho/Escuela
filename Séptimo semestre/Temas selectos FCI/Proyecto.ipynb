{
 "metadata": {
  "language": "Julia",
  "name": "",
  "signature": "sha256:092d7690e7d30d7e3a62d65c53f7b4e71eab4ac9e3286c62a165361999c906fa"
 },
 "nbformat": 3,
 "nbformat_minor": 0,
 "worksheets": [
  {
   "cells": [
    {
     "cell_type": "markdown",
     "metadata": {},
     "source": [
      "#Modelo din\u00e1mico del sistema solar\n",
      "Vamos a hacer un modelo del sistema solar. Vamos a hacerlo primero (y a\u00fan no se sabe si se imploementar\u00e1 el otro m\u00e9todo) a partir de las ecuaciones de Newton.\n",
      "<p>\n",
      "<p>\n",
      "$$\\vec F=G\\frac{m_1m_2}{(r_{12})^2}\\hat {r_{12}}$$"
     ]
    },
    {
     "cell_type": "markdown",
     "metadata": {},
     "source": [
      "D\u00f3nde $r_{12}$ es el vector que apunta entre dos astros. Vamos a comenzar con un modelo sencillo que s\u00f3lo tome en cuenta a los 8 planetas. Vamos a tener entonces un total de $8$ fuerzas por astro, teniendo un total de $64$ fuerzas por modelar (se tomar\u00e1 al Sol como el origen inm\u00f3vil)."
     ]
    },
    {
     "cell_type": "markdown",
     "metadata": {},
     "source": [
      "Sea $\\vec r_i(t)$ la posici\u00f3n del planeta $i$ al tiempo $t$, tenemos que:\n",
      "$$\\vec {r_{ij}}=\\vec r_j-\\vec r_i = (x_j-x_i, y_j-y_i, z_j-z_i)$$"
     ]
    },
    {
     "cell_type": "markdown",
     "metadata": {},
     "source": [
      "##Primera implementaci\u00f3n: m\u00e9todo de Euler.\n",
      "Vamos a partir del m\u00e9todo de Euler, para cada variable tenemos que:\n",
      "$$x^{i,j}_{n+1}=x^{i,j}_n+h*f$$"
     ]
    },
    {
     "cell_type": "markdown",
     "metadata": {},
     "source": [
      "D\u00f3nde:\n",
      "$$f=\\dot x^{i,j}$$"
     ]
    },
    {
     "cell_type": "markdown",
     "metadata": {},
     "source": [
      "De las ecuaciones de Newton tenemos que:\n",
      "$$\\ddot{\\vec r_i}=G\\sum_{k\\neq i}\\frac{m_k}{(r_{ik})^3}(\\vec r_k-\\vec r_i)$$"
     ]
    },
    {
     "cell_type": "markdown",
     "metadata": {},
     "source": [
      "Para el modelo vamos a tomar las distancias en unidades astron\u00f3micas (para evitar errores de precisi\u00f3n de la m\u00e1quina)."
     ]
    },
    {
     "cell_type": "markdown",
     "metadata": {},
     "source": [
      "Checar Jacques Laskar\n",
      "<p>Exosolar encyclopedia => checar el efecto D\u00f6ppler a partir del movimiento de los planetas, jugar con esto"
     ]
    },
    {
     "cell_type": "markdown",
     "metadata": {},
     "source": [
      "###Primer modelo: sistema solar monoplanetario\n",
      "Vamos a tomar un sistema en el cual s\u00f3lo se tenga al sol con un planeta."
     ]
    },
    {
     "cell_type": "code",
     "collapsed": false,
     "input": [
      "using SymPy"
     ],
     "language": "python",
     "metadata": {},
     "outputs": [
      {
       "output_type": "stream",
       "stream": "stderr",
       "text": [
        "Warning: imported binding for transpose overwritten in module __anon__\n"
       ]
      }
     ],
     "prompt_number": 3
    },
    {
     "cell_type": "markdown",
     "metadata": {},
     "source": [
      "Vamos a modelar el sistema utilizando la Lagrangiana del sistema y utilizando las ecuaciones de Euler-Lagrange. Vamos a tomar a $\\vec r$ como la posici\u00f3n del planeta, con componentes $x(t),\\  y(t)$ y $z(t)$."
     ]
    },
    {
     "cell_type": "code",
     "collapsed": false,
     "input": [
      "t=Sym(\"t\")\n",
      "\u03bc=Sym(\"mu\")\n",
      "x=SymFunction(\"x\")(t)\n",
      "y=SymFunction(\"y\")(t)\n",
      "r=(x,y)\n",
      "vx=diff(x,t)\n",
      "vy=diff(y,t)\n",
      "ax=diff(x,t,2)\n",
      "ay=diff(y,t,2);"
     ],
     "language": "python",
     "metadata": {},
     "outputs": [],
     "prompt_number": 43
    },
    {
     "cell_type": "code",
     "collapsed": false,
     "input": [
      "T=SymFunction(\"T\")(t)\n",
      "U=SymFunction(\"U\")(t)\n",
      "L=SymFunction(\"H\")(t);"
     ],
     "language": "python",
     "metadata": {},
     "outputs": [],
     "prompt_number": 27
    },
    {
     "cell_type": "code",
     "collapsed": false,
     "input": [
      "T=(1//2)*\u03bc*(vx^2+vy^2)\n",
      "U=1/sqrt(x^2+y^2)\n",
      "L=T-U;"
     ],
     "language": "python",
     "metadata": {},
     "outputs": [],
     "prompt_number": 46
    },
    {
     "cell_type": "markdown",
     "metadata": {},
     "source": [
      "Con las ecuaciones de Euler-Lagrange:\n",
      "$$\\frac{d}{dt}\\frac{\\partial L}{\\partial \\dot q_i}-\\frac{\\partial L}{\\partial q_i}=0$$"
     ]
    },
    {
     "cell_type": "code",
     "collapsed": false,
     "input": [
      "L_dx=diff(L,vx)\n",
      "L_dy=diff(L,vy)\n",
      "L_x=diff(L,x)\n",
      "L_y=diff(L,y)\n",
      "L_xt=diff(L_dx,t)\n",
      "L_yt=diff(L_dy,t);"
     ],
     "language": "python",
     "metadata": {},
     "outputs": [],
     "prompt_number": 47
    },
    {
     "cell_type": "code",
     "collapsed": false,
     "input": [
      "eq1=L_xt-L_x\n",
      "eq2=L_yt-L_y;"
     ],
     "language": "python",
     "metadata": {},
     "outputs": [],
     "prompt_number": 48
    },
    {
     "cell_type": "code",
     "collapsed": false,
     "input": [
      "eq1=subs(eq1,diff(x,t,2),ax)\n",
      "eq2=subs(eq2,diff(y,t,2),ay);"
     ],
     "language": "python",
     "metadata": {},
     "outputs": [],
     "prompt_number": 49
    },
    {
     "cell_type": "code",
     "collapsed": false,
     "input": [
      "eq1"
     ],
     "language": "python",
     "metadata": {},
     "outputs": [
      {
       "latex": [
        "$$\\mu \\frac{d^{2}}{d t^{2}}  x{\\left (t \\right )} - \\frac{x{\\left (t \\right )}}{\\left(x^{2}{\\left (t \\right )} + y^{2}{\\left (t \\right )}\\right)^{\\frac{3}{2}}}$$"
       ],
       "metadata": {},
       "output_type": "pyout",
       "prompt_number": 50,
       "text": [
        "     2                           \n",
        "    d                 x(t)       \n",
        "mu*---(x(t)) - ------------------\n",
        "     2                        3/2\n",
        "   dt          / 2       2   \\   \n",
        "               \\x (t) + y (t)/   "
       ]
      }
     ],
     "prompt_number": 50
    },
    {
     "cell_type": "code",
     "collapsed": false,
     "input": [
      "eq2"
     ],
     "language": "python",
     "metadata": {},
     "outputs": [
      {
       "latex": [
        "$$\\mu \\frac{d^{2}}{d t^{2}}  y{\\left (t \\right )} - \\frac{y{\\left (t \\right )}}{\\left(x^{2}{\\left (t \\right )} + y^{2}{\\left (t \\right )}\\right)^{\\frac{3}{2}}}$$"
       ],
       "metadata": {},
       "output_type": "pyout",
       "prompt_number": 51,
       "text": [
        "     2                           \n",
        "    d                 y(t)       \n",
        "mu*---(y(t)) - ------------------\n",
        "     2                        3/2\n",
        "   dt          / 2       2   \\   \n",
        "               \\x (t) + y (t)/   "
       ]
      }
     ],
     "prompt_number": 51
    },
    {
     "cell_type": "code",
     "collapsed": false,
     "input": [
      "xddot(t)=subs(solve(eq1,ax),t)"
     ],
     "language": "python",
     "metadata": {},
     "outputs": [
      {
       "metadata": {},
       "output_type": "pyout",
       "prompt_number": 59,
       "text": [
        "xddot (generic function with 1 method)"
       ]
      }
     ],
     "prompt_number": 59
    },
    {
     "cell_type": "code",
     "collapsed": false,
     "input": [
      "solve(eq1,ax)"
     ],
     "language": "python",
     "metadata": {},
     "outputs": [
      {
       "latex": [
        "\\begin{bmatrix}\\frac{x{\\left (t \\right )}}{\\mu \\left(x^{2}{\\left (t \\right )} + y^{2}{\\left (t \\right )}\\right)^{\\frac{3}{2}}}\\end{bmatrix}"
       ],
       "metadata": {},
       "output_type": "pyout",
       "prompt_number": 62,
       "text": [
        "1-element Array{Sym,1}:\n",
        "          x(t)        \n",
        "---------------------\n",
        "                  3/2\n",
        "   / 2       2   \\   \n",
        "mu*\\x (t) + y (t)/   "
       ]
      }
     ],
     "prompt_number": 62
    },
    {
     "cell_type": "code",
     "collapsed": false,
     "input": [],
     "language": "python",
     "metadata": {},
     "outputs": []
    }
   ],
   "metadata": {}
  }
 ]
}