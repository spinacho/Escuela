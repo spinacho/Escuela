{
 "metadata": {
  "language": "Julia",
  "name": "",
  "signature": "sha256:0be8c77812531e512579c130caf3f3b73e430c1d774bfa47016b7ce3416eb13f"
 },
 "nbformat": 3,
 "nbformat_minor": 0,
 "worksheets": [
  {
   "cells": [
    {
     "cell_type": "markdown",
     "metadata": {},
     "source": [
      "#### WI-FI: SSID: Lab-4\n",
      "#### Password: XSd4z@E2\n",
      "<p> benet@fis.unam.mx\n",
      "ext 27782 (Cuernavaca a partir del Mi\u00e9rcoles)\n",
      "#La funci\u00f3n *git*\n",
      "\n",
      "<p>Vamos a ver que pasa cuando utilizamos el comando *git* en el bash, el cual sirve para seguir los cambios que se van haciendo en otro archivo.\n",
      "<p>**git-scm-com/book**\n",
      "<p>**think-like-a-git.-net/** \n",
      "<p>Primero hay que utilizar *git init* para crear el archivo git, el cual nos va a permitir seguir todos los cambios que se le van haciendo a los archivos. \n",
      "<p>Utilizamos *git add archivo* para a\u00f1adir el archivo al git, y luego con *git commit -m* modificamos el log del git para poder escribir qu\u00e9 cambios se han hecho. \n",
      "<p>*git diff archivo* sirve para mostrarnos los cambios que se han hecho entre las diferentes versiones del archivo.\n",
      "<p>Finalmente, *git log* nos permite ver el log entero de los archivos que hemos a\u00f1adido al archivo git. \n",
      "<p>Utilizamos el comando *git checkout -b nombre*, hacemos una nueva l\u00ednea (o nos cambiamos auna existente) en la cual podemos modificar el archivo como en paralelo a la l\u00ednea principal, o \"master branch\".\n",
      "<p>Para saber que ramas hay, utilizamos *git branch*, y la estrella nos marca en que rama estamos actualmente. *git branch -d nombre* borra toda la branch **nombre**.\n",
      "<p>Si queremos checar c\u00f3mo funciona un comando de git, utilizamos *git help* ***command***.\n",
      "<p>Para juntar las l\u00edneas, uilziamos el comando *git merge (l\u00ednea que vamos a a\u00f1adir a la principal)*.\n",
      "*git status* sirve para checar si \"est\u00e1 limpio\", sea que ya agregamos todos los cambios que se han hecho al log de git.\n"
     ]
    },
    {
     "cell_type": "code",
     "collapsed": false,
     "input": [],
     "language": "python",
     "metadata": {},
     "outputs": []
    }
   ],
   "metadata": {}
  }
 ]
}