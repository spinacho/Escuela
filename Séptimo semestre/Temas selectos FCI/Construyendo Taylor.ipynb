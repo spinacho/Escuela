{
 "metadata": {
  "language": "Julia",
  "name": "",
  "signature": "sha256:9940f551f4ffbb529ca038c92cc0ebf5f0ed90f40f420b9a0738b7d906f933b0"
 },
 "nbformat": 3,
 "nbformat_minor": 0,
 "worksheets": [
  {
   "cells": [
    {
     "cell_type": "code",
     "collapsed": false,
     "input": [
      "type Taylor{T<:Number}\n",
      "    coeffs::Array{T,1}\n",
      "    order :: Int\n",
      "    #constructor interno\n",
      "    function Taylor(coeffs::Array{T,1},order::Int)\n",
      "        ll=length(coeffs)\n",
      "        order=max(ll-1,order)\n",
      "        v=zeros(T,order+1)\n",
      "        v[1:ll]=coeffs[1:ll] #lo cual equivale a:\n",
      "        #for i in 0:ll\n",
      "        #    v[i]=coeffs[i]\n",
      "        #end\n",
      "        new(v,order)\n",
      "    end\n",
      "end"
     ],
     "language": "python",
     "metadata": {},
     "outputs": [],
     "prompt_number": 1
    },
    {
     "cell_type": "markdown",
     "metadata": {},
     "source": [
      "Pero queremos que nos construya un arreglo de dimensi\u00f3n *order*+1. Para eso est\u00e1 el constructor interno, el cual a partir de la funci\u00f3n *new* va a remplazar al vector que hubiera salido del *type*."
     ]
    },
    {
     "cell_type": "code",
     "collapsed": false,
     "input": [
      "Taylor([0],8)"
     ],
     "language": "python",
     "metadata": {},
     "outputs": [
      {
       "ename": "LoadError",
       "evalue": "`Taylor{T<:Number}` has no method matching Taylor{T<:Number}(::Array{Int64,1}, ::Int64)\nwhile loading In[2], in expression starting on line 1",
       "output_type": "pyerr",
       "traceback": [
        "`Taylor{T<:Number}` has no method matching Taylor{T<:Number}(::Array{Int64,1}, ::Int64)\nwhile loading In[2], in expression starting on line 1",
        ""
       ]
      }
     ],
     "prompt_number": 2
    },
    {
     "cell_type": "code",
     "collapsed": false,
     "input": [
      "Taylor{Int}([0],8)"
     ],
     "language": "python",
     "metadata": {},
     "outputs": [
      {
       "metadata": {},
       "output_type": "pyout",
       "prompt_number": 3,
       "text": [
        "Taylor{Int64}([0,0,0,0,0,0,0,0,0],8)"
       ]
      }
     ],
     "prompt_number": 3
    },
    {
     "cell_type": "code",
     "collapsed": false,
     "input": [
      "#Constructor externo\n",
      "Taylor{T<:Number}(v::Array{T,1}, n::Int)=Taylor{T}(v,n)\n",
      "Taylor{T<:Number}(v::Array{T,1})=Taylor{T}(v,0)\n",
      "Taylor{T<:Number}(c::T, n::Int)=Taylor{T}([c],n)\n",
      "Taylor{T<:Number}(c::T)=Taylor{T}([c],0)\n",
      "Taylor{T<:Number}(t::Taylor{T},n::Int)=Taylor{T}(t.coeffs, n)\n",
      "Taylor{T<:Number}(t::Taylor{T})=Taylor{T}(t.coeffs, 0)"
     ],
     "language": "python",
     "metadata": {},
     "outputs": [
      {
       "metadata": {},
       "output_type": "pyout",
       "prompt_number": 4,
       "text": [
        "Taylor{T<:Number} (constructor with 6 methods)"
       ]
      }
     ],
     "prompt_number": 4
    },
    {
     "cell_type": "code",
     "collapsed": false,
     "input": [
      "Taylor([0],8)"
     ],
     "language": "python",
     "metadata": {},
     "outputs": [
      {
       "metadata": {},
       "output_type": "pyout",
       "prompt_number": 5,
       "text": [
        "Taylor{Int64}([0,0,0,0,0,0,0,0,0],8)"
       ]
      }
     ],
     "prompt_number": 5
    },
    {
     "cell_type": "code",
     "collapsed": false,
     "input": [
      "Taylor([0+0im],8)"
     ],
     "language": "python",
     "metadata": {},
     "outputs": [
      {
       "metadata": {},
       "output_type": "pyout",
       "prompt_number": 6,
       "text": [
        "Taylor{Complex{Int64}}(Complex{Int64}[0+0im,0+0im,0+0im,0+0im,0+0im,0+0im,0+0im,0+0im,0+0im],8)"
       ]
      }
     ],
     "prompt_number": 6
    },
    {
     "cell_type": "code",
     "collapsed": false,
     "input": [
      "Taylor(1,5)"
     ],
     "language": "python",
     "metadata": {},
     "outputs": [
      {
       "metadata": {},
       "output_type": "pyout",
       "prompt_number": 7,
       "text": [
        "Taylor{Int64}([1,0,0,0,0,0],5)"
       ]
      }
     ],
     "prompt_number": 7
    },
    {
     "cell_type": "code",
     "collapsed": false,
     "input": [
      "Taylor(ans,8)"
     ],
     "language": "python",
     "metadata": {},
     "outputs": [
      {
       "metadata": {},
       "output_type": "pyout",
       "prompt_number": 8,
       "text": [
        "Taylor{Int64}([1,0,0,0,0,0,0,0,0],8)"
       ]
      }
     ],
     "prompt_number": 8
    },
    {
     "cell_type": "code",
     "collapsed": false,
     "input": [
      "Taylor([0,1.0],5)"
     ],
     "language": "python",
     "metadata": {},
     "outputs": [
      {
       "metadata": {},
       "output_type": "pyout",
       "prompt_number": 9,
       "text": [
        "Taylor{Float64}([0.0,1.0,0.0,0.0,0.0,0.0],5)"
       ]
      }
     ],
     "prompt_number": 9
    },
    {
     "cell_type": "code",
     "collapsed": false,
     "input": [
      "function +(f::Taylor,g::Taylor)\n",
      "    m=max(f.order,g.order)\n",
      "    if m==f.order\n",
      "        g=Taylor(g,m)\n",
      "    else\n",
      "        f=Taylor(f,m)\n",
      "    end\n",
      "    Taylor(f.coeffs+g.coeffs,m)\n",
      "end\n",
      "+(f::Taylor)=f\n",
      "+(c::Number,f::Taylor)=Taylor(c)+f\n",
      "+(f::Taylor,c::Number)=f+Taylor(c)\n",
      "function -(f::Taylor,g::Taylor)\n",
      "    fcoeffs,g=promote\n",
      "    m=max(f.order,g.order)\n",
      "    if m==f.order\n",
      "        g=Taylor(g,m)\n",
      "    else\n",
      "        f=Taylor(f,m)\n",
      "    end\n",
      "    #eltype(f.coeffs) para optimizar la suma con los mismos tipos\n",
      "    Taylor(f.coeffs-g.coeffs,m)\n",
      "end\n",
      "-(f::Taylor)=Taylor(-f.coeffs,f.order)\n",
      "-(c::Number,f::Taylor)=Taylor(c)-f\n",
      "-(f::Taylor,c::Number)=f-Taylor(c)"
     ],
     "language": "python",
     "metadata": {},
     "outputs": [
      {
       "metadata": {},
       "output_type": "pyout",
       "prompt_number": 25,
       "text": [
        "- (generic function with 141 methods)"
       ]
      }
     ],
     "prompt_number": 25
    },
    {
     "cell_type": "code",
     "collapsed": false,
     "input": [
      "a=Taylor(1)"
     ],
     "language": "python",
     "metadata": {},
     "outputs": [
      {
       "metadata": {},
       "output_type": "pyout",
       "prompt_number": 11,
       "text": [
        "Taylor{Int64}([1],0)"
       ]
      }
     ],
     "prompt_number": 11
    },
    {
     "cell_type": "code",
     "collapsed": false,
     "input": [
      "b=Taylor([0.0,1.0])"
     ],
     "language": "python",
     "metadata": {},
     "outputs": [
      {
       "metadata": {},
       "output_type": "pyout",
       "prompt_number": 12,
       "text": [
        "Taylor{Float64}([0.0,1.0],1)"
       ]
      }
     ],
     "prompt_number": 12
    },
    {
     "cell_type": "code",
     "collapsed": false,
     "input": [
      "a+b"
     ],
     "language": "python",
     "metadata": {},
     "outputs": [
      {
       "metadata": {},
       "output_type": "pyout",
       "prompt_number": 13,
       "text": [
        "Taylor{Float64}([1.0,1.0],1)"
       ]
      }
     ],
     "prompt_number": 13
    },
    {
     "cell_type": "code",
     "collapsed": false,
     "input": [
      "b.coeffs"
     ],
     "language": "python",
     "metadata": {},
     "outputs": [
      {
       "metadata": {},
       "output_type": "pyout",
       "prompt_number": 14,
       "text": [
        "2-element Array{Float64,1}:\n",
        " 0.0\n",
        " 1.0"
       ]
      }
     ],
     "prompt_number": 14
    },
    {
     "cell_type": "code",
     "collapsed": false,
     "input": [
      "function *(f::Taylor, g::Taylor)\n",
      "    m=max(f.order,g.order)\n",
      "        if m==f.order #f,g=Taylor(f,m),Taylor(g,m)\n",
      "        g=Taylor(g,m)\n",
      "    else\n",
      "        f=Taylor(f,m)\n",
      "    end\n",
      "    T=promote_type(eltype(f.coeffs),eltype(g.coeffs))\n",
      "    v=zeros(T,m+1)\n",
      "    for ord = 0:m\n",
      "        suma=zero(T)\n",
      "        for n=0:ord\n",
      "            suma+=f.coeffs[n+1]*g.coeffs[ord-n+1]\n",
      "        end\n",
      "        v[ord+1]=suma\n",
      "    end\n",
      "    Taylor(v, m)\n",
      "end\n",
      "*(f::Taylor,c::Number)=Taylor(c*f.coeffs, f.order)\n",
      "*(c::Number,f::Taylor)=Taylor(c*f.coeffs, f.order)"
     ],
     "language": "python",
     "metadata": {},
     "outputs": [
      {
       "metadata": {},
       "output_type": "pyout",
       "prompt_number": 26,
       "text": [
        "* (generic function with 129 methods)"
       ]
      }
     ],
     "prompt_number": 26
    },
    {
     "cell_type": "code",
     "collapsed": false,
     "input": [
      "Taylor([1,1])*Taylor([1.0,-1.0])"
     ],
     "language": "python",
     "metadata": {},
     "outputs": [
      {
       "metadata": {},
       "output_type": "pyout",
       "prompt_number": 16,
       "text": [
        "Taylor{Float64}([1.0,0.0],1)"
       ]
      }
     ],
     "prompt_number": 16
    },
    {
     "cell_type": "code",
     "collapsed": false,
     "input": [
      "Taylor([1,1],2)*Taylor([1.0,-1.0],2)"
     ],
     "language": "python",
     "metadata": {},
     "outputs": [
      {
       "metadata": {},
       "output_type": "pyout",
       "prompt_number": 17,
       "text": [
        "Taylor{Float64}([1.0,0.0,-1.0],2)"
       ]
      }
     ],
     "prompt_number": 17
    },
    {
     "cell_type": "code",
     "collapsed": false,
     "input": [
      "function /(f::Taylor, g::Taylor)\n",
      "    m=max(f.order,g.order)\n",
      "    if g.coeffs[1]==0\n",
      "        return println(\"Divisi\u00f3n por cero!\")\n",
      "    end\n",
      "        if m==f.order #f,g=Taylor(f,m),Taylor(g,m)\n",
      "        g=Taylor(g,m)\n",
      "    else\n",
      "        f=Taylor(f,m)\n",
      "    end\n",
      "    T=promote_type(eltype(f.coeffs),eltype(g.coeffs))\n",
      "    v=zeros(T,m+1)\n",
      "    for i in 0:m\n",
      "        v[i+1]=(1/g.coeffs[1])*(f.coeffs[i+1]-sum([v[n+1]*g.coeffs[i-n+1] for n in 0:i-1]))\n",
      "    end\n",
      "    Taylor(v, m)\n",
      "end\n",
      "/(f::Taylor,c::Number)=f*inv(c)\n",
      "/(c::Number,f::Taylor)=Taylor(c)/f"
     ],
     "language": "python",
     "metadata": {},
     "outputs": [
      {
       "metadata": {},
       "output_type": "pyout",
       "prompt_number": 27,
       "text": [
        "/ (generic function with 53 methods)"
       ]
      }
     ],
     "prompt_number": 27
    },
    {
     "cell_type": "code",
     "collapsed": false,
     "input": [
      "Taylor([1])/Taylor([1,-1])"
     ],
     "language": "python",
     "metadata": {},
     "outputs": [
      {
       "metadata": {},
       "output_type": "pyout",
       "prompt_number": 19,
       "text": [
        "Taylor{Int64}([1,1],1)"
       ]
      }
     ],
     "prompt_number": 19
    },
    {
     "cell_type": "code",
     "collapsed": false,
     "input": [
      "1/Taylor([1,-1],10)"
     ],
     "language": "python",
     "metadata": {},
     "outputs": [
      {
       "metadata": {},
       "output_type": "pyout",
       "prompt_number": 20,
       "text": [
        "Taylor{Int64}([1,1,1,1,1,1,1,1,1,1,1],10)"
       ]
      }
     ],
     "prompt_number": 20
    },
    {
     "cell_type": "code",
     "collapsed": false,
     "input": [
      "b"
     ],
     "language": "python",
     "metadata": {},
     "outputs": [
      {
       "metadata": {},
       "output_type": "pyout",
       "prompt_number": 21,
       "text": [
        "Taylor{Float64}([0.0,1.0],1)"
       ]
      }
     ],
     "prompt_number": 21
    },
    {
     "cell_type": "code",
     "collapsed": false,
     "input": [
      "b/a"
     ],
     "language": "python",
     "metadata": {},
     "outputs": [
      {
       "metadata": {},
       "output_type": "pyout",
       "prompt_number": 22,
       "text": [
        "Taylor{Float64}([0.0,1.0],1)"
       ]
      }
     ],
     "prompt_number": 22
    },
    {
     "cell_type": "code",
     "collapsed": false,
     "input": [
      "(1,2,3)"
     ],
     "language": "python",
     "metadata": {},
     "outputs": [
      {
       "metadata": {},
       "output_type": "pyout",
       "prompt_number": 23,
       "text": [
        "(1,2,3)"
       ]
      }
     ],
     "prompt_number": 23
    },
    {
     "cell_type": "code",
     "collapsed": false,
     "input": [],
     "language": "python",
     "metadata": {},
     "outputs": []
    }
   ],
   "metadata": {}
  }
 ]
}