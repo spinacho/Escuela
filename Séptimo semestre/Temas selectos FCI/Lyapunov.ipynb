{
 "metadata": {
  "language": "Julia",
  "name": "",
  "signature": "sha256:97bfd50d6a9794c2c208b2ca79d5b071739baadc1a792b9786d9118a2aba97dc"
 },
 "nbformat": 3,
 "nbformat_minor": 0,
 "worksheets": [
  {
   "cells": [
    {
     "cell_type": "markdown",
     "metadata": {},
     "source": [
      "Vamos a buscar radios de Lyapunov para nuestro sistema."
     ]
    },
    {
     "cell_type": "code",
     "collapsed": false,
     "input": [
      "include (\"TaylorIntegration.jl\");"
     ],
     "language": "python",
     "metadata": {},
     "outputs": [
      {
       "output_type": "stream",
       "stream": "stderr",
       "text": [
        "INFO: Loading help data...\n"
       ]
      },
      {
       "output_type": "stream",
       "stream": "stdout",
       "text": [
        "Por default se tomaron orderMax=18 y epsilon=1.0e-20\n"
       ]
      }
     ],
     "prompt_number": 1
    },
    {
     "cell_type": "code",
     "collapsed": false,
     "input": [
      "funciones()"
     ],
     "language": "python",
     "metadata": {},
     "outputs": [
      {
       "metadata": {},
       "output_type": "pyout",
       "prompt_number": 2,
       "text": [
        "\"TaylorIntegrator, graficadora_cuerpos, graficadora_energias, TaylorStepper\""
       ]
      }
     ],
     "prompt_number": 2
    },
    {
     "cell_type": "code",
     "collapsed": false,
     "input": [
      ";cat TaylorIntegration.jl"
     ],
     "language": "python",
     "metadata": {},
     "outputs": [
      {
       "output_type": "stream",
       "stream": "stdout",
       "text": [
        "type Taylor{T<:Number}\n",
        "    coeffs::Array{T,1}\n",
        "    order :: Int\n",
        "    #constructor interno\n",
        "    function Taylor(coeffs::Array{T,1},order::Int)\n",
        "        ll=length(coeffs)\n",
        "        order=max(ll-1,order)\n",
        "        v=zeros(T,order+1)\n",
        "        v[1:ll]=coeffs[1:ll]\n",
        "        new(v,order)\n",
        "    end\n",
        "end\n",
        "\n",
        "Taylor{T<:Number}(v::Array{T,1}, n::Int)=Taylor{T}(v,n)\n",
        "Taylor{T<:Number}(v::Array{T,1})=Taylor{T}(v,0)\n",
        "Taylor{T<:Number}(c::T, n::Int)=Taylor{T}([c],n)\n",
        "Taylor{T<:Number}(c::T)=Taylor{T}([c],0)\n",
        "Taylor{T<:Number}(t::Taylor{T},n::Int)=Taylor{T}(t.coeffs, n)\n",
        "Taylor{T<:Number}(t::Taylor{T})=Taylor{T}(t.coeffs, 0)\n",
        "\n",
        "function +(f::Taylor,g::Taylor)\n",
        "    m=max(f.order,g.order)\n",
        "    if m==f.order\n",
        "        g=Taylor(g,m)\n",
        "    else\n",
        "        f=Taylor(f,m)\n",
        "    end\n",
        "    Taylor(f.coeffs+g.coeffs,m)\n",
        "end\n",
        "+(f::Taylor)=f\n",
        "+(c::Number,f::Taylor)=Taylor(c)+f\n",
        "+(f::Taylor,c::Number)=f+Taylor(c)\n",
        "\n",
        "function -(f::Taylor,g::Taylor)\n",
        "    f.coeffs,g.coeffs=promote(f.coeffs,g.coeffs)\n",
        "    m=max(f.order,g.order)\n",
        "    if m==f.order\n",
        "        g=Taylor(g,m)\n",
        "    else\n",
        "        f=Taylor(f,m)\n",
        "    end\n",
        "    Taylor(f.coeffs-g.coeffs,m)\n",
        "end\n",
        "-(f::Taylor)=Taylor(-f.coeffs,f.order)\n",
        "-(c::Number,f::Taylor)=Taylor(c)-f\n",
        "-(f::Taylor,c::Number)=f-Taylor(c)\n",
        "\n",
        "function *(f::Taylor, g::Taylor)\n",
        "    m=max(f.order,g.order)\n",
        "        if m==f.order #f,g=Taylor(f,m),Taylor(g,m)\n",
        "        g=Taylor(g,m)\n",
        "    else\n",
        "        f=Taylor(f,m)\n",
        "    end\n",
        "    T=promote_type(eltype(f.coeffs),eltype(g.coeffs))\n",
        "    v=zeros(T,m+1)\n",
        "    for ord = 0:m\n",
        "        suma=zero(T)\n",
        "        for n=0:ord\n",
        "            suma+=f.coeffs[n+1]*g.coeffs[ord-n+1]\n",
        "        end\n",
        "        v[ord+1]=suma\n",
        "    end\n",
        "    Taylor(v, m)\n",
        "end\n",
        "*(f::Taylor,c::Number)=Taylor(c*f.coeffs, f.order)\n",
        "*(c::Number,f::Taylor)=Taylor(c*f.coeffs, f.order)\n",
        "\n",
        "function *(f::Taylor,G::Array)\n",
        "  [f*g for g in G]\n",
        "end\n",
        "\n",
        "function /(f::Taylor, g::Taylor)\n",
        "    m=max(f.order,g.order)\n",
        "    if g.coeffs[1]==0\n",
        "        return println(\"Divisi\u00f3n por cero!\")\n",
        "    end\n",
        "        if m==f.order #f,g=Taylor(f,m),Taylor(g,m)\n",
        "        g=Taylor(g,m)\n",
        "    else\n",
        "        f=Taylor(f,m)\n",
        "    end\n",
        "    T=promote_type(eltype(f.coeffs),eltype(g.coeffs))\n",
        "    v=zeros(T,m+1)\n",
        "    for i in 0:m\n",
        "        v[i+1]=(1/g.coeffs[1])*(f.coeffs[i+1]-sum([v[n+1]*g.coeffs[i-n+1] for n in 0:i-1]))\n",
        "    end\n",
        "    Taylor(v, m)\n",
        "end\n",
        "/(f::Taylor,c::Number)=f*inv(c)\n",
        "/(c::Number,f::Taylor)=Taylor(c)/f\n",
        "import Base.sqrt\n",
        "function sqrt(f::Taylor)\n",
        "    if f.coeffs[1]<0\n",
        "        error(\"Ra\u00edz negativa\")\n",
        "    end\n",
        "    m=f.order\n",
        "    v=zeros(Float64,m+1)\n",
        "    v[1]=sqrt(f.coeffs[1])\n",
        "    cte=0.5/v[1]\n",
        "    for i in 1:m #vamos a ir sacando el coeficiente v[i+1], el cual corresponde a p_i\n",
        "        if iseven(i) #i es par\n",
        "            s=(i-2)/2\n",
        "            suma=sum([v[j+1]*v[i-j+1] for j in 1:s])\n",
        "            v[i+1]=cte*(f.coeffs[i+1]-2*suma-(v[(i/2)+1]^2))\n",
        "        else\n",
        "            s=(i-1)/2\n",
        "            suma=sum([v[j+1]*v[i-j+1] for j in 1:s])\n",
        "            v[i+1]=cte*(f.coeffs[i+1]-2*suma)\n",
        "        end\n",
        "    end\n",
        "    Taylor(v,m)\n",
        "end\n",
        "function ^(f::Taylor,n::Integer)\n",
        "  if n==1\n",
        "    return f\n",
        "  end\n",
        "  g=f\n",
        "  for i in 2:n\n",
        "    g=g*f\n",
        "  end\n",
        "  g\n",
        "end\n",
        "\n",
        "using PyPlot\n",
        "\n",
        "R(i,j,Q)=sqrt((Q[3i-2]-Q[3j-2])^2+(Q[3i-1]-Q[3j-1])^2+(Q[3i]-Q[3j])^2)\n",
        "\n",
        "R_3(i,j,Q)=1/(R(i,j,Q)^3)\n",
        "\n",
        "function accel(Q,M,i,j)\n",
        "    #Esta funcion saca la aceleraci\u00f3n que siente j debido a i\n",
        "    if i==j\n",
        "        [0,0,0]\n",
        "    else\n",
        "        (M[i]*R_3(i,j,Q))*[Q[3i-2]-Q[3j-2],Q[3i-1]-Q[3j-1],Q[3i]-Q[3j]]\n",
        "    end\n",
        "end\n",
        "\n",
        "function total_accel(Q,M,j,n)\n",
        "    sum([accel(Q,M,s,j) for s in 1:n])\n",
        "end\n",
        "\n",
        "function sistema(Q,M,n=length(M))\n",
        "    A=Any[]\n",
        "    for i in 1:n\n",
        "        T=total_accel(Q,M,i,n)\n",
        "        push!(A,T[1],T[2],T[3])\n",
        "    end\n",
        "    A\n",
        "end\n",
        "\n",
        "function pars_pot(Q,M,i,j)\n",
        "    #Esta funcion saca la energ\u00eda potencial que tiene j debido a i\n",
        "    if i==j\n",
        "        0\n",
        "    else\n",
        "        -M[i]*M[j]/R(i,j,Q)\n",
        "    end\n",
        "end\n",
        "\n",
        "function total_pot(Q,M,j,n=length(M))\n",
        "    sum([pars_pot(Q,M,s,j) for s in 1:n])\n",
        "end\n",
        "\n",
        "function system_inst_pot(t,Q,V,M,n=length(M))\n",
        "    A=Float64[]\n",
        "    for i in 1:n\n",
        "        T=total_pot(Q,M,i,n)\n",
        "        push!(A,T)\n",
        "    end\n",
        "    sum(A)/2\n",
        "end\n",
        "\n",
        "function kinetic(t,Q,V,M,n=length(M))\n",
        "    V2=[V[3i-2]^2+V[3i-1]^2+V[3i]^2 for i in 1:n]\n",
        "    K=[0.5*M[i]*V2[i] for i in 1:n]\n",
        "    sum(K)\n",
        "end\n",
        "\n",
        "function NextTaylors(f::Function,Q0,V0,M,n)\n",
        "    coords=3n\n",
        "    Q=[Float64[Q0[i]] for i in 1:coords]\n",
        "    V=[Float64[V0[i]] for i in 1:coords]\n",
        "    for ord in 1:orderMax\n",
        "        Q0=[Taylor(Q[i]) for i in 1:coords]\n",
        "        V0=[Taylor(V[i]) for i in 1:coords]\n",
        "        C1=[f(Q0,M,n)[i].coeffs[ord]/ord for i in 1:coords]\n",
        "        c2=[V[i][ord]/ord for i in 1:coords]\n",
        "        for i in 1:coords\n",
        "            push!(V[i],C1[i])\n",
        "            push!(Q[i],c2[i])\n",
        "        end\n",
        "    end\n",
        "    Q,V\n",
        "end\n",
        "\n",
        "function TimeStep(Q,V,t0=false,tmax=false)\n",
        "    MINS_TOT=Float64[]\n",
        "    m=length(Q)\n",
        "    for i in 1:m\n",
        "        MINS_COORD=Float64[]\n",
        "        pot=inv(orderMax)\n",
        "        if V[i][end]==0\n",
        "        else\n",
        "            push!(MINS_COORD,(epsilon/abs(V[i][end]))^pot)\n",
        "        end\n",
        "        if Q[i][end]==0\n",
        "        else\n",
        "            push!(MINS_COORD,(epsilon/abs(Q[i][end]))^pot)\n",
        "        end\n",
        "        pot=inv(orderMax)-1\n",
        "        if V[i][end-1]==0\n",
        "        else\n",
        "            push!(MINS_COORD,(epsilon/abs(V[i][end-1]))^pot)\n",
        "        end\n",
        "        if Q[i][end-1]==0\n",
        "        else\n",
        "            push!(MINS_COORD,(epsilon/abs(Q[i][end-1]))^pot)\n",
        "        end\n",
        "        if length(MINS_COORD)==0\n",
        "        else\n",
        "            push!(MINS_TOT,minimum(MINS_COORD))\n",
        "        end\n",
        "    end\n",
        "    if length(MINS_TOT)==0\n",
        "        error(\"Auch\")\n",
        "    else\n",
        "        t=minimum(MINS_TOT)\n",
        "    end\n",
        "  if t0==false && tmax==false\n",
        "    t\n",
        "  elseif t0+t>tmax\n",
        "    tmax-t0\n",
        "  end\n",
        "end\n",
        "\n",
        "function EvalHorner(Q,V,h)\n",
        "    order=length(Q[1])-1\n",
        "    n=length(Q)\n",
        "    Q0=[Float64[]]\n",
        "    V0=[Float64[]]\n",
        "    for j in 1:n\n",
        "        sumaQj=Q[j][order+1]\n",
        "        sumaVj=V[j][order+1]\n",
        "        for i in order:-1:1\n",
        "            sumaQj=Q[j][i]+h*sumaQj\n",
        "            sumaVj=V[j][i]+h*sumaVj\n",
        "        end\n",
        "        push!(Q0,sumaQj)\n",
        "        push!(V0,sumaVj)\n",
        "    end\n",
        "    Q0,V0\n",
        "end\n",
        "\n",
        "function TaylorStepper(f::Function,Q0,V0,M,tiempo,n,t=false,tmax=false)\n",
        "    q,v=NextTaylors(f,Q0,V0,M,n)\n",
        "    h=TimeStep(q,v,t,tmax)\n",
        "    c1,c2=EvalHorner(q,v,h)\n",
        "    tiempo+=h\n",
        "    return c1,c2,tiempo\n",
        "end\n",
        "\n",
        "function TaylorIntegrator(Q0,V0,t0,tf,f,M,n=length(M))\n",
        "    Q=[Float64[Q0[i]] for i in 1:3n]\n",
        "    V=[Float64[V0[i]] for i in 1:3n]\n",
        "    T=Float64[t0]\n",
        "    U=Float64[system_inst_pot(t0,Q0,V0,M,n)]\n",
        "    K=Float64[kinetic(t0,Q0,V0,M,n)]\n",
        "    while t0<tf\n",
        "        Q0,V0,t0=TaylorStepper(f,Q0,V0,M,t0,n)\n",
        "        push!(T,t0)\n",
        "        push!(U,system_inst_pot(t0,Q0,V0,M,n))\n",
        "        push!(K,kinetic(t0,Q0,V0,M,n))\n",
        "        for i in 1:3n\n",
        "            push!(Q[i],Q0[i])\n",
        "            push!(V[i],V0[i])\n",
        "        end\n",
        "    end\n",
        "    E=K+U\n",
        "    dE=(E-E[1])/eps(E[1])\n",
        "    T,Q,V,U,K,E,dE\n",
        "end\n",
        "\n",
        "function graficadora_cuerpos(Q,n)\n",
        "  for i in 1:n\n",
        "      plot(Q[3i-2],Q[3i-1],\"o\",label=\"Planeta $i\")\n",
        "  end\n",
        "    xlabel(L\"$x$\")\n",
        "    ylabel(L\"$y$\")\n",
        "    title(\"Movimiento de los $n cuerpos\")\n",
        "    axis(\"equal\")\n",
        "    legend(loc=0,fontsize=10)\n",
        "end\n",
        "\n",
        "function graficadora_energias(T,U,K,E)\n",
        "  plot(T,U,label=\"Energ\u00eda potencial\")\n",
        "  plot(T,K,label=\"Energ\u00eda cin\u00e9tica\")\n",
        "  plot(T,E,label=\"Energ\u00eda total\")\n",
        "  xlabel(\"Tiempo\")\n",
        "  ylabel(\"Energ\u00eda\")\n",
        "  title(\"Energ\u00eda del sistema\")\n",
        "  legend(loc=0,fontsize=10)\n",
        "end\n",
        "\n",
        "\n",
        "const orderMax=18\n",
        "const epsilon=1e-20\n",
        "println(\"Por default se tomaron orderMax=$orderMax y epsilon=$epsilon\");\n",
        "\n",
        "function funciones()\n",
        "  \"TaylorIntegrator, graficadora_cuerpos, graficadora_energias, TaylorStepper\"\n",
        "end\n",
        "function TaylorStepper()\n",
        "  \"TaylorStepper(f::Function,Q0,V0,M,tiempo,n,t=false,tmax=false)=Q,V,t\"\n",
        "end\n",
        "function TaylorIntegrator()\n",
        "  \"TaylorIntegrator(Q0,V0,t0,tf,f,M,n=lenght(M))=T,Q,V,U,K,E,dE\"\n",
        "end\n",
        "function graficadora_cuerpos()\n",
        "  \"graficadora_cuerpos(Q,n) hace la gr\u00e1fica 2D de las posiciones Q con n cuerpos\"\n",
        "end\n",
        "function graficadora_energias()\n",
        "  \"graficadora_energias(T,U,K,E) hace la gr\u00e1fica de las energ\u00edas\"\n",
        "end\n"
       ]
      }
     ],
     "prompt_number": 3
    },
    {
     "cell_type": "code",
     "collapsed": false,
     "input": [
      "TaylorStepper()"
     ],
     "language": "python",
     "metadata": {},
     "outputs": [
      {
       "metadata": {},
       "output_type": "pyout",
       "prompt_number": 4,
       "text": [
        "\"TaylorStepper(f::Function,Q0,V0,M,tiempo,n,t=false,tmax=false)=Q,V,t\""
       ]
      }
     ],
     "prompt_number": 4
    },
    {
     "cell_type": "code",
     "collapsed": false,
     "input": [
      "TaylorIntegrator()"
     ],
     "language": "python",
     "metadata": {},
     "outputs": [
      {
       "metadata": {},
       "output_type": "pyout",
       "prompt_number": 5,
       "text": [
        "\"TaylorIntegrator(Q0,V0,t0,tf,f,M,n=lenght(M))=T,Q,V,U,K,E,dE\""
       ]
      }
     ],
     "prompt_number": 5
    },
    {
     "cell_type": "code",
     "collapsed": false,
     "input": [
      "function Multiple_final_step(hQ0,hV0,M,tmax,n=length(M))\n",
      "    iter=length(hQ0)\n",
      "    T=zeros(iter)\n",
      "    E_i=[system_inst_pot(0,hQ0[i],hV0[i],M,n)+kinetic(0,hQ0[i],hV0[i],M,n) for i in 1:iter]\n",
      "    E_f=zeros(iter)\n",
      "    hQ=Any[]\n",
      "    hV=Any[]\n",
      "    for i in 1:iter\n",
      "        Q0=Float64[hQ0[i][j] for j in 1:3n]\n",
      "        V0=Float64[hV0[i][j] for j in 1:3n]\n",
      "        t0=0\n",
      "        while t0<tmax\n",
      "            Q0,V0,t0=TaylorStepper(sistema,Q0,V0,M,t0,n)\n",
      "        end\n",
      "        E_f[i]=system_inst_pot(t0,Q0,V0,M,n)+kinetic(t0,Q0,V0,M,n)\n",
      "        push!(hQ,[Q0])\n",
      "        push!(hV,[V0])\n",
      "        T[i]=t0\n",
      "    end\n",
      "    T,hQ,hV,E_i,E_f\n",
      "end"
     ],
     "language": "python",
     "metadata": {},
     "outputs": [
      {
       "metadata": {},
       "output_type": "pyout",
       "prompt_number": 6,
       "text": [
        "Multiple_final_step (generic function with 2 methods)"
       ]
      }
     ],
     "prompt_number": 6
    },
    {
     "cell_type": "code",
     "collapsed": false,
     "input": [
      "function Type_changer(Q)\n",
      "    n3=length(Q)\n",
      "    amount=length(Q[1])\n",
      "    hQ=Any[]\n",
      "    for i in 1:amount\n",
      "        hQi=[Q[j][i] for j in 1:n3]\n",
      "        push!(hQ,hQi)\n",
      "    end\n",
      "    hQ\n",
      "end"
     ],
     "language": "python",
     "metadata": {},
     "outputs": [
      {
       "metadata": {},
       "output_type": "pyout",
       "prompt_number": 30,
       "text": [
        "Type_changer (generic function with 1 method)"
       ]
      }
     ],
     "prompt_number": 30
    },
    {
     "cell_type": "code",
     "collapsed": false,
     "input": [
      "function Multiple_Lyapunov(hQ0,hV0,M,tmax,epsilon=1,n=length(M))\n",
      "    iter=length(hQ0)\n",
      "    T=zeros(iter)\n",
      "    E_i=[system_inst_pot(0,hQ0[i],hV0[i],M,n)+kinetic(0,hQ0[i],hV0[i],M,n) for i in 1:iter]\n",
      "    E_f=zeros(iter)\n",
      "    hQ=Any[]\n",
      "    hV=Any[]\n",
      "    T1,Q1,V1,U1,K1,E1,dE1=TaylorIntegrator(hQ0[1],hV0[1],0,tmax,sistema,M,n)\n",
      "    hQ1=Type_changer(Q1)\n",
      "    for i in 2:iter\n",
      "        Qi=hQ0[i]\n",
      "        Vi=hV0[i]\n",
      "        ti=0\n",
      "        counter=1\n",
      "        while sum(abs(Qi-hQ1[counter]))<epsilon && ti<tmax\n",
      "            counter+=1\n",
      "            while ti<T[counter]\n",
      "               Qi,Vi,ti=TaylorStepper(sistema,Qi,Vi,M,ti,n,ti,T[counter])\n",
      "            end\n",
      "                E_f[i]=system_inst_pot(ti,Qi,Vi,M,n)+kinetic(ti,Qi,Vi,M,n)\n",
      "                push!(hQ,[Qi])\n",
      "                push!(hV,[Vi])\n",
      "\n",
      "        \n",
      "    end\n",
      "end\n",
      "    "
     ],
     "language": "python",
     "metadata": {},
     "outputs": [
      {
       "metadata": {},
       "output_type": "pyout",
       "prompt_number": 32,
       "text": [
        "Multiple_Lyapunov (generic function with 2 methods)"
       ]
      }
     ],
     "prompt_number": 32
    },
    {
     "cell_type": "code",
     "collapsed": false,
     "input": [
      "Q01=[0,0,0,1,0,0,0,1,0,0,0,1]\n",
      "V01=[0,0,0,0,1,0,-1,0,0,0,1,0]\n",
      "Q02=[0,0,0,1,0,0,0,0.999,0,0,0,1.001]\n",
      "V02=[0,0,0,0,1,0,-1,0,0,0,1,0]\n",
      "M=[1,1e-4,1e-4,1e-4]\n",
      "hQ0=Any[]\n",
      "hV0=Any[]\n",
      "push!(hQ0,[Q01])\n",
      "push!(hQ0,[Q02])\n",
      "push!(hV0,[V01])\n",
      "push!(hV0,[V02]);"
     ],
     "language": "python",
     "metadata": {},
     "outputs": [],
     "prompt_number": 8
    },
    {
     "cell_type": "code",
     "collapsed": false,
     "input": [
      "Multiple_Lyapunov(hQ0,hV0,M,1)"
     ],
     "language": "python",
     "metadata": {},
     "outputs": [
      {
       "metadata": {},
       "output_type": "pyout",
       "prompt_number": 33,
       "text": [
        "10-element Array{Any,1}:\n",
        " [0.0,0.0,0.0,1.0,0.0,0.0,0.0,1.0,0.0,0.0,0.0,1.0]                                                                         \n",
        " [1.10965e-6,1.28879e-6,1.16936e-6,0.988306,0.152482,4.17344e-7,-0.152481,0.988306,4.49655e-7,3.93469e-7,0.152482,0.988305]\n",
        " [3.7483e-6,4.9511e-6,4.14924e-6,0.958504,0.285068,1.5169e-6,-0.285065,0.958505,1.73731e-6,1.33609e-6,0.285068,0.958504]   \n",
        " [7.18923e-6,1.06383e-5,8.33893e-6,0.916604,0.399783,3.15395e-6,-0.399776,0.916605,3.79023e-6,2.57318e-6,0.399783,0.916604]\n",
        " [1.10105e-5,1.80605e-5,1.33605e-5,0.866384,0.499361,5.26505e-6,-0.49935,0.866386,6.55677e-6,3.94813e-6,0.499362,0.866383] \n",
        " [1.50046e-5,2.71065e-5,1.90386e-5,0.809598,0.586964,7.86396e-6,-0.586948,0.809602,1.00266e-5,5.38281e-6,0.586966,0.809596]\n",
        " [1.90316e-5,3.77162e-5,2.52598e-5,0.747379,0.664374,1.09961e-5,-0.664351,0.747386,1.41759e-5,6.84254e-6,0.664376,0.747377]\n",
        " [2.3049e-5,5.00689e-5,3.20557e-5,0.679413,0.733728,1.48009e-5,-0.733698,0.679424,1.90406e-5,8.36852e-6,0.733731,0.679409] \n",
        " [2.69912e-5,6.4351e-5,3.94445e-5,0.605516,0.795802,1.94642e-5,-0.795763,0.605532,2.46263e-5,1.00639e-5,0.795805,0.605511] \n",
        " [3.03748e-5,7.8877e-5,4.65423e-5,0.534529,0.845114,2.45601e-5,-0.845067,0.534552,3.02013e-5,1.18839e-5,0.845118,0.534523] "
       ]
      }
     ],
     "prompt_number": 33
    },
    {
     "cell_type": "code",
     "collapsed": false,
     "input": [
      "tmax=1;"
     ],
     "language": "python",
     "metadata": {},
     "outputs": [],
     "prompt_number": 9
    },
    {
     "cell_type": "code",
     "collapsed": false,
     "input": [
      "@time T,hQ,hV,Ei,Ef=Multiple_final_step(hQ0,hV0,M,5);"
     ],
     "language": "python",
     "metadata": {},
     "outputs": [
      {
       "output_type": "stream",
       "stream": "stdout",
       "text": [
        "elapsed time: 41"
       ]
      },
      {
       "output_type": "stream",
       "stream": "stdout",
       "text": [
        ".257535076 seconds (25271303848 bytes allocated, 43.63% gc time)\n"
       ]
      }
     ],
     "prompt_number": 10
    },
    {
     "cell_type": "code",
     "collapsed": false,
     "input": [
      "hQ"
     ],
     "language": "python",
     "metadata": {},
     "outputs": [
      {
       "metadata": {},
       "output_type": "pyout",
       "prompt_number": 11,
       "text": [
        "2-element Array{Any,1}:\n",
        " [-0.00039806,0.00113041,0.000278226,-0.72849,-1.39724,-1.89302,0.94233,0.3367,0.000358312,-0.288234,0.866463,0.110398]     \n",
        " [-0.00054025,0.00126072,8.08323e-5,0.423071,-0.783817,-0.0105889,0.943127,0.330258,0.00016868,0.00439236,-1.09088,0.203097]"
       ]
      }
     ],
     "prompt_number": 11
    },
    {
     "cell_type": "code",
     "collapsed": false,
     "input": [
      "hQ0"
     ],
     "language": "python",
     "metadata": {},
     "outputs": [
      {
       "metadata": {},
       "output_type": "pyout",
       "prompt_number": 12,
       "text": [
        "2-element Array{Any,1}:\n",
        " [0,0,0,1,0,0,0,1,0,0,0,1]                            \n",
        " [0.0,0.0,0.0,1.0,0.0,0.0,0.0,0.999,0.0,0.0,0.0,1.001]"
       ]
      }
     ],
     "prompt_number": 12
    },
    {
     "cell_type": "code",
     "collapsed": false,
     "input": [
      "sum(abs(hQ0[1]-hQ0[2]))"
     ],
     "language": "python",
     "metadata": {},
     "outputs": [
      {
       "metadata": {},
       "output_type": "pyout",
       "prompt_number": 13,
       "text": [
        "0.0019999999999998908"
       ]
      }
     ],
     "prompt_number": 13
    },
    {
     "cell_type": "code",
     "collapsed": false,
     "input": [
      "sum(abs(hQ[1]-hQ[2]))"
     ],
     "language": "python",
     "metadata": {},
     "outputs": [
      {
       "metadata": {},
       "output_type": "pyout",
       "prompt_number": 14,
       "text": [
        "5.997979811525767"
       ]
      }
     ],
     "prompt_number": 14
    },
    {
     "cell_type": "code",
     "collapsed": false,
     "input": [
      "Ei"
     ],
     "language": "python",
     "metadata": {},
     "outputs": [
      {
       "metadata": {},
       "output_type": "pyout",
       "prompt_number": 15,
       "text": [
        "2-element Array{Any,1}:\n",
        " -0.000150021\n",
        " -0.000150021"
       ]
      }
     ],
     "prompt_number": 15
    },
    {
     "cell_type": "code",
     "collapsed": false,
     "input": [
      "Ef"
     ],
     "language": "python",
     "metadata": {},
     "outputs": [
      {
       "metadata": {},
       "output_type": "pyout",
       "prompt_number": 16,
       "text": [
        "2-element Array{Float64,1}:\n",
        " -0.000150021\n",
        " -0.000150021"
       ]
      }
     ],
     "prompt_number": 16
    },
    {
     "cell_type": "code",
     "collapsed": false,
     "input": [
      "T[1]-T[2]"
     ],
     "language": "python",
     "metadata": {},
     "outputs": [
      {
       "metadata": {},
       "output_type": "pyout",
       "prompt_number": 17,
       "text": [
        "0.023091476550644252"
       ]
      }
     ],
     "prompt_number": 17
    }
   ],
   "metadata": {}
  }
 ]
}