{
 "metadata": {
  "language": "Julia",
  "name": "",
  "signature": "sha256:d19248cdb7886c0f7883b5806ffd98328ca6e52ec81093fb4dae3abff696e54d"
 },
 "nbformat": 3,
 "nbformat_minor": 0,
 "worksheets": [
  {
   "cells": [
    {
     "cell_type": "code",
     "collapsed": false,
     "input": [
      "R(i,j,Q)=sqrt((Q[3i-2]-Q[3j-2])^2+(Q[3i-1]-Q[3j-1])^2+(Q[3i]-Q[3j])^2)\n",
      "R_3(i,j,Q)=1/(R(i,j,Q)^3)\n",
      "function accel(Q,M,i,j)\n",
      "    #Esta funcion saca la aceleraci\u00f3n que siente j debido a i\n",
      "    if i==j\n",
      "        [0,0,0]\n",
      "    else\n",
      "        (M[i]*R_3(i,j,Q))*[Q[3i-2]-Q[3j-2],Q[3i-1]-Q[3j-1],Q[3i]-Q[3j]]\n",
      "    end\n",
      "end"
     ],
     "language": "python",
     "metadata": {},
     "outputs": [
      {
       "metadata": {},
       "output_type": "pyout",
       "prompt_number": 1,
       "text": [
        "accel (generic function with 1 method)"
       ]
      }
     ],
     "prompt_number": 1
    },
    {
     "cell_type": "code",
     "collapsed": false,
     "input": [
      "function total_accel(Q,M,j,n)\n",
      "    sum([accel(Q,M,s,j) for s in 1:n])\n",
      "end"
     ],
     "language": "python",
     "metadata": {},
     "outputs": [
      {
       "metadata": {},
       "output_type": "pyout",
       "prompt_number": 2,
       "text": [
        "total_accel (generic function with 1 method)"
       ]
      }
     ],
     "prompt_number": 2
    },
    {
     "cell_type": "code",
     "collapsed": false,
     "input": [
      "function sistema(Q,M,n=length(M))\n",
      "    A=Any[]\n",
      "    for i in 1:n\n",
      "        T=total_accel(Q,M,i,n)\n",
      "        push!(A,T[1],T[2],T[3])\n",
      "    end\n",
      "    A\n",
      "end"
     ],
     "language": "python",
     "metadata": {},
     "outputs": [
      {
       "metadata": {},
       "output_type": "pyout",
       "prompt_number": 3,
       "text": [
        "sistema (generic function with 2 methods)"
       ]
      }
     ],
     "prompt_number": 3
    },
    {
     "cell_type": "code",
     "collapsed": false,
     "input": [
      "include (\"Taylor.jl\")"
     ],
     "language": "python",
     "metadata": {},
     "outputs": [
      {
       "metadata": {},
       "output_type": "pyout",
       "prompt_number": 4,
       "text": [
        "^ (generic function with 46 methods)"
       ]
      }
     ],
     "prompt_number": 4
    },
    {
     "cell_type": "code",
     "collapsed": false,
     "input": [
      "const orderMax=18\n",
      "const epsilon=1e-20;"
     ],
     "language": "python",
     "metadata": {},
     "outputs": [],
     "prompt_number": 5
    },
    {
     "cell_type": "code",
     "collapsed": false,
     "input": [
      "Q0=[0,0,0,1,0,0]\n",
      "V0=[0,0,0,0,0.7,0]\n",
      "M=[1,1e-7]\n",
      "n=2\n",
      "t0=0\n",
      "tf=10\n",
      "f=sistema"
     ],
     "language": "python",
     "metadata": {},
     "outputs": [
      {
       "metadata": {},
       "output_type": "pyout",
       "prompt_number": 42,
       "text": [
        "sistema (generic function with 2 methods)"
       ]
      }
     ],
     "prompt_number": 42
    },
    {
     "cell_type": "code",
     "collapsed": false,
     "input": [
      "function c1(Q0,M,n::Integer,f::Function,i::Integer,ord::Integer,coords::Integer)\n",
      "    evalf=f(Q0,M,n)\n",
      "    #println(\"la evaluaci\u00f3n de la funci\u00f3n f es $evalf\")\n",
      "    iesimo=evalf[i]\n",
      "    #println(\"y su iesimo elemento es $iesimo\")\n",
      "    coeffss=iesimo.coeffs\n",
      "    #println(\"los coeficientes de este elemento son $coeffss\")\n",
      "    a=coeffss[ord]/ord\n",
      "    #println(\"y c1[ $i ] es entonces $a\")\n",
      "    #a\n",
      "end"
     ],
     "language": "python",
     "metadata": {},
     "outputs": [
      {
       "metadata": {},
       "output_type": "pyout",
       "prompt_number": 31,
       "text": [
        "c1 (generic function with 1 method)"
       ]
      }
     ],
     "prompt_number": 31
    },
    {
     "cell_type": "code",
     "collapsed": false,
     "input": [
      "function NextTaylors(f::Function,Q0,V0,M,n)\n",
      "    coords=3n\n",
      "    Q=[Float64[Q0[i]] for i in 1:coords]\n",
      "    V=[Float64[V0[i]] for i in 1:coords]\n",
      "    for ord in 1:orderMax\n",
      "        Q0=[Taylor(Q[i]) for i in 1:coords]\n",
      "        V0=[Taylor(V[i]) for i in 1:coords]\n",
      "        #c1=[f(Q0,M,n)[i].coeffs[ord]/ord for i in 1:coords]\n",
      "        C1=[c1(Q0,M,n,f,i,ord,coords) for i in 1:coords]\n",
      "        c2=[V[i][ord]/ord for i in 1:coords]\n",
      "        for i in 1:coords\n",
      "            push!(V[i],C1[i])\n",
      "            push!(Q[i],c2[i])\n",
      "        end\n",
      "    end\n",
      "    Q,V\n",
      "end        "
     ],
     "language": "python",
     "metadata": {},
     "outputs": [
      {
       "metadata": {},
       "output_type": "pyout",
       "prompt_number": 32,
       "text": [
        "NextTaylors (generic function with 1 method)"
       ]
      }
     ],
     "prompt_number": 32
    },
    {
     "cell_type": "code",
     "collapsed": false,
     "input": [
      "q,v=NextTaylors(sistema,Q0,V0,M,n)\n",
      "[q,v]"
     ],
     "language": "python",
     "metadata": {},
     "outputs": [
      {
       "metadata": {},
       "output_type": "pyout",
       "prompt_number": 33,
       "text": [
        "12-element Array{Array{Float64,1},1}:\n",
        " [0.0,0.0,5.0e-5,0.0,2.20917e-6,0.0,6.46759e-8,0.0,-5.81223e-8,0.0,-2.96375e-8,0.0,-1.073e-8,0.0,-3.37423e-9,0.0,-9.63576e-10,0.0,-2.51336e-10]\n",
        " [0.0,0.0,0.0,1.16667e-5,0.0,2.09463e-6,0.0,4.4441e-7,0.0,9.44417e-8,0.0,1.87157e-8,0.0,3.09134e-9,0.0,2.67109e-10,0.0,-8.59725e-11,0.0]       \n",
        " [0.0,0.0,0.0,0.0,0.0,0.0,0.0,0.0,0.0,0.0,0.0,0.0,0.0,0.0,0.0,0.0,0.0,0.0,0.0]                                                                 \n",
        " [1.0,0.0,-0.5,0.0,-0.0220917,0.0,-0.000646759,0.0,0.000581223,0.0,0.000296375,0.0,0.0001073,0.0,3.37423e-5,0.0,9.63576e-6,0.0,2.51336e-6]     \n",
        " [0.0,0.7,0.0,-0.116667,0.0,-0.0209463,0.0,-0.0044441,0.0,-0.000944417,0.0,-0.000187157,0.0,-3.09134e-5,0.0,-2.67109e-6,0.0,8.59725e-7,0.0]    \n",
        " [0.0,0.0,0.0,0.0,0.0,0.0,0.0,0.0,0.0,0.0,0.0,0.0,0.0,0.0,0.0,0.0,0.0,0.0,0.0]                                                                 \n",
        " [0.0,0.0001,0.0,8.83667e-6,0.0,3.88055e-7,0.0,-4.64979e-7,0.0,-2.96375e-7,0.0,-1.2876e-7,0.0,-4.72392e-8,0.0,-1.54172e-8,0.0,-4.52404e-9,0.0] \n",
        " [0.0,0.0,3.5e-5,0.0,1.04732e-5,0.0,3.11087e-6,0.0,8.49976e-7,0.0,2.05873e-7,0.0,4.01874e-8,0.0,4.00663e-9,0.0,-1.46153e-9,0.0,-1.2253e-9]     \n",
        " [0.0,0.0,0.0,0.0,0.0,0.0,0.0,0.0,0.0,0.0,0.0,0.0,0.0,0.0,0.0,0.0,0.0,0.0,0.0]                                                                 \n",
        " [0.0,-1.0,0.0,-0.0883667,0.0,-0.00388055,0.0,0.00464979,0.0,0.00296375,0.0,0.0012876,0.0,0.000472392,0.0,0.000154172,0.0,4.52404e-5,0.0]      \n",
        " [0.7,0.0,-0.35,0.0,-0.104732,0.0,-0.0311087,0.0,-0.00849976,0.0,-0.00205873,0.0,-0.000401874,0.0,-4.00663e-5,0.0,1.46153e-5,0.0,1.2253e-5]    \n",
        " [0.0,0.0,0.0,0.0,0.0,0.0,0.0,0.0,0.0,0.0,0.0,0.0,0.0,0.0,0.0,0.0,0.0,0.0,0.0]                                                                 "
       ]
      }
     ],
     "prompt_number": 33
    },
    {
     "cell_type": "code",
     "collapsed": false,
     "input": [
      "function TimeStep(Q,V)\n",
      "    MINS_TOT=Float64[]\n",
      "    for i in 1:3n\n",
      "        MINS_COORD=Float64[]\n",
      "        pot=inv(orderMax)\n",
      "        if V[i][end]==0\n",
      "        else\n",
      "            push!(MINS_COORD,(epsilon/abs(V[i][end]))^pot)\n",
      "        end\n",
      "        if Q[i][end]==0\n",
      "        else\n",
      "            push!(MINS_COORD,(epsilon/abs(Q[i][end]))^pot)\n",
      "        end\n",
      "        pot=inv(orderMax)-1\n",
      "        if V[i][end-1]==0\n",
      "        else\n",
      "            push!(MINS_COORD,(epsilon/abs(V[i][end-1]))^pot)\n",
      "        end\n",
      "        if Q[i][end-1]==0\n",
      "        else\n",
      "            push!(MINS_COORD,(epsilon/abs(Q[i][end-1]))^pot)\n",
      "        end\n",
      "        if length(MINS_COORD)==0\n",
      "        else\n",
      "            push!(MINS_TOT,minimum(MINS_COORD))\n",
      "        end\n",
      "    end\n",
      "    if length(MINS_TOT)==0\n",
      "        1\n",
      "    else\n",
      "        minimum(MINS_TOT)\n",
      "    end\n",
      "end     "
     ],
     "language": "python",
     "metadata": {},
     "outputs": [
      {
       "metadata": {},
       "output_type": "pyout",
       "prompt_number": 34,
       "text": [
        "TimeStep (generic function with 1 method)"
       ]
      }
     ],
     "prompt_number": 34
    },
    {
     "cell_type": "code",
     "collapsed": false,
     "input": [
      "h=TimeStep(q,v)"
     ],
     "language": "python",
     "metadata": {},
     "outputs": [
      {
       "metadata": {},
       "output_type": "pyout",
       "prompt_number": 35,
       "text": [
        "0.14513234921888266"
       ]
      }
     ],
     "prompt_number": 35
    },
    {
     "cell_type": "code",
     "collapsed": false,
     "input": [
      "function EvalHorner(Q,V,h)\n",
      "    order=length(Q[1])\n",
      "    n=length(Q)\n",
      "    Q0=[Float64[]]\n",
      "    V0=[Float64[]]\n",
      "    for j in 1:n\n",
      "        sumaQj=0.0\n",
      "        sumaVj=0.0\n",
      "        for i in order-1:-1:1\n",
      "            sumaQj=Q[j][i]+h*sumaQj\n",
      "        end\n",
      "        for i in n-1:-1:1\n",
      "            sumaVj=V[j][i]+h*sumaVj\n",
      "        end\n",
      "        push!(Q0,sumaQj)\n",
      "        push!(V0,sumaVj)\n",
      "    end\n",
      "    Q0,V0        \n",
      "end"
     ],
     "language": "python",
     "metadata": {},
     "outputs": [
      {
       "metadata": {},
       "output_type": "pyout",
       "prompt_number": 36,
       "text": [
        "EvalHorner (generic function with 1 method)"
       ]
      }
     ],
     "prompt_number": 36
    },
    {
     "cell_type": "code",
     "collapsed": false,
     "input": [
      "EvalHorner(q,v,h)"
     ],
     "language": "python",
     "metadata": {},
     "outputs": [
      {
       "metadata": {},
       "output_type": "pyout",
       "prompt_number": 37,
       "text": [
        "([1.05415e-6,3.58003e-8,0.0,0.989458,0.101235,0.0],[1.45402e-5,7.41866e-7,0.0,-0.145402,0.692581,0.0])"
       ]
      }
     ],
     "prompt_number": 37
    },
    {
     "cell_type": "code",
     "collapsed": false,
     "input": [
      "function TaylorStepper(f::Function,Q0,V0,M,tiempo,n)\n",
      "    q,v=NextTaylors(f,Q0,V0,M,n)\n",
      "    h=TimeStep(q,v)\n",
      "    c1,c2=EvalHorner(q,v,h)\n",
      "    tiempo+=h\n",
      "    return c1,c2,tiempo\n",
      "end"
     ],
     "language": "python",
     "metadata": {},
     "outputs": [
      {
       "metadata": {},
       "output_type": "pyout",
       "prompt_number": 38,
       "text": [
        "TaylorStepper (generic function with 1 method)"
       ]
      }
     ],
     "prompt_number": 38
    },
    {
     "cell_type": "code",
     "collapsed": false,
     "input": [
      "function TaylorIntegrator(Q0,V0,t0,tf,f,M,n=length(M))\n",
      "    Q=[Float64[Q0[i]] for i in 1:3n]\n",
      "    V=[Float64[V0[i]] for i in 1:3n]\n",
      "    T=Float64[t0]\n",
      "    while t0<tf\n",
      "        Q0,V0,t0=TaylorStepper(f,Q0,V0,M,t0,n)\n",
      "        push!(T,t0)\n",
      "        for i in 1:3n\n",
      "            push!(Q[i],Q0[i])\n",
      "            push!(V[i],V0[i])\n",
      "        end\n",
      "    end\n",
      "    T,Q,V\n",
      "end"
     ],
     "language": "python",
     "metadata": {},
     "outputs": [
      {
       "metadata": {},
       "output_type": "pyout",
       "prompt_number": 39,
       "text": [
        "TaylorIntegrator (generic function with 2 methods)"
       ]
      }
     ],
     "prompt_number": 39
    },
    {
     "cell_type": "code",
     "collapsed": false,
     "input": [
      "t,q,v=TaylorIntegrator(Q0,V0,t0,tf,f,M);"
     ],
     "language": "python",
     "metadata": {},
     "outputs": [],
     "prompt_number": 43
    },
    {
     "cell_type": "code",
     "collapsed": false,
     "input": [
      "q[1]"
     ],
     "language": "python",
     "metadata": {},
     "outputs": [
      {
       "metadata": {},
       "output_type": "pyout",
       "prompt_number": 28,
       "text": [
        "114-element Array{Float64,1}:\n",
        " 0.0        \n",
        " 1.05415e-6 \n",
        " 4.15177e-6 \n",
        " 8.86013e-6 \n",
        " 1.47626e-5 \n",
        " 2.15075e-5 \n",
        " 2.87949e-5 \n",
        " 3.63732e-5 \n",
        " 4.40276e-5 \n",
        " 5.15759e-5 \n",
        " 5.88765e-5 \n",
        " 6.58397e-5 \n",
        " 7.24238e-5 \n",
        " \u22ee          \n",
        " 0.000104852\n",
        " 0.00010012 \n",
        " 9.51666e-5 \n",
        " 8.99892e-5 \n",
        " 8.47354e-5 \n",
        " 7.94238e-5 \n",
        " 7.40883e-5 \n",
        " 6.87771e-5 \n",
        " 6.35542e-5 \n",
        " 5.85014e-5 \n",
        " 5.37228e-5 \n",
        " 4.93497e-5 "
       ]
      }
     ],
     "prompt_number": 28
    },
    {
     "cell_type": "code",
     "collapsed": false,
     "input": [
      "using PyPlot"
     ],
     "language": "python",
     "metadata": {},
     "outputs": [
      {
       "output_type": "stream",
       "stream": "stderr",
       "text": [
        "Warning: using PyPlot.hist2d in module Main conflicts with an existing identifier.\n"
       ]
      }
     ],
     "prompt_number": 25
    },
    {
     "cell_type": "code",
     "collapsed": false,
     "input": [
      "plot(q[1],q[2])\n",
      "plot(q[4],q[5])"
     ],
     "language": "python",
     "metadata": {},
     "outputs": [
      {
       "metadata": {},
       "output_type": "display_data",
       "png": "[encoded data removed]",
       "text": [
        "Figure(PyObject <matplotlib.figure.Figure object at 0x7fb19e8d5ad0>)"
       ]
      },
      {
       "metadata": {},
       "output_type": "pyout",
       "prompt_number": 44,
       "text": [
        "1-element Array{Any,1}:\n",
        " PyObject <matplotlib.lines.Line2D object at 0x7fb19e6e9610>"
       ]
      }
     ],
     "prompt_number": 44
    },
    {
     "cell_type": "code",
     "collapsed": false,
     "input": [
      "a=Taylor(1)\n",
      "b=Taylor([1,2])\n",
      "a*[a,b]"
     ],
     "language": "python",
     "metadata": {},
     "outputs": [
      {
       "metadata": {},
       "output_type": "pyout",
       "prompt_number": 17,
       "text": [
        "2-element Array{Taylor{Int64},1}:\n",
        " Taylor{Int64}([1],0)  \n",
        " Taylor{Int64}([1,2],1)"
       ]
      }
     ],
     "prompt_number": 17
    },
    {
     "cell_type": "code",
     "collapsed": false,
     "input": [
      "Taylor([1,1,1],10)*Taylor([1,1,1],10)"
     ],
     "language": "python",
     "metadata": {},
     "outputs": [
      {
       "metadata": {},
       "output_type": "pyout",
       "prompt_number": 18,
       "text": [
        "Taylor{Int64}([1,2,3,2,1,0,0,0,0,0,0],10)"
       ]
      }
     ],
     "prompt_number": 18
    },
    {
     "cell_type": "code",
     "collapsed": false,
     "input": [
      "A=[[i,i,i] for i in 1:5]"
     ],
     "language": "python",
     "metadata": {},
     "outputs": [
      {
       "metadata": {},
       "output_type": "pyout",
       "prompt_number": 19,
       "text": [
        "5-element Array{Array{Int64,1},1}:\n",
        " [1,1,1]\n",
        " [2,2,2]\n",
        " [3,3,3]\n",
        " [4,4,4]\n",
        " [5,5,5]"
       ]
      }
     ],
     "prompt_number": 19
    },
    {
     "cell_type": "code",
     "collapsed": false,
     "input": [
      "A"
     ],
     "language": "python",
     "metadata": {},
     "outputs": [
      {
       "metadata": {},
       "output_type": "pyout",
       "prompt_number": 20,
       "text": [
        "5-element Array{Array{Int64,1},1}:\n",
        " [1,1,1]\n",
        " [2,2,2]\n",
        " [3,3,3]\n",
        " [4,4,4]\n",
        " [5,5,5]"
       ]
      }
     ],
     "prompt_number": 20
    },
    {
     "cell_type": "code",
     "collapsed": false,
     "input": [
      "push!(A[1],1)"
     ],
     "language": "python",
     "metadata": {},
     "outputs": [
      {
       "metadata": {},
       "output_type": "pyout",
       "prompt_number": 21,
       "text": [
        "4-element Array{Int64,1}:\n",
        " 1\n",
        " 1\n",
        " 1\n",
        " 1"
       ]
      }
     ],
     "prompt_number": 21
    },
    {
     "cell_type": "code",
     "collapsed": false,
     "input": [
      "A"
     ],
     "language": "python",
     "metadata": {},
     "outputs": [
      {
       "metadata": {},
       "output_type": "pyout",
       "prompt_number": 22,
       "text": [
        "5-element Array{Array{Int64,1},1}:\n",
        " [1,1,1,1]\n",
        " [2,2,2]  \n",
        " [3,3,3]  \n",
        " [4,4,4]  \n",
        " [5,5,5]  "
       ]
      }
     ],
     "prompt_number": 22
    },
    {
     "cell_type": "code",
     "collapsed": false,
     "input": [],
     "language": "python",
     "metadata": {},
     "outputs": [],
     "prompt_number": 23
    }
   ],
   "metadata": {}
  }
 ]
}