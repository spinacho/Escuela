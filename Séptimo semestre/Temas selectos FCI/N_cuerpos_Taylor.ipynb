{
 "metadata": {
  "language": "Julia",
  "name": "",
  "signature": "sha256:8d46664fb2831a9d53317958e10638f5a6aa2a790bb48761f0ca157d907d4a5c"
 },
 "nbformat": 3,
 "nbformat_minor": 0,
 "worksheets": [
  {
   "cells": [
    {
     "cell_type": "code",
     "collapsed": false,
     "input": [
      "function Rconj(i,j,Q)\n",
      "    ll=length(Q[1])\n",
      "    dist=Float64[]\n",
      "    for s in 1:ll\n",
      "        ds=sqrt((Q[3i-2][s]-Q[3j-2][s])^2+(Q[3i-1][s]-Q[3j-1][s])^2+(Q[3i][s]-Q[3j][s])^2)\n",
      "        push!(dist,ds)\n",
      "    end\n",
      "    dist\n",
      "end\n",
      "/(x::Float64,G::Array)=[x/g for g in G]"
     ],
     "language": "python",
     "metadata": {},
     "outputs": [
      {
       "metadata": {},
       "output_type": "pyout",
       "prompt_number": 1,
       "text": [
        "/ (generic function with 54 methods)"
       ]
      }
     ],
     "prompt_number": 1
    },
    {
     "cell_type": "code",
     "collapsed": false,
     "input": [
      "R(i,j,Q)=sqrt((Q[3i-2]-Q[3j-2])^2+(Q[3i-1]-Q[3j-1])^2+(Q[3i]-Q[3j])^2)\n",
      "R_3(i,j,Q)=1/(R(i,j,Q)^3)\n",
      "function accel(Q,M,i,j)\n",
      "    #Esta funcion saca la aceleraci\u00f3n que siente j debido a i\n",
      "    if i==j\n",
      "        [0,0,0]\n",
      "    else\n",
      "        (M[i]*R_3(i,j,Q))*[Q[3i-2]-Q[3j-2],Q[3i-1]-Q[3j-1],Q[3i]-Q[3j]]\n",
      "    end\n",
      "end"
     ],
     "language": "python",
     "metadata": {},
     "outputs": [
      {
       "metadata": {},
       "output_type": "pyout",
       "prompt_number": 2,
       "text": [
        "accel (generic function with 1 method)"
       ]
      }
     ],
     "prompt_number": 2
    },
    {
     "cell_type": "code",
     "collapsed": false,
     "input": [
      "function total_accel(Q,M,j,n)\n",
      "    sum([accel(Q,M,s,j) for s in 1:n])\n",
      "end"
     ],
     "language": "python",
     "metadata": {},
     "outputs": [
      {
       "metadata": {},
       "output_type": "pyout",
       "prompt_number": 3,
       "text": [
        "total_accel (generic function with 1 method)"
       ]
      }
     ],
     "prompt_number": 3
    },
    {
     "cell_type": "code",
     "collapsed": false,
     "input": [
      "function sistema(Q,M,n=length(M))\n",
      "    A=Any[]\n",
      "    for i in 1:n\n",
      "        T=total_accel(Q,M,i,n)\n",
      "        push!(A,T[1],T[2],T[3])\n",
      "    end\n",
      "    A\n",
      "end"
     ],
     "language": "python",
     "metadata": {},
     "outputs": [
      {
       "metadata": {},
       "output_type": "pyout",
       "prompt_number": 4,
       "text": [
        "sistema (generic function with 2 methods)"
       ]
      }
     ],
     "prompt_number": 4
    },
    {
     "cell_type": "code",
     "collapsed": false,
     "input": [
      "include (\"Taylor.jl\")"
     ],
     "language": "python",
     "metadata": {},
     "outputs": [
      {
       "metadata": {},
       "output_type": "pyout",
       "prompt_number": 5,
       "text": [
        "^ (generic function with 46 methods)"
       ]
      }
     ],
     "prompt_number": 5
    },
    {
     "cell_type": "code",
     "collapsed": false,
     "input": [
      "const orderMax=20\n",
      "const epsilon=1e-20;"
     ],
     "language": "python",
     "metadata": {},
     "outputs": [
      {
       "output_type": "stream",
       "stream": "stderr",
       "text": [
        "Warning: redefining constant orderMax\n"
       ]
      }
     ],
     "prompt_number": 35
    },
    {
     "cell_type": "code",
     "collapsed": false,
     "input": [
      "Q0=[0,0,0,1,0,0,0,2,0]\n",
      "V0=[0,0,0,0,0.7,0,-0.3,0,0]\n",
      "M=[1,1,1]\n",
      "n=3\n",
      "t0=0\n",
      "tf=10\n",
      "f=sistema"
     ],
     "language": "python",
     "metadata": {},
     "outputs": [
      {
       "metadata": {},
       "output_type": "pyout",
       "prompt_number": 57,
       "text": [
        "sistema (generic function with 2 methods)"
       ]
      }
     ],
     "prompt_number": 57
    },
    {
     "cell_type": "code",
     "collapsed": false,
     "input": [
      "function c1(Q0,M,n::Integer,f::Function,i::Integer,ord::Integer,coords::Integer)\n",
      "    evalf=f(Q0,M,n)\n",
      "    #println(\"la evaluaci\u00f3n de la funci\u00f3n f es $evalf\")\n",
      "    iesimo=evalf[i]\n",
      "    #println(\"y su iesimo elemento es $iesimo\")\n",
      "    coeffss=iesimo.coeffs\n",
      "    #println(\"los coeficientes de este elemento son $coeffss\")\n",
      "    a=coeffss[ord]/ord\n",
      "    #println(\"y c1[ $i ] es entonces $a\")\n",
      "    #a\n",
      "end"
     ],
     "language": "python",
     "metadata": {},
     "outputs": [
      {
       "metadata": {},
       "output_type": "pyout",
       "prompt_number": 37,
       "text": [
        "c1 (generic function with 1 method)"
       ]
      }
     ],
     "prompt_number": 37
    },
    {
     "cell_type": "code",
     "collapsed": false,
     "input": [
      "function NextTaylors(f::Function,Q0,V0,M,n)\n",
      "    coords=3n\n",
      "    Q=[Float64[Q0[i]] for i in 1:coords]\n",
      "    V=[Float64[V0[i]] for i in 1:coords]\n",
      "    for ord in 1:orderMax\n",
      "        Q0=[Taylor(Q[i]) for i in 1:coords]\n",
      "        V0=[Taylor(V[i]) for i in 1:coords]\n",
      "        C1=[f(Q0,M,n)[i].coeffs[ord]/ord for i in 1:coords]\n",
      "        #C1=[c1(Q0,M,n,f,i,ord,coords) for i in 1:coords]\n",
      "        c2=[V[i][ord]/ord for i in 1:coords]\n",
      "        for i in 1:coords\n",
      "            push!(V[i],C1[i])\n",
      "            push!(Q[i],c2[i])\n",
      "        end\n",
      "    end\n",
      "    Q,V\n",
      "end        "
     ],
     "language": "python",
     "metadata": {},
     "outputs": [
      {
       "metadata": {},
       "output_type": "pyout",
       "prompt_number": 38,
       "text": [
        "NextTaylors (generic function with 1 method)"
       ]
      }
     ],
     "prompt_number": 38
    },
    {
     "cell_type": "code",
     "collapsed": false,
     "input": [
      "q,v=NextTaylors(sistema,Q0,V0,M,n)"
     ],
     "language": "python",
     "metadata": {},
     "outputs": [
      {
       "metadata": {},
       "output_type": "pyout",
       "prompt_number": 39,
       "text": [
        "([[0.0,0.0,0.0005,-6.25e-6,2.21694e-5,-2.45154e-7,6.61013e-7,-1.15678e-8,-5.03756e-7,-5.99765e-10  \u2026  -7.75243e-11,-9.8883e-8,-3.3197e-11,-3.29878e-8,-1.47365e-11,-1.0262e-8,-5.69727e-12,-3.01728e-9,-1.97924e-12,-8.37921e-10],[0.0,0.0,0.000125,0.000116667,1.90255e-6,2.09938e-5,6.47684e-8,4.46459e-6,3.58277e-9,9.93329e-7  \u2026  2.1809e-7,1.06867e-10,4.4714e-8,2.70733e-11,7.71353e-9,6.04945e-12,7.08333e-10,9.72188e-13,-2.38901e-10,-1.6383e-14],[0.0,0.0,0.0,0.0,0.0,0.0,0.0,0.0,0.0,0.0  \u2026  0.0,0.0,0.0,0.0,0.0,0.0,0.0,0.0,0.0,0.0],[1.0,0.0,-0.500045,-1.43108e-5,-0.0221766,-5.64381e-6,-0.000661591,-1.0501e-6,0.000503765,-6.89652e-8  \u2026  5.26298e-8,9.88925e-5,3.54432e-8,3.299e-5,1.54228e-8,1.02623e-5,5.66022e-9,3.01719e-6,1.87858e-9,8.37845e-7],[0.0,0.7,8.94427e-5,-0.116657,8.11618e-6,-0.0209918,-8.43511e-7,-0.00446421,-7.88005e-7,-0.000993273  \u2026  -0.000218088,-1.04707e-7,-4.47173e-5,-2.95292e-8,-7.71522e-6,-7.07288e-9,-7.08881e-7,-1.25238e-9,2.38778e-7,-3.02506e-11],[0.0,0.0,0.0,0.0,0.0,0.0,0.0,0.0,0.0,0.0  \u2026  0.0,0.0,0.0,0.0,0.0,0.0,0.0,0.0,0.0,0.0],[0.0,-0.3,4.47214e-5,0.00626431,7.25567e-6,0.000250798,5.77596e-7,1.26179e-5,-8.81731e-9,6.68731e-7  \u2026  2.48944e-8,-9.44933e-9,-2.2462e-9,-2.22395e-9,-6.86351e-10,-2.37694e-10,3.70484e-11,9.48763e-11,1.00663e-10,7.52472e-11],[2.0,0.0,-0.125089,-9.24241e-6,-0.00191066,-1.94573e-6,-6.39249e-5,-3.85004e-7,-2.79476e-6,-5.57299e-8  \u2026  -1.09176e-9,-2.15998e-9,3.34552e-9,2.45589e-9,1.68445e-9,1.02343e-9,5.47929e-10,2.80193e-10,1.23406e-10,4.66336e-11],[0.0,0.0,0.0,0.0,0.0,0.0,0.0,0.0,0.0,0.0  \u2026  0.0,0.0,0.0,0.0,0.0,0.0,0.0,0.0,0.0,0.0]],[[0.0,0.001,-1.875e-5,8.86775e-5,-1.22577e-6,3.96608e-6,-8.09744e-8,-4.03005e-6,-5.39789e-9,-2.63336e-6  \u2026  -1.1866e-6,-4.31561e-10,-4.61829e-7,-2.21047e-10,-1.64193e-7,-9.68535e-11,-5.43111e-8,-3.76056e-11,-1.67584e-8,-1.32508e-11],[0.0,0.00025,0.00035,7.61018e-6,0.000104969,3.8861e-7,3.12521e-5,2.86621e-8,8.93996e-6,4.56999e-9  \u2026  1.2824e-9,5.81281e-7,3.79027e-10,1.15703e-7,9.67912e-11,1.20417e-8,1.74994e-11,-4.53913e-9,-3.2766e-13,-4.11335e-9],[0.0,0.0,0.0,0.0,0.0,0.0,0.0,0.0,0.0,0.0  \u2026  0.0,0.0,0.0,0.0,0.0,0.0,0.0,0.0,0.0,0.0],[0.0,-1.00009,-4.29325e-5,-0.0887065,-2.8219e-5,-0.00396954,-7.35068e-6,0.00403012,-6.20687e-7,0.00263361  \u2026  0.00118671,4.60762e-7,0.00046186,2.31343e-7,0.000164196,9.62237e-8,5.43094e-5,3.5693e-8,1.67569e-5,1.21679e-8],[0.7,0.000178885,-0.349972,3.24647e-5,-0.104959,-5.06107e-6,-0.0312494,-6.30404e-6,-0.00893946,-3.20911e-6  \u2026  -1.25649e-6,-0.000581325,-4.13409e-7,-0.000115728,-1.13166e-7,-1.2051e-5,-2.25429e-8,4.53678e-6,-6.05011e-10,4.11314e-6],[0.0,0.0,0.0,0.0,0.0,0.0,0.0,0.0,0.0,0.0  \u2026  0.0,0.0,0.0,0.0,0.0,0.0,0.0,0.0,0.0,0.0],[-0.3,8.94427e-5,0.0187929,2.90227e-5,0.00125399,3.46557e-6,8.83251e-5,-7.05385e-8,6.01858e-6,-2.57073e-7  \u2026  -1.13392e-7,-2.92006e-8,-3.11352e-8,-1.02953e-8,-3.8031e-9,6.29823e-10,1.70777e-9,1.9126e-9,1.50494e-9,1.0829e-9],[0.0,-0.250179,-2.77272e-5,-0.00764265,-9.72863e-6,-0.000383549,-2.69503e-6,-2.23581e-5,-5.01569e-7,-1.36088e-6  \u2026  -2.59197e-8,4.34918e-8,3.43825e-8,2.52667e-8,1.63749e-8,9.31479e-9,5.04348e-9,2.34472e-9,9.32671e-10,2.14376e-10],[0.0,0.0,0.0,0.0,0.0,0.0,0.0,0.0,0.0,0.0  \u2026  0.0,0.0,0.0,0.0,0.0,0.0,0.0,0.0,0.0,0.0]])"
       ]
      }
     ],
     "prompt_number": 39
    },
    {
     "cell_type": "code",
     "collapsed": false,
     "input": [
      "function TimeStep(Q,V,constante=1)\n",
      "    MINS_TOT=Float64[]\n",
      "    m=length(Q)\n",
      "    for i in 1:m\n",
      "        MINS_COORD=Float64[]\n",
      "        pot=inv(orderMax)\n",
      "        if V[i][end]==0\n",
      "        else\n",
      "            push!(MINS_COORD,(epsilon/abs(V[i][end]))^pot)\n",
      "        end\n",
      "        if Q[i][end]==0\n",
      "        else\n",
      "            push!(MINS_COORD,(epsilon/abs(Q[i][end]))^pot)\n",
      "        end\n",
      "        pot=inv(orderMax)-1\n",
      "        if V[i][end-1]==0\n",
      "        else\n",
      "            push!(MINS_COORD,(epsilon/abs(V[i][end-1]))^pot)\n",
      "        end\n",
      "        if Q[i][end-1]==0\n",
      "        else\n",
      "            push!(MINS_COORD,(epsilon/abs(Q[i][end-1]))^pot)\n",
      "        end\n",
      "        if length(MINS_COORD)==0\n",
      "        else\n",
      "            push!(MINS_TOT,minimum(MINS_COORD))\n",
      "        end\n",
      "    end\n",
      "    if length(MINS_TOT)==0\n",
      "        error(\"Auch\")#1.0\n",
      "    else\n",
      "        minimum(MINS_TOT)/constante\n",
      "    end\n",
      "end     "
     ],
     "language": "python",
     "metadata": {},
     "outputs": [
      {
       "metadata": {},
       "output_type": "pyout",
       "prompt_number": 40,
       "text": [
        "TimeStep (generic function with 2 methods)"
       ]
      }
     ],
     "prompt_number": 40
    },
    {
     "cell_type": "code",
     "collapsed": false,
     "input": [
      "h=TimeStep(q,v)"
     ],
     "language": "python",
     "metadata": {},
     "outputs": [
      {
       "metadata": {},
       "output_type": "pyout",
       "prompt_number": 41,
       "text": [
        "0.1859051184842421"
       ]
      }
     ],
     "prompt_number": 41
    },
    {
     "cell_type": "code",
     "collapsed": false,
     "input": [
      "function EvalHorner(Q,V,h)\n",
      "    order=length(Q[1])-1\n",
      "    n=length(Q)\n",
      "    Q0=[Float64[]]\n",
      "    V0=[Float64[]]\n",
      "    for j in 1:n\n",
      "        sumaQj=Q[j][order+1]\n",
      "        sumaVj=V[j][order+1]\n",
      "        for i in order:-1:1\n",
      "            sumaQj=Q[j][i]+h*sumaQj\n",
      "            sumaVj=V[j][i]+h*sumaVj\n",
      "        end\n",
      "#        for i in n-1:-1:1\n",
      "#            sumaVj=V[j][i]+h*sumaVj\n",
      "#        end\n",
      "        push!(Q0,sumaQj)\n",
      "        push!(V0,sumaVj)\n",
      "    end\n",
      "    Q0,V0        \n",
      "end"
     ],
     "language": "python",
     "metadata": {},
     "outputs": [
      {
       "metadata": {},
       "output_type": "pyout",
       "prompt_number": 42,
       "text": [
        "EvalHorner (generic function with 1 method)"
       ]
      }
     ],
     "prompt_number": 42
    },
    {
     "cell_type": "code",
     "collapsed": false,
     "input": [
      "EvalHorner(q,v,h)"
     ],
     "language": "python",
     "metadata": {},
     "outputs": [
      {
       "metadata": {},
       "output_type": "pyout",
       "prompt_number": 43,
       "text": [
        "([1.72667e-5,5.07665e-6,0.0,0.982691,0.129382,0.0,-0.0557297,1.99567,0.0],[0.000185826,5.87482e-5,0.0,-0.186494,0.687812,0.0,-0.299332,-0.0465597,0.0])"
       ]
      }
     ],
     "prompt_number": 43
    },
    {
     "cell_type": "code",
     "collapsed": false,
     "input": [
      "function TaylorStepper(f::Function,Q0,V0,M,tiempo,n,cte)\n",
      "    q,v=NextTaylors(f,Q0,V0,M,n)\n",
      "    h=TimeStep(q,v,cte)\n",
      "    c1,c2=EvalHorner(q,v,h)\n",
      "    tiempo+=h\n",
      "    return c1,c2,tiempo\n",
      "end"
     ],
     "language": "python",
     "metadata": {},
     "outputs": [
      {
       "metadata": {},
       "output_type": "pyout",
       "prompt_number": 44,
       "text": [
        "TaylorStepper (generic function with 1 method)"
       ]
      }
     ],
     "prompt_number": 44
    },
    {
     "cell_type": "code",
     "collapsed": false,
     "input": [
      "function TaylorIntegrator(Q0,V0,t0,tf,f,M,n=length(M),cte=1)\n",
      "    Q=[Float64[Q0[i]] for i in 1:3n]\n",
      "    V=[Float64[V0[i]] for i in 1:3n]\n",
      "    T=Float64[t0]\n",
      "    while t0<tf\n",
      "        Q0,V0,t0=TaylorStepper(f,Q0,V0,M,t0,n,cte)\n",
      "        push!(T,t0)\n",
      "        for i in 1:3n\n",
      "            push!(Q[i],Q0[i])\n",
      "            push!(V[i],V0[i])\n",
      "        end\n",
      "    end\n",
      "    T,Q,V\n",
      "end"
     ],
     "language": "python",
     "metadata": {},
     "outputs": [
      {
       "metadata": {},
       "output_type": "pyout",
       "prompt_number": 45,
       "text": [
        "TaylorIntegrator (generic function with 3 methods)"
       ]
      }
     ],
     "prompt_number": 45
    },
    {
     "cell_type": "code",
     "collapsed": false,
     "input": [
      "t,q,v=TaylorIntegrator(Q0,V0,t0,50,f,M,3,1);"
     ],
     "language": "python",
     "metadata": {},
     "outputs": [],
     "prompt_number": 58
    },
    {
     "cell_type": "code",
     "collapsed": false,
     "input": [
      "using PyPlot"
     ],
     "language": "python",
     "metadata": {},
     "outputs": [],
     "prompt_number": 18
    },
    {
     "cell_type": "code",
     "collapsed": false,
     "input": [
      "t"
     ],
     "language": "python",
     "metadata": {},
     "outputs": [
      {
       "metadata": {},
       "output_type": "pyout",
       "prompt_number": 59,
       "text": [
        "3871-element Array{Float64,1}:\n",
        "  0.0     \n",
        "  0.102035\n",
        "  0.194329\n",
        "  0.27613 \n",
        "  0.348712\n",
        "  0.413224\n",
        "  0.470695\n",
        "  0.521598\n",
        "  0.566421\n",
        "  0.606042\n",
        "  0.641209\n",
        "  0.672573\n",
        "  0.700734\n",
        "  \u22ee       \n",
        " 49.9011  \n",
        " 49.9072  \n",
        " 49.9137  \n",
        " 49.9207  \n",
        " 49.9283  \n",
        " 49.9367  \n",
        " 49.9458  \n",
        " 49.9557  \n",
        " 49.9667  \n",
        " 49.9786  \n",
        " 49.9919  \n",
        " 50.0065  "
       ]
      }
     ],
     "prompt_number": 59
    },
    {
     "cell_type": "code",
     "collapsed": false,
     "input": [
      "#con constante=1\n",
      "plot(q[1],q[2],\"o\")\n",
      "#plot(q[4],q[5],)"
     ],
     "language": "python",
     "metadata": {},
     "outputs": [
      {
       "metadata": {},
       "output_type": "display_data",
       "png": "[encoded data removed]",
       "text": [
        "Figure(PyObject <matplotlib.figure.Figure object at 0x7faed0689690>)"
       ]
      },
      {
       "metadata": {},
       "output_type": "pyout",
       "prompt_number": 60,
       "text": [
        "1-element Array{Any,1}:\n",
        " PyObject <matplotlib.lines.Line2D object at 0x7faed0605f90>"
       ]
      }
     ],
     "prompt_number": 60
    },
    {
     "cell_type": "code",
     "collapsed": false,
     "input": [
      "plot(q[1],q[2],\"o\")\n",
      "plot(q[4],q[5])\n",
      "plot(q[7],q[8])"
     ],
     "language": "python",
     "metadata": {},
     "outputs": [
      {
       "metadata": {},
       "output_type": "display_data",
       "png": "[encoded data removed]",
       "text": [
        "Figure(PyObject <matplotlib.figure.Figure object at 0x7faed03d8990>)"
       ]
      },
      {
       "metadata": {},
       "output_type": "pyout",
       "prompt_number": 64,
       "text": [
        "1-element Array{Any,1}:\n",
        " PyObject <matplotlib.lines.Line2D object at 0x7faed02de8d0>"
       ]
      }
     ],
     "prompt_number": 64
    },
    {
     "cell_type": "code",
     "collapsed": false,
     "input": [
      "function energies(t,q,v,M)\n",
      "    ll=length(t)\n",
      "    n=length(M)\n",
      "    Tx=[0.5*M[i]*v[3i-2] for i in 1:n]\n",
      "    Ty=[0.5*M[i]*v[3i-1] for i in 1:n]\n",
      "    Tz=[0.5*M[i]*v[3i] for i in 1:n]\n",
      "    U=Float64[]\n",
      "    for i in 1:n\n",
      "        u=Float64[]\n",
      "        dists=[Rconj(i,j,q) for j in 1:n]\n",
      "        if j==i\n",
      "        else\n",
      "            ui=M[j]/\n",
      "            push!(u,ui)\n",
      "        end\n",
      "        push!(U,sum(u))\n",
      "    end\n",
      "    Tx,Ty,Tz,U\n",
      "end"
     ],
     "language": "python",
     "metadata": {},
     "outputs": []
    }
   ],
   "metadata": {}
  }
 ]
}