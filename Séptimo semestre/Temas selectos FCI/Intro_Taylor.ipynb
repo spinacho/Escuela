{
 "metadata": {
  "language": "Julia",
  "name": "",
  "signature": "sha256:7905d63ea9fde25230e2afa71892fba08395f0bec2d5d1cea9f8183c46786cc6"
 },
 "nbformat": 3,
 "nbformat_minor": 0,
 "worksheets": [
  {
   "cells": [
    {
     "cell_type": "markdown",
     "metadata": {},
     "source": [
      "#Introducci\u00f3n a los polinomios de Taylor\n",
      "\n",
      "Vamos a intentar hacer el mismo proceso que para la derivada pero para series de Taylor.\n",
      "Buscamos entonces crear una variable tipo \"***Taylor***\". Cabe notar que, al multiplicar un polinomio de grado $n$ con uno de grado $m$, el grado del polinomio resultante es $n+m$.\n",
      "<p> Vamos a tener que, sean dos polinomios:\n",
      "$$p(x)=\\sum _{i=0} ^{n}a_ix^i,$$\n",
      "$$q(x)=\\sum _{i=0} ^{m}b_ix^i.$$\n",
      "(Tomando, sin p\u00e9rdida de generalidad, que $m\\leq n$, y que $b_j=0$ para $j\\in (m,n]$).\n",
      "Tenemos que la suma de los polinomios es entonces:\n",
      "$$(p+q)(x)=\\sum_{i=0}^{n} (a_i+b_i)x^i$$\n",
      "Y la multiplicaci\u00f3n ser\u00eda:\n",
      "$$(p*q)(x)=\\sum_{i=0}^{n} c_ix^i$$\n",
      "D\u00f3nde se tiene que:\n",
      "$$c_i=\\sum_{j=0}^i a_jb_{i-j}$$\n",
      "Y la divisi\u00f3n, si suponemos que los dos polinomios en efectio son divisibles (sea que el resultado de la divisi\u00f3n siga siendo un polinomio), se tiene que, sea $r(x)$ el resultado de la divisi\u00f3n:\n",
      "$$r(x)=\\frac{p(x)}{q(x)} \\text{  lo cual implica que:  } p(x)=r(x)q(x)$$\n",
      "Expresando a $r(x)$ con coeficientes $d_i$ (que son los que estamos buscando), se tiene que:\n",
      "$$\\sum _{i=0} ^{n}a_ix^i=\\Bigg[\\sum _{i=0} ^{n}d_ix^i\\Bigg]*\\Bigg[\\sum _{i=0} ^{n}b_ix^i\\Bigg]$$\n",
      "Teniendo que:\n",
      "$$a_l=\\sum_{t=0}^{l} d_tb_{l-t}=d_lb_0+\\sum_{t=0}^{l-1}d_tb_{l-t}$$\n",
      "Llegando finalmente a que:\n",
      "$$d_l=\\frac{1}{b_0}\\Bigg[a_l-\\sum _{t=0} ^{l-1}d_lb_{l-t}\\Bigg]$$"
     ]
    },
    {
     "cell_type": "markdown",
     "metadata": {},
     "source": [
      "Al final de toda esta serie, s\u00f3lo va a tener sentido si $a_0=0$."
     ]
    },
    {
     "cell_type": "markdown",
     "metadata": {},
     "source": [
      "Vamos a tomar:\n",
      "$$x(t)=\\sum_{i=0}^{n}x_it^i$$\n",
      "Tenemos entonces que: \n",
      "$$\\dot x(t)=\\sum_{i=1}^{n}ix_it^{i-1}$$\n",
      "Y la integral es:\n",
      "$$\\mathbb{X}(t)=\\int_0^tx(t)=\\sum_{i=0}^{n} \\frac{x_i}{i+1}t^{i+1}$$\n",
      "###La ecuaci\u00f3n diferencial:\n",
      "Si tenemos entonces el sistema $\\dot x=f(x)$, con $x(0)=a$. Si expresamos a $x(t)$ y a $f(t)$ como series del tiempo, se tiene que:\n",
      "$$x(t)=\\sum_{i=0}^{n}x_it^i$$\n",
      "$$f(x(t))=\\sum_{i=0}^{n}f_it^i$$\n",
      "Cabe notar que esta expansi\u00f3n var\u00eda en funci\u00f3n de la $x(t)$, por lo cual va a haber que ir cambiando la serie de potencias seg\u00fan vamos avanzando en el tiempo. (Ya que s\u00f3lo se tiene la igualdad en el caso de la serie infinita, cuando truncamos la serie tenemos que debemos de volver a hacer la aproximaci\u00f3n para un $t$ m\u00e1s grande dentro del radio de convergencia).\n",
      "<p>Igualando entonces la derivada con la funci\u00f3n, llegamos a que:\n",
      "$$\\sum_{i=1}^{n}ix_it^{i-1}=\\sum_{i=0}^{n}f_it^i$$\n",
      "Como esta igualdad se debe de cumplir para todo $t$, se tiene entonces que:\n",
      "$$x_{n+1}=\\frac{f_n}{n+1}$$"
     ]
    },
    {
     "cell_type": "markdown",
     "metadata": {},
     "source": [
      "####Ejemplo 1:\n",
      "Sea $\\dot x=-x^2$, con $x(0)=1$. Tenemos entonces que:\n",
      "$$x(t)=\\sum_{i=0}^{n}x_it^i$$\n",
      "###### (a) Soluci\u00f3n anal\u00edtica:\n",
      "Si se hacen los c\u00e1lculos, se llega a que:\n",
      "$$x(t)=\\frac{1}{1+t}$$\n",
      "###### (b) Soluci\u00f3n met\u00f3dica:\n",
      "$$f(x)=-x^2=-\\big[x_0+tx_1+t^2x_2+...+t^nx_n\\big]^2$$\n",
      "\n",
      "$$f(x)=-\\big[x_0^2+2x_0x_1t+(2x_0x_+x_1^2)t^2+(2x_0x_3+2x_1x_2)t^3+...)$$\n",
      "De aqu\u00ed llegamos a que:\n",
      "$$x_0=1, \\ \\ \\ , x_1=f_0=-1, \\ \\ \\ , x_2=\\frac{f_1}{2}=1, \\ \\ \\ , x_3=...=-1, ...$$"
     ]
    },
    {
     "cell_type": "markdown",
     "metadata": {},
     "source": [
      "Llegamos entonces a que:\n",
      "$$x(t)=1-t+t^2-t^3+...$$"
     ]
    },
    {
     "cell_type": "markdown",
     "metadata": {},
     "source": [
      "##Algunas aplicaciones\n",
      "###Exponencial de un polinomio\n",
      "Si ahora tomamos el polinomio:\n",
      "$$p(t)=p_0+p_1t+p_2t^2+...+p_nt^n$$\n",
      "Y queremos saber cuanto valen los coeficientes del polinomio\n",
      "$$q(t)=e^{p(t)}=q_0+q_1t+...+q_mt^m$$"
     ]
    },
    {
     "cell_type": "markdown",
     "metadata": {},
     "source": [
      "Derivando $q(t)$ llegamos a que:\n",
      "$$\\dot q=q*\\dot p$$\n",
      "D\u00f3nde:\n",
      "$$\\dot q=q_1+2q_2t+...+nq_nt^{n-1}$$\n",
      "Y:\n",
      "$$q*\\dot p=\\big[q_0+q_1t+...+q_nt^n\\big]*\\big[p_1+2p_2t+...+np_nt^{n-1}\\big]=q_0p_1+t(2q_0p_2+q_1p_1)+t^2(q_2p_1+2q_1p_2+3q_0p_3)+...$$"
     ]
    },
    {
     "cell_type": "markdown",
     "metadata": {},
     "source": [
      "De aqu\u00ed se llega a que:\n",
      "- $q_0=e^{p_0}$\n",
      "- $q_1=q_0*p_1$\n",
      "- $2q_2=2q_0p_2+q_1p1$\n",
      "- $...$\n",
      "- $(k+1)q_{k+1}=\\sum_{r=0}^k q_r(k-r+1)p_{k-r}$"
     ]
    },
    {
     "cell_type": "markdown",
     "metadata": {},
     "source": [
      "Llegando entonces a la f\u00f3rmula recursiva:\n",
      "$$q_{k+1}=\\frac{1}{k+1}\\sum_{r=0}^{k} (k-r+1)q_rp_{k-r+1}$$"
     ]
    },
    {
     "cell_type": "markdown",
     "metadata": {},
     "source": [
      "###Seno de un polinomio\n",
      "Tomemos ahora la ecuaci\u00f3n:\n",
      "$$q(t)=\\sin[p(t)]$$\n",
      "Se puede resolver este problema derivando dos veces (se llega a una ecuacion horrenda), o sino haciendo el sistema cruzado con seno y coseno, e ir sacando ambos coeficientes de las series en paralelo (la derie del seno saldr\u00e1 sacando el coseno y vice-versa)"
     ]
    },
    {
     "cell_type": "markdown",
     "metadata": {},
     "source": [
      "###Potencia de un polinomio:\n",
      "$$q(t)=[p(t)]^\\alpha$$\n",
      "Derivando y remplazando, llegamos finalmente a que:\n",
      "$$\\frac{\\dot q}{q}=\\alpha\\frac{\\dot p}{p}$$"
     ]
    },
    {
     "cell_type": "markdown",
     "metadata": {},
     "source": [
      "##La aproximaci\u00f3n:\n",
      "Para saber cuando va a converger la serie, queremos que los valores que estamos sumando al final sean \"suficientemente chiquitos\", sea que:\n",
      "$$t\\leq \\Bigg|\\frac{\\epsilon}{x_n}\\Bigg|^{\\frac{1}{n}}$$\n",
      "Tambi\u00e9n para hacer c\u00e1lculos m\u00e1s exactos, hay que empezar la suma con los t\u00e9rminos m\u00e1s peque\u00f1os, de forma que su aportaci\u00f3n no se borre debido a los c\u00e1lculos de la computadora."
     ]
    },
    {
     "cell_type": "markdown",
     "metadata": {},
     "source": [
      "Podr\u00edamos hacer un programa de este estilo: (sea $x(t)=x_0+x_1t+x_2t^2+x_3t^3$)"
     ]
    },
    {
     "cell_type": "code",
     "collapsed": false,
     "input": [
      "t=algo\n",
      "suma=0.0\n",
      "for i=3:-1:0\n",
      "    suma+=x[i]*t^i"
     ],
     "language": "python",
     "metadata": {},
     "outputs": []
    },
    {
     "cell_type": "markdown",
     "metadata": {},
     "source": [
      "Pero cabe notar que este programa es muy ineficiente, ya que en cada iteraci\u00f3n debe de elevar a una potencia un valor cuya potencia anterior ya hab\u00edamos calculado y hacer una multiplicaci\u00f3n. Es mucho m\u00e1s eficiente partir de la forma:\n",
      "$$x(t)=x_0+t(x_1+t(x_2+tx_3))$$\n",
      "Dando un programa de la forma:"
     ]
    },
    {
     "cell_type": "code",
     "collapsed": false,
     "input": [
      "suma=x3\n",
      "for i=2:-1:0\n",
      "    suma=x[i]+suma*t\n",
      "end"
     ],
     "language": "python",
     "metadata": {},
     "outputs": []
    },
    {
     "cell_type": "markdown",
     "metadata": {},
     "source": [
      "######(M\u00e9todo de Horner)\n",
      "Cabe notar entonces que, en cada iteraci\u00f3n, s\u00f3lo hace una suma y un producto, aprovechando los valores previamente calculados."
     ]
    },
    {
     "cell_type": "code",
     "collapsed": false,
     "input": [],
     "language": "python",
     "metadata": {},
     "outputs": []
    }
   ],
   "metadata": {}
  }
 ]
}