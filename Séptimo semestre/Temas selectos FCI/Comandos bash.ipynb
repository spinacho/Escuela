{
 "metadata": {
  "language": "Julia",
  "name": "",
  "signature": "sha256:3630250ab4f91881cf958fba11f8a90851eddfd68ab761b6908af12ed7da02fa"
 },
 "nbformat": 3,
 "nbformat_minor": 0,
 "worksheets": [
  {
   "cells": [
    {
     "cell_type": "markdown",
     "metadata": {},
     "source": [
      "##Recordemos algunos comandos del bash:\n",
      "- touch: crea un archivo con el nombre que le pongamos (sint\u00e1xis: touch archivo.ext)\n",
      "- cat: concatena la salida de lo que le demos\n",
      "- vit: editor de textos de la terminal, tambi\u00e9n lo podemos utilizar para crear un nuevo archivo\n",
      "- pwd: muestra la direcci\u00f3n absoluta en la que nos encontramos\n",
      "- man: abre el manual para la funci\u00f3n que pongamos\n"
     ]
    },
    {
     "cell_type": "code",
     "collapsed": false,
     "input": [],
     "language": "python",
     "metadata": {},
     "outputs": []
    }
   ],
   "metadata": {}
  }
 ]
}