{
 "metadata": {
  "language": "Julia",
  "name": "",
  "signature": "sha256:798f4153e713a7b61d2111fe4777d04fc07c09345ea9808370a3de3b9695e2e7"
 },
 "nbformat": 3,
 "nbformat_minor": 0,
 "worksheets": [
  {
   "cells": [
    {
     "cell_type": "markdown",
     "metadata": {},
     "source": [
      "We will cover the following topics:"
     ]
    },
    {
     "cell_type": "markdown",
     "metadata": {},
     "source": [
      "- [Why Julia?](Why Julia.ipynb) (presentation)\n",
      "- Fractal examples \n",
      "- [Basic Julia syntax](Introduction to Julia.ipynb)\n",
      "- [Graphics and packages](Packages and graphics in Julia.ipynb)\n",
      "- [Defining a new type](Example of defining a new type.ipynb)\n",
      "- [Performance in Julia](Performance in Julia.ipynb)\n",
      "- [Metaprogramming](Metaprogramming.ipynb)\n",
      "- [Interoperability with Python and C](Interoperability with Python and C.ipynb)\n",
      "- [Where to go next](What's next.ipynb)"
     ]
    }
   ],
   "metadata": {}
  }
 ]
}