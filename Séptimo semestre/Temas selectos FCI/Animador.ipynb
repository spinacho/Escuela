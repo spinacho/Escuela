{
 "metadata": {
  "language": "Julia",
  "name": "",
  "signature": "sha256:58d74cab53efb94706ad6dde718f8e9db6b5b1cf07342354b7eb1c7a829ff770"
 },
 "nbformat": 3,
 "nbformat_minor": 0,
 "worksheets": [
  {
   "cells": [
    {
     "cell_type": "code",
     "collapsed": false,
     "input": [
      "using PyCall\n",
      "using PyPlot\n",
      "@pyimport matplotlib.animation as anim;"
     ],
     "language": "python",
     "metadata": {},
     "outputs": [],
     "prompt_number": 1
    },
    {
     "cell_type": "markdown",
     "metadata": {},
     "source": [
      "Queremos una funci\u00f3n que, al meter un conjunto de tiempos $\\mathbb{T}$ correspondiente a un conjunto de posiciones $\\mathbb{X}$, nos arroje una interpolaci\u00f3n de tal forma que el nuevo conjunto $T$ est\u00e9 espaciado uniformemente, y que las posiciones $Q$ correspondad a la interpolaci\u00f3n de este conjunto."
     ]
    },
    {
     "cell_type": "code",
     "collapsed": false,
     "input": [
      "function interpolator(T::Array,Q::Array,h::Number)\n",
      "    t0=T[1]\n",
      "    tf=T[end]\n",
      "    tiempo=[t0:h:tf]\n",
      "    pos=Float64[]\n",
      "    j=1\n",
      "    ll=length(tiempo)\n",
      "    for i in 1:ll\n",
      "        while T[j]<tiempo[i]\n",
      "            j=j+1\n",
      "        end\n",
      "        if j==1\n",
      "            promedio=Q[1]\n",
      "        else\n",
      "            promedio=(Q[j]+Q[j-1])/2\n",
      "        end\n",
      "        push!(pos,promedio)\n",
      "    end\n",
      "    tiempo,promedio\n",
      "end"
     ],
     "language": "python",
     "metadata": {},
     "outputs": [
      {
       "metadata": {},
       "output_type": "pyout",
       "prompt_number": 2,
       "text": [
        "interpolator (generic function with 1 method)"
       ]
      }
     ],
     "prompt_number": 2
    },
    {
     "cell_type": "markdown",
     "metadata": {},
     "source": [
      "Ahora vamos a generalizar esto para que $Q$ sea un conjunto de conjuntos como la salida del m\u00e9todo de Taylor:"
     ]
    },
    {
     "cell_type": "code",
     "collapsed": false,
     "input": [
      "function ninterpolator(T::Array,Q::Array,h::Number)\n",
      "    m=length(Q)\n",
      "    q=Any[]\n",
      "    for i in 1:m\n",
      "        t,qi=interpolator(T,Q[i],h)\n",
      "        push!(q,qi)\n",
      "    end\n",
      "    t,q\n",
      "end"
     ],
     "language": "python",
     "metadata": {},
     "outputs": [
      {
       "metadata": {},
       "output_type": "pyout",
       "prompt_number": 3,
       "text": [
        "ninterpolator (generic function with 1 method)"
       ]
      }
     ],
     "prompt_number": 3
    },
    {
     "cell_type": "code",
     "collapsed": false,
     "input": [
      "function conjuntadora(Q,A)\n",
      "    m=length(Q)\n",
      "    if length(A)>m\n",
      "        error(\"Es m\u00e1s grande el conjunto a reducir que el original\")\n",
      "    end\n",
      "    q=[Float64[Q[i]] for i in 1:A]\n",
      "    ll=length(Q[1])\n",
      "    for s in 1:A\n",
      "        for i in 1:ll\n",
      "            push!(q[s],Q[s][i])\n",
      "        end\n",
      "    end\n",
      "    q\n",
      "end"
     ],
     "language": "python",
     "metadata": {},
     "outputs": [
      {
       "metadata": {},
       "output_type": "pyout",
       "prompt_number": 4,
       "text": [
        "conjuntadora (generic function with 1 method)"
       ]
      }
     ],
     "prompt_number": 4
    },
    {
     "cell_type": "code",
     "collapsed": false,
     "input": [
      "function minimos(Q)\n",
      "    xmin=Float64[]\n",
      "    ymin=Float64[]\n",
      "    zmin=Float64[]\n",
      "    m=length(Q)\n",
      "    n=div(m,3)\n",
      "    for i in 1:n\n",
      "        push!(xmin,minimum(Q[3i-2]))\n",
      "        push!(ymin,minimum(Q[3i-1]))\n",
      "        push!(zmin,minimum(Q[3i]))\n",
      "    end\n",
      "    minimum(xmin),minimum(ymin),minimum(zmin)\n",
      "end"
     ],
     "language": "python",
     "metadata": {},
     "outputs": [
      {
       "metadata": {},
       "output_type": "pyout",
       "prompt_number": 5,
       "text": [
        "minimos (generic function with 1 method)"
       ]
      }
     ],
     "prompt_number": 5
    },
    {
     "cell_type": "code",
     "collapsed": false,
     "input": [
      "function maximos(Q)\n",
      "    xmax=Float64[]\n",
      "    ymax=Float64[]\n",
      "    zmax=Float64[]\n",
      "    m=length(Q)\n",
      "    n=div(m,3)\n",
      "    for i in 1:n\n",
      "        push!(xmax,maximum(Q[3i-2]))\n",
      "        push!(ymax,maximum(Q[3i-1]))\n",
      "        push!(zmax,maximum(Q[3i]))\n",
      "    end\n",
      "    minimum(xmax),minimum(ymax),minimum(zmax)\n",
      "end"
     ],
     "language": "python",
     "metadata": {},
     "outputs": [
      {
       "metadata": {},
       "output_type": "pyout",
       "prompt_number": 6,
       "text": [
        "maximos (generic function with 1 method)"
       ]
      }
     ],
     "prompt_number": 6
    },
    {
     "cell_type": "code",
     "collapsed": false,
     "input": [
      "function limitadora(Q)\n",
      "    xmin,ymin,zmin=minimos(Q)\n",
      "    xmax,ymax,zmax=maximos(Q)\n",
      "    xsup=xmax+((xmax-xmin)/20)\n",
      "    xinf=xmin-((xmax-xmin)/20)\n",
      "    ysup=ymax+((ymax-ymin)/20)\n",
      "    yinf=ymin-((ymax-ymin)/20)\n",
      "    zsup=zmax+((zmax-zmin)/20)\n",
      "    zinf=zmin-((zmax-zmin)/20)\n",
      "    xinf,xsup,yinf,ysup,zinf,zsup\n",
      "end"
     ],
     "language": "python",
     "metadata": {},
     "outputs": [
      {
       "metadata": {},
       "output_type": "pyout",
       "prompt_number": 7,
       "text": [
        "limitadora (generic function with 1 method)"
       ]
      }
     ],
     "prompt_number": 7
    },
    {
     "cell_type": "code",
     "collapsed": false,
     "input": [
      "function por_animar(T,Q,A,h)\n",
      "    a=lenght(A)\n",
      "    q=conjuntadora(Q,A)\n",
      "    if isodd(a)\n",
      "        error(\"A tiene un n\u00famero impar de elementos\")\n",
      "    end\n",
      "    t,q=ninterpolator(T,q,h)\n",
      "    xinf,xsup,yinf,ysup,zinf,zsup=limitadora(q)\n",
      "    t,q,xinf,xsup,yinf,ysup\n",
      "end"
     ],
     "language": "python",
     "metadata": {},
     "outputs": [
      {
       "metadata": {},
       "output_type": "pyout",
       "prompt_number": 8,
       "text": [
        "por_animar (generic function with 1 method)"
       ]
      }
     ],
     "prompt_number": 8
    },
    {
     "cell_type": "code",
     "collapsed": false,
     "input": [
      "function separadora(Q)\n",
      "    m=length(Q)\n",
      "    equices=[1]\n",
      "    yes=[2]\n",
      "    for i in 3:m\n",
      "        if isodd(i)\n",
      "            push!(equices,i)\n",
      "        else\n",
      "            push!(yes,i)\n",
      "        end\n",
      "    end\n",
      "    qx=[Q[i] for i in equices]\n",
      "    qy=[Q[i] for i in yes]\n",
      "    qx,qy\n",
      "end"
     ],
     "language": "python",
     "metadata": {},
     "outputs": [
      {
       "metadata": {},
       "output_type": "pyout",
       "prompt_number": 9,
       "text": [
        "separadora (generic function with 1 method)"
       ]
      }
     ],
     "prompt_number": 9
    },
    {
     "cell_type": "code",
     "collapsed": false,
     "input": [
      "\n",
      "\n",
      "# Configuraci\u00f3n del lienzo\n",
      "fig = figure()\n",
      "ax = plt.axes(xlim=(-2, 2), ylim=(-1, 1))\n",
      "#los l\u00edmites de los ejes van a salir de los que salieron de la funcion por_animar\n",
      "\n",
      "global line1 = ax[:plot]([], [], \"bo\", lw=2)[1]\n",
      "\n",
      "# Inicializaci\u00f3n\n",
      "function init()\n",
      "    global line1\n",
      "\n",
      "    line1[:set_data]([], [])\n",
      "\n",
      "    return ([line1],None)\n",
      "end\n",
      "\n",
      "\n",
      "# Esta funci\u00f3n dibuja lo que aparece en cada cuadro de la animaci\u00f3n\n",
      "# i es el n\u00famero de cuadro o el n-\u00e9simo paso de tiempo\n",
      "# Por ejemplo, puede ser el n\u00famero de paso en el m\u00e9todo de Euler\n",
      "# La funci\u00f3n es llamada secuencialmente por anim.FuncAnimation para cada cuadro\n",
      "function animate(i)\n",
      "    global line1\n",
      "    # i+1 para que i=0 sea x[1]\n",
      "    line1[:set_data]([X1[i+1],X2[i+1]],[0,0])\n",
      "    return ([line1],None)\n",
      "end\n",
      "\n",
      "myanim = anim.FuncAnimation(fig, animate, init_func=init, frames=100, interval=20, blit=true);\n",
      "myanim[:save](\"carritos.gif\", writer=\"imagemagick\", fps=30);"
     ],
     "language": "python",
     "metadata": {},
     "outputs": []
    },
    {
     "cell_type": "code",
     "collapsed": false,
     "input": [
      "function init()\n",
      "    global line1\n",
      "\n",
      "    line1[:set_data]([], [])\n",
      "\n",
      "    return ([line1],None)\n",
      "end"
     ],
     "language": "python",
     "metadata": {},
     "outputs": []
    },
    {
     "cell_type": "code",
     "collapsed": false,
     "input": [
      "function animacion(T,Q,A,h,fmes=100,framesps=30,itvl=20,nombre=\"Animaci\u00f3n\")\n",
      "    t,q,xinf,xsup,yinf,ysup=por_animar(T,Q,A,h)\n",
      "    fig = figure()\n",
      "    ax = plt.axes(xlim=(xinf, xsupo), ylim=(yinf, ysup))\n",
      "    X,Y=separadora(Q)\n",
      "    \n",
      "    global line1 = ax[:plot]([], [], \"ks\", lw=2)[1]\n",
      "    \n",
      "    function init()\n",
      "        global line1\n",
      "\n",
      "        line1[:set_data]([], [])\n",
      "\n",
      "        return ([line1],None)\n",
      "    end\n",
      "    \n",
      "    function animate(i)\n",
      "        global line1\n",
      "        # i+1 para que i=0 sea x[1]\n",
      "        line1[:set_data]([X],[Y])\n",
      "        return ([line1],None)\n",
      "    end\n",
      "    name=nombre*\".gif\"\n",
      "    myanim = anim.FuncAnimation(fig, animate, init_func=init, frames=fmes, interval=itvl, blit=true);\n",
      "    myanim[:save](name, writer=\"imagemagick\", fps=framesps)\n",
      "end"
     ],
     "language": "python",
     "metadata": {},
     "outputs": [
      {
       "metadata": {},
       "output_type": "pyout",
       "prompt_number": 10,
       "text": [
        "animacion (generic function with 5 methods)"
       ]
      }
     ],
     "prompt_number": 10
    },
    {
     "cell_type": "code",
     "collapsed": false,
     "input": [],
     "language": "python",
     "metadata": {},
     "outputs": []
    }
   ],
   "metadata": {}
  }
 ]
}