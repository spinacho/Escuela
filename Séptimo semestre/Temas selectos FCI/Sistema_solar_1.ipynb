{
 "metadata": {
  "language": "Julia",
  "name": "",
  "signature": "sha256:f021f5dff98767d69485ec6e2245432c5d66c16c130862461c979e5dc0068440"
 },
 "nbformat": 3,
 "nbformat_minor": 0,
 "worksheets": [
  {
   "cells": [
    {
     "cell_type": "code",
     "collapsed": false,
     "input": [
      "include (\"Taylor.jl\");"
     ],
     "language": "python",
     "metadata": {},
     "outputs": [],
     "prompt_number": 1
    },
    {
     "cell_type": "markdown",
     "metadata": {},
     "source": [
      "En general, para Taylor:\n",
      "$$x_{n+1}=\\frac{f_n(x)}{n+1}$$"
     ]
    },
    {
     "cell_type": "markdown",
     "metadata": {},
     "source": [
      "#[1] - Estrella-planeta\n",
      "Vamos a tomar a la estrella con posici\u00f3n inicial $(0,0)$, con masa adimensional $M=1$, y tomando $G=1$. Vamos a tomar sus coordenadas generalizadas $[R(t),\\Theta(t)$]. Ahora vamos a tomar a un planeta con posici\u00f3n inicial $(r_0,\\theta_0)$ y con masa adimensional $m$. Llegamos a que las ecuaciones de movimiento de cada uno de los astros son entonces:\n",
      "$$\\vec F(planeta)=\\ddot r(t)=\\frac{1}{d^2}\\hat d=\\frac{1}{d^3}\\vec d$$\n",
      "D\u00f3nde $$d=\\sqrt{(\\vec R-\\vec r)\\dot{}(\\vec R-\\vec r)} = \\sqrt{R^2-2\\vec R\\dot{}\\vec r+r^2}=\\sqrt{R^2+r^2-2Rr\\cos(\\theta-\\Theta)}$$"
     ]
    },
    {
     "cell_type": "markdown",
     "metadata": {},
     "source": [
      "Y:\n",
      "$$\\vec d=\\vec R-\\vec r = (R\\cos\\Theta-r\\cos\\theta,R\\sin\\Theta-r\\sin\\theta)$$"
     ]
    },
    {
     "cell_type": "markdown",
     "metadata": {},
     "source": [
      "An\u00e1logamente:\n",
      "$$\\vec F(estrella)=\\ddot R(t)=-\\frac{m}{d^3}\\vec d$$"
     ]
    },
    {
     "cell_type": "markdown",
     "metadata": {},
     "source": [
      "$$d=R\\sqrt{1+\\Big(\\frac{r}{R}\\Big)^2-2\\frac{r}{R}\\cos(\\theta-\\Theta)}$$"
     ]
    },
    {
     "cell_type": "markdown",
     "metadata": {},
     "source": [
      "Tomando $R=1$, llegamos a que:"
     ]
    },
    {
     "cell_type": "markdown",
     "metadata": {},
     "source": [
      "$$d=\\sqrt{1+r^2-2r\\cos(\\theta-\\Theta)}$$"
     ]
    },
    {
     "cell_type": "markdown",
     "metadata": {},
     "source": [
      "Primera aproximaci\u00f3n: $R(t)=\\Theta(t)=0$ (la estrella es el centro de coordenadas)."
     ]
    },
    {
     "cell_type": "markdown",
     "metadata": {},
     "source": [
      "$$\\Rightarrow\\ddot{ \\vec r}(t)=\\frac{1}{r^3}\\vec r$$"
     ]
    },
    {
     "cell_type": "markdown",
     "metadata": {},
     "source": [
      "Tenemos entonces las siguientes dos ecuaciones:\n",
      "$$\\ddot x(t)=\\frac{x}{r^3}$$\n",
      "<p>\n",
      "<p>\n",
      "$$\\ddot y(t)=\\frac{y}{r^3}$$\n",
      "D\u00f3nde, sean:\n",
      "$$x_1(t)=\\sum_{i=0}^{\\infty} a_it^i$$\n",
      "$$x_2(t)=\\sum_{i=0}^{\\infty} b_it^i$$\n",
      "Por lo cual:"
     ]
    },
    {
     "cell_type": "markdown",
     "metadata": {},
     "source": [
      "En este caso, se tiene que:"
     ]
    },
    {
     "cell_type": "markdown",
     "metadata": {},
     "source": [
      "$$L=T-U=\\frac{1}{2}m(\\dot x^2(t)+\\dot y^2(t))-\\frac{1}{(x^2(t)+y^2(t))^{\\frac{1}{2}}}$$"
     ]
    },
    {
     "cell_type": "markdown",
     "metadata": {},
     "source": [
      "$$\\frac{d}{dt}\\frac{\\partial{L}}{\\partial \\dot x_i}-\\frac{\\partial L}{\\partial x_i}=0=m\\ddot x_i(t)-\\frac{x_i}{(x_1^2(t)+x_2^2(t))^{\\frac{3}{2}}}$$"
     ]
    },
    {
     "cell_type": "markdown",
     "metadata": {},
     "source": [
      "Vamos a separar en 4 ecuaciones de primer grado:\n",
      "$$\\dot x_1(t)=y_1(t)$$\n",
      "<p>\n",
      "$$\\dot x_2(t)=y_2(t)$$\n",
      "<p>\n",
      "$$\\dot y_1(t)=\\frac{x_1(t)}{m\\sqrt{x_1^2(t)+x_2^2(t)}^3}$$\n",
      "<p>\n",
      "$$\\dot y_2(t)=\\frac{x_2(t)}{m\\sqrt{x_1^2(t)+x_2^2(t)}^3}$$\n",
      "<p>"
     ]
    },
    {
     "cell_type": "code",
     "collapsed": false,
     "input": [
      "const orderMax=18\n",
      "const epsilon=1e-20;"
     ],
     "language": "python",
     "metadata": {},
     "outputs": [],
     "prompt_number": 1
    },
    {
     "cell_type": "code",
     "collapsed": false,
     "input": [
      "f1(x1,xdot1,x2,xdot2,m)=xdot1\n",
      "f2(x1,xdot1,x2,xdot2,m)=xdot2\n",
      "g1(x1,xdot1,x2,xdot2,m)=x1/(m*sqrt(x1^2+x2^2))\n",
      "g2(x1,xdot1,x2,xdot2,m)=x2/(m*sqrt(x1^2+x2^2));"
     ],
     "language": "python",
     "metadata": {},
     "outputs": [],
     "prompt_number": 2
    },
    {
     "cell_type": "markdown",
     "metadata": {},
     "source": [
      "Tomemos las condiciones iniciales $x_1(0)=1e-5,\\ x_2(0)=0,\\ y_1(0)=1e-4,\\ y_2(0)=1e-4$:"
     ]
    },
    {
     "cell_type": "code",
     "collapsed": false,
     "input": [
      "q00=Taylor(1e-5)\n",
      "q10=Taylor(0)\n",
      "p00=Taylor(1e-4)\n",
      "p10=Taylor(1e-4);"
     ],
     "language": "python",
     "metadata": {},
     "outputs": [
      {
       "ename": "LoadError",
       "evalue": "Taylor not defined\nwhile loading In[3], in expression starting on line 1",
       "output_type": "pyerr",
       "traceback": [
        "Taylor not defined\nwhile loading In[3], in expression starting on line 1",
        ""
       ]
      }
     ],
     "prompt_number": 3
    },
    {
     "cell_type": "code",
     "collapsed": false,
     "input": [
      "function NextTaylors(f1,f2,g1,g2,C0,m)\n",
      "    v1=[C0[1]]\n",
      "    v2=[C0[2]]\n",
      "    a1=[C0[3]]\n",
      "    a2=[C0[4]]\n",
      "    for ord=1:orderMax\n",
      "        q00=Taylor(v1)\n",
      "        q10=Taylor(v2)\n",
      "        p00=Taylor(a1)\n",
      "        p10=Taylor(a2)\n",
      "        c11=f1(q00,q10,p00,p10,m).coeffs[ord]/ord\n",
      "        c12=f2(q00,q10,p00,p10,m).coeffs[ord]/ord\n",
      "        c21=g1(q00,q10,p00,p10,m).coeffs[ord]/ord\n",
      "        c22=g2(q00,q10,p00,p10,m).coeffs[ord]/ord\n",
      "        push!(v1,c11)\n",
      "        push!(v2,c12)\n",
      "        push!(a1,c21)\n",
      "        push!(a2,c22)\n",
      "    end\n",
      "    v1,v2,a1,a2\n",
      "end"
     ],
     "language": "python",
     "metadata": {},
     "outputs": [
      {
       "metadata": {},
       "output_type": "pyout",
       "prompt_number": 4,
       "text": [
        "NextTaylors (generic function with 1 method)"
       ]
      }
     ],
     "prompt_number": 4
    },
    {
     "cell_type": "code",
     "collapsed": false,
     "input": [
      "function TimeStep(v1,v2,a1,a2)\n",
      "    pot=inv(orderMax)\n",
      "    h1=(epsilon/abs(v1[end]))^pot\n",
      "    pot=inv(orderMax)-1\n",
      "    h2=(epsilon/abs(v1[end-1]))^pot\n",
      "    hv1=min(h1,h2)\n",
      "    pot=inv(orderMax)\n",
      "    h1=(epsilon/abs(v2[end]))^pot\n",
      "    pot=inv(orderMax)-1\n",
      "    h2=(epsilon/abs(v2[end-1]))^pot\n",
      "    hv2=min(h1,h2)\n",
      "    pot=inv(orderMax)\n",
      "    h1=(epsilon/abs(a1[end]))^pot\n",
      "    pot=inv(orderMax)-1\n",
      "    h2=(epsilon/abs(a1[end-1]))^pot\n",
      "    ha1=min(h1,h2)\n",
      "    pot=inv(orderMax)\n",
      "    h1=(epsilon/abs(a2[end]))^pot\n",
      "    pot=inv(orderMax)-1\n",
      "    h2=(epsilon/abs(a2[end-1]))^pot\n",
      "    ha2=min(h1,h2)\n",
      "    min(hv1,hv2,ha1,ha2)\n",
      "\n",
      "end"
     ],
     "language": "python",
     "metadata": {},
     "outputs": [
      {
       "metadata": {},
       "output_type": "pyout",
       "prompt_number": 5,
       "text": [
        "TimeStep (generic function with 1 method)"
       ]
      }
     ],
     "prompt_number": 5
    },
    {
     "cell_type": "code",
     "collapsed": false,
     "input": [
      "function EvalsHorner(v1,v2,a1,a2,h)\n",
      "    mv1=length(v1)\n",
      "    sumav1,sumav2,sumaa1,sumaa2=0.0,0.0,0.0,0.0\n",
      "    for i=mv1-1:-1:1\n",
      "        sumav1=v1[i]+h*sumav1\n",
      "        \n",
      "    end\n",
      "    \n",
      "    for i=mv2-1:-1:1\n",
      "        sumav2=v2[i]+h*sumav2\n",
      "        \n",
      "    end\n",
      "    \n",
      "    for i=ma1-1:-1:1\n",
      "        sumaa1=a1[i]+h*sumaa1\n",
      "        \n",
      "    end\n",
      "    \n",
      "    for i=ma2-1:-1:1\n",
      "        sumaa2=a2[i]+h*sumaa2\n",
      "        \n",
      "    end\n",
      "    sumav1,sumav2,sumaa1,sumaa2\n",
      "end"
     ],
     "language": "python",
     "metadata": {},
     "outputs": [
      {
       "metadata": {},
       "output_type": "pyout",
       "prompt_number": 6,
       "text": [
        "EvalsHorner (generic function with 1 method)"
       ]
      }
     ],
     "prompt_number": 6
    },
    {
     "cell_type": "code",
     "collapsed": false,
     "input": [
      "function TaylorStepper(f1,f2,g1,g2,c0,tiempo)\n",
      "    v=NextTaylor(f,c0)\n",
      "    h=TimeStep(v)\n",
      "    c1=EvalHorner(v,h)\n",
      "    tiempo+=h\n",
      "    return c1,tiempo\n",
      "end"
     ],
     "language": "python",
     "metadata": {},
     "outputs": [
      {
       "metadata": {},
       "output_type": "pyout",
       "prompt_number": 7,
       "text": [
        "TaylorStepper (generic function with 1 method)"
       ]
      }
     ],
     "prompt_number": 7
    },
    {
     "cell_type": "code",
     "collapsed": false,
     "input": [
      "x01=1.0\n",
      "x02=0.0\n",
      "v01=0.0\n",
      "v02=0.7\n",
      "tiempo=0\n",
      "while tiempo<10.0\n",
      "    x0, tiempo = TaylorStepper(f,x0,tiempo)\n",
      "    println(tiempo,\"\\t\",x0,\"\\t\", (abs(inv(1+tiempo)-x0))/eps(1.0))\n",
      "end"
     ],
     "language": "python",
     "metadata": {},
     "outputs": []
    }
   ],
   "metadata": {}
  }
 ]
}