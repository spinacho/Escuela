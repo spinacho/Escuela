{
 "metadata": {
  "language": "Julia",
  "name": "",
  "signature": "sha256:e4fa1001b9b8a4cb31067665b806a592d470e406b1abfd3d7491f6d82abb6495"
 },
 "nbformat": 3,
 "nbformat_minor": 0,
 "worksheets": [
  {
   "cells": [
    {
     "cell_type": "code",
     "collapsed": false,
     "input": [
      "include (\"Taylor.jl\");"
     ],
     "language": "python",
     "metadata": {},
     "outputs": [],
     "prompt_number": 1
    },
    {
     "cell_type": "markdown",
     "metadata": {},
     "source": [
      "En general, para Taylor:\n",
      "$$x_{n+1}=\\frac{f_n(x)}{n+1}$$"
     ]
    },
    {
     "cell_type": "markdown",
     "metadata": {},
     "source": [
      "#[1] - Estrella-planeta\n",
      "Vamos a tomar a la estrella con posici\u00f3n inicial $(0,0)$, con masa adimensional $M=1$, y tomando $G=1$. Vamos a tomar sus coordenadas generalizadas $[R(t),\\Theta(t)$]. Ahora vamos a tomar a un planeta con posici\u00f3n inicial $(r_0,\\theta_0)$ y con masa adimensional $m$. Llegamos a que las ecuaciones de movimiento de cada uno de los astros son entonces:\n",
      "$$\\vec F(planeta)=\\ddot r(t)=\\frac{1}{d^2}\\hat d=\\frac{1}{d^3}\\vec d$$\n",
      "D\u00f3nde $$d=\\sqrt{(\\vec R-\\vec r)\\dot{}(\\vec R-\\vec r)} = \\sqrt{R^2-2\\vec R\\dot{}\\vec r+r^2}=\\sqrt{R^2+r^2-2Rr\\cos(\\theta-\\Theta)}$$"
     ]
    },
    {
     "cell_type": "markdown",
     "metadata": {},
     "source": [
      "Y:\n",
      "$$\\vec d=\\vec R-\\vec r = (R\\cos\\Theta-r\\cos\\theta,R\\sin\\Theta-r\\sin\\theta)$$"
     ]
    },
    {
     "cell_type": "markdown",
     "metadata": {},
     "source": [
      "An\u00e1logamente:\n",
      "$$\\vec F(estrella)=\\ddot R(t)=-\\frac{m}{d^3}\\vec d$$"
     ]
    },
    {
     "cell_type": "markdown",
     "metadata": {},
     "source": [
      "$$d=R\\sqrt{1+\\Big(\\frac{r}{R}\\Big)^2-2\\frac{r}{R}\\cos(\\theta-\\Theta)}$$"
     ]
    },
    {
     "cell_type": "markdown",
     "metadata": {},
     "source": [
      "Tomando $R=1$, llegamos a que:"
     ]
    },
    {
     "cell_type": "markdown",
     "metadata": {},
     "source": [
      "$$d=\\sqrt{1+r^2-2r\\cos(\\theta-\\Theta)}$$"
     ]
    },
    {
     "cell_type": "markdown",
     "metadata": {},
     "source": [
      "Primera aproximaci\u00f3n: $R(t)=\\Theta(t)=0$ (la estrella es el centro de coordenadas)."
     ]
    },
    {
     "cell_type": "markdown",
     "metadata": {},
     "source": [
      "$$\\Rightarrow\\ddot{ \\vec r}(t)=\\frac{1}{r^3}\\vec r$$"
     ]
    },
    {
     "cell_type": "markdown",
     "metadata": {},
     "source": [
      "Tenemos entonces las siguientes dos ecuaciones:\n",
      "$$\\ddot x(t)=\\frac{x}{r^3}$$\n",
      "<p>\n",
      "<p>\n",
      "$$\\ddot y(t)=\\frac{y}{r^3}$$\n",
      "D\u00f3nde, sean:\n",
      "$$x_1(t)=\\sum_{i=0}^{\\infty} a_it^i$$\n",
      "$$x_2(t)=\\sum_{i=0}^{\\infty} b_it^i$$\n",
      "Por lo cual:"
     ]
    },
    {
     "cell_type": "markdown",
     "metadata": {},
     "source": [
      "En este caso, se tiene que:"
     ]
    },
    {
     "cell_type": "markdown",
     "metadata": {},
     "source": [
      "$$L=T-U=\\frac{1}{2}m(\\dot x^2(t)+\\dot y^2(t))-\\frac{1}{(x^2(t)+y^2(t))^{\\frac{1}{2}}}$$"
     ]
    },
    {
     "cell_type": "markdown",
     "metadata": {},
     "source": [
      "$$\\frac{d}{dt}\\frac{\\partial{L}}{\\partial \\dot x_i}-\\frac{\\partial L}{\\partial x_i}=0=m\\ddot x_i(t)-\\frac{x_i}{(x_1^2(t)+x_2^2(t))^{\\frac{3}{2}}}$$"
     ]
    },
    {
     "cell_type": "markdown",
     "metadata": {},
     "source": [
      "Vamos a separar en 4 ecuaciones de primer grado:\n",
      "$$\\dot x_1(t)=y_1(t)$$\n",
      "<p>\n",
      "$$\\dot x_2(t)=y_2(t)$$\n",
      "<p>\n",
      "$$\\dot y_1(t)=\\frac{x_1(t)}{m\\sqrt{x_1^2(t)+x_2^2(t)}}$$\n",
      "<p>\n",
      "$$\\dot y_2(t)=\\frac{x_2(t)}{m\\sqrt{x_1^2(t)+x_2^2(t)}}$$\n",
      "<p>"
     ]
    },
    {
     "cell_type": "code",
     "collapsed": false,
     "input": [
      "const orderMax=18\n",
      "const epsilon=1e-20;"
     ],
     "language": "python",
     "metadata": {},
     "outputs": [],
     "prompt_number": 2
    },
    {
     "cell_type": "code",
     "collapsed": false,
     "input": [
      "f1(x1,xdot1,x2,xdot2,m)=xdot1\n",
      "f2(x1,xdot1,x2,xdot2,m)=xdot2\n",
      "g1(x1,xdot1,x2,xdot2,m)=x1/(m*sqrt(x1^2+x2^2))\n",
      "g2(x1,xdot1,x2,xdot2,m)=x2/(m*sqrt(x1^2+x2^2));"
     ],
     "language": "python",
     "metadata": {},
     "outputs": [],
     "prompt_number": 3
    },
    {
     "cell_type": "markdown",
     "metadata": {},
     "source": [
      "Tomemos las condiciones iniciales $x_1(0)=1e-5,\\ x_2(0)=0,\\ y_1(0)=1e-4,\\ y_2(0)=1e-4$:"
     ]
    },
    {
     "cell_type": "code",
     "collapsed": false,
     "input": [
      "q00=Taylor(1e-5)\n",
      "q10=Taylor(0)\n",
      "p00=Taylor(1e-4)\n",
      "p10=Taylor(1e-4);"
     ],
     "language": "python",
     "metadata": {},
     "outputs": [],
     "prompt_number": 4
    },
    {
     "cell_type": "code",
     "collapsed": false,
     "input": [
      "function NextTaylors(f1,f2,g1,g2,C0,m)\n",
      "    v1=[C0[1]]\n",
      "    v2=[C0[2]]\n",
      "    a1=[C0[3]]\n",
      "    a2=[C0[4]]\n",
      "    for ord=1:orderMax\n",
      "        q00=Taylor(v1)\n",
      "        q10=Taylor(v2)\n",
      "        p00=Taylor(a1)\n",
      "        p10=Taylor(a2)\n",
      "        c11=f1(q00,q10,p00,p10,m).coeffs[ord]/ord\n",
      "        c12=f2(q00,q10,p00,p10,m).coeffs[ord]/ord\n",
      "        c21=g1(q00,q10,p00,p10,m).coeffs[ord]/ord\n",
      "        c22=g2(q00,q10,p00,p10,m).coeffs[ord]/ord\n",
      "        push!(v1,c11)\n",
      "        push!(v2,c12)\n",
      "        push!(a1,c21)\n",
      "        push!(a2,c22)\n",
      "    end\n",
      "    v1,v2,a1,a2\n",
      "end"
     ],
     "language": "python",
     "metadata": {},
     "outputs": [
      {
       "metadata": {},
       "output_type": "pyout",
       "prompt_number": 5,
       "text": [
        "NextTaylors (generic function with 1 method)"
       ]
      }
     ],
     "prompt_number": 5
    },
    {
     "cell_type": "code",
     "collapsed": false,
     "input": [
      "NextTaylors(f1,f2,g1,g2,[1e-5,0,1e-4,1e-4],1e-3)"
     ],
     "language": "python",
     "metadata": {},
     "outputs": [
      {
       "metadata": {},
       "output_type": "pyout",
       "prompt_number": 6,
       "text": [
        "([1.0e-5,0.0,5.0e-5,165.84,4.12541e7,-2.41443e11,1.84479e17,-8.98927e23,1.28261e30,-1.4334e36,1.60063e42,-1.83619e48,2.10344e54,-2.40697e60,2.75671e66,-3.15854e72,3.61425e78,-4.12461e84,4.68726e90],[0.0,0.0001,497.519,1.65017e8,-1.20722e12,1.10687e18,-6.29249e24,1.02609e31,-1.29006e37,1.60063e43,-2.01981e49,2.52412e55,-3.12906e61,3.8594e67,-4.73781e73,5.7828e79,-7.01184e85,8.43707e91,-1.00579e98],[0.0001,99.5037,0.0,3.20315e13,-3.13191e19,3.36682e25,-3.65656e31,4.08106e37,-4.63719e43,5.26458e49,-5.9357e55,6.61515e61,-7.23119e67,7.66485e73,-7.73774e79,7.18531e85,-5.62192e91,2.50044e97,2.94181e103],[0.0001,995.037,4.9505e8,-4.82887e12,5.53436e18,-3.77549e25,7.18263e31,-1.03205e38,1.44057e44,-2.01981e50,2.77653e56,-3.75487e62,5.01721e68,-6.63293e74,8.6742e80,-1.12189e87,1.4343e93,-1.81042e99,2.25237e105])"
       ]
      }
     ],
     "prompt_number": 6
    },
    {
     "cell_type": "code",
     "collapsed": false,
     "input": [],
     "language": "python",
     "metadata": {},
     "outputs": []
    }
   ],
   "metadata": {}
  }
 ]
}