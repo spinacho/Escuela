{
 "metadata": {
  "language": "Julia",
  "name": "",
  "signature": "sha256:7e4e3908ff76bfcfe45a86256abba15398842cbf7d6cf0d4211c1a10f34c4df8"
 },
 "nbformat": 3,
 "nbformat_minor": 0,
 "worksheets": [
  {
   "cells": [
    {
     "cell_type": "markdown",
     "metadata": {},
     "source": [
      "#Algunas ideas de sistemas din\u00e1micos:\n",
      "- Mec\u00e1nica celeste\n",
      "- Potenciales gal\u00e1cticos\n",
      "- Biolog\u00eda matem\u00e1tica\n",
      "- M\u00e9todos de aceleradores de part\u00edculas\n",
      "- Modelos cl\u00e1sicos de \u00e1tomos (He, BECs)\n",
      "- Modelos macrosc\u00f3picos de tr\u00e1fico\n",
      "- Modelos de \"juguete\"\n",
      "- Manipuladores algebraicos"
     ]
    },
    {
     "cell_type": "code",
     "collapsed": false,
     "input": [],
     "language": "python",
     "metadata": {},
     "outputs": []
    }
   ],
   "metadata": {}
  }
 ]
}