{
 "metadata": {
  "language": "Julia",
  "name": "",
  "signature": "sha256:14a764c86759ee00616d7de3cd465da133899508afa0aca01a2d5bf4a93e14f4"
 },
 "nbformat": 3,
 "nbformat_minor": 0,
 "worksheets": [
  {
   "cells": [
    {
     "cell_type": "markdown",
     "metadata": {},
     "source": [
      "#1. Tiro parab\u00f3lico\n",
      "##1.1. Enunciado del problema"
     ]
    },
    {
     "cell_type": "markdown",
     "metadata": {},
     "source": [
      "Consideremos un tiro parab\u00f3lico con posici\u00f3n inicial $(x_0\n",
      ",y_0)=$, con velocidad inicial $(u,v)$. La trayectoria $(x,y)$ est\u00e1 entonces dada por:\n",
      "$$x(t)=x_0+ut;$$\n",
      "$$y(t)=y_0+vt -\\frac{1}{2}gt^2$$"
     ]
    },
    {
     "cell_type": "markdown",
     "metadata": {},
     "source": [
      "##1.2. Implementaci\u00f3n computacional"
     ]
    },
    {
     "cell_type": "code",
     "collapsed": false,
     "input": [
      "x(x0,u,t)=x0+u*t\n",
      "y(y0,v,t)=y0+v*t-0.5*9.81*t^2"
     ],
     "language": "python",
     "metadata": {},
     "outputs": [
      {
       "metadata": {},
       "output_type": "pyout",
       "prompt_number": 13,
       "text": [
        "y (generic function with 1 method)"
       ]
      }
     ],
     "prompt_number": 13
    },
    {
     "cell_type": "code",
     "collapsed": false,
     "input": [
      "function tiro_parabolico(x0 , y0 , u , v , t_inicial , delta_t , t_final)\n",
      "    ts=[t_inicial:delta_t:t_final]\n",
      "\n",
      "    xs=[x(x0,u,t) for t in ts]\n",
      "    ys=[y(y0,v,t) for t in ts]\n",
      "    return ts,xs,ys\n",
      "end\n"
     ],
     "language": "python",
     "metadata": {},
     "outputs": [
      {
       "metadata": {},
       "output_type": "pyout",
       "prompt_number": 14,
       "text": [
        "tiro_parabolico (generic function with 1 method)"
       ]
      }
     ],
     "prompt_number": 14
    },
    {
     "cell_type": "code",
     "collapsed": false,
     "input": [
      "tiro_parabolico(0,0,1,9.81*5,0,0.2,10)"
     ],
     "language": "python",
     "metadata": {},
     "outputs": [
      {
       "metadata": {},
       "output_type": "pyout",
       "prompt_number": 27,
       "text": [
        "([0.0,0.2,0.4,0.6,0.8,1.0,1.2,1.4,1.6,1.8  \u2026  8.2,8.4,8.6,8.8,9.0,9.2,9.4,9.6,9.8,10.0],[0.0,0.2,0.4,0.6,0.8,1.0,1.2,1.4,1.6,1.8  \u2026  8.2,8.4,8.6,8.8,9.0,9.2,9.4,9.6,9.8,10.0],[0.0,9.6138,18.8352,27.6642,36.1008,44.145,51.7968,59.0562,65.9232,72.3978  \u2026  72.3978,65.9232,59.0562,51.7968,44.145,36.1008,27.6642,18.8352,9.6138,5.68434e-14])"
       ]
      }
     ],
     "prompt_number": 27
    },
    {
     "cell_type": "code",
     "collapsed": false,
     "input": [
      "typeof(ans)"
     ],
     "language": "python",
     "metadata": {},
     "outputs": [
      {
       "metadata": {},
       "output_type": "pyout",
       "prompt_number": 16,
       "text": [
        "(Array{Float64,1},Array{Float64,1},Array{Float64,1})"
       ]
      }
     ],
     "prompt_number": 16
    },
    {
     "cell_type": "markdown",
     "metadata": {},
     "source": [
      "Estas son tuplas o n-adas"
     ]
    },
    {
     "cell_type": "code",
     "collapsed": false,
     "input": [
      "a,b=2,3"
     ],
     "language": "python",
     "metadata": {},
     "outputs": [
      {
       "metadata": {},
       "output_type": "pyout",
       "prompt_number": 18,
       "text": [
        "(2,3)"
       ]
      }
     ],
     "prompt_number": 18
    },
    {
     "cell_type": "code",
     "collapsed": false,
     "input": [
      "xs"
     ],
     "language": "python",
     "metadata": {},
     "outputs": [
      {
       "ename": "LoadError",
       "evalue": "xs not defined\nwhile loading In[28], in expression starting on line 1",
       "output_type": "pyerr",
       "traceback": [
        "xs not defined\nwhile loading In[28], in expression starting on line 1"
       ]
      }
     ],
     "prompt_number": 28
    },
    {
     "cell_type": "code",
     "collapsed": false,
     "input": [
      "(xs,3)"
     ],
     "language": "python",
     "metadata": {},
     "outputs": [
      {
       "ename": "LoadError",
       "evalue": "xs not defined\nwhile loading In[29], in expression starting on line 1",
       "output_type": "pyerr",
       "traceback": [
        "xs not defined\nwhile loading In[29], in expression starting on line 1"
       ]
      }
     ],
     "prompt_number": 29
    },
    {
     "cell_type": "code",
     "collapsed": false,
     "input": [
      "T,X,Y=tiro_parabolico(0,0,1,9.91*5,0,0.2,10)"
     ],
     "language": "python",
     "metadata": {},
     "outputs": [
      {
       "metadata": {},
       "output_type": "pyout",
       "prompt_number": 37,
       "text": [
        "([0.0,0.2,0.4,0.6,0.8,1.0,1.2,1.4,1.6,1.8  \u2026  8.2,8.4,8.6,8.8,9.0,9.2,9.4,9.6,9.8,10.0],[0.0,0.2,0.4,0.6,0.8,1.0,1.2,1.4,1.6,1.8  \u2026  8.2,8.4,8.6,8.8,9.0,9.2,9.4,9.6,9.8,10.0],[0.0,9.7138,19.0352,27.9642,36.5008,44.645,52.3968,59.7562,66.7232,73.2978  \u2026  76.4978,70.1232,63.3562,56.1968,48.645,40.7008,32.3642,23.6352,14.5138,5.0])"
       ]
      }
     ],
     "prompt_number": 37
    },
    {
     "cell_type": "code",
     "collapsed": false,
     "input": [
      "X"
     ],
     "language": "python",
     "metadata": {},
     "outputs": [
      {
       "metadata": {},
       "output_type": "pyout",
       "prompt_number": 38,
       "text": [
        "51-element Array{Float64,1}:\n",
        "  0.0\n",
        "  0.2\n",
        "  0.4\n",
        "  0.6\n",
        "  0.8\n",
        "  1.0\n",
        "  1.2\n",
        "  1.4\n",
        "  1.6\n",
        "  1.8\n",
        "  2.0\n",
        "  2.2\n",
        "  2.4\n",
        "  \u22ee  \n",
        "  7.8\n",
        "  8.0\n",
        "  8.2\n",
        "  8.4\n",
        "  8.6\n",
        "  8.8\n",
        "  9.0\n",
        "  9.2\n",
        "  9.4\n",
        "  9.6\n",
        "  9.8\n",
        " 10.0"
       ]
      }
     ],
     "prompt_number": 38
    },
    {
     "cell_type": "code",
     "collapsed": false,
     "input": [
      "X[2]"
     ],
     "language": "python",
     "metadata": {},
     "outputs": [
      {
       "metadata": {},
       "output_type": "pyout",
       "prompt_number": 39,
       "text": [
        "0.2"
       ]
      }
     ],
     "prompt_number": 39
    },
    {
     "cell_type": "code",
     "collapsed": true,
     "input": [
      "using PyPlot"
     ],
     "language": "python",
     "metadata": {},
     "outputs": [
      {
       "output_type": "stream",
       "stream": "stderr",
       "text": [
        "INFO: Loading help data...\n"
       ]
      },
      {
       "output_type": "stream",
       "stream": "stderr",
       "text": [
        "Warning: using PyPlot.hist2d in module Main conflicts with an existing identifier.\n"
       ]
      }
     ],
     "prompt_number": 52
    },
    {
     "cell_type": "code",
     "collapsed": true,
     "input": [
      "plot(T,X)"
     ],
     "language": "python",
     "metadata": {},
     "outputs": [
      {
       "metadata": {},
       "output_type": "display_data",
       "png": "[encoded data removed]",
       "text": [
        "Figure(PyObject <matplotlib.figure.Figure object at 0x7fa68f12bd90>)"
       ]
      },
      {
       "metadata": {},
       "output_type": "pyout",
       "prompt_number": 54,
       "text": [
        "1-element Array{Any,1}:\n",
        " PyObject <matplotlib.lines.Line2D object at 0x7fa6a956d390>"
       ]
      }
     ],
     "prompt_number": 54
    },
    {
     "cell_type": "code",
     "collapsed": false,
     "input": [
      "function tiro_parabolico(\u03b8)\n",
      "    "
     ],
     "language": "python",
     "metadata": {},
     "outputs": []
    },
    {
     "cell_type": "code",
     "collapsed": false,
     "input": [
      "figure(figsize=2,3)\n",
      "plot(X,Y)"
     ],
     "language": "python",
     "metadata": {},
     "outputs": [
      {
       "ename": "LoadError",
       "evalue": "PyError (PyObject_Call) <type 'exceptions.TypeError'>\nTypeError('from_bounds() argument after * must be a sequence, not int',)\n  File \"/home/nacho/anaconda/lib/python2.7/site-packages/matplotlib/pyplot.py\", line 423, in figure\n    **kwargs)\n  File \"/home/nacho/anaconda/lib/python2.7/site-packages/matplotlib/backends/backend_agg.py\", line 409, in new_figure_manager\n    thisFig = FigureClass(*args, **kwargs)\n  File \"/home/nacho/anaconda/lib/python2.7/site-packages/matplotlib/figure.py\", line 313, in __init__\n    self.bbox_inches = Bbox.from_bounds(0, 0, *figsize)\n\nwhile loading In[57], in expression starting on line 1",
       "output_type": "pyerr",
       "traceback": [
        "PyError (PyObject_Call) <type 'exceptions.TypeError'>\nTypeError('from_bounds() argument after * must be a sequence, not int',)\n  File \"/home/nacho/anaconda/lib/python2.7/site-packages/matplotlib/pyplot.py\", line 423, in figure\n    **kwargs)\n  File \"/home/nacho/anaconda/lib/python2.7/site-packages/matplotlib/backends/backend_agg.py\", line 409, in new_figure_manager\n    thisFig = FigureClass(*args, **kwargs)\n  File \"/home/nacho/anaconda/lib/python2.7/site-packages/matplotlib/figure.py\", line 313, in __init__\n    self.bbox_inches = Bbox.from_bounds(0, 0, *figsize)\n\nwhile loading In[57], in expression starting on line 1",
        " in pyerr_check at /home/nacho/.julia/v0.3/PyCall/src/exception.jl:58",
        " in pycall at /home/nacho/.julia/v0.3/PyCall/src/PyCall.jl:85",
        " in figure at /home/nacho/.julia/v0.3/PyPlot/src/PyPlot.jl:250"
       ]
      }
     ],
     "prompt_number": 57
    },
    {
     "cell_type": "code",
     "collapsed": false,
     "input": [],
     "language": "python",
     "metadata": {},
     "outputs": []
    }
   ],
   "metadata": {}
  }
 ]
}