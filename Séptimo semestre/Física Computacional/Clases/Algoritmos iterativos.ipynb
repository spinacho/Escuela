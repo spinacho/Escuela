{
 "metadata": {
  "language": "Julia",
  "name": "",
  "signature": "sha256:ab613876a7d1599c9151a5fd1865b7de5bc9a06a8c7be1951b8e63ba4adab2f9"
 },
 "nbformat": 3,
 "nbformat_minor": 0,
 "worksheets": [
  {
   "cells": [
    {
     "cell_type": "markdown",
     "metadata": {},
     "source": [
      "Un *algoritmo iterativo* repite cierta operaci\u00f3n una y otra vez, mejorando la adivinanza de la soluci\u00f3n cada vez, hasta que la soluci\u00f3n sea \"suficientemente buena\"."
     ]
    },
    {
     "cell_type": "code",
     "collapsed": false,
     "input": [
      "function raiz(y, x)\n",
      "end"
     ],
     "language": "python",
     "metadata": {},
     "outputs": [
      {
       "metadata": {},
       "output_type": "pyout",
       "prompt_number": 3,
       "text": [
        "raiz (generic function with 1 method)"
       ]
      }
     ],
     "prompt_number": 3
    },
    {
     "cell_type": "code",
     "collapsed": false,
     "input": [
      "raiz(17)"
     ],
     "language": "python",
     "metadata": {},
     "outputs": []
    }
   ],
   "metadata": {}
  }
 ]
}