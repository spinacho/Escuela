{
 "metadata": {
  "language": "Julia",
  "name": "",
  "signature": "sha256:dee43fc7782d75f05c330a7284fab46d354bb343828fc2b28b72fb85ec6df0f6"
 },
 "nbformat": 3,
 "nbformat_minor": 0,
 "worksheets": [
  {
   "cells": [
    {
     "cell_type": "code",
     "collapsed": false,
     "input": [
      "function fact()\n",
      "end"
     ],
     "language": "python",
     "metadata": {},
     "outputs": [
      {
       "metadata": {},
       "output_type": "pyout",
       "prompt_number": 1,
       "text": [
        "fact (generic function with 1 method)"
       ]
      }
     ],
     "prompt_number": 1
    },
    {
     "cell_type": "code",
     "collapsed": false,
     "input": [],
     "language": "python",
     "metadata": {},
     "outputs": []
    },
    {
     "cell_type": "code",
     "collapsed": false,
     "input": [
      "fact"
     ],
     "language": "python",
     "metadata": {},
     "outputs": [
      {
       "metadata": {},
       "output_type": "pyout",
       "prompt_number": 2,
       "text": [
        "fact (generic function with 1 method)"
       ]
      }
     ],
     "prompt_number": 2
    },
    {
     "cell_type": "markdown",
     "metadata": {},
     "source": [
      "Para llamar a la funci\u00f3n, usamos par\u00e9ntesis:"
     ]
    },
    {
     "cell_type": "code",
     "collapsed": false,
     "input": [
      "fact()"
     ],
     "language": "python",
     "metadata": {},
     "outputs": [],
     "prompt_number": 3
    },
    {
     "cell_type": "code",
     "collapsed": false,
     "input": [
      "function fact(n)\n",
      "    n\n",
      "end"
     ],
     "language": "python",
     "metadata": {},
     "outputs": [
      {
       "metadata": {},
       "output_type": "pyout",
       "prompt_number": 4,
       "text": [
        "fact (generic function with 2 methods)"
       ]
      }
     ],
     "prompt_number": 4
    },
    {
     "cell_type": "code",
     "collapsed": false,
     "input": [
      "fact(10)"
     ],
     "language": "python",
     "metadata": {},
     "outputs": [
      {
       "metadata": {},
       "output_type": "pyout",
       "prompt_number": 5,
       "text": [
        "10"
       ]
      }
     ],
     "prompt_number": 5
    },
    {
     "cell_type": "code",
     "collapsed": false,
     "input": [
      "a = fact(10)"
     ],
     "language": "python",
     "metadata": {},
     "outputs": [
      {
       "metadata": {},
       "output_type": "pyout",
       "prompt_number": 6,
       "text": [
        "10"
       ]
      }
     ],
     "prompt_number": 6
    },
    {
     "cell_type": "code",
     "collapsed": false,
     "input": [
      "a"
     ],
     "language": "python",
     "metadata": {},
     "outputs": [
      {
       "metadata": {},
       "output_type": "pyout",
       "prompt_number": 7,
       "text": [
        "10"
       ]
      }
     ],
     "prompt_number": 7
    },
    {
     "cell_type": "markdown",
     "metadata": {},
     "source": [
      "Matem\u00e1ticamente:\n",
      "\n",
      "$$n! = \\begin{cases} n  (n-1)!, & \\text{si } n>0 \\\\\n",
      "1, & \\text{si } n=0\n",
      "\\end{cases}$$"
     ]
    },
    {
     "cell_type": "code",
     "collapsed": false,
     "input": [
      "function fact(n)\n",
      "    println(\"Voy entrando a la fn fact con n=$n\")\n",
      "    if n==0\n",
      "        1\n",
      "    else\n",
      "        a = n * fact(n-1)\n",
      "        println(\"Actualmente tengo $a\")\n",
      "        a\n",
      "    end\n",
      "end"
     ],
     "language": "python",
     "metadata": {},
     "outputs": [
      {
       "metadata": {},
       "output_type": "pyout",
       "prompt_number": 13,
       "text": [
        "fact (generic function with 2 methods)"
       ]
      }
     ],
     "prompt_number": 13
    },
    {
     "cell_type": "code",
     "collapsed": false,
     "input": [
      "fact(10)"
     ],
     "language": "python",
     "metadata": {},
     "outputs": [
      {
       "output_type": "stream",
       "stream": "stdout",
       "text": [
        "Voy entrando a la fn fact con n=10\n"
       ]
      },
      {
       "output_type": "stream",
       "stream": "stdout",
       "text": [
        "Voy entrando a la fn fact con n=9\n",
        "Voy entrando a la fn fact con n=8\n",
        "Voy entrando a la fn fact con n=7\n",
        "Voy entrando a la fn fact con n=6\n",
        "Voy entrando a la fn fact con n=5\n",
        "Voy entrando a la fn fact con n=4\n",
        "Voy entrando a la fn fact con n=3\n",
        "Voy entrando a la fn fact con n=2\n",
        "Voy entrando a la fn fact con n=1\n",
        "Voy entrando a la fn fact con n=0\n",
        "Actualmente tengo 1\n",
        "Actualmente tengo 2\n",
        "Actualmente tengo 6\n",
        "Actualmente tengo 24\n",
        "Actualmente tengo 120\n",
        "Actualmente tengo 720\n",
        "Actualmente tengo 5040\n",
        "Actualmente tengo 40320\n",
        "Actualmente tengo 362880\n",
        "Actualmente tengo 3628800\n"
       ]
      },
      {
       "metadata": {},
       "output_type": "pyout",
       "prompt_number": 14,
       "text": [
        "3628800"
       ]
      }
     ],
     "prompt_number": 14
    },
    {
     "cell_type": "markdown",
     "metadata": {},
     "source": [
      "\u00bfQu\u00e9 est\u00e1 pasando en esta llamada recursiva a la funci\u00f3n?\n",
      "\n",
      "Cada llamada a la funci\u00f3n crea una nueva \"copia\" de la funci\u00f3n, o m\u00e1s bien un nuevo \"entorno local\", cada uno con su propia copia de las variables locales.\n",
      "\n",
      "Cuando la \u00faltima termina, regresa su valor de `a`, y borra su entorno local que ya no se necesita."
     ]
    },
    {
     "cell_type": "code",
     "collapsed": false,
     "input": [
      "factorial(3.5)"
     ],
     "language": "python",
     "metadata": {},
     "outputs": [
      {
       "ename": "LoadError",
       "evalue": "`factorial` has no method matching factorial(::Float64)\nwhile loading In[15], in expression starting on line 1",
       "output_type": "pyerr",
       "traceback": [
        "`factorial` has no method matching factorial(::Float64)\nwhile loading In[15], in expression starting on line 1"
       ]
      }
     ],
     "prompt_number": 15
    },
    {
     "cell_type": "markdown",
     "metadata": {},
     "source": [
      "Para averiguar qu\u00e9 hace `factorial`:"
     ]
    },
    {
     "cell_type": "code",
     "collapsed": false,
     "input": [
      "@which factorial(10)"
     ],
     "language": "python",
     "metadata": {},
     "outputs": [
      {
       "html": [
        "factorial(n::<b>Union(Uint64,Int64)</b>) at <a href=\"https://github.com/JuliaLang/julia/tree/a636295af6e118205a7d0bb04145fb2294c8cb6f/base/combinatorics.jl#L35\" target=\"_blank\">combinatorics.jl:35</a>"
       ],
       "metadata": {},
       "output_type": "pyout",
       "prompt_number": 18,
       "text": [
        "factorial(n::Union(Uint64,Int64)) at combinatorics.jl:35"
       ]
      }
     ],
     "prompt_number": 18
    },
    {
     "cell_type": "code",
     "collapsed": false,
     "input": [],
     "language": "python",
     "metadata": {},
     "outputs": []
    }
   ],
   "metadata": {}
  }
 ]
}