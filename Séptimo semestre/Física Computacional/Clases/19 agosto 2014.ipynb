{
 "metadata": {
  "language": "Julia",
  "name": "",
  "signature": "sha256:ae716d62aed457ec9f661c42870a95ff023fa0963a3b531263bac97102be006b"
 },
 "nbformat": 3,
 "nbformat_minor": 0,
 "worksheets": [
  {
   "cells": [
    {
     "cell_type": "heading",
     "level": 1,
     "metadata": {},
     "source": [
      "Tiro parab\u00f3lico"
     ]
    },
    {
     "cell_type": "heading",
     "level": 2,
     "metadata": {},
     "source": [
      "Enunciado del problema"
     ]
    },
    {
     "cell_type": "markdown",
     "metadata": {},
     "source": [
      "Consideremos un tiro parab\u00f3lico con posici\u00f3n inicial $(x_0, y_0)$ y velocidad inicial $(u, v)$. La posici\u00f3n $(x(t), y(t))$ al tiempo $t$ est\u00e1 dada por\n",
      "\n",
      "$$x(t) = x_0 + u t$$\n",
      "\n",
      "y\n",
      "\n",
      "$$y(t) = y_0 + v t - \\frac{1}{2} g t^2.$$"
     ]
    },
    {
     "cell_type": "heading",
     "level": 2,
     "metadata": {},
     "source": [
      "Implementaci\u00f3n computacional"
     ]
    },
    {
     "cell_type": "code",
     "collapsed": false,
     "input": [
      "using PyPlot"
     ],
     "language": "python",
     "metadata": {},
     "outputs": [
      {
       "output_type": "stream",
       "stream": "stderr",
       "text": [
        "INFO: Loading help data...\n"
       ]
      }
     ],
     "prompt_number": 1
    },
    {
     "cell_type": "code",
     "collapsed": false,
     "input": [
      "u = 3\n",
      "x0 = 17  # \u00a1NO UTILIZAR VARIABLES GLOBALES EN JULIA, POR FA!!!"
     ],
     "language": "python",
     "metadata": {},
     "outputs": [
      {
       "metadata": {},
       "output_type": "pyout",
       "prompt_number": 6,
       "text": [
        "17"
       ]
      }
     ],
     "prompt_number": 6
    },
    {
     "cell_type": "code",
     "collapsed": false,
     "input": [
      "# function x(x0, u, t)\n",
      "#     x0 + u*t\n",
      "# end\n",
      "\n",
      "const g=9.81\n",
      "\n",
      "x(x0, u, t) = x0 + u*t\n",
      "y(y0, v, t) = y0 + v*t - 0.5*g*t^2"
     ],
     "language": "python",
     "metadata": {},
     "outputs": [
      {
       "metadata": {},
       "output_type": "pyout",
       "prompt_number": 2,
       "text": [
        "y (generic function with 1 method)"
       ]
      }
     ],
     "prompt_number": 2
    },
    {
     "cell_type": "code",
     "collapsed": false,
     "input": [
      "function tiro_parabolico(x0, y0, u, v, delta_t, t_final)\n",
      "\n",
      "    ts = [0:delta_t:t_final]\n",
      "    \n",
      "    xs = [x(x0, u, t) for t in ts]\n",
      "    ys = [y(y0, v, t) for t in ts]\n",
      "    \n",
      "    ts, xs, ys\n",
      "    \n",
      "end\n"
     ],
     "language": "python",
     "metadata": {},
     "outputs": [
      {
       "metadata": {},
       "output_type": "pyout",
       "prompt_number": 3,
       "text": [
        "tiro_parabolico (generic function with 1 method)"
       ]
      }
     ],
     "prompt_number": 3
    },
    {
     "cell_type": "code",
     "collapsed": false,
     "input": [
      "\n",
      "figure(figsize=(3,2))\n",
      "\n",
      "t_final = 0.5\n",
      "delta_t = 0.001\n",
      "\n",
      "ts, xs, ys = tiro_parabolico(0,0,1,1,delta_t, t_final);\n",
      "\n",
      "plot(xs, ys)\n",
      "\n",
      "xlabel(L\"$x(t)$\")\n",
      "ylabel(L\"$y(t)$\")\n"
     ],
     "language": "python",
     "metadata": {},
     "outputs": [
      {
       "metadata": {},
       "output_type": "display_data",
       "png": "[encoded data removed]",
       "text": [
        "Figure(PyObject <matplotlib.figure.Figure object at 0x111c89ad0>)"
       ]
      },
      {
       "metadata": {},
       "output_type": "pyout",
       "prompt_number": 21,
       "text": [
        "PyObject <matplotlib.text.Text object at 0x111cd5610>"
       ]
      }
     ],
     "prompt_number": 21
    },
    {
     "cell_type": "code",
     "collapsed": false,
     "input": [
      "function tiro_parabolico(theta, delta_t, t_final)\n",
      "    rapidez = 5.\n",
      "    \n",
      "    vx = rapidez * cos(theta)\n",
      "    vy = rapidez * sin(theta)\n",
      "    \n",
      "    x0 = 0\n",
      "    y0 = 0\n",
      "    \n",
      "    tiro_parabolico(x0, y0, vx, vy, delta_t, t_final)\n",
      "end"
     ],
     "language": "python",
     "metadata": {},
     "outputs": [
      {
       "metadata": {},
       "output_type": "pyout",
       "prompt_number": 35,
       "text": [
        "tiro_parabolico (generic function with 3 methods)"
       ]
      }
     ],
     "prompt_number": 35
    },
    {
     "cell_type": "code",
     "collapsed": false,
     "input": [
      "pi"
     ],
     "language": "python",
     "metadata": {},
     "outputs": [
      {
       "metadata": {},
       "output_type": "pyout",
       "prompt_number": 36,
       "text": [
        "\u03c0 = 3.1415926535897..."
       ]
      }
     ],
     "prompt_number": 36
    },
    {
     "cell_type": "code",
     "collapsed": false,
     "input": [
      "typeof(pi)"
     ],
     "language": "python",
     "metadata": {},
     "outputs": [
      {
       "metadata": {},
       "output_type": "pyout",
       "prompt_number": 37,
       "text": [
        "MathConst{:\u03c0} (constructor with 1 method)"
       ]
      }
     ],
     "prompt_number": 37
    },
    {
     "cell_type": "code",
     "collapsed": false,
     "input": [
      "\n",
      "figure(figsize=(5,4))\n",
      "\n",
      "t_final = 0.5\n",
      "delta_t = 0.001\n",
      "\n",
      "ts, xs, ys = tiro_parabolico(pi/6, delta_t, t_final)\n",
      "\n",
      "plot(xs, ys)\n",
      "\n",
      "xlabel(L\"$x(t)$\")\n",
      "ylabel(L\"$y(t)$\")\n",
      "\n",
      "\n"
     ],
     "language": "python",
     "metadata": {},
     "outputs": [
      {
       "metadata": {},
       "output_type": "display_data",
       "png": "[encoded data removed]",
       "text": [
        "Figure(PyObject <matplotlib.figure.Figure object at 0x112107210>)"
       ]
      },
      {
       "metadata": {},
       "output_type": "pyout",
       "prompt_number": 38,
       "text": [
        "PyObject <matplotlib.text.Text object at 0x112109350>"
       ]
      }
     ],
     "prompt_number": 38
    },
    {
     "cell_type": "code",
     "collapsed": false,
     "input": [
      "tiro_parabolico"
     ],
     "language": "python",
     "metadata": {},
     "outputs": [
      {
       "metadata": {},
       "output_type": "pyout",
       "prompt_number": 39,
       "text": [
        "tiro_parabolico (generic function with 3 methods)"
       ]
      }
     ],
     "prompt_number": 39
    },
    {
     "cell_type": "code",
     "collapsed": false,
     "input": [
      "methods(tiro_parabolico)"
     ],
     "language": "python",
     "metadata": {},
     "outputs": [
      {
       "html": [
        "3 methods for generic function <b>tiro_parabolico</b>:<ul><li> tiro_parabolico(x0,y0,u,v,delta_t,t_final) at In[3]:3<li> tiro_parabolico(theta) at In[22]:2<li> tiro_parabolico(theta,delta_t,t_final) at In[35]:2</ul>"
       ],
       "metadata": {},
       "output_type": "pyout",
       "prompt_number": 40,
       "text": [
        "# 3 methods for generic function \"tiro_parabolico\":\n",
        "tiro_parabolico(x0,y0,u,v,delta_t,t_final) at In[3]:3\n",
        "tiro_parabolico(theta) at In[22]:2\n",
        "tiro_parabolico(theta,delta_t,t_final) at In[35]:2"
       ]
      }
     ],
     "prompt_number": 40
    },
    {
     "cell_type": "code",
     "collapsed": false,
     "input": [
      "\n",
      "figure(figsize=(5,4))\n",
      "\n",
      "\n",
      "ts, xs, ys = tiro_parabolico(pi/6, delta_t, t_final)\n",
      "plot(xs, ys)\n",
      "\n",
      "ts, xs, ys = tiro_parabolico(pi/3, delta_t, t_final)\n",
      "plot(xs, ys)\n",
      "\n",
      "ts, xs, ys = tiro_parabolico(pi/10, delta_t, t_final)\n",
      "plot(xs, ys)\n",
      "\n",
      "\n",
      "\n"
     ],
     "language": "python",
     "metadata": {},
     "outputs": [
      {
       "metadata": {},
       "output_type": "display_data",
       "png": "[encoded data removed]",
       "text": [
        "Figure(PyObject <matplotlib.figure.Figure object at 0x112141ed0>)"
       ]
      },
      {
       "metadata": {},
       "output_type": "display_data",
       "png": "[encoded data removed]",
       "text": [
        "Figure(PyObject <matplotlib.figure.Figure object at 0x11251cdd0>)"
       ]
      },
      {
       "metadata": {},
       "output_type": "pyout",
       "prompt_number": 42,
       "text": [
        "PyObject <matplotlib.text.Text object at 0x112529650>"
       ]
      }
     ],
     "prompt_number": 42
    },
    {
     "cell_type": "code",
     "collapsed": false,
     "input": [
      "function dibujar_tiro_parabolico(theta)\n",
      "    \n",
      "    t_final = 0.5\n",
      "    delta_t = 0.001\n",
      "    \n",
      "    ts, xs, ys = tiro_parabolico(theta, delta_t, t_final)\n",
      "    \n",
      "    multiple_de_pi = round(theta/pi, 3)\n",
      "    \n",
      "    plot(xs, ys, label=\"$(multiple_de_pi)\u03c0\")\n",
      "end\n"
     ],
     "language": "python",
     "metadata": {},
     "outputs": [
      {
       "metadata": {},
       "output_type": "pyout",
       "prompt_number": 65,
       "text": [
        "dibujar_tiro_parabolico (generic function with 1 method)"
       ]
      }
     ],
     "prompt_number": 65
    },
    {
     "cell_type": "code",
     "collapsed": false,
     "input": [],
     "language": "python",
     "metadata": {},
     "outputs": [],
     "prompt_number": 66
    },
    {
     "cell_type": "code",
     "collapsed": false,
     "input": [
      "round(1.75313123311, 5)"
     ],
     "language": "python",
     "metadata": {},
     "outputs": [
      {
       "metadata": {},
       "output_type": "pyout",
       "prompt_number": 67,
       "text": [
        "1.75313"
       ]
      }
     ],
     "prompt_number": 67
    },
    {
     "cell_type": "code",
     "collapsed": false,
     "input": [
      "\n",
      "figure(figsize=(5,4))\n",
      "\n",
      "dibujar_tiro_parabolico(pi/6)\n",
      "dibujar_tiro_parabolico(pi/3)\n",
      "dibujar_tiro_parabolico(pi/10)\n",
      "\n",
      "xlabel(L\"$x(t)$\")\n",
      "ylabel(L\"$y(t)$\")\n",
      "\n",
      "legend()\n"
     ],
     "language": "python",
     "metadata": {},
     "outputs": [
      {
       "metadata": {},
       "output_type": "display_data",
       "png": "[encoded data removed]",
       "text": [
        "Figure(PyObject <matplotlib.figure.Figure object at 0x113170450>)"
       ]
      },
      {
       "metadata": {},
       "output_type": "pyout",
       "prompt_number": 68,
       "text": [
        "PyObject <matplotlib.legend.Legend object at 0x113321a10>"
       ]
      }
     ],
     "prompt_number": 68
    },
    {
     "cell_type": "code",
     "collapsed": false,
     "input": [
      "\n",
      "\n",
      "figure(figsize=(5,4))\n",
      "\n",
      "a = [dibujar_tiro_parabolico(pi/n) for n in 2:10]\n",
      "\n",
      "# dibujar_tiro_parabolico(pi/6)\n",
      "# dibujar_tiro_parabolico(pi/3)\n",
      "# dibujar_tiro_parabolico(pi/10)\n",
      "\n",
      "xlabel(L\"$x(t)$\")\n",
      "ylabel(L\"$y(t)$\")\n",
      "\n",
      "hlines([0], 0, 3)\n",
      "\n",
      "legend(loc=0, fontsize=\"x-small\")\n",
      "\n",
      "ylim(0, 1.5)"
     ],
     "language": "python",
     "metadata": {},
     "outputs": [
      {
       "metadata": {},
       "output_type": "display_data",
       "png": "[encoded data removed]",
       "text": [
        "Figure(PyObject <matplotlib.figure.Figure object at 0x113d661d0>)"
       ]
      },
      {
       "metadata": {},
       "output_type": "pyout",
       "prompt_number": 83,
       "text": [
        "(0,1.5)"
       ]
      }
     ],
     "prompt_number": 83
    },
    {
     "cell_type": "code",
     "collapsed": false,
     "input": [
      "?legend"
     ],
     "language": "python",
     "metadata": {},
     "outputs": [
      {
       "output_type": "stream",
       "stream": "stdout",
       "text": [
        "Place a legend on the current axes.\n",
        "\n",
        "Call signature::\n",
        "\n",
        "   legend(*args, **kwargs)\n",
        "\n",
        "Places legend at location *loc*.  Labels are a sequence of\n",
        "strings and *loc* can be a string or an integer specifying the\n",
        "legend location.\n",
        "\n",
        "To make a legend with existing lines::\n",
        "\n",
        "   legend()\n",
        "\n",
        ":meth:`legend` by itself will try and build a legend using the label\n",
        "property of the lines/patches/collections.  You can set the label of\n",
        "a line by doing::\n",
        "\n",
        "   plot(x, y, label='my data')\n",
        "\n",
        "or::\n",
        "\n",
        "   line.set_label('my data').\n",
        "\n",
        "If label is set to '_nolegend_', the item will not be shown in\n",
        "legend.\n",
        "\n",
        "To automatically generate the legend from labels::\n",
        "\n",
        "   legend( ('label1', 'label2', 'label3') )\n",
        "\n",
        "To make a legend for a list of lines and labels::\n",
        "\n",
        "   legend( (line1, line2, line3), ('label1', 'label2', 'label3') )\n",
        "\n",
        "To make a legend at a given location, using a location argument::\n",
        "\n",
        "   legend( ('label1', 'label2', 'label3'), loc='upper left')\n",
        "\n",
        "or::\n",
        "\n",
        "   legend((line1, line2, line3), ('label1', 'label2', 'label3'), loc=2)\n",
        "\n",
        "The location codes are\n",
        "\n",
        "  ===============   =============\n",
        "  Location String   Location Code\n",
        "  ===============   =============\n",
        "  'best'            0\n",
        "  'upper right'     1\n",
        "  'upper left'      2\n",
        "  'lower left'      3\n",
        "  'lower right'     4\n",
        "  'right'           5\n",
        "  'center left'     6\n",
        "  'center right'    7\n",
        "  'lower center'    8\n",
        "  'upper center'    9\n",
        "  'center'          10\n",
        "  ===============   =============\n",
        "\n",
        "\n",
        "Users can specify any arbitrary location for the legend using the\n",
        "*bbox_to_anchor* keyword argument. bbox_to_anchor can be an instance\n",
        "of BboxBase(or its derivatives) or a tuple of 2 or 4 floats.\n",
        "For example::\n",
        "\n",
        "   loc = 'upper right', bbox_to_anchor = (0.5, 0.5)\n",
        "\n",
        "will place the legend so that the upper right corner of the legend at\n",
        "the center of the axes.\n",
        "\n",
        "The legend location can be specified in other coordinate, by using the\n",
        "*bbox_transform* keyword.\n",
        "\n",
        "The loc itslef can be a 2-tuple giving x,y of the lower-left corner of\n",
        "the legend in axes coords (*bbox_to_anchor* is ignored).\n",
        "\n",
        "Keyword arguments:\n",
        "\n",
        "  *prop*: [ *None* | FontProperties | dict ]\n",
        "    A :class:`matplotlib.font_manager.FontProperties`\n",
        "    instance. If *prop* is a dictionary, a new instance will be\n",
        "    created with *prop*. If *None*, use rc settings.\n",
        "\n",
        "  *fontsize*: [size in points | 'xx-small' | 'x-small' | 'small' |\n",
        "              'medium' | 'large' | 'x-large' | 'xx-large']\n",
        "    Set the font size.  May be either a size string, relative to\n",
        "    the default font size, or an absolute font size in points. This\n",
        "    argument is only used if prop is not specified.\n",
        "\n",
        "  *numpoints*: integer\n",
        "    The number of points in the legend for line\n",
        "\n",
        "  *scatterpoints*: integer\n",
        "    The number of points in the legend for scatter plot\n",
        "\n",
        "  *scatteryoffsets*: list of floats\n",
        "    a list of yoffsets for scatter symbols in legend\n",
        "\n",
        "  *markerscale*: [ *None* | scalar ]\n",
        "    The relative size of legend markers vs. original. If *None*,\n",
        "    use rc settings.\n",
        "\n",
        "  *frameon*: [ *True* | *False* ]\n",
        "    if *True*, draw a frame around the legend.\n",
        "    The default is set by the rcParam 'legend.frameon'\n",
        "\n",
        "  *fancybox*: [ *None* | *False* | *True* ]\n",
        "    if *True*, draw a frame with a round fancybox.  If *None*,\n",
        "    use rc settings\n",
        "\n",
        "  *shadow*: [ *None* | *False* | *True* ]\n",
        "    If *True*, draw a shadow behind legend. If *None*,\n",
        "    use rc settings.\n",
        "\n",
        "  *framealpha*: [*None* | float]\n",
        "    If not None, alpha channel for legend frame. Default *None*.\n",
        "\n",
        "  *ncol* : integer\n",
        "    number of columns. default is 1\n",
        "\n",
        "  *mode* : [ \"expand\" | *None* ]\n",
        "    if mode is \"expand\", the legend will be horizontally expanded\n",
        "    to fill the axes area (or *bbox_to_anchor*)\n",
        "\n",
        "  *bbox_to_anchor*: an instance of BboxBase or a tuple of 2 or 4 floats\n",
        "    the bbox that the legend will be anchored.\n",
        "\n",
        "  *bbox_transform* : [ an instance of Transform | *None* ]\n",
        "    the transform for the bbox. transAxes if *None*.\n",
        "\n",
        "  *title* : string\n",
        "    the legend title\n",
        "\n",
        "Padding and spacing between various elements use following\n",
        "keywords parameters. These values are measure in font-size\n",
        "units. e.g., a fontsize of 10 points and a handlelength=5\n",
        "implies a handlelength of 50 points.  Values from rcParams\n",
        "will be used if None.\n",
        "\n",
        "================   ====================================================\n",
        "Keyword            Description\n",
        "================   ====================================================\n",
        "borderpad          the fractional whitespace inside the legend border\n",
        "labelspacing       the vertical space between the legend entries\n",
        "handlelength       the length of the legend handles\n",
        "handletextpad      the pad between the legend handle and text\n",
        "borderaxespad      the pad between the axes and legend border\n",
        "columnspacing      the spacing between columns\n",
        "================   ====================================================\n",
        "\n",
        ".. note::\n",
        "\n",
        "   Not all kinds of artist are supported by the legend command.\n",
        "   See :ref:`plotting-guide-legend` for details.\n",
        "\n",
        "**Example:**\n",
        "\n",
        ".. plot:: mpl_examples/api/legend_demo.py\n",
        "\n",
        ".. seealso::\n",
        "    :ref:`plotting-guide-legend`.\n"
       ]
      }
     ],
     "prompt_number": 73
    },
    {
     "cell_type": "code",
     "collapsed": false,
     "input": [
      "a"
     ],
     "language": "python",
     "metadata": {},
     "outputs": [
      {
       "metadata": {},
       "output_type": "pyout",
       "prompt_number": 50,
       "text": [
        "9-element Array{Any,1}:\n",
        " {PyObject <matplotlib.lines.Line2D object at 0x112c6dd10>}\n",
        " {PyObject <matplotlib.lines.Line2D object at 0x112c6df90>}\n",
        " {PyObject <matplotlib.lines.Line2D object at 0x112c71690>}\n",
        " {PyObject <matplotlib.lines.Line2D object at 0x112c71cd0>}\n",
        " {PyObject <matplotlib.lines.Line2D object at 0x112c74350>}\n",
        " {PyObject <matplotlib.lines.Line2D object at 0x112c74990>}\n",
        " {PyObject <matplotlib.lines.Line2D object at 0x112c74fd0>}\n",
        " {PyObject <matplotlib.lines.Line2D object at 0x112c59150>}\n",
        " {PyObject <matplotlib.lines.Line2D object at 0x112c77c90>}"
       ]
      }
     ],
     "prompt_number": 50
    },
    {
     "cell_type": "code",
     "collapsed": false,
     "input": [
      "xs  # xs existe *s\u00f3lo* adentro de la funci\u00f3n -- variable local"
     ],
     "language": "python",
     "metadata": {},
     "outputs": [
      {
       "ename": "LoadError",
       "evalue": "xs not defined\nwhile loading In[23], in expression starting on line 1",
       "output_type": "pyerr",
       "traceback": [
        "xs not defined\nwhile loading In[23], in expression starting on line 1"
       ]
      }
     ],
     "prompt_number": 23
    },
    {
     "cell_type": "markdown",
     "metadata": {},
     "source": [
      "Extraer elementos de un arreglo:"
     ]
    },
    {
     "cell_type": "code",
     "collapsed": false,
     "input": [
      "xs(3)  # no: piensa que xs es una funcion"
     ],
     "language": "python",
     "metadata": {},
     "outputs": [
      {
       "ename": "LoadError",
       "evalue": "type: apply: expected Function, got Array{Float64,1}\nUse square brackets [] for indexing.\nwhile loading In[26], in expression starting on line 1",
       "output_type": "pyerr",
       "traceback": [
        "type: apply: expected Function, got Array{Float64,1}\nUse square brackets [] for indexing.\nwhile loading In[26], in expression starting on line 1"
       ]
      }
     ],
     "prompt_number": 26
    },
    {
     "cell_type": "code",
     "collapsed": false,
     "input": [
      "xs[3]  # elemento numero 3;  empieza en 1"
     ],
     "language": "python",
     "metadata": {},
     "outputs": [
      {
       "metadata": {},
       "output_type": "pyout",
       "prompt_number": 27,
       "text": [
        "0.4"
       ]
      }
     ],
     "prompt_number": 27
    },
    {
     "cell_type": "code",
     "collapsed": false,
     "input": [
      "typeof(ans)"
     ],
     "language": "python",
     "metadata": {},
     "outputs": [
      {
       "metadata": {},
       "output_type": "pyout",
       "prompt_number": 16,
       "text": [
        "(Array{Float64,1},Array{Float64,1},Array{Float64,1})"
       ]
      }
     ],
     "prompt_number": 16
    },
    {
     "cell_type": "code",
     "collapsed": false,
     "input": [
      "# Tuplas / n-adas:\n",
      "(3,4)"
     ],
     "language": "python",
     "metadata": {},
     "outputs": [
      {
       "metadata": {},
       "output_type": "pyout",
       "prompt_number": 17,
       "text": [
        "(3,4)"
       ]
      }
     ],
     "prompt_number": 17
    },
    {
     "cell_type": "code",
     "collapsed": false,
     "input": [
      "typeof(ans)"
     ],
     "language": "python",
     "metadata": {},
     "outputs": [
      {
       "metadata": {},
       "output_type": "pyout",
       "prompt_number": 18,
       "text": [
        "(Int64,Int64)"
       ]
      }
     ],
     "prompt_number": 18
    },
    {
     "cell_type": "code",
     "collapsed": false,
     "input": [
      "a, b = 2, 3"
     ],
     "language": "python",
     "metadata": {},
     "outputs": [
      {
       "metadata": {},
       "output_type": "pyout",
       "prompt_number": 19,
       "text": [
        "(2,3)"
       ]
      }
     ],
     "prompt_number": 19
    },
    {
     "cell_type": "code",
     "collapsed": false,
     "input": [
      "a"
     ],
     "language": "python",
     "metadata": {},
     "outputs": [
      {
       "metadata": {},
       "output_type": "pyout",
       "prompt_number": 20,
       "text": [
        "2"
       ]
      }
     ],
     "prompt_number": 20
    },
    {
     "cell_type": "code",
     "collapsed": false,
     "input": [
      "b"
     ],
     "language": "python",
     "metadata": {},
     "outputs": [
      {
       "metadata": {},
       "output_type": "pyout",
       "prompt_number": 21,
       "text": [
        "3"
       ]
      }
     ],
     "prompt_number": 21
    },
    {
     "cell_type": "code",
     "collapsed": false,
     "input": [
      "ys"
     ],
     "language": "python",
     "metadata": {},
     "outputs": [
      {
       "metadata": {},
       "output_type": "pyout",
       "prompt_number": 84,
       "text": [
        "501-element Array{Float64,1}:\n",
        "  0.0       \n",
        "  0.00154018\n",
        "  0.00307055\n",
        "  0.00459111\n",
        "  0.00610186\n",
        "  0.0076028 \n",
        "  0.00909393\n",
        "  0.0105752 \n",
        "  0.0120468 \n",
        "  0.0135085 \n",
        "  0.0149603 \n",
        "  0.0164024 \n",
        "  0.0178347 \n",
        "  \u22ee         \n",
        " -0.417342  \n",
        " -0.420599  \n",
        " -0.423866  \n",
        " -0.427142  \n",
        " -0.430428  \n",
        " -0.433725  \n",
        " -0.437031  \n",
        " -0.440346  \n",
        " -0.443672  \n",
        " -0.447007  \n",
        " -0.450353  \n",
        " -0.453708  "
       ]
      }
     ],
     "prompt_number": 84
    },
    {
     "cell_type": "code",
     "collapsed": false,
     "input": [
      "ys > 0"
     ],
     "language": "python",
     "metadata": {},
     "outputs": [
      {
       "ename": "LoadError",
       "evalue": "`isless` has no method matching isless(::Int64, ::Array{Float64,1})\nwhile loading In[85], in expression starting on line 1",
       "output_type": "pyerr",
       "traceback": [
        "`isless` has no method matching isless(::Int64, ::Array{Float64,1})\nwhile loading In[85], in expression starting on line 1",
        " in > at operators.jl:33"
       ]
      }
     ],
     "prompt_number": 85
    },
    {
     "cell_type": "code",
     "collapsed": false,
     "input": [
      "ys[ys .> 0]"
     ],
     "language": "python",
     "metadata": {},
     "outputs": [
      {
       "metadata": {},
       "output_type": "pyout",
       "prompt_number": 87,
       "text": [
        "315-element Array{Float64,1}:\n",
        " 0.00154018\n",
        " 0.00307055\n",
        " 0.00459111\n",
        " 0.00610186\n",
        " 0.0076028 \n",
        " 0.00909393\n",
        " 0.0105752 \n",
        " 0.0120468 \n",
        " 0.0135085 \n",
        " 0.0149603 \n",
        " 0.0164024 \n",
        " 0.0178347 \n",
        " 0.0192572 \n",
        " \u22ee         \n",
        " 0.0164054 \n",
        " 0.0149633 \n",
        " 0.0135114 \n",
        " 0.0120497 \n",
        " 0.0105783 \n",
        " 0.00909695\n",
        " 0.00760584\n",
        " 0.00610492\n",
        " 0.00459419\n",
        " 0.00307365\n",
        " 0.0015433 \n",
        " 3.14114e-6"
       ]
      }
     ],
     "prompt_number": 87
    },
    {
     "cell_type": "code",
     "collapsed": false,
     "input": [],
     "language": "python",
     "metadata": {},
     "outputs": []
    }
   ],
   "metadata": {}
  }
 ]
}