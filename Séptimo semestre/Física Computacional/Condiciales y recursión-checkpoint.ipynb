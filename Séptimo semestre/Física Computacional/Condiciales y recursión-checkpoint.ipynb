{
 "metadata": {
  "language": "Julia",
  "name": "",
  "signature": "sha256:675dd71e0ed175b443eb4e0618ee1d5d24583218212976b32bd634def99cd9fa"
 },
 "nbformat": 3,
 "nbformat_minor": 0,
 "worksheets": [
  {
   "cells": [
    {
     "cell_type": "code",
     "collapsed": false,
     "input": [],
     "language": "python",
     "metadata": {},
     "outputs": []
    },
    {
     "cell_type": "code",
     "collapsed": false,
     "input": [],
     "language": "python",
     "metadata": {},
     "outputs": []
    },
    {
     "cell_type": "heading",
     "level": 4,
     "metadata": {},
     "source": [
      "Condicionales"
     ]
    },
    {
     "cell_type": "markdown",
     "metadata": {},
     "source": [
      "Necesitamos poder verificar condiciones y hacer distintas cosas dependiendo de la respuesta.\n",
      "\n",
      "Primero, veamos las condiciones que podemos utilizar:"
     ]
    },
    {
     "cell_type": "markdown",
     "metadata": {},
     "source": [
      "[1] Define una variable `a` con el valor 3. \u00bfQu\u00e9 dice Julia si ponemos `a < 3`?  Y \u00bf`a >= 3`? \u00bfDe qu\u00e9 tipo es la respuesta?\n",
      "\n",
      "[2] Dos condiciones no tan evidentes son `a == 3` y `a != 3`. \u00bfQu\u00e9 es lo que checan?\n",
      "\n",
      "[3] Se pueden combinar condiciones con `&&` (\"y\") y `||` (\"o\"). Int\u00e9ntalo."
     ]
    },
    {
     "cell_type": "code",
     "collapsed": false,
     "input": [
      "a=3"
     ],
     "language": "python",
     "metadata": {},
     "outputs": [
      {
       "metadata": {},
       "output_type": "pyout",
       "prompt_number": 1,
       "text": [
        "3"
       ]
      }
     ],
     "prompt_number": 1
    },
    {
     "cell_type": "code",
     "collapsed": false,
     "input": [
      "a>=3"
     ],
     "language": "python",
     "metadata": {},
     "outputs": [
      {
       "metadata": {},
       "output_type": "pyout",
       "prompt_number": 3,
       "text": [
        "true"
       ]
      }
     ],
     "prompt_number": 3
    },
    {
     "cell_type": "code",
     "collapsed": false,
     "input": [
      "a!=3"
     ],
     "language": "python",
     "metadata": {},
     "outputs": [
      {
       "metadata": {},
       "output_type": "pyout",
       "prompt_number": 5,
       "text": [
        "false"
       ]
      }
     ],
     "prompt_number": 5
    },
    {
     "cell_type": "code",
     "collapsed": false,
     "input": [
      "a==3 && false==true"
     ],
     "language": "python",
     "metadata": {},
     "outputs": [
      {
       "metadata": {},
       "output_type": "pyout",
       "prompt_number": 12,
       "text": [
        "false"
       ]
      }
     ],
     "prompt_number": 12
    },
    {
     "cell_type": "markdown",
     "metadata": {},
     "source": [
      "Ahora podemos utilizar estas condiciones en un `if`, que tiene la siguiente sintaxis:"
     ]
    },
    {
     "cell_type": "markdown",
     "metadata": {},
     "source": [
      "```\n",
      "if <condicion>\n",
      "    <haz algo>\n",
      "elseif <condicion>\n",
      "    <haz algo distinto>\n",
      "else \n",
      "    <haz esto si no se satisface ninguno de los anteriores>\n",
      "end\n",
      "```\n",
      "\n",
      "El `elseif` y el `else` son opcionales."
     ]
    },
    {
     "cell_type": "code",
     "collapsed": false,
     "input": [
      "if a==3\n",
      "    print(\"a es igual $a\")\n",
      "end"
     ],
     "language": "python",
     "metadata": {},
     "outputs": [
      {
       "output_type": "stream",
       "stream": "stdout",
       "text": [
        "a es igual 3"
       ]
      }
     ],
     "prompt_number": 17
    },
    {
     "cell_type": "code",
     "collapsed": false,
     "input": [],
     "language": "python",
     "metadata": {},
     "outputs": []
    },
    {
     "cell_type": "code",
     "collapsed": false,
     "input": [],
     "language": "python",
     "metadata": {},
     "outputs": []
    },
    {
     "cell_type": "markdown",
     "metadata": {},
     "source": [
      "[4] Define una funci\u00f3n `fabs` que calcule el valor absoluto de un n\u00famero flotante. Checa con la funci\u00f3n predefinida `abs`."
     ]
    },
    {
     "cell_type": "code",
     "collapsed": false,
     "input": [],
     "language": "python",
     "metadata": {},
     "outputs": []
    },
    {
     "cell_type": "heading",
     "level": 1,
     "metadata": {},
     "source": [
      "Recursi\u00f3n"
     ]
    },
    {
     "cell_type": "markdown",
     "metadata": {},
     "source": [
      "Ahora podemos hacer c\u00e1lculos \u00fatiles.\n",
      "\n",
      "Empecemos con el factorial. Recordemos que se define as\u00ed: $n! := 1 \\times 2 \\times \\cdots \\times n$."
     ]
    },
    {
     "cell_type": "markdown",
     "metadata": {},
     "source": [
      "[1] Piensa en tres formas distintas de que pudi\u00e9ramos decirle a la computadora que calcule esto.\n",
      "\n",
      "[2] Define una funci\u00f3n `fact` que implementa una versi\u00f3n en la cual utilizamos *recursi\u00f3n*, es decir, que la funci\u00f3n `fact` *\u00a1llame a s\u00ed misma!*"
     ]
    },
    {
     "cell_type": "markdown",
     "metadata": {},
     "source": [
      "[3] Utiliza estas ideas para definir una funci\u00f3n `mi_exp` que calcule el exponencial de un n\u00famero $x$. Compara con la funci\u00f3n predefinida `exp`."
     ]
    },
    {
     "cell_type": "heading",
     "level": 1,
     "metadata": {},
     "source": [
      "Tarea 1"
     ]
    },
    {
     "cell_type": "markdown",
     "metadata": {},
     "source": [
      "[1] Implementa funciones `mi_sin` y `mi_cos`. Si es necesario, puedes utilizar el operador `%`, que calcula el resto de una divisi\u00f3n:"
     ]
    },
    {
     "cell_type": "code",
     "collapsed": false,
     "input": [
      "5 % 3"
     ],
     "language": "python",
     "metadata": {},
     "outputs": [
      {
       "metadata": {},
       "output_type": "pyout",
       "prompt_number": 34,
       "text": [
        "2"
       ]
      }
     ],
     "prompt_number": 34
    },
    {
     "cell_type": "markdown",
     "metadata": {},
     "source": [
      "[2] \u00bfC\u00f3mo se pueden implementar `mi_sin` y `mi_cos` sin utilizar el `%`?\n",
      "\n",
      "[3] Verifica unas relaciones trigonom\u00e9tricas con tus funciones, y con las funciones predefinidas."
     ]
    }
   ],
   "metadata": {}
  }
 ]
}