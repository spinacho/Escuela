{
 "metadata": {
  "language": "Julia",
  "name": "",
  "signature": "sha256:19ac36d80fee1a3257b24d0e240c2d4182dbc9b5f5dd97da8e6cd9cdbcc4999c"
 },
 "nbformat": 3,
 "nbformat_minor": 0,
 "worksheets": [
  {
   "cells": [
    {
     "cell_type": "markdown",
     "metadata": {},
     "source": [
      "#1. La funci\u00f3n ra\u00edz cuadrada\n",
      "\n",
      "Para encontrar la ra\u00edz cuadrada de $y$, vamos a hacer una funci\u00f3n que vaya bisectando al intervalo $[0,y]$ (y a los resultantes), comparando cada vez al cuadrado de la mitad del intervalo con $y$, de forma que se vaya aproximando a la ra\u00edz cuadrada. Finalmente, utilizando una tolerancia ($\\epsilon$), paramos el algoritmo cuando estemos tan cerca como queramos."
     ]
    },
    {
     "cell_type": "code",
     "collapsed": false,
     "input": [
      "function como_hacer_la_raiz()\n",
      "    #establecer tolerancia\n",
      "    #establecer valor inicial\n",
      "        #while diferencia no cumple tolerancia\n",
      "            #siguiente iteraci\u00f3n\n",
      "        #while end\n",
      "    #end\n",
      "end"
     ],
     "language": "python",
     "metadata": {},
     "outputs": [
      {
       "metadata": {},
       "output_type": "pyout",
       "prompt_number": 2,
       "text": [
        "como_hacer_la_raiz (generic function with 1 method)"
       ]
      }
     ],
     "prompt_number": 2
    },
    {
     "cell_type": "code",
     "collapsed": false,
     "input": [
      "function iterame_la_raiz(xold,y)\n",
      "    xnew=0.5*(xold+y/xold)\n",
      "    xold=xnew\n",
      "end"
     ],
     "language": "python",
     "metadata": {},
     "outputs": [
      {
       "metadata": {},
       "output_type": "pyout",
       "prompt_number": 18,
       "text": [
        "iterame_la_raiz (generic function with 2 methods)"
       ]
      }
     ],
     "prompt_number": 18
    },
    {
     "cell_type": "code",
     "collapsed": false,
     "input": [
      "function raiz(y,x=y/2)\n",
      "    \u03f5=10e-16\n",
      "    if abs(x^2-y)>\u03f5\n",
      "        x=0.5*(x+y/x)\n",
      "        raiz(y,x)\n",
      "        else return x\n",
      "    end\n",
      "end"
     ],
     "language": "python",
     "metadata": {},
     "outputs": [
      {
       "metadata": {},
       "output_type": "pyout",
       "prompt_number": 1,
       "text": [
        "raiz (generic function with 2 methods)"
       ]
      }
     ],
     "prompt_number": 1
    },
    {
     "cell_type": "code",
     "collapsed": false,
     "input": [
      "function raiz(y)\n",
      "    utilidad_de_raiz(y,y/2)  \n",
      "end"
     ],
     "language": "python",
     "metadata": {},
     "outputs": [
      {
       "metadata": {},
       "output_type": "pyout",
       "prompt_number": 43,
       "text": [
        "raiz (generic function with 1 method)"
       ]
      }
     ],
     "prompt_number": 43
    },
    {
     "cell_type": "code",
     "collapsed": false,
     "input": [
      "raiz(4)"
     ],
     "language": "python",
     "metadata": {},
     "outputs": [
      {
       "metadata": {},
       "output_type": "pyout",
       "prompt_number": 2,
       "text": [
        "2.0"
       ]
      }
     ],
     "prompt_number": 2
    },
    {
     "cell_type": "code",
     "collapsed": false,
     "input": [
      "raiz(3)"
     ],
     "language": "python",
     "metadata": {},
     "outputs": [
      {
       "metadata": {},
       "output_type": "pyout",
       "prompt_number": 3,
       "text": [
        "1.7320508075688772"
       ]
      }
     ],
     "prompt_number": 3
    },
    {
     "cell_type": "code",
     "collapsed": false,
     "input": [
      "raiz(2)"
     ],
     "language": "python",
     "metadata": {},
     "outputs": [
      {
       "metadata": {},
       "output_type": "pyout",
       "prompt_number": 4,
       "text": [
        "1.414213562373095"
       ]
      }
     ],
     "prompt_number": 4
    }
   ],
   "metadata": {}
  }
 ]
}