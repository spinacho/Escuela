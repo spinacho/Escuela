{
 "metadata": {
  "name": "",
  "signature": "sha256:32701d8dd8e673f211bd7f79f49b78c4bffa19886253fc14637bb882b2bfeea4"
 },
 "nbformat": 3,
 "nbformat_minor": 0,
 "worksheets": [
  {
   "cells": [
    {
     "cell_type": "heading",
     "level": 1,
     "metadata": {},
     "source": [
      "F\u00edsica Computacional, Grupo 8153"
     ]
    },
    {
     "cell_type": "heading",
     "level": 2,
     "metadata": {},
     "source": [
      "Por qu\u00e9 estamos aqu\u00ed?"
     ]
    },
    {
     "cell_type": "markdown",
     "metadata": {},
     "source": [
      "- Para resolver problemas de f\u00edsica en la computadora\n",
      "- Porque no lo podemos hacer de otra forma\n",
      "- (Programar - un mal necesario)\n"
     ]
    },
    {
     "cell_type": "heading",
     "level": 2,
     "metadata": {},
     "source": [
      "\u00bfCu\u00e1les problemas vamos a resolver?"
     ]
    },
    {
     "cell_type": "markdown",
     "metadata": {},
     "source": [
      "- Oscilador nolineales\n",
      "- Ecuaci\u00f3n de Laplace\n",
      "- Ecuaci\u00f3n de ondas \n",
      "- Modelos de imanes\n",
      "- Ecuaci\u00f3n de calor\n",
      "- Ecuaciones de Einstein\n",
      "- Ecuaci\u00f3n de Schr\u00f6dinger\n",
      "- Sistemas de part\u00edculas"
     ]
    },
    {
     "cell_type": "heading",
     "level": 1,
     "metadata": {},
     "source": [
      "Temas"
     ]
    },
    {
     "cell_type": "markdown",
     "metadata": {},
     "source": [
      "- Ecuaciones diferenciales ordinarias\n",
      "- Ecuaciones diferenciales parciales\n",
      "- Simulaciones -- experimento pensado (Gedankenexperiment)\n",
      "- Ecuaci\u00f3n trascendental:  $\\tan(x) = x$\n",
      "- \u00c1lgebra lineal\n",
      "- Probabilidad y estad\u00edstica: Procesos estoc\u00e1sticos / aleatorios\n"
     ]
    },
    {
     "cell_type": "heading",
     "level": 2,
     "metadata": {},
     "source": [
      "Requisitos"
     ]
    },
    {
     "cell_type": "markdown",
     "metadata": {},
     "source": [
      "- C\u00e1lculos\n",
      "- \u00c1lgebra Lineal\n",
      "- EDOs I\n",
      "- Electro I\n",
      "- Intro a la F\u00eds Cu\u00e1ntica\n",
      "- MAF\n",
      "- Mec. Anal\u00edtica\n"
     ]
    },
    {
     "cell_type": "heading",
     "level": 2,
     "metadata": {},
     "source": [
      "Herramientas computacionales"
     ]
    },
    {
     "cell_type": "heading",
     "level": 3,
     "metadata": {},
     "source": [
      "Lenguaje / entorno"
     ]
    },
    {
     "cell_type": "markdown",
     "metadata": {},
     "source": [
      "- Python\n",
      "- C\n",
      "- Fortran\n",
      "- Matlab \n",
      "- Java\n",
      "- C++\n",
      "- C#\n",
      "- R\n",
      "- Octave\n"
     ]
    },
    {
     "cell_type": "markdown",
     "metadata": {},
     "source": [
      "Vamos a utilizar Julia (y Python)\n",
      "\n",
      "y el IPython (Jupyter) Notebook"
     ]
    },
    {
     "cell_type": "heading",
     "level": 2,
     "metadata": {},
     "source": [
      "Instalar las herramientas"
     ]
    },
    {
     "cell_type": "markdown",
     "metadata": {},
     "source": [
      "1. No instalarlas: utilizarlas en l\u00ednea en <http://cloud.sagemath.com>\n",
      "2. Instalar Python:  Anaconda de Continuum\n",
      "3. \n",
      "```sudo apt-get install python-pip\n",
      "pip install ipython[all] --upgrade\n",
      "```\n"
     ]
    },
    {
     "cell_type": "heading",
     "level": 2,
     "metadata": {},
     "source": [
      "\u00bfPor qu\u00e9 el IPython Notebook?"
     ]
    },
    {
     "cell_type": "markdown",
     "metadata": {},
     "source": [
      "- Cuaderno interactivo\n",
      "- Texto\n",
      "- Ecuaciones\n",
      "- C\u00f3digo\n",
      "- Figuras\n",
      "- Ligas a p\u00e1ginas web\n"
     ]
    },
    {
     "cell_type": "heading",
     "level": 1,
     "metadata": {},
     "source": [
      "*Hola*"
     ]
    },
    {
     "cell_type": "markdown",
     "metadata": {},
     "source": [
      "Puedo poner ecuaciones usando LaTeX:\n",
      "\n",
      "x\n",
      "\n",
      "Si $ y = \\int x^2 dx$ entonces  $y = x^3 / 3 + C$"
     ]
    },
    {
     "cell_type": "heading",
     "level": 2,
     "metadata": {},
     "source": [
      "Tarea:"
     ]
    },
    {
     "cell_type": "markdown",
     "metadata": {},
     "source": [
      "Redactar un par de p\u00e1ginas de notas usando el IPython Notebook.\n",
      "\n",
      "Mandar o el notebook (`.ipynb`) o la liga al documento en Dropbox o en SageMathCloud (<http://cloud.sagemath.com>), \n",
      "\n",
      "a Rafael D\u00edaz:  `rafael.diaz.hr@gmail.com`"
     ]
    },
    {
     "cell_type": "heading",
     "level": 2,
     "metadata": {},
     "source": [
      "Evaluaci\u00f3n:"
     ]
    },
    {
     "cell_type": "markdown",
     "metadata": {},
     "source": [
      "- Tareas (una por semana): 60%\n",
      "- Ex\u00e1menes (2): 20%\n",
      "- Proyecto final: 20%"
     ]
    },
    {
     "cell_type": "heading",
     "level": 2,
     "metadata": {},
     "source": [
      "Laboratorio"
     ]
    },
    {
     "cell_type": "markdown",
     "metadata": {},
     "source": [
      "Lab. Libre IV, 2o. piso del Depto. de F\u00edsica"
     ]
    },
    {
     "cell_type": "heading",
     "level": 2,
     "metadata": {},
     "source": [
      "Sal\u00f3n invertido"
     ]
    },
    {
     "cell_type": "heading",
     "level": 2,
     "metadata": {},
     "source": [
      "Bibliograf\u00eda"
     ]
    },
    {
     "cell_type": "markdown",
     "metadata": {},
     "source": [
      "- Giordano, *Computational Physics*\n",
      "- Newman, *Computational Physics*"
     ]
    },
    {
     "cell_type": "code",
     "collapsed": false,
     "input": [],
     "language": "python",
     "metadata": {},
     "outputs": []
    }
   ],
   "metadata": {}
  }
 ]
}