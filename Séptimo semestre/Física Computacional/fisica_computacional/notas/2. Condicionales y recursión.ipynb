{
 "metadata": {
  "language": "Julia",
  "name": "",
  "signature": "sha256:0e9d94c955b47804799b1bfe5e3810e30445077e6a32fe4479e85fe4e72ffae9"
 },
 "nbformat": 3,
 "nbformat_minor": 0,
 "worksheets": [
  {
   "cells": [
    {
     "cell_type": "markdown",
     "metadata": {},
     "source": [
      "# 0. Rese\u00f1a de la clase pasada"
     ]
    },
    {
     "cell_type": "markdown",
     "metadata": {},
     "source": [
      "[1] Define una funci\u00f3n `vol_esfera` que acepta un radio y calcula el volumen de la esfera con ese radio.\n",
      "\n",
      "[2] Utiliza tu funci\u00f3n para calcular el volumen de la esfera con radio $\\rho = 10$\n",
      "\n",
      "[3] Define una funci\u00f3n `vol_cilindro` que calcula el volumen de un cilindro de radio $\\rho$ y altura $\\zeta$.\n",
      "\n",
      "[4] Calcula el volumen del cilindro con radio $\\rho = \\frac{1}{2}$ y altura $\\zeta = 10$."
     ]
    },
    {
     "cell_type": "heading",
     "level": 1,
     "metadata": {},
     "source": [
      "Condicionales"
     ]
    },
    {
     "cell_type": "markdown",
     "metadata": {},
     "source": [
      "Necesitamos poder verificar condiciones y hacer distintas cosas dependiendo de la respuesta.\n",
      "\n",
      "Primero, veamos las condiciones que podemos utilizar:"
     ]
    },
    {
     "cell_type": "markdown",
     "metadata": {},
     "source": [
      "[1] Define una variable `a` con el valor 3. \u00bfQu\u00e9 dice Julia si ponemos `a < 3`?  Y \u00bf`a >= 3`? \u00bfDe qu\u00e9 tipo es la respuesta?\n",
      "\n",
      "[2] Dos condiciones no tan evidentes son `a == 3` y `a != 3`. \u00bfQu\u00e9 es lo que checan?\n",
      "\n",
      "[3] Se pueden combinar condiciones con `&&` (\"y\") y `||` (\"o\"). Int\u00e9ntalo."
     ]
    },
    {
     "cell_type": "markdown",
     "metadata": {},
     "source": [
      "Ahora podemos utilizar estas condiciones en un `if`, que tiene la siguiente sintaxis:"
     ]
    },
    {
     "cell_type": "markdown",
     "metadata": {},
     "source": [
      "```\n",
      "if <condicion>\n",
      "    <haz esto si la condicion se cumple>\n",
      "elseif <condicion>\n",
      "    <haz esto si no>\n",
      "else \n",
      "    <haz esto si no se satisface ninguno de los anteriores>\n",
      "end\n",
      "```\n",
      "\n",
      "El `elseif` y el `else` son opcionales."
     ]
    },
    {
     "cell_type": "markdown",
     "metadata": {},
     "source": [
      "[4] Define una funci\u00f3n `fabs` que calcule el valor absoluto de un n\u00famero flotante. Checa con la funci\u00f3n predefinida `abs`."
     ]
    },
    {
     "cell_type": "markdown",
     "metadata": {},
     "source": [
      "Otra notaci\u00f3n \u00fatil cuando las condiciones son cortas se usa el llamado *operador ternario* (as\u00ed llamado por contar con tres argumentos):  `condicion ? <haz esto si la condicion se cumple> : <si no, haz esto>`\n",
      "\n",
      "[5] Reescribe la funci\u00f3n `fabs` usando el operador ternario.\n"
     ]
    },
    {
     "cell_type": "heading",
     "level": 1,
     "metadata": {},
     "source": [
      "Recursi\u00f3n"
     ]
    },
    {
     "cell_type": "markdown",
     "metadata": {},
     "source": [
      "Ahora podemos hacer c\u00e1lculos \u00fatiles.\n",
      "\n",
      "Empecemos con el factorial. Recordemos que se define as\u00ed: $n! := 1 \\times 2 \\times \\cdots \\times n$."
     ]
    },
    {
     "cell_type": "markdown",
     "metadata": {},
     "source": [
      "[1] Piensa en tres formas distintas de que pudi\u00e9ramos hacer un algoritmo para calcular el factorial de un n\u00famero $n$. (No es necesario que los implementes; s\u00f3lo pensar en distintas formas de ver el problema.)\n",
      "\n",
      "[2] Define una funci\u00f3n `fact` que implementa una versi\u00f3n en la cual utilizamos *recursi\u00f3n*, es decir, que la funci\u00f3n `fact` *\u00a1llame a s\u00ed misma!*"
     ]
    },
    {
     "cell_type": "markdown",
     "metadata": {},
     "source": [
      "[3] Utiliza estas ideas para definir una funci\u00f3n `mi_exp` que calcule el exponencial de un n\u00famero $x$, usando la serie de Taylor de la funci\u00f3n, y *usando recursi\u00f3n*. Define otra funci\u00f3n que compare tu resultado con la funci\u00f3n predefinida `exp`."
     ]
    },
    {
     "cell_type": "heading",
     "level": 1,
     "metadata": {},
     "source": [
      "M\u00e9todos"
     ]
    },
    {
     "cell_type": "markdown",
     "metadata": {},
     "source": [
      "En el problema anterior, ten\u00edas que definir una funci\u00f3n que aceptara dos argumentos, el valor de $x$ y el orden $n$ de la serie de Taylor.\n",
      "\n",
      "[4] Ahora define otra funci\u00f3n con el *mismo* nombre, que llame a la funci\u00f3n anterior, con un valor fijo, m\u00e1s o menos grande, de $n$.\n",
      "\n",
      "[5] Usa la funci\u00f3n `methods` con el nombre de la funci\u00f3n como argumento. Deber\u00edas ver los dos m\u00e9todos que has creado, y d\u00f3nde se han definido. Esto se puede hacer para cualquier funci\u00f3n en Julia, incluyendo los operadores matem\u00e1ticos.\n",
      "\n",
      "[6] Investiga como ejemplo los m\u00e9todos de `+`.\n",
      "\n",
      "En Julia, una *funci\u00f3n* consiste en muchos *m\u00e9todos* que sirven para actuar sobre distintos tipos y/o distintos n\u00fameros de argumentos. \n"
     ]
    },
    {
     "cell_type": "heading",
     "level": 2,
     "metadata": {},
     "source": [
      "Argumentos por defecto"
     ]
    },
    {
     "cell_type": "markdown",
     "metadata": {},
     "source": [
      "De hecho, tambi\u00e9n es posible especificar argumentos *por defecto*, poniendo `<variable>=<valor>` en la definici\u00f3n de la funci\u00f3n.\n",
      "\n",
      "[7] Define otra versi\u00f3n de `mi_exp` con un argumento por defecto, y checa que s\u00ed sirve cuando no se especifica este argumento."
     ]
    }
   ],
   "metadata": {}
  }
 ]
}