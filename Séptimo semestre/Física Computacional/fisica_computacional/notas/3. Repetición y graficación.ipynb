{
 "metadata": {
  "language": "Julia",
  "name": "",
  "signature": "sha256:1143a2986f055ec709d925b5a091324f86716fe71ce336385bf4be0173bc598a"
 },
 "nbformat": 3,
 "nbformat_minor": 0,
 "worksheets": [
  {
   "cells": [
    {
     "cell_type": "heading",
     "level": 1,
     "metadata": {},
     "source": [
      "Repetici\u00f3n"
     ]
    },
    {
     "cell_type": "markdown",
     "metadata": {},
     "source": [
      "Muy seguido, es necesario poder repetir un c\u00e1lculo muchas veces, cambiando lo que se calcula de una forma determinada. Esto suele hacerse con *bucles* / *ciclos* / *loops*. En Julia, muchos c\u00e1lculos de este estilo se pueden escribir de una forma m\u00e1s breve."
     ]
    },
    {
     "cell_type": "heading",
     "level": 2,
     "metadata": {},
     "source": [
      "Rangos"
     ]
    },
    {
     "cell_type": "markdown",
     "metadata": {},
     "source": [
      "Un rango se escribe con dos puntos, `:`, y genera un tipo de objeto especial que genera todos los n\u00fameros entre su principio y fin:"
     ]
    },
    {
     "cell_type": "code",
     "collapsed": false,
     "input": [
      "1:10"
     ],
     "language": "python",
     "metadata": {},
     "outputs": [
      {
       "metadata": {},
       "output_type": "pyout",
       "prompt_number": 6,
       "text": [
        "1:10"
       ]
      }
     ],
     "prompt_number": 6
    },
    {
     "cell_type": "markdown",
     "metadata": {},
     "source": [
      "[1] \u00bfQu\u00e9 tipo tiene este objeto?\n"
     ]
    },
    {
     "cell_type": "markdown",
     "metadata": {},
     "source": [
      "Los n\u00fameros que producir\u00e1 se pueden ver al incluir el rango en corchetes, `[` y `]`:"
     ]
    },
    {
     "cell_type": "code",
     "collapsed": false,
     "input": [
      "[1:10]"
     ],
     "language": "python",
     "metadata": {},
     "outputs": [
      {
       "metadata": {},
       "output_type": "pyout",
       "prompt_number": 7,
       "text": [
        "10-element Array{Int64,1}:\n",
        "  1\n",
        "  2\n",
        "  3\n",
        "  4\n",
        "  5\n",
        "  6\n",
        "  7\n",
        "  8\n",
        "  9\n",
        " 10"
       ]
      }
     ],
     "prompt_number": 7
    },
    {
     "cell_type": "markdown",
     "metadata": {},
     "source": [
      "[2] \u00bfDe qu\u00e9 tipo es este nuevo objeto?\n",
      "\n",
      "[3] Se puede incluir un tama\u00f1o de paso como un tercer \"argumento\". Encuentra la sintaxis."
     ]
    },
    {
     "cell_type": "markdown",
     "metadata": {},
     "source": [
      "Hay ciertas funciones que aceptan rangos como argumentos, incluyendo `sum` y `prod` para sumas y productos.\n",
      "\n",
      "[4] Calcula la suma de los primeros 100 enteros.\n",
      "\n",
      "[5] \u00bfPuedes calcular el producto de los primeros 100 enteros de esta manera?"
     ]
    },
    {
     "cell_type": "heading",
     "level": 2,
     "metadata": {},
     "source": [
      "Arreglos por comprensi\u00f3n"
     ]
    },
    {
     "cell_type": "markdown",
     "metadata": {},
     "source": [
      "Julia tiene una sintaxis muy poderosa para operar f\u00e1cilmente sobre una secuencia de n\u00fameros para dar otro: *arreglos por comprensi\u00f3n*. \n",
      "\n",
      "Podemos pensar en un arreglo como una lista, o secuencia, o conjunto de datos.\n",
      "\n",
      "En matem\u00e1ticas, hay una notaci\u00f3n muy bonita para especifar, por ejemplo, el conjunto de los cuadrados de los primeros diez enteros:\n",
      "\n",
      "$$\\{ x^2 : x \\in \\{1, \\ldots, 10 \\} \\}$$\n",
      "\n",
      "Podemos hacer algo muy similar en Julia:"
     ]
    },
    {
     "cell_type": "code",
     "collapsed": false,
     "input": [
      "[x^2 for x in 1:10]"
     ],
     "language": "python",
     "metadata": {},
     "outputs": [
      {
       "metadata": {},
       "output_type": "pyout",
       "prompt_number": 15,
       "text": [
        "10-element Array{Int64,1}:\n",
        "   1\n",
        "   4\n",
        "   9\n",
        "  16\n",
        "  25\n",
        "  36\n",
        "  49\n",
        "  64\n",
        "  81\n",
        " 100"
       ]
      }
     ],
     "prompt_number": 15
    },
    {
     "cell_type": "markdown",
     "metadata": {},
     "source": [
      "Podemos leer esto como \"la lista de $x^2$ *para* ('for') $x$ de 1 hasta 10\", o \"la lista de los cuadrados de los n\u00fameros de 1 a 10$.\n",
      "\n",
      "[6] Utiliza la funci\u00f3n `sum` para calcular la suma de estos cuadrados.\n",
      "\n",
      "[7] Haz una funci\u00f3n `my_exp` que calcula el exponencial usando estas ideas."
     ]
    },
    {
     "cell_type": "heading",
     "level": 2,
     "metadata": {},
     "source": [
      "Arreglos"
     ]
    },
    {
     "cell_type": "markdown",
     "metadata": {},
     "source": [
      "Nosotros podemos crear arreglos simplemente poniendo los elementos dentro de corchetes:"
     ]
    },
    {
     "cell_type": "code",
     "collapsed": false,
     "input": [
      "arreglo1 = [3, 4, 7]"
     ],
     "language": "python",
     "metadata": {},
     "outputs": [
      {
       "metadata": {},
       "output_type": "pyout",
       "prompt_number": 17,
       "text": [
        "3-element Array{Int64,1}:\n",
        " 3\n",
        " 4\n",
        " 7"
       ]
      }
     ],
     "prompt_number": 17
    },
    {
     "cell_type": "markdown",
     "metadata": {},
     "source": [
      "[7] \u00bfDe qu\u00e9 tipo es `arreglo1`?\n",
      "\n",
      "[8] \u00bfQu\u00e9 pasa con el tipo si defines un nuevo arreglo con elementos que son decimales? "
     ]
    },
    {
     "cell_type": "markdown",
     "metadata": {},
     "source": [
      "Ahora podemos operar sobre los elementos del arreglo de la misma forma que con rangos:"
     ]
    },
    {
     "cell_type": "code",
     "collapsed": false,
     "input": [
      "cuadrados = [x^2 for x in arreglo1]"
     ],
     "language": "python",
     "metadata": {},
     "outputs": [
      {
       "metadata": {},
       "output_type": "pyout",
       "prompt_number": 18,
       "text": [
        "3-element Array{Any,1}:\n",
        "  9\n",
        " 16\n",
        " 49"
       ]
      }
     ],
     "prompt_number": 18
    },
    {
     "cell_type": "heading",
     "level": 1,
     "metadata": {},
     "source": [
      "Graficaci\u00f3n"
     ]
    },
    {
     "cell_type": "markdown",
     "metadata": {},
     "source": [
      "Ahora que somos capaces de producir datos interesantes, se nos antoja *visualizarlos*, es decir, graficarlos.\n",
      "\n",
      "Hay varios paquetes gr\u00e1ficos en Julia, todav\u00eda en desarrollo. Tal vez el m\u00e1s maduro es `PyPlot`, que provee un interfaz juliano al paquete `matplotlib` de Python para graficar.\n",
      "\n",
      "Para utilizarlo, es necesario primero instalar el paquete:"
     ]
    },
    {
     "cell_type": "code",
     "collapsed": false,
     "input": [
      "Pkg.add(\"PyPlot\")"
     ],
     "language": "python",
     "metadata": {},
     "outputs": [
      {
       "output_type": "stream",
       "stream": "stderr",
       "text": [
        "INFO: Nothing to be done\n"
       ]
      },
      {
       "output_type": "stream",
       "stream": "stderr",
       "text": [
        "INFO: METADATA is out-of-date \u2014 you may not have the latest version of PyPlot\n",
        "INFO: Use `Pkg.update()` to get the latest versions of your packages\n"
       ]
      }
     ],
     "prompt_number": 19
    },
    {
     "cell_type": "markdown",
     "metadata": {},
     "source": [
      "y luego cargarlo:"
     ]
    },
    {
     "cell_type": "code",
     "collapsed": false,
     "input": [
      "using PyPlot  # \"using\" == \"usando\""
     ],
     "language": "python",
     "metadata": {},
     "outputs": [
      {
       "output_type": "stream",
       "stream": "stderr",
       "text": [
        "INFO: Loading help data...\n"
       ]
      }
     ],
     "prompt_number": 1
    },
    {
     "cell_type": "markdown",
     "metadata": {},
     "source": [
      "[1] Crea un arreglo `x` con n\u00fameros igualmente espaciados de -3 a 3 y un paso chiquito.\n",
      "\n",
      "[2] Crea un arreglo `y` que corresponde a la funci\u00f3n $3x^2 - 2$.\n",
      "\n",
      "[3] Usa la funci\u00f3n `plot` de `PyPlot` para graficar la funci\u00f3n.\n",
      "\n",
      "[4] Utiliza la ayuda de la funci\u00f3n [`?plot` o `help(plot)`] para cambiar el estilo de la gr\u00e1fica para utilizar l\u00edneas rojas y puntos verdes.\n",
      "\n",
      "[5] Busca c\u00f3mo agregar etiquetas a los ejes (lo cual debe hacerse en *cualquier* gr\u00e1fica) y un t\u00edtulo global, as\u00ed como una leyenda."
     ]
    },
    {
     "cell_type": "heading",
     "level": 2,
     "metadata": {},
     "source": [
      "Tiro parab\u00f3lico"
     ]
    },
    {
     "cell_type": "markdown",
     "metadata": {},
     "source": [
      "[6] Haz una funci\u00f3n que calcula la trayectoria de una part\u00edcula en tiro parab\u00f3lico con una velocidad inicial dada.\n",
      "\n",
      "[7] Grafica distintas trayectorias con la misma rapidez inicial pero distintos \u00e1ngulos iniciales, y comprobar gr\u00e1ficamente para cu\u00e1l \u00e1ngulo se tiene el m\u00e1ximo alcance."
     ]
    }
   ],
   "metadata": {}
  }
 ]
}