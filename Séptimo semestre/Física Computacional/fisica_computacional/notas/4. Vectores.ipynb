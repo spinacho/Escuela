{
 "metadata": {
  "language": "Julia",
  "name": "",
  "signature": "sha256:cd126b1ada4ded8e86eb36ce4008e8e0971c26164338e13ae8adba157515549d"
 },
 "nbformat": 3,
 "nbformat_minor": 0,
 "worksheets": [
  {
   "cells": [
    {
     "cell_type": "heading",
     "level": 1,
     "metadata": {},
     "source": [
      "Vectores"
     ]
    },
    {
     "cell_type": "markdown",
     "metadata": {},
     "source": [
      "Los arreglos se pueden considerar simplemente como secuencias de n\u00fameros, es decir, un tipo de *contenedor* que contienen datos.\n",
      "\n",
      "Sin embargo, en la f\u00edsica, usamos colecciones de n\u00fameros con otra meta: *representar* a las componentes de vectores matem\u00e1ticos.\n",
      "\n",
      "Resulta que en Julia, podemos utilizar arreglos \u00a1tambi\u00e9n para este fin!\n",
      "\n",
      "[9] Define dos vectores `v` y `w` con tres componentes cada quien. \n",
      "\n",
      "[10] Intenta calcular dos veces `v`,  y la suma de `v` y `w`. \u00bfFunciona como esperar\u00edas?\n",
      "\n",
      "[11] Adivina c\u00f3mo se llaman las funciones de producto punto y cruz, y verifica que funcionan.\n",
      "\n",
      "[12] Estas funciones tambi\u00e9n se pueden escribir con `\\cdot` y `\\times`,  respectivamente. Int\u00e9ntalo.\n",
      "\n",
      "[13] \u00bfQu\u00e9 pasa si intentas multiplicar `v` y `w`? \u00bfPor qu\u00e9?\n"
     ]
    }
   ],
   "metadata": {}
  }
 ]
}