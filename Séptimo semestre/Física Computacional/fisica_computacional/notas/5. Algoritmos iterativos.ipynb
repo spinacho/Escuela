{
 "metadata": {
  "language": "Julia",
  "name": "",
  "signature": "sha256:5de98cd35bd82b58f0a8235f818b96a236c4b0c4b2acdb0b66358e5ff2cafac1"
 },
 "nbformat": 3,
 "nbformat_minor": 0,
 "worksheets": [
  {
   "cells": [
    {
     "cell_type": "heading",
     "level": 1,
     "metadata": {},
     "source": [
      "Algoritmos"
     ]
    },
    {
     "cell_type": "markdown",
     "metadata": {},
     "source": [
      "Un *algoritmo* es una \"receta\" computacional, que consiste en una serie de instrucciones para que la computadora lleve a cabo un c\u00e1lculo dado. Gran parte del curso consistir\u00e1 en desarrollar algoritmos para calcular distintas cantidades en la f\u00edsica.\n",
      "\n",
      "Algunos algoritmos (por ejemplo, la eliminaci\u00f3n gaussiana que veremos m\u00e1s adelante) proveen una manera de llevar a cabo un c\u00e1lculo de manera \"exacta\" (dentro de las restricciones impuestas por el uso de n\u00fameros con precisi\u00f3n finita) en un n\u00famero finito de pasos.\n",
      "\n",
      "Sin embargo, en general, no podemos esperar que haya una f\u00f3rmula anal\u00edtica cerrada para calcular las cantidades de inter\u00e9s de manera exacta. En este caso, ser\u00e1 necesario emplear un algoritmo *iterativo*."
     ]
    },
    {
     "cell_type": "heading",
     "level": 2,
     "metadata": {},
     "source": [
      "Algoritmos iterativos"
     ]
    },
    {
     "cell_type": "markdown",
     "metadata": {},
     "source": [
      "Un algoritmo iterativo normalmente empieza desde una adivinanza inicial $x_0$, y aplica un procedimiento / receta matem\u00e1tica, o sea alguna funci\u00f3n (en el sentido m\u00e1s general de la palabra) $f$, para producir una siguiente adivinanza $x_1 := f(x_0)$. Esto se repite para producir una secuencia $x_0, x_1, \\ldots, x_n, \\ldots$, con\n",
      "\n",
      "$$x_{n+1} := f(x_n).$$\n",
      "\n",
      "La esperanza es que la secuencia $x_n$ converja hacia un valor l\u00edmite $x^*$ cuando $n \\to \\infty$, tal que $x^*$ sea la soluci\u00f3n del problema original.\n",
      "\n",
      "Dado que no podemos llevar a cabo la iteraci\u00f3n un n\u00famero infinito de veces, se corta la iteraci\u00f3n despu\u00e9s de un cierto n\u00famero de pasos, para dar una soluci\u00f3n *aproximada*, que se acerca dentro de cierta *tolerancia* al resultado te\u00f3rico exacto $x^*$. Por lo tanto, cualquier algoritmo iterativo requiere una condici\u00f3n de terminaci\u00f3n."
     ]
    },
    {
     "cell_type": "heading",
     "level": 1,
     "metadata": {},
     "source": [
      "Ra\u00edces cuadradas: Algoritmo Babil\u00f3nico"
     ]
    },
    {
     "cell_type": "markdown",
     "metadata": {},
     "source": [
      "Un primer ejemplo de un algoritmo \u00fatil es el *algoritmo Babil\u00f3nico* (o de Her\u00f3n) para calcular la raiz cuadrada de un n\u00famero real. Supongamos que queramos calcular $\\sqrt{y}$. No hay manera de calcular este n\u00famero de manera precisa en un n\u00famero finito de pasos, usando s\u00f3lo las operaciones aritm\u00e9ticas b\u00e1sicas. (Por supuesto, es una sola llamada a la funci\u00f3n \n",
      "`sqrt` en Julia, pero eso no cuenta...)."
     ]
    },
    {
     "cell_type": "markdown",
     "metadata": {},
     "source": [
      "Para un algoritmo, necesitamos una *idea*, que toma una adivinanza $x_n$ y produce una mejor, $x_{n+1}$.\n",
      "\n",
      "En el caso de la raiz cuadrada $\\sqrt{y}$, dada una adivinanza $x_n$, podemos reconocer que el n\u00famero $\\frac{y}{x_n}$ est\u00e1 del otro lado de $\\sqrt{y}$ que $x_n$, y que entonces tenemos la *idea* de que el valor medio entre los dos podr\u00eda servir:\n",
      "\n",
      "$$x_{n+1} := \\textstyle \\frac{1}{2} (x_n + \\textstyle \\frac{y}{x_n}).$$\n",
      "\n",
      "Aunque la notaci\u00f3n matem\u00e1tica requiere pensar en el n\u00famero $n$ del iterado, en un programa conviene m\u00e1s pensar en valores \"viejos\" y \"nuevos\" en cada paso de la iteraci\u00f3n.\n"
     ]
    },
    {
     "cell_type": "markdown",
     "metadata": {},
     "source": [
      "[1] Implementa una funci\u00f3n que toma una adivinanza y produce una mejor aproximaci\u00f3n para la raiz cuadrada.\n",
      "\n",
      "[2] Implementa una funci\u00f3n recursiva que toma el valor de $y$ y una adivinanza inicial, y calcula la raiz cuadrada. \u00a1No olvides la condici\u00f3n de terminaci\u00f3n!\n",
      "\n",
      "[3] Implementa una funci\u00f3n que calcule la ra\u00edz cuadrada de un n\u00famero. \n",
      "\n",
      "[4] \u00bfQu\u00e9 tan r\u00e1pida es la convergencia al valor correcto? Dibuja unos iterados."
     ]
    },
    {
     "cell_type": "heading",
     "level": 1,
     "metadata": {},
     "source": [
      "Ra\u00edces de funciones: Bisecci\u00f3n"
     ]
    },
    {
     "cell_type": "markdown",
     "metadata": {},
     "source": [
      "Muchos problemas en la f\u00edsica requieren la soluci\u00f3n de ecuaciones complicadas, por ejemplo trascendentales, las cuales no es posible resolver de manera anal\u00edtica. Por ejemplo, calcular el tiempo de intersecci\u00f3n $\\tau$ entre un oscilador arm\u00f3nico y una part\u00edcula libre requiere resolver una ecuaci\u00f3n para el tiempo de la forma\n",
      "\n",
      "$$\\cos(\\tau) = x_0 - v \\tau.$$\n",
      "\n",
      "Cualquier problema de este tipo se puede pensar como el de resolver una ecuaci\u00f3n de la forma $F(x) = 0$, es decir, encontrar *ra\u00edces* o *ceros* $x^*$ tales que $F(x^*) = 0$. \n",
      "\n",
      "Suponiendo que $F$ es una funci\u00f3n continua, una condici\u00f3n suficiente (pero no necesaria) para que *exista* una raiz en un intervalo dado $[a, b]$ es que $F$ cambie de signo en el intervalo, es decir, que $F(a)$ y $F(b)$ tengan signos opuestos. Por el teorema del valor intermedio, se sigue que $F$ tiene al menos un cero en $[a, b]$."
     ]
    },
    {
     "cell_type": "markdown",
     "metadata": {},
     "source": [
      "Para ubicar la ra\u00edz en este intervalo, la idea del m\u00e9todo de bisecci\u00f3n es literalmente de dividir en dos el intervalo, poniendo\n",
      "$$c := \\textstyle \\frac{1}{2}(a + b),$$\n",
      "y checar el signo de $c$. Seg\u00fan el signo de $c$, el nuevo intervalo que considerar para buscar la ra\u00edz es o la mitad izquierda, o la mitad derecha."
     ]
    },
    {
     "cell_type": "heading",
     "level": 1,
     "metadata": {},
     "source": [
      "Ra\u00edces de funciones: M\u00e9todo de Newton--Raphson"
     ]
    },
    {
     "cell_type": "markdown",
     "metadata": {},
     "source": [
      "Un algoritmo poderoso, pero a veces peligroso (como veremos m\u00e1s adelante), es el m\u00e9todo de Newton, o de Newton--Raphson, para encontrar ra\u00edces de funciones $f$ que sean diferenciables. El algoritmo utiliza tambi\u00e9n informaci\u00f3n sobre la derivada $f'$ de la funci\u00f3n $f$."
     ]
    },
    {
     "cell_type": "markdown",
     "metadata": {},
     "source": [
      "La idea del m\u00e9todo es partir de la aproximaci\u00f3n $x_n$ de una ra\u00edz, y predecir una posici\u00f3n m\u00e1s cercana de la ra\u00edz a trav\u00e9s de la intersecci\u00f3n de la recta tangente a la funci\u00f3n en $x_n$ con el eje $x$."
     ]
    },
    {
     "cell_type": "markdown",
     "metadata": {},
     "source": [
      "[1] Haz un esbozo y util\u00edzalo para calcular $x_{n+1}$ en t\u00e9rminos de $x_n$ para el m\u00e9todo de Newton."
     ]
    }
   ],
   "metadata": {}
  }
 ]
}