{
 "metadata": {
  "language": "Julia",
  "name": "",
  "signature": "sha256:59776568563583bb6809c2bcd852456633add75dab067ba64a70f6ba73eab052"
 },
 "nbformat": 3,
 "nbformat_minor": 0,
 "worksheets": [
  {
   "cells": [
    {
     "cell_type": "heading",
     "level": 1,
     "metadata": {},
     "source": [
      "Iteraci\u00f3n"
     ]
    },
    {
     "cell_type": "markdown",
     "metadata": {},
     "source": [
      "Las computadoras est\u00e1n dise\u00f1adas para llevar a cabo c\u00e1lculos de forma repetida. Hasta ahora, para hacerlo, s\u00f3lo tenemos el recurso de las funciones recursivas (es decir, funciones que llamen a s\u00ed mismas). Sin embargo, la recursi\u00f3n no siempre es deseable, ni necesario.\n",
      "\n",
      "En Julia (y muchos otros lenguajes), existen dos formas de llevar a cabo iteraciones de forma m\u00e1s expl\u00edcita: `for` y `while`. "
     ]
    },
    {
     "cell_type": "heading",
     "level": 2,
     "metadata": {},
     "source": [
      "`for`"
     ]
    },
    {
     "cell_type": "markdown",
     "metadata": {},
     "source": [
      "Un bucle `for` itera a trav\u00e9s de un arreglo, rango etc. (cualquier objeto \"iterable\", de hecho). Su sintaxis es:\n",
      "\n",
      "```\n",
      "for <variable> in <iterable>\n",
      "    [haz esto]\n",
      "    [y esto]\n",
      "end\n",
      "```\n",
      "\n",
      "En un bucle de este tipo, la variable toma cada valor en turno del arreglo. Por lo tanto, este tipo de bucle se ocupa cuando se conoce de antemano el n\u00famero de veces que se requiere \n",
      "\n",
      "Por ejemplo:"
     ]
    },
    {
     "cell_type": "code",
     "collapsed": false,
     "input": [
      "for i in 1:10\n",
      "    println(\"El valor actual de i es $i\")\n",
      "end"
     ],
     "language": "python",
     "metadata": {},
     "outputs": [
      {
       "output_type": "stream",
       "stream": "stdout",
       "text": [
        "El valor actual de i es 1\n"
       ]
      },
      {
       "output_type": "stream",
       "stream": "stdout",
       "text": [
        "El valor actual de i es 2\n",
        "El valor actual de i es 3\n",
        "El valor actual de i es 4\n",
        "El valor actual de i es 5\n",
        "El valor actual de i es 6\n",
        "El valor actual de i es 7\n",
        "El valor actual de i es 8\n",
        "El valor actual de i es 9\n",
        "El valor actual de i es 10\n"
       ]
      }
     ],
     "prompt_number": 1
    },
    {
     "cell_type": "code",
     "collapsed": false,
     "input": [
      "x = [3, 4, 7]\n",
      "for i in x"
     ],
     "language": "python",
     "metadata": {},
     "outputs": []
    },
    {
     "cell_type": "markdown",
     "metadata": {},
     "source": [
      "[1] Crea una funci\u00f3n que calcula la suma de los primeros $N$ enteros y de sus cuadrados en un solo bucle.\n",
      "\n",
      "[2] Haz una funci\u00f3n que cuenta el n\u00famero de enteros hasta $N$ que sean divisibles por $2$, $3$ y/o $5$.\n",
      "\u00bfTiene sentido el resultado?"
     ]
    },
    {
     "cell_type": "markdown",
     "metadata": {},
     "source": [
      "Se puede salir de un bucle `for` de inmediato con `break`, y seguir con el siguiente iterado con `continue`. "
     ]
    },
    {
     "cell_type": "heading",
     "level": 2,
     "metadata": {},
     "source": [
      "`while` "
     ]
    },
    {
     "cell_type": "markdown",
     "metadata": {},
     "source": [
      "Un bucle `while` mantiene la iteraci\u00f3n *mientras* una condici\u00f3n dada se siga satisfaciendo. Su sintaxis es\n",
      "\n",
      "```\n",
      "while <condicion>\n",
      "    [haz esto]\n",
      "    [y esto]\n",
      "end\n",
      "```\n",
      "\n",
      "Se utiliza cuando no se sabe de antemano el n\u00famero de iteraciones que se requerir\u00e1n, sino que esto se controla a trav\u00e9s de la condici\u00f3n. Sin embargo, para evitar bucles infinitos, a menudo es sensato incluir un contador para que no pueda haber demasiadas (posiblemente infinitas) iteraciones.\n",
      "   "
     ]
    },
    {
     "cell_type": "markdown",
     "metadata": {},
     "source": [
      "[1] Escribe el m\u00e9todo de bisecci\u00f3n usando un `for`, y usando un `while`. \u00bfCu\u00e1l es m\u00e1s apropiado?"
     ]
    }
   ],
   "metadata": {}
  }
 ]
}