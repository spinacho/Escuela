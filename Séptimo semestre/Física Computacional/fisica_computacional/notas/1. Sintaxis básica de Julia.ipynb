{
 "metadata": {
  "language": "Julia",
  "name": "",
  "signature": "sha256:1a18dc25e9c3b88adf3c211daf862e3f26b11861ff5cf9fdf45b1ce49c08b7ab"
 },
 "nbformat": 3,
 "nbformat_minor": 0,
 "worksheets": [
  {
   "cells": [
    {
     "cell_type": "heading",
     "level": 1,
     "metadata": {},
     "source": [
      "N\u00fameros y aritm\u00e9tica"
     ]
    },
    {
     "cell_type": "markdown",
     "metadata": {},
     "source": [
      "Empecemos con n\u00fameros. Hay distintos tipos de n\u00fameros que podr\u00edamos querer representar en la computadora."
     ]
    },
    {
     "cell_type": "heading",
     "level": 2,
     "metadata": {},
     "source": [
      "Enteros, $\\mathbb{Z}$"
     ]
    },
    {
     "cell_type": "markdown",
     "metadata": {},
     "source": [
      "[1] Intenta teclear distintos tipos de enteros. Intenta operaciones con enteros.\n",
      "\n",
      "[2] Calcula las potencias de 10. ($x^y$ se escribe `x^y` en Julia.) Pasa algo raro -- \u00bfqu\u00e9?"
     ]
    },
    {
     "cell_type": "markdown",
     "metadata": {},
     "source": [
      "La funci\u00f3n `typeof` nos dice de *qu\u00e9 tipo de objeto* es un objeto en Julia:"
     ]
    },
    {
     "cell_type": "code",
     "collapsed": false,
     "input": [
      "typeof(10)"
     ],
     "language": "python",
     "metadata": {},
     "outputs": [
      {
       "metadata": {},
       "output_type": "pyout",
       "prompt_number": 1,
       "text": [
        "Int64"
       ]
      }
     ],
     "prompt_number": 1
    },
    {
     "cell_type": "markdown",
     "metadata": {},
     "source": [
      "Nota que las funciones siempre utilizan par\u00e9ntesis, '`(`' y '`)`', como en matem\u00e1ticas."
     ]
    },
    {
     "cell_type": "markdown",
     "metadata": {},
     "source": [
      "Podemos utilizar aritm\u00e9tica con precisi\u00f3n arbitraria al usar la funci\u00f3n `big`."
     ]
    },
    {
     "cell_type": "markdown",
     "metadata": {},
     "source": [
      "[3] Calcula las potencias de 10 con precisi\u00f3n arbitraria.\n",
      "\n",
      "[4] Calcula $2^2^2^2^2$ con aritm\u00e9tica normal y aritm\u00e9tica con precisi\u00f3n arbitraria.\n",
      "\n",
      "[5] Utiliza la funci\u00f3n `string` para convertir el resultado (utiliza `ans`) en una cadena (de caracteres), y luego utiliza la funci\u00f3n `length` para encontrar el n\u00famero de d\u00edgitos."
     ]
    },
    {
     "cell_type": "markdown",
     "metadata": {},
     "source": [
      "[6] En algunos lenguajes, hay un problema al dividir 3 entre 4 con el operador `/`. \u00bfExiste este problema en Julia?"
     ]
    },
    {
     "cell_type": "heading",
     "level": 2,
     "metadata": {},
     "source": [
      "N\u00fameros racionales, $\\mathbb{Q}$"
     ]
    },
    {
     "cell_type": "markdown",
     "metadata": {},
     "source": [
      "Los n\u00fameros racionales se construyen con el operador `//`."
     ]
    },
    {
     "cell_type": "markdown",
     "metadata": {},
     "source": [
      "[1] Calcula $\\frac{3}{4} + \\frac{5}{6}$.\n",
      "\n",
      "[2] \u00bfQu\u00e9 pasa al calcular $\\frac{6}{4}$.\n",
      "\n",
      "[3] Calcula potencias de $\\frac{3}{4}$. \u00bfQu\u00e9 pasa? \u00bfCu\u00e1l es la soluci\u00f3n? Checa tu respuesta al revisar el tipo de los objetos. "
     ]
    },
    {
     "cell_type": "heading",
     "level": 2,
     "metadata": {},
     "source": [
      "N\u00fameros reales, $\\mathbb{R}$"
     ]
    },
    {
     "cell_type": "markdown",
     "metadata": {},
     "source": [
      "Los n\u00fameros reales se *aproximan* con n\u00fameros de \"punto flotante\". Veremos algunos detalles m\u00e1s all\u00e1 en el curso."
     ]
    },
    {
     "cell_type": "markdown",
     "metadata": {},
     "source": [
      "[1] \u00bfC\u00f3mo se escriben n\u00fameros flotantes (con decimal) en Julia? \u00bfDe qu\u00e9 tipo son?\n",
      "\n",
      "[2] \u00bfCu\u00e1nto vale $2.3 \\times 4.6$? \u00bfEs correcto? \u00bfQu\u00e9 estar\u00e1 pasando?\n"
     ]
    },
    {
     "cell_type": "markdown",
     "metadata": {},
     "source": [
      "Se puede utilizar \"notaci\u00f3n cient\u00edfica\" (o \"notaci\u00f3n ingenieril\") para representar n\u00fameros grandes y chicos:"
     ]
    },
    {
     "cell_type": "code",
     "collapsed": false,
     "input": [
      "1.3e5"
     ],
     "language": "python",
     "metadata": {},
     "outputs": [
      {
       "metadata": {},
       "output_type": "pyout",
       "prompt_number": 12,
       "text": [
        "130000.0"
       ]
      }
     ],
     "prompt_number": 12
    },
    {
     "cell_type": "code",
     "collapsed": false,
     "input": [
      "1.3e-2"
     ],
     "language": "python",
     "metadata": {},
     "outputs": [
      {
       "metadata": {},
       "output_type": "pyout",
       "prompt_number": 14,
       "text": [
        "0.013"
       ]
      }
     ],
     "prompt_number": 14
    },
    {
     "cell_type": "markdown",
     "metadata": {},
     "source": [
      "[3] Encuentra los l\u00edmites de los valores grandes y chicos que se pueden representar."
     ]
    },
    {
     "cell_type": "markdown",
     "metadata": {},
     "source": [
      "De nuevo, se puede utilizar la funci\u00f3n `big` para evitar estos l\u00edmites, aunque el resultado es extra\u00f1o:"
     ]
    },
    {
     "cell_type": "code",
     "collapsed": false,
     "input": [
      "big(1e-100)"
     ],
     "language": "python",
     "metadata": {},
     "outputs": [
      {
       "metadata": {},
       "output_type": "pyout",
       "prompt_number": 17,
       "text": [
        "1.000000000000000019991899802602883619647760788534159420182603005936595699255543e-100 with 256 bits of precision"
       ]
      }
     ],
     "prompt_number": 17
    },
    {
     "cell_type": "markdown",
     "metadata": {},
     "source": [
      "Luego veremos c\u00f3mo arreglar esto."
     ]
    },
    {
     "cell_type": "heading",
     "level": 2,
     "metadata": {},
     "source": [
      "Num\u00e9ros complejos, $\\mathbb{C}$"
     ]
    },
    {
     "cell_type": "markdown",
     "metadata": {},
     "source": [
      "La unidad imaginaria $i = \\sqrt{-1}$, se denota `im` en Julia:"
     ]
    },
    {
     "cell_type": "code",
     "collapsed": false,
     "input": [
      "im"
     ],
     "language": "python",
     "metadata": {},
     "outputs": [
      {
       "metadata": {},
       "output_type": "pyout",
       "prompt_number": 18,
       "text": [
        "im"
       ]
      }
     ],
     "prompt_number": 18
    },
    {
     "cell_type": "markdown",
     "metadata": {},
     "source": [
      "[1] Verifica que Julia s\u00ed sabe que $i \\times i = -1$.\n",
      "\n",
      "[2] Adivina c\u00f3mo se llama la funci\u00f3n para calcular el conjugado de un n\u00famero complejo.\n",
      "\n",
      "[3] Util\u00edzala para calcula el valor absoluto de $3 + 4i$. "
     ]
    },
    {
     "cell_type": "heading",
     "level": 1,
     "metadata": {},
     "source": [
      "Variables "
     ]
    },
    {
     "cell_type": "markdown",
     "metadata": {},
     "source": [
      "Hasta ahora no ha sido posible reutilizar los objetos que hemos creado. Para esto, es necesario un poco de *abstracci\u00f3n*: creamos *nombres* para representar a los objetos computacionales. Estos nombres se llaman *variables*, y se crean con *asignaci\u00f3n*, usando el operador '`=`':"
     ]
    },
    {
     "cell_type": "code",
     "collapsed": false,
     "input": [
      "x = 3"
     ],
     "language": "python",
     "metadata": {},
     "outputs": [
      {
       "metadata": {},
       "output_type": "pyout",
       "prompt_number": 20,
       "text": [
        "3"
       ]
      }
     ],
     "prompt_number": 20
    },
    {
     "cell_type": "code",
     "collapsed": false,
     "input": [
      "x"
     ],
     "language": "python",
     "metadata": {},
     "outputs": [
      {
       "metadata": {},
       "output_type": "pyout",
       "prompt_number": 21,
       "text": [
        "3"
       ]
      }
     ],
     "prompt_number": 21
    },
    {
     "cell_type": "markdown",
     "metadata": {},
     "source": [
      "Los nombres de las variables pueden ser caracteres arbitrarios de Unicode. Muchos se pueden teclear usando una notaci\u00f3n de LaTeX: teclea  `\\alpha<TAB>`.  Empieza con `\\alp<TAB>` y teclea `<TAB>` para completarlo:"
     ]
    },
    {
     "cell_type": "code",
     "collapsed": false,
     "input": [
      "\u03b1 = 3; \u2135 = 10"
     ],
     "language": "python",
     "metadata": {},
     "outputs": [
      {
       "metadata": {},
       "output_type": "pyout",
       "prompt_number": 5,
       "text": [
        "10"
       ]
      }
     ],
     "prompt_number": 5
    },
    {
     "cell_type": "markdown",
     "metadata": {},
     "source": [
      "Variables tambi\u00e9n pueden representar texto. Una variables de este tipo es una \"cadena\" [de caracteres] (\"string\", en ingl\u00e9s):"
     ]
    },
    {
     "cell_type": "code",
     "collapsed": false,
     "input": [
      "nombre = \"David\""
     ],
     "language": "python",
     "metadata": {},
     "outputs": [
      {
       "metadata": {},
       "output_type": "pyout",
       "prompt_number": 27,
       "text": [
        "\"David\""
       ]
      }
     ],
     "prompt_number": 27
    },
    {
     "cell_type": "markdown",
     "metadata": {},
     "source": [
      "[1] Verifica que puedes checar de qu\u00e9 tipo sean las variables."
     ]
    },
    {
     "cell_type": "markdown",
     "metadata": {},
     "source": [
      "La funci\u00f3n `print` imprime sus argumentos. `println` agrega tambi\u00e9n una nueva l\u00ednea."
     ]
    },
    {
     "cell_type": "markdown",
     "metadata": {},
     "source": [
      "[2] Imprime algo que diga \"El valor de \u03b1 es \", seguido por el valor de \u03b1."
     ]
    },
    {
     "cell_type": "heading",
     "level": 3,
     "metadata": {},
     "source": [
      "Sustituci\u00f3n de variables"
     ]
    },
    {
     "cell_type": "markdown",
     "metadata": {},
     "source": [
      "Supongamos que queramos saludar al usuario. Podr\u00edamos escribir:"
     ]
    },
    {
     "cell_type": "code",
     "collapsed": false,
     "input": [
      "saludo = \"Hola, nombre, \u00bfc\u00f3mo est\u00e1s?\""
     ],
     "language": "python",
     "metadata": {},
     "outputs": [
      {
       "metadata": {},
       "output_type": "pyout",
       "prompt_number": 28,
       "text": [
        "\"Hola, nombre, \u00bfc\u00f3mo est\u00e1s?\""
       ]
      }
     ],
     "prompt_number": 28
    },
    {
     "cell_type": "markdown",
     "metadata": {},
     "source": [
      "Quisi\u00e9ramos poder *sustituir* el *valor* de la variable `nombre` en lugar de la palabra `nombre`. Esto se hace agregando un signo de pesos antes de la palabra `nombre`:"
     ]
    },
    {
     "cell_type": "code",
     "collapsed": false,
     "input": [
      "saludo = \"Hola, $nombre, \u00bfc\u00f3mo est\u00e1s?\""
     ],
     "language": "python",
     "metadata": {},
     "outputs": [
      {
       "metadata": {},
       "output_type": "pyout",
       "prompt_number": 29,
       "text": [
        "\"Hola, David, \u00bfc\u00f3mo est\u00e1s?\""
       ]
      }
     ],
     "prompt_number": 29
    },
    {
     "cell_type": "markdown",
     "metadata": {},
     "source": [
      "[3] Utiliza esto para rehacer el ejercicio [2]."
     ]
    },
    {
     "cell_type": "heading",
     "level": 1,
     "metadata": {},
     "source": [
      "Funciones"
     ]
    },
    {
     "cell_type": "markdown",
     "metadata": {},
     "source": [
      "Las funciones son b\u00e1sicas en las matem\u00e1ticas y la f\u00edsica. En matem\u00e1ticas, aceptan uno o m\u00e1s argumentos y regresan una respuestas. En Julia, aceptan 0 o m\u00e1s argumentos, y \u00a1regresan 0 o m\u00e1s respuestas!\n",
      "\n",
      "Se pueden definir de dos formas: una notaci\u00f3n matem\u00e1tica \u00e1gil, y una notaci\u00f3n que se conviene m\u00e1s para definiciones m\u00e1s largas:"
     ]
    },
    {
     "cell_type": "code",
     "collapsed": false,
     "input": [
      "f(x) = 2x   # no es necesario poner el signo de multiplicaci\u00f3n!"
     ],
     "language": "python",
     "metadata": {},
     "outputs": [
      {
       "metadata": {},
       "output_type": "pyout",
       "prompt_number": 22,
       "text": [
        "f (generic function with 1 method)"
       ]
      }
     ],
     "prompt_number": 22
    },
    {
     "cell_type": "markdown",
     "metadata": {},
     "source": [
      "Nota que un comentario se pone con `#`, el cual hace que se ignore el resto de la l\u00ednea."
     ]
    },
    {
     "cell_type": "markdown",
     "metadata": {},
     "source": [
      "[1] Podemos pensar en el s\u00edmbolo `f` como un tipo de variable. \u00bfDe qu\u00e9 tipo es?\n",
      "\n",
      "[2] Define una funci\u00f3n $g$ que calcula $(x+1)^2$. Define una funci\u00f3n $h$ que calcula la expansi\u00f3n de $(x+1)^2$. Define otra funci\u00f3n para verificar que para cualquier valor de $x$, dan el mismo resultado, y checa que s\u00ed sea el caso."
     ]
    },
    {
     "cell_type": "markdown",
     "metadata": {},
     "source": [
      "La otra manera de definir funciones es como sigue:"
     ]
    },
    {
     "cell_type": "code",
     "collapsed": false,
     "input": [
      "function cuadrado(x)\n",
      "    x^2\n",
      "end"
     ],
     "language": "python",
     "metadata": {},
     "outputs": [
      {
       "metadata": {},
       "output_type": "pyout",
       "prompt_number": 30,
       "text": [
        "cuadrado (generic function with 1 method)"
       ]
      }
     ],
     "prompt_number": 30
    },
    {
     "cell_type": "markdown",
     "metadata": {},
     "source": [
      "[3] Verifica que s\u00ed sirva la funci\u00f3n `cuadrado` con distintos argumentos.\n",
      "\n",
      "Nota que el valor que regresa la funci\u00f3n es el \u00faltimo valor que se calcula. Tambi\u00e9n se puede utilizar la palabra `return` para regresar expl\u00edcitamente."
     ]
    },
    {
     "cell_type": "markdown",
     "metadata": {},
     "source": [
      "[4] Define una funci\u00f3n `cabs` que calcule el valor absoluto de un n\u00famero complejo."
     ]
    }
   ],
   "metadata": {}
  }
 ]
}