{
 "metadata": {
  "language": "Julia",
  "name": "",
  "signature": "sha256:9f4b06741afbd30a5d25d7a47b72ef57d8bc2fc491368af36106c2df7ed7246b"
 },
 "nbformat": 3,
 "nbformat_minor": 0,
 "worksheets": [
  {
   "cells": [
    {
     "cell_type": "markdown",
     "metadata": {},
     "source": [
      "#Tarea 1: F\u00edsica computacional\n",
      "##Ignacio Loaiza -- 412 05 127-2\n",
      "####(1) - Implementa una funci\u00f3n mi_sin usando recursi\u00f3n. Puedes utilizar el operador %, que calcula el resto de una divisi\u00f3n (ver abajo). Calcula $sin(1)$.\n",
      "Primero vamos a crear dos funciones para hacer que, dado un $x\\in \\mathbb{R}$, vamos a llevarlo a $x_m$ tal que $sin(x)=sin(x_m)$, con $x_m \\in [0;2\\pi]$."
     ]
    },
    {
     "cell_type": "code",
     "collapsed": false,
     "input": [
      "function pineg(x)\n",
      "    if x<0\n",
      "        x=(-x)%2pi\n",
      "        x\n",
      "    else\n",
      "        x\n",
      "    end\n",
      "end"
     ],
     "language": "python",
     "metadata": {},
     "outputs": [
      {
       "metadata": {},
       "output_type": "pyout",
       "prompt_number": 2,
       "text": [
        "pineg (generic function with 1 method)"
       ]
      }
     ],
     "prompt_number": 2
    },
    {
     "cell_type": "code",
     "collapsed": false,
     "input": [
      "function piplus(x)\n",
      "    if x>2pi\n",
      "        x=x%2pi\n",
      "        x\n",
      "    else\n",
      "        x\n",
      "    end\n",
      "end"
     ],
     "language": "python",
     "metadata": {},
     "outputs": [
      {
       "metadata": {},
       "output_type": "pyout",
       "prompt_number": 3,
       "text": [
        "piplus (generic function with 1 method)"
       ]
      }
     ],
     "prompt_number": 3
    },
    {
     "cell_type": "code",
     "collapsed": false,
     "input": [
      "function mi_sin1(x,n)\n",
      "    x=pineg(x)\n",
      "    x=piplus(x)\n",
      "    if(n==0)\n",
      "        x\n",
      "        else \n",
      "        (((-1)^(n))*(x^(2n+1))/factorial(2n+1))+mi_sin1(x,n-1)\n",
      "    end\n",
      "end"
     ],
     "language": "python",
     "metadata": {},
     "outputs": [
      {
       "metadata": {},
       "output_type": "pyout",
       "prompt_number": 4,
       "text": [
        "mi_sin1 (generic function with 1 method)"
       ]
      }
     ],
     "prompt_number": 4
    },
    {
     "cell_type": "markdown",
     "metadata": {},
     "source": [
      "La funci\u00f3n que hicimos requiere 2 valores de entrada: $x$ y $n$. $x$ es el valor en el cual vamos a evaluar la funci\u00f3n, mientras que $n$ es el n\u00famero de iteraciones que vamos a hacer (sea hasta que grado vamos a calcular el polinomio de Taylor)."
     ]
    },
    {
     "cell_type": "code",
     "collapsed": false,
     "input": [
      "mi_sin1(1,9)"
     ],
     "language": "python",
     "metadata": {},
     "outputs": [
      {
       "metadata": {},
       "output_type": "pyout",
       "prompt_number": 5,
       "text": [
        "0.8414709848078965"
       ]
      }
     ],
     "prompt_number": 5
    },
    {
     "cell_type": "code",
     "collapsed": false,
     "input": [
      "sin(1)"
     ],
     "language": "python",
     "metadata": {},
     "outputs": [
      {
       "metadata": {},
       "output_type": "pyout",
       "prompt_number": 6,
       "text": [
        "0.8414709848078965"
       ]
      }
     ],
     "prompt_number": 6
    },
    {
     "cell_type": "markdown",
     "metadata": {},
     "source": [
      "####(2) - Implementa una versi\u00f3n de la funci\u00f3n exponencial que calcule el exponencial de su argumento $x$. Para hacerlo, no utilices primero construye un arreglo"
     ]
    },
    {
     "cell_type": "code",
     "collapsed": false,
     "input": [
      "function mi_exp(x,n)\n",
      "    sum([(x^m)/factorial(m) for m in 0:n])\n",
      "end   "
     ],
     "language": "python",
     "metadata": {},
     "outputs": [
      {
       "metadata": {},
       "output_type": "pyout",
       "prompt_number": 7,
       "text": [
        "mi_exp (generic function with 1 method)"
       ]
      }
     ],
     "prompt_number": 7
    },
    {
     "cell_type": "code",
     "collapsed": false,
     "input": [
      "mi_exp(1,10)"
     ],
     "language": "python",
     "metadata": {},
     "outputs": [
      {
       "metadata": {},
       "output_type": "pyout",
       "prompt_number": 8,
       "text": [
        "2.7182818011463845"
       ]
      }
     ],
     "prompt_number": 8
    },
    {
     "cell_type": "markdown",
     "metadata": {},
     "source": [
      "####(3) - Implementa una funci\u00f3n mi_sin2 que utiliza un arreglo. Calcula $sin(1)$."
     ]
    },
    {
     "cell_type": "code",
     "collapsed": false,
     "input": [
      "function mi_sin2(x,n)\n",
      "    sum([(((-1)^(m))*(x^(2m+1))/factorial(2m+1)) for m in 0:n])\n",
      "end   "
     ],
     "language": "python",
     "metadata": {},
     "outputs": [
      {
       "metadata": {},
       "output_type": "pyout",
       "prompt_number": 9,
       "text": [
        "mi_sin2 (generic function with 1 method)"
       ]
      }
     ],
     "prompt_number": 9
    },
    {
     "cell_type": "code",
     "collapsed": false,
     "input": [
      "mi_sin2(1,9)"
     ],
     "language": "python",
     "metadata": {},
     "outputs": [
      {
       "metadata": {},
       "output_type": "pyout",
       "prompt_number": 10,
       "text": [
        "0.8414709848078965"
       ]
      }
     ],
     "prompt_number": 10
    },
    {
     "cell_type": "markdown",
     "metadata": {},
     "source": [
      "####(4) - Implementa una funci\u00f3n mi_sin3 que utiliza la f\u00f3rmula de Euler. Calcula $sin(1)$."
     ]
    },
    {
     "cell_type": "markdown",
     "metadata": {},
     "source": [
      "Sabemos que la f\u00f3rmula de Euler est\u00e1 dada por:\n",
      "$$e^{i\\theta}=\\cos(\\theta)+i\\sin(\\theta)$$\n",
      "Lo cual implica que:\n",
      "$$e^{i\\theta}-e^{-i\\theta}=\\cos(\\theta)-\\cos(-\\theta)+i(\\sin(\\theta)-\\sin(-\\theta))$$\n",
      "Utilizando propiedades de seno y de coseno llegamos finalmente a que:\n",
      "$$e^{i\\theta}-e^{-i\\theta}=2i\\sin(\\theta)$$\n",
      "Despejando:\n",
      "$$\\sin(x)=\\frac{e^{ix}-e^{-ix}}{2i}$$"
     ]
    },
    {
     "cell_type": "code",
     "collapsed": false,
     "input": [
      "function mi_sin3(x,n)\n",
      "    (1/2im)*(mi_exp(im*x,n)-mi_exp(-im*x,n))\n",
      "end"
     ],
     "language": "python",
     "metadata": {},
     "outputs": [
      {
       "metadata": {},
       "output_type": "pyout",
       "prompt_number": 11,
       "text": [
        "mi_sin3 (generic function with 1 method)"
       ]
      }
     ],
     "prompt_number": 11
    },
    {
     "cell_type": "code",
     "collapsed": false,
     "input": [
      "mi_sin3(1,9)"
     ],
     "language": "python",
     "metadata": {},
     "outputs": [
      {
       "metadata": {},
       "output_type": "pyout",
       "prompt_number": 12,
       "text": [
        "0.8414710097001764 + 0.0im"
       ]
      }
     ],
     "prompt_number": 12
    },
    {
     "cell_type": "markdown",
     "metadata": {},
     "source": [
      "####(5) - \u00bfFuncionan estas funciones con argumentos que sean n\u00fameros complejos?"
     ]
    },
    {
     "cell_type": "code",
     "collapsed": false,
     "input": [
      "mi_exp(im*pi,9)"
     ],
     "language": "python",
     "metadata": {},
     "outputs": [
      {
       "metadata": {},
       "output_type": "pyout",
       "prompt_number": 22,
       "text": [
        "-0.9760222126236076 + 0.006925270707505149im"
       ]
      }
     ],
     "prompt_number": 22
    },
    {
     "cell_type": "markdown",
     "metadata": {},
     "source": [
      "Podemos ver que la funci\u00f3n parece acercarse a $-1$, el cual es el valor de $e^{i\\pi}$. Podemos ver que la funci\u00f3n s\u00ed funciona con valores complejos."
     ]
    },
    {
     "cell_type": "markdown",
     "metadata": {},
     "source": [
      "####(6) - \u00bfC\u00f3mo podr\u00edas implementar mi_cos sin mayor dificultad? Hazlo."
     ]
    },
    {
     "cell_type": "markdown",
     "metadata": {},
     "source": [
      "Podemos implementar la funci\u00f3n mi_cos sin mayor dificultad utilizando la f\u00f3rmula de Euler a partir de la exponencial:\n",
      "$$\\cos(x)=\\frac{e^{ix}+e^{-ix}}{2}$$"
     ]
    },
    {
     "cell_type": "code",
     "collapsed": false,
     "input": [
      "function mi_cos(x,n)\n",
      "    (1/2)*(mi_exp(im*x,n)+mi_exp(-im*x,n))\n",
      "end"
     ],
     "language": "python",
     "metadata": {},
     "outputs": [
      {
       "metadata": {},
       "output_type": "pyout",
       "prompt_number": 23,
       "text": [
        "mi_cos (generic function with 1 method)"
       ]
      }
     ],
     "prompt_number": 23
    },
    {
     "cell_type": "code",
     "collapsed": false,
     "input": [
      "mi_cos(1,9)"
     ],
     "language": "python",
     "metadata": {},
     "outputs": [
      {
       "metadata": {},
       "output_type": "pyout",
       "prompt_number": 24,
       "text": [
        "0.5403025793650793 + 0.0im"
       ]
      }
     ],
     "prompt_number": 24
    },
    {
     "cell_type": "code",
     "collapsed": false,
     "input": [
      "cos(1)"
     ],
     "language": "python",
     "metadata": {},
     "outputs": [
      {
       "metadata": {},
       "output_type": "pyout",
       "prompt_number": 25,
       "text": [
        "0.5403023058681398"
       ]
      }
     ],
     "prompt_number": 25
    },
    {
     "cell_type": "markdown",
     "metadata": {},
     "source": [
      "####(7) - Verifica unas relaciones trigonom\u00e9tricas con tus funciones\n",
      "Vamos a verificar las siguientes relaciones:\n",
      "- $\\cos^2(x)+\\sin^2(x)=1$\n",
      "- $\\cos(a+b)=\\cos(a)\\cos(b)-\\sin(a)\\sin(b)$\n",
      "- $\\sin(a+b)=\\cos(a)\\sin(b)+\\sin(a)\\cos(b)$"
     ]
    },
    {
     "cell_type": "markdown",
     "metadata": {},
     "source": [
      "#####Relaci\u00f3n 1: $\\cos^2(x)+\\sin^2(x)=1$"
     ]
    },
    {
     "cell_type": "code",
     "collapsed": false,
     "input": [
      "[((mi_cos(s,9))^2)+((mi_sin3(s,9))^2) for s in [0:pi/8:pi/2]]"
     ],
     "language": "python",
     "metadata": {},
     "outputs": [
      {
       "metadata": {},
       "output_type": "pyout",
       "prompt_number": 26,
       "text": [
        "5-element Array{Complex{Float64},1}:\n",
        "     1.0+0.0im\n",
        "     1.0+0.0im\n",
        "     1.0+0.0im\n",
        "     1.0+0.0im\n",
        " 1.00001+0.0im"
       ]
      }
     ],
     "prompt_number": 26
    },
    {
     "cell_type": "markdown",
     "metadata": {},
     "source": [
      "Podemos ver c\u00f3mo se cumple la relaci\u00f3n entre $0$ y $\\frac{\\pi}{2}$."
     ]
    },
    {
     "cell_type": "markdown",
     "metadata": {},
     "source": [
      "#####Relaci\u00f3n 2: $\\cos(a+b)=\\cos(a)\\cos(b)-\\sin(a)\\sin(b)$"
     ]
    },
    {
     "cell_type": "code",
     "collapsed": false,
     "input": [
      "function rel2(b)\n",
      "    [mi_cos(q+b,9)-mi_cos(q,9)*mi_cos(b,9)+mi_sin3(q,9)*mi_sin3(b,9) for q in [0:pi/8:pi/2]]\n",
      "end"
     ],
     "language": "python",
     "metadata": {},
     "outputs": [
      {
       "metadata": {},
       "output_type": "pyout",
       "prompt_number": 27,
       "text": [
        "rel2 (generic function with 1 method)"
       ]
      }
     ],
     "prompt_number": 27
    },
    {
     "cell_type": "code",
     "collapsed": false,
     "input": [
      "[rel2(s) for s in [0:pi/8:pi/2]]"
     ],
     "language": "python",
     "metadata": {},
     "outputs": [
      {
       "metadata": {},
       "output_type": "pyout",
       "prompt_number": 28,
       "text": [
        "5-element Array{Array{Complex{Float64},1},1}:\n",
        " Complex{Float64}[0.0+0.0im,0.0+0.0im,0.0+0.0im,0.0+0.0im,0.0+0.0im]                             \n",
        " Complex{Float64}[0.0+0.0im,2.4453e-8+0.0im,1.38243e-6+0.0im,2.34974e-5+0.0im,0.000206501+0.0im] \n",
        " Complex{Float64}[0.0+0.0im,1.38243e-6+0.0im,2.47051e-5+0.0im,0.000227106+0.0im,0.00137899+0.0im]\n",
        " Complex{Float64}[0.0+0.0im,2.34974e-5+0.0im,0.000227106+0.0im,0.00139318+0.0im,0.00641011+0.0im]\n",
        " Complex{Float64}[0.0+0.0im,0.000206501+0.0im,0.00137899+0.0im,0.00641011+0.0im,0.0239849+0.0im] "
       ]
      }
     ],
     "prompt_number": 28
    },
    {
     "cell_type": "markdown",
     "metadata": {},
     "source": [
      "Podemos ver que a pesar de haber algunos valores en los cuales la relaci\u00f3n no da exactamente $0$, los valores est\u00e1n muy cerca del cero, lo cual es normal ya que hay que tener en cuenta que s\u00f3lo estamos haciendo la recursi\u00f3n (o la expansi\u00f3n de Taylor) 9 veces. Para corregir estas inexactitudes habr\u00eda que definir a las funciones de forma m\u00e1s eficiente, y se podr\u00eda hacer uso de la funci\u00f3n **big**."
     ]
    },
    {
     "cell_type": "markdown",
     "metadata": {},
     "source": [
      "#####Relaci\u00f3n 3: $\\sin(a+b)=\\cos(a)\\sin(b)+\\sin(a)\\cos(b)$"
     ]
    },
    {
     "cell_type": "markdown",
     "metadata": {},
     "source": [
      "Vamos a utilizar un m\u00e9todo an\u00e1logo al anterior."
     ]
    },
    {
     "cell_type": "code",
     "collapsed": false,
     "input": [
      "function rel3(b)\n",
      "    [mi_sin3(q+b,9)-mi_cos(q,9)*mi_sin3(b,9)-mi_sin3(q,9)*mi_cos(b,9) for q in [0:pi/8:pi/2]]\n",
      "end"
     ],
     "language": "python",
     "metadata": {},
     "outputs": [
      {
       "metadata": {},
       "output_type": "pyout",
       "prompt_number": 20,
       "text": [
        "rel3 (generic function with 1 method)"
       ]
      }
     ],
     "prompt_number": 20
    },
    {
     "cell_type": "code",
     "collapsed": false,
     "input": [
      "[rel3(s) for s in [0:pi/8:pi/2]]"
     ],
     "language": "python",
     "metadata": {},
     "outputs": [
      {
       "metadata": {},
       "output_type": "pyout",
       "prompt_number": 21,
       "text": [
        "5-element Array{Array{Complex{Float64},1},1}:\n",
        " Complex{Float64}[0.0+0.0im,0.0+0.0im,0.0+0.0im,0.0+0.0im,0.0+0.0im]                             \n",
        " Complex{Float64}[0.0+0.0im,1.73036e-9+0.0im,1.39645e-7+0.0im,2.86593e-6+0.0im,2.81399e-5+0.0im] \n",
        " Complex{Float64}[0.0+0.0im,1.39645e-7+0.0im,3.50547e-6+0.0im,3.97565e-5+0.0im,0.000280479+0.0im]\n",
        " Complex{Float64}[0.0+0.0im,2.86593e-6+0.0im,3.97565e-5+0.0im,0.00029779+0.0im,0.00159169+0.0im] \n",
        " Complex{Float64}[0.0+0.0im,2.81399e-5+0.0im,0.000280479+0.0im,0.00159169+0.0im,0.0068758+0.0im] "
       ]
      }
     ],
     "prompt_number": 21
    },
    {
     "cell_type": "markdown",
     "metadata": {},
     "source": [
      "Podemos observar c\u00f3mo se obtuvieron valores iguales o *muy* cercanos al cero en todos los casos."
     ]
    },
    {
     "cell_type": "markdown",
     "metadata": {},
     "source": [
      "#Mejoras a futuro:\n",
      "Las funciones definidas anteriormente sirviero, aunque debido a la lenta convergencia de las series de Taylor para las funciones *seno*, *coseno* y *exponencial* para valores mayores a 1, se obtuvieron inexactitudes. Para arreglar esto, a continuaci\u00f3n se muestran las ideas de c\u00f3mo se podr\u00edan mejorar estas funciones:\n",
      "\n",
      "####Seno y coseno:\n",
      "Adem\u00e1s de utilizar la funci\u00f3n **big**, cabe notar que estas funciones son muy parecidas, adem\u00e1s de ser funciones muy sim\u00e9tricas. Con calcular los valores de estas funciones entre $0$ y $\\frac{\\pi}{4}$, utilizando ambas funciones y valores negativos se pueden extrapolar todos los dem\u00e1s valores. Se tiene entonces que, como $\\frac{\\pi}{4}<1$, la convergencia de las series de Taylor sigue siendo bastante buena. Adem\u00e1s, siendo $\\frac{\\pi}{4}$ el t\u00e9rmino que converger\u00eda de forma m\u00e1s lenta en este caso, se podr\u00eda calcular cuantos t\u00e9rminos de las series de Taylor bastan para dar un *buen* resultado (por bueno se refiere tan cerca como se necesite al verdadero), de forma que ya no se necesite ingresar un valor $n$ en las funciones.\n",
      "\n",
      "####Exponencial, seno y coseno:\n",
      "Para todas estas funciones, en el programa en vez de utilizar una entrada $n$ la cual es utilizada para saber hasta que t\u00e9rmino de Taylor calcular, se puede utilizar una tolerancia $\\epsilon$ de forma que siga calculando las series hasta que se esten sumando t\u00e9rminos m\u00e1s peque\u00f1os que esa tolerancia, de forma que el c\u00e1lculo es m\u00e1s eficiente para valores que convergen r\u00e1pidamente y m\u00e1s exacto para valores que convergen lentamente."
     ]
    },
    {
     "cell_type": "code",
     "collapsed": false,
     "input": [],
     "language": "python",
     "metadata": {},
     "outputs": []
    }
   ],
   "metadata": {}
  }
 ]
}