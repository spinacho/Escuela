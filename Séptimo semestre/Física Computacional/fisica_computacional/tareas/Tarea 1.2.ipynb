{
 "metadata": {
  "language": "Julia",
  "name": "",
  "signature": "sha256:7385eec1216c246d0e3fcbb0574122e6ecb1e1c1dc41318a7d4c8384f4f0d0bd"
 },
 "nbformat": 3,
 "nbformat_minor": 0,
 "worksheets": [
  {
   "cells": [
    {
     "cell_type": "code",
     "collapsed": false,
     "input": [
      "function piplus(x)\n",
      "    if x>2pi\n",
      "        x=x%2pi\n",
      "        x\n",
      "    else\n",
      "        x\n",
      "    end\n",
      "end"
     ],
     "language": "python",
     "metadata": {},
     "outputs": [
      {
       "metadata": {},
       "output_type": "pyout",
       "prompt_number": 1,
       "text": [
        "piplus (generic function with 1 method)"
       ]
      }
     ],
     "prompt_number": 1
    },
    {
     "cell_type": "code",
     "collapsed": false,
     "input": [
      "function pineg(x)\n",
      "    if x<0\n",
      "        x=(-x)%2pi\n",
      "        x\n",
      "    else\n",
      "        x\n",
      "    end\n",
      "end"
     ],
     "language": "python",
     "metadata": {},
     "outputs": [
      {
       "metadata": {},
       "output_type": "pyout",
       "prompt_number": 2,
       "text": [
        "pineg (generic function with 1 method)"
       ]
      }
     ],
     "prompt_number": 2
    },
    {
     "cell_type": "code",
     "collapsed": false,
     "input": [
      "function mi_exp(x)\n",
      "    x=pineg(x)\n",
      "    x=pineg(x)\n",
      "    n=0\n",
      "    z=0\n",
      "    while (x^n)/factorial(n)>10e-6\n",
      "        z=z+(x^n)/factorial(n)\n",
      "        n=n+1\n",
      "    end\n",
      "return z\n",
      "end"
     ],
     "language": "python",
     "metadata": {},
     "outputs": [
      {
       "metadata": {},
       "output_type": "pyout",
       "prompt_number": 39,
       "text": [
        "mi_exp (generic function with 1 method)"
       ]
      }
     ],
     "prompt_number": 39
    },
    {
     "cell_type": "code",
     "collapsed": false,
     "input": [],
     "language": "python",
     "metadata": {},
     "outputs": []
    }
   ],
   "metadata": {}
  }
 ]
}