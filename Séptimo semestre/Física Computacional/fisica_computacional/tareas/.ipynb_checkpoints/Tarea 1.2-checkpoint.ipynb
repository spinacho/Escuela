{
 "metadata": {
  "language": "Julia",
  "name": "",
  "signature": "sha256:775d75f55604d96826a19e5dd226e3a87e42a1a8448036f516d36ebad5350856"
 },
 "nbformat": 3,
 "nbformat_minor": 0,
 "worksheets": [
  {
   "cells": [
    {
     "cell_type": "code",
     "collapsed": false,
     "input": [
      "function piplus(x)\n",
      "    if x>2pi\n",
      "        x=x%2pi\n",
      "        x\n",
      "    else\n",
      "        x\n",
      "    end\n",
      "end"
     ],
     "language": "python",
     "metadata": {},
     "outputs": [
      {
       "metadata": {},
       "output_type": "pyout",
       "prompt_number": 1,
       "text": [
        "piplus (generic function with 1 method)"
       ]
      }
     ],
     "prompt_number": 1
    },
    {
     "cell_type": "code",
     "collapsed": false,
     "input": [
      "function pineg(x)\n",
      "    if x<0\n",
      "        x=(-x)%2pi\n",
      "        x\n",
      "    else\n",
      "        x\n",
      "    end\n",
      "end"
     ],
     "language": "python",
     "metadata": {},
     "outputs": [
      {
       "metadata": {},
       "output_type": "pyout",
       "prompt_number": 2,
       "text": [
        "pineg (generic function with 1 method)"
       ]
      }
     ],
     "prompt_number": 2
    },
    {
     "cell_type": "code",
     "collapsed": false,
     "input": [
      "function mi_sin(x)\n",
      "    x=pineg(x)\n",
      "    x=pineg(piplus)\n",
      "    n=0\n",
      "    z=0\n",
      "    while (((-1)^(n))*(x^(2n+1))/factorial(2n+1))>10e-10\n",
      "        z=z+(((-1)^(n))*(x^(2n+1))/factorial(2n+1))\n",
      "        n=n+1\n",
      "    end\n",
      "end"
     ],
     "language": "python",
     "metadata": {},
     "outputs": [
      {
       "metadata": {},
       "output_type": "pyout",
       "prompt_number": 5,
       "text": [
        "mi_sin (generic function with 1 method)"
       ]
      }
     ],
     "prompt_number": 5
    },
    {
     "cell_type": "code",
     "collapsed": false,
     "input": [
      "mi_sin(0)"
     ],
     "language": "python",
     "metadata": {},
     "outputs": [
      {
       "ename": "LoadError",
       "evalue": "`isless` has no method matching isless(::Function, ::Int64)\nwhile loading In[6], in expression starting on line 1",
       "output_type": "pyerr",
       "traceback": [
        "`isless` has no method matching isless(::Function, ::Int64)\nwhile loading In[6], in expression starting on line 1",
        " in pineg at In[2]:2",
        " in mi_sin at In[5]:3"
       ]
      }
     ],
     "prompt_number": 6
    },
    {
     "cell_type": "code",
     "collapsed": false,
     "input": [],
     "language": "python",
     "metadata": {},
     "outputs": []
    }
   ],
   "metadata": {}
  }
 ]
}