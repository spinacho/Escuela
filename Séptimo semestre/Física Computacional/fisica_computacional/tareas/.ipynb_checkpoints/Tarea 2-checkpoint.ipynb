{
 "metadata": {
  "language": "Julia",
  "name": "",
  "signature": "sha256:3d1f86b1cd2ad0c56ac636655cb106aaf5999364d7cb7c0a16da8eac44d1e44c"
 },
 "nbformat": 3,
 "nbformat_minor": 0,
 "worksheets": [
  {
   "cells": [
    {
     "cell_type": "markdown",
     "metadata": {},
     "source": [
      "Fecha l\u00edmite de entrega: **Jueves 28 de agosto** antes de las 11am."
     ]
    },
    {
     "cell_type": "markdown",
     "metadata": {},
     "source": [
      "[1] Escribe una funci\u00f3n recursiva para calcular una raiz de una funci\u00f3n $f$ en un intervalo $[a,b]$ con el m\u00e9todo de bisecci\u00f3n. Verifica que funcione al calcular raices de distintas funciones.\n",
      "\n",
      "\n",
      "[2] Considera la colisi\u00f3n en una dimensi\u00f3n de una part\u00edcula haciendo movimiento arm\u00f3nico simple con frecuencia angular $\\omega$ y una part\u00edcula libre con velocidad $v$. \n",
      "\n",
      "(a) Escribe una funci\u00f3n que toma los par\u00e1metros del oscilador y de la part\u00edcula y grafica sus respectivas posiciones en el tiempo, suponiendo que no hay colisi\u00f3n. \n",
      "\n",
      "(b) Dibuja (en gr\u00e1ficas separadas) las trayectorias de las dos part\u00edculas para unas cuantas posibilidades de los par\u00e1metros. \u00bfCu\u00e1ntas \"colisiones\" puede haber? \u00bfCu\u00e1l es la buena?\n",
      "\n",
      "(c) Escribe una funci\u00f3n para calcular el tiempo de colisi\u00f3n de las dos part\u00edculas, sin garantizar cu\u00e1l es, utilizando la funci\u00f3n que escribiste en la pregunta [1].\n",
      "\n",
      "**[Opcional] (d) \u00bfC\u00f3mo puedes garantizar que se encuentre la colisi\u00f3n adecuada? Implem\u00e9ntalo.\n"
     ]
    },
    {
     "cell_type": "markdown",
     "metadata": {},
     "source": [
      "[2] Implementa el m\u00e9todo de Newton para calcular una raiz de una funci\u00f3n $f$, dadas una adivinanza inicial $x_0$ y la derivada $f'$ (que por el momento se implementa a mano en otra funci\u00f3n).\n",
      "\n",
      "(a) Verifica que tu funci\u00f3n sirve para encontrar raices de la funci\u00f3n $f(x) = x^2 - 2$. \n",
      "\n",
      "(b) Intenta con distintos valores iniciales. Dibuja una gr\u00e1fica que muestra a cu\u00e1l raiz llega el m\u00e9todo para distintos valores iniciales.\n",
      "\n",
      "(c) Usa el m\u00e9todo de Newton para encontrar las soluciones de la ecuaci\u00f3n \n",
      "$$ \\tan(x) = x. $$"
     ]
    },
    {
     "cell_type": "code",
     "collapsed": false,
     "input": [],
     "language": "python",
     "metadata": {},
     "outputs": []
    }
   ],
   "metadata": {}
  }
 ]
}