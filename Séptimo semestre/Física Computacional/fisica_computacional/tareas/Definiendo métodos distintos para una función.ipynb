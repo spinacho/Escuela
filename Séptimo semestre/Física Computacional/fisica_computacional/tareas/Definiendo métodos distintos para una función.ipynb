{
 "metadata": {
  "language": "Julia",
  "name": "",
  "signature": "sha256:03dad0c910a2d3962173a2f4c22f1d425f1698db39aa67dfdf978b6925be9c94"
 },
 "nbformat": 3,
 "nbformat_minor": 0,
 "worksheets": [
  {
   "cells": [
    {
     "cell_type": "code",
     "collapsed": false,
     "input": [
      "function mi_sin(x::Real)\n",
      "    println(\"Yo soy real, nena\")\n",
      "end"
     ],
     "language": "python",
     "metadata": {},
     "outputs": [
      {
       "metadata": {},
       "output_type": "pyout",
       "prompt_number": 2,
       "text": [
        "mi_sin (generic function with 1 method)"
       ]
      }
     ],
     "prompt_number": 2
    },
    {
     "cell_type": "code",
     "collapsed": false,
     "input": [
      "function mi_sin(x::Complex)\n",
      "    println(\"Soy compleja!!\")\n",
      "end"
     ],
     "language": "python",
     "metadata": {},
     "outputs": [
      {
       "metadata": {},
       "output_type": "pyout",
       "prompt_number": 3,
       "text": [
        "mi_sin (generic function with 2 methods)"
       ]
      }
     ],
     "prompt_number": 3
    },
    {
     "cell_type": "code",
     "collapsed": false,
     "input": [
      "?==="
     ],
     "language": "python",
     "metadata": {},
     "outputs": [
      {
       "output_type": "stream",
       "stream": "stderr",
       "text": [
        "INFO: Loading help data...\n"
       ]
      },
      {
       "output_type": "stream",
       "stream": "stdout",
       "text": [
        "Base.is(x, y) -> Bool\n",
        "\n",
        "   Determine whether \"x\" and \"y\" are identical, in the sense that\n",
        "   no program could distinguish them. Compares mutable objects by\n",
        "   address in memory, and compares immutable objects (such as numbers)\n",
        "   by contents at the bit level. This function is sometimes called\n",
        "   \"egal\". The \"===\" operator is an alias for this function.\n"
       ]
      }
     ],
     "prompt_number": 4
    },
    {
     "cell_type": "code",
     "collapsed": false,
     "input": [
      "?=="
     ],
     "language": "python",
     "metadata": {},
     "outputs": [
      {
       "output_type": "stream",
       "stream": "stdout",
       "text": [
        "Base.==(x, y)\n",
        "\n",
        "   Generic equality operator, giving a single \"Bool\" result. Falls\n",
        "   back to \"===\". Should be implemented for all types with a notion\n",
        "   of equality, based on the abstract value that an instance\n",
        "   represents. For example, all numeric types are compared by numeric\n",
        "   value, ignoring type. Strings are compared as sequences of\n",
        "   characters, ignoring encoding.\n",
        "\n",
        "   Follows IEEE semantics for floating-point numbers.\n",
        "\n",
        "   Collections should generally implement \"==\" by calling \"==\"\n",
        "   recursively on all contents.\n",
        "\n",
        "   New numeric types should implement this function for two arguments\n",
        "   of the new type, and handle comparison to other types via promotion\n",
        "   rules where possible.\n"
       ]
      }
     ],
     "prompt_number": 5
    },
    {
     "cell_type": "code",
     "collapsed": false,
     "input": [
      "mi_sin(im)"
     ],
     "language": "python",
     "metadata": {},
     "outputs": [
      {
       "output_type": "stream",
       "stream": "stdout",
       "text": [
        "Soy compleja!!\n"
       ]
      }
     ],
     "prompt_number": 7
    },
    {
     "cell_type": "code",
     "collapsed": false,
     "input": [
      "mi_sin(3)"
     ],
     "language": "python",
     "metadata": {},
     "outputs": [
      {
       "output_type": "stream",
       "stream": "stdout",
       "text": [
        "Yo soy real, nena\n"
       ]
      }
     ],
     "prompt_number": 8
    },
    {
     "cell_type": "code",
     "collapsed": false,
     "input": [
      "mi_sin(0im)"
     ],
     "language": "python",
     "metadata": {},
     "outputs": [
      {
       "output_type": "stream",
       "stream": "stdout",
       "text": [
        "Soy compleja!!\n"
       ]
      }
     ],
     "prompt_number": 9
    },
    {
     "cell_type": "code",
     "collapsed": false,
     "input": [
      "0==0im"
     ],
     "language": "python",
     "metadata": {},
     "outputs": [
      {
       "metadata": {},
       "output_type": "pyout",
       "prompt_number": 10,
       "text": [
        "true"
       ]
      }
     ],
     "prompt_number": 10
    },
    {
     "cell_type": "code",
     "collapsed": false,
     "input": [
      "0===0im"
     ],
     "language": "python",
     "metadata": {},
     "outputs": [
      {
       "metadata": {},
       "output_type": "pyout",
       "prompt_number": 11,
       "text": [
        "false"
       ]
      }
     ],
     "prompt_number": 11
    },
    {
     "cell_type": "code",
     "collapsed": false,
     "input": [
      "?@which"
     ],
     "language": "python",
     "metadata": {},
     "outputs": [
      {
       "output_type": "stream",
       "stream": "stdout",
       "text": [
        "Base.@which()\n",
        "\n",
        "   Evaluates the arguments to the function call, determines their\n",
        "   types, and calls the \"which\" function on the resulting expression\n"
       ]
      }
     ],
     "prompt_number": 12
    },
    {
     "cell_type": "code",
     "collapsed": false,
     "input": [
      "?which"
     ],
     "language": "python",
     "metadata": {},
     "outputs": [
      {
       "output_type": "stream",
       "stream": "stdout",
       "text": [
        "Base.which(f, types)\n",
        "\n",
        "   Return the method of \"f\" (a \"Method\" object) that will be\n",
        "   called for arguments with the given types.\n"
       ]
      }
     ],
     "prompt_number": 13
    },
    {
     "cell_type": "code",
     "collapsed": false,
     "input": [
      "gamma(1.5)"
     ],
     "language": "python",
     "metadata": {},
     "outputs": [
      {
       "metadata": {},
       "output_type": "pyout",
       "prompt_number": 19,
       "text": [
        "0.886226925452758"
       ]
      }
     ],
     "prompt_number": 19
    },
    {
     "cell_type": "code",
     "collapsed": false,
     "input": [
      "ans/(sqrt(pi))"
     ],
     "language": "python",
     "metadata": {},
     "outputs": [
      {
       "metadata": {},
       "output_type": "pyout",
       "prompt_number": 21,
       "text": [
        "0.5000000000000001"
       ]
      }
     ],
     "prompt_number": 21
    },
    {
     "cell_type": "code",
     "collapsed": false,
     "input": [],
     "language": "python",
     "metadata": {},
     "outputs": []
    }
   ],
   "metadata": {}
  }
 ]
}