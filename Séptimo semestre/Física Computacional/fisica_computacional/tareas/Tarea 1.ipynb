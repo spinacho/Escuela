{
 "metadata": {
  "language": "Julia",
  "name": "",
  "signature": "sha256:e93de969b5cbcdc59809efc5d1961e61dc16501f52729a2c77adc453af263b70"
 },
 "nbformat": 3,
 "nbformat_minor": 0,
 "worksheets": [
  {
   "cells": [
    {
     "cell_type": "heading",
     "level": 1,
     "metadata": {},
     "source": [
      "Tarea 1"
     ]
    },
    {
     "cell_type": "markdown",
     "metadata": {},
     "source": [
      "Fecha *l\u00edmite* de entrega: **jueves 21 de agosto, antes de las 11am**\n",
      "\n",
      "**No** se recibir\u00e1n tareas despu\u00e9s del inicio de la clase del jueves 21.\n",
      "\n",
      "Manda un solo notebook de IJulia con tus respuestas a las preguntas a `rafael.diaz.hr@gmail.com`\n",
      "\n",
      "Aseg\u00farate de **poner tu nombre completo en el t\u00edtulo** del notebook, y pon tambi\u00e9n tu n\u00famero de cuenta ah\u00ed adentro. \n",
      "\n",
      "\n",
      "\n",
      "Explica brevemente qu\u00e9 est\u00e1s haciendo. Redacta oraciones completas en espa\u00f1ol con acentos. Usa ecuaciones en LaTeX cuando sea necesario.\n",
      "\n",
      "El notebook debe ser ejecutable, es decir, cada celda debe correr sin errores, y debe reproducir la salida que aparece en la pantalla."
     ]
    },
    {
     "cell_type": "heading",
     "level": 2,
     "metadata": {},
     "source": [
      "Preguntas"
     ]
    },
    {
     "cell_type": "markdown",
     "metadata": {},
     "source": [
      "1. Implementa una funci\u00f3n `mi_sin` usando recursi\u00f3n.\n",
      "Puedes utilizar el operador `%`, que calcula el resto de una divis\u00edon (ver abajo).  Calcula $\\sin(1)$. \n",
      "\n",
      "2. Implementa una versi\u00f3n de la funci\u00f3n exponencial que calcule el exponencial de su argumento $x$. Para hacerlo, no utilices primero construye un arreglo \n",
      "\n",
      "2. Implementa una funci\u00f3n `mi_sin2` que utiliza un arreglo. Calcula $\\sin(1)$. \n",
      "\n",
      "3. Implementa una funci\u00f3n `mi_sin3` que utiliza la f\u00f3rmula de Euler. Calcula $\\sin(1)$. \n",
      "\n",
      "4. \u00bfFuncionan estas funciones con argumentos que sean n\u00fameros complejos?\n",
      "\n",
      "5. \u00bfC\u00f3mo podr\u00edas implementar `mi_cos` sin mayor dificultad? Hazlo.\n",
      "\n",
      "6. Verifica unas relaciones trigonom\u00e9tricas con tus funciones."
     ]
    },
    {
     "cell_type": "markdown",
     "metadata": {},
     "source": [
      "Ejemplo del uso del operador `%`:"
     ]
    },
    {
     "cell_type": "code",
     "collapsed": false,
     "input": [
      "5 % 3"
     ],
     "language": "python",
     "metadata": {},
     "outputs": [
      {
       "metadata": {},
       "output_type": "pyout",
       "prompt_number": 1,
       "text": [
        "2"
       ]
      }
     ],
     "prompt_number": 1
    }
   ],
   "metadata": {}
  }
 ]
}