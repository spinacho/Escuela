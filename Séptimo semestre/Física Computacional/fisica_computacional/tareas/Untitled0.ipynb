{
 "metadata": {
  "language": "Julia",
  "name": "",
  "signature": "sha256:32fa71d6c3b4e935ad9512f7d55e41c3a2d1a8d3f10bea3d6eb656e350b43d2f"
 },
 "nbformat": 3,
 "nbformat_minor": 0,
 "worksheets": [
  {
   "cells": [
    {
     "cell_type": "code",
     "collapsed": false,
     "input": [],
     "language": "python",
     "metadata": {},
     "outputs": []
    }
   ],
   "metadata": {}
  }
 ]
}