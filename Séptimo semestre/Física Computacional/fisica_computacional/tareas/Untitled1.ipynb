{
 "metadata": {
  "name": "",
  "signature": "sha256:cecda2a8e7cfa180bf0e08547bd5582d4d1e0324f9beaf6cc142cd629bf89a85"
 },
 "nbformat": 3,
 "nbformat_minor": 0,
 "worksheets": []
}