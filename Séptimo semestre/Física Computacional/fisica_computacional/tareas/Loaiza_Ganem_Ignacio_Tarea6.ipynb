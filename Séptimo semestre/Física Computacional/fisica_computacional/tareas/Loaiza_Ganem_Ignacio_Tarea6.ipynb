{
 "metadata": {
  "language": "Julia",
  "name": "",
  "signature": "sha256:9d2dc2bf4f209b5af470035aaae73408163c2bbe9f9fc1934df1dd15e5475e31"
 },
 "nbformat": 3,
 "nbformat_minor": 0,
 "worksheets": [
  {
   "cells": [
    {
     "cell_type": "heading",
     "level": 1,
     "metadata": {},
     "source": [
      "Tarea 6 - Ignacio Loaiza G\u00e1nem\n",
      "41205127-2"
     ]
    },
    {
     "cell_type": "heading",
     "level": 2,
     "metadata": {},
     "source": [
      "[1]. Integradores de EDOs:"
     ]
    },
    {
     "cell_type": "markdown",
     "metadata": {},
     "source": [
      "(i) Define funciones para hacer *un solo paso* de los m\u00e9todos de Euler, punto medio, y RK4. Aceptan la funci\u00f3n que integrar, el valor actual de la variable independiente, y el tama\u00f1o de paso, y regresan el nuevo valor de la variable independiente.\n",
      "\n",
      "(ii) Define una funci\u00f3n `integrar` que acepta un m\u00e9todo de integraci\u00f3n que usar, una funci\u00f3n, el rango de tiempos y el tama\u00f1o del paso.\n",
      "\n",
      "(iii) Compara el funcionamiento de estos 3 m\u00e9todos para el oscilador arm\u00f3nico.\n",
      "\n",
      "(iv) Dibuja curvas de Lissajous para dos osciladores arm\u00f3nicos independientes en $x$ y $y$.\n",
      "\n",
      "(v) Resuelva num\u00e9ricamente el problema de los dos carritos de la tarea 5."
     ]
    },
    {
     "cell_type": "markdown",
     "metadata": {},
     "source": [
      "###(ii)\n",
      "Vamos a crear esta funci\u00f3n:"
     ]
    },
    {
     "cell_type": "code",
     "collapsed": false,
     "input": [
      "function integrar(metodo::Function, f::Function, t0, tf, h=1e-3)\n",
      "    T=[t0:h:tf]\n",
      "    X="
     ],
     "language": "python",
     "metadata": {},
     "outputs": []
    }
   ],
   "metadata": {}
  }
 ]
}