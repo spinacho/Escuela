{
 "metadata": {
  "language": "Julia",
  "name": "",
  "signature": "sha256:6f4e71ef878c6fb4a56c18e243a41f68d54fdc8b5dbfa7dfe3ef4900a4cf0ec4"
 },
 "nbformat": 3,
 "nbformat_minor": 0,
 "worksheets": [
  {
   "cells": [
    {
     "cell_type": "markdown",
     "metadata": {},
     "source": [
      "#Derivada con aproximaci\u00f3n al segundo orden"
     ]
    },
    {
     "cell_type": "code",
     "collapsed": false,
     "input": [
      "function derivada_aprox(f,x, h=1,i=0)\n",
      "    \u03f5=1e-10\n",
      "    x=big(x)\n",
      "    der(h)=(f(x+h)-f(x-h))/2h\n",
      "    while abs(der(h)-der(10h))>\u03f5\n",
      "        h=h/10\n",
      "        i=i+1\n",
      "    end\n",
      "    der(h)\n",
      "end"
     ],
     "language": "python",
     "metadata": {},
     "outputs": [
      {
       "metadata": {},
       "output_type": "pyout",
       "prompt_number": 1,
       "text": [
        "derivada_aprox (generic function with 3 methods)"
       ]
      }
     ],
     "prompt_number": 1
    },
    {
     "cell_type": "markdown",
     "metadata": {},
     "source": [
      "#Newton-Raphson (utilizando funci\u00f3n derivada)"
     ]
    },
    {
     "cell_type": "code",
     "collapsed": false,
     "input": [
      "function Newton(f,x,i=0) #ve en que valor la funci\u00f3n f se anula\n",
      "    \u03f5=1e-16\n",
      "    x=big(x)\n",
      "    while abs(f(x))>\u03f5 && i<100\n",
      "        x=x-(f(x)/derivada(f,x))\n",
      "        i=i+1\n",
      "    end\n",
      "    x=round(float64(x),16)\n",
      "end"
     ],
     "language": "python",
     "metadata": {},
     "outputs": [
      {
       "metadata": {},
       "output_type": "pyout",
       "prompt_number": 102,
       "text": [
        "Newton (generic function with 2 methods)"
       ]
      }
     ],
     "prompt_number": 102
    },
    {
     "cell_type": "markdown",
     "metadata": {},
     "source": [
      "#Derivaci\u00f3n autom\u00e1tica (algor\u00edtmica)\n",
      "##Primera derivada:"
     ]
    },
    {
     "cell_type": "code",
     "collapsed": false,
     "input": [
      "type Dual{T <: Real}\n",
      "    fun::T\n",
      "    der::T\n",
      "end\n",
      "\n",
      "Dual{T<:Real}(c::T)=Dual(c,zero(T))\n",
      "\n",
      "+(u::Dual,w::Dual)=Dual(+(u.fun,w.fun),+(u.der,w.der))\n",
      "+(u::Dual,\u03b1::Real)=u+Dual(\u03b1)\n",
      "+(\u03b1::Real,u::Dual)=Dual(\u03b1)+u\n",
      "-(u::Dual,w::Dual)=Dual(-(u.fun,w.fun),-(u.der,w.der))\n",
      "-(u::Dual,\u03b1::Real)=u-Dual(\u03b1)\n",
      "-(\u03b1::Real,u::Dual)=Dual(\u03b1)-u\n",
      "*(u::Dual,w::Dual)=Dual(*(u.fun,w.fun),+(*(u.der,w.fun),*(u.fun,w.der)))\n",
      "*(\u03b1::Real,u::Dual)=Dual(\u03b1)*u\n",
      "*(u::Dual,\u03b1::Real)=u*Dual(\u03b1)\n",
      "/(u::Dual,w::Dual)=Dual(/(u.fun,w.fun),(u.der*w.fun-u.fun*w.der)/(w.fun*w.fun))\n",
      "/(\u03b1::Real,u::Dual)=Dual(\u03b1)/u\n",
      "/(u::Dual,\u03b1::Real)=u/Dual(\u03b1)\n",
      "\n",
      "function ^(u::Dual, \u03b1::Integer)\n",
      "    ff=u.fun^(\u03b1-1)\n",
      "    Dual(ff*u.fun,\u03b1*u.der*ff)\n",
      "end\n",
      "function ^(u::Dual, \u03b1::Real)\n",
      "    ff=u.fun^(\u03b1-1)\n",
      "    Dual(ff*u.fun,\u03b1*u.der*ff)\n",
      "end\n",
      "\n",
      "+(u::Dual)=u\n",
      "-(u::Dual)=Dual(-u.fun,-u.der)\n",
      "\n",
      "for (ff,dd) in ((:(Base.exp),:(Base.exp)), (:(Base.log),:(x->1/x)), (:(Base.sin),:(Base.cos)),\n",
      "    (:(Base.cos),:(x->-sin(x))), (:(Base.tan),:(x->((sec(x))^2))), (:(Base.sqrt),:(x->0.5/sqrt(x))))\n",
      "    @eval ($ff)(u::Dual)=Dual(($ff)(u.fun),u.der*($dd)(u.fun))\n",
      "end\n",
      "\n",
      "function derivada(f,x)\n",
      "    deri=f(Dual(x,one(x)))\n",
      "    deri.der\n",
      "end"
     ],
     "language": "python",
     "metadata": {},
     "outputs": [
      {
       "metadata": {},
       "output_type": "pyout",
       "prompt_number": 1,
       "text": [
        "derivada (generic function with 1 method)"
       ]
      }
     ],
     "prompt_number": 1
    },
    {
     "cell_type": "markdown",
     "metadata": {},
     "source": [
      "##Segunda derivada:"
     ]
    },
    {
     "cell_type": "code",
     "collapsed": false,
     "input": [
      "function dderivada(f,x)\n",
      "    deriv=f(Dual(derivada(f,x),1))\n",
      "    deriv.der\n",
      "end"
     ],
     "language": "python",
     "metadata": {},
     "outputs": [
      {
       "metadata": {},
       "output_type": "pyout",
       "prompt_number": 4,
       "text": [
        "dderivada (generic function with 1 method)"
       ]
      }
     ],
     "prompt_number": 4
    },
    {
     "cell_type": "code",
     "collapsed": false,
     "input": [],
     "language": "python",
     "metadata": {},
     "outputs": []
    }
   ],
   "metadata": {}
  }
 ]
}