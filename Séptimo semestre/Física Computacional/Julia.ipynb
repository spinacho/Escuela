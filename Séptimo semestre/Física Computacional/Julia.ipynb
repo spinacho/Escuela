{
 "metadata": {
  "language": "Julia",
  "name": "",
  "signature": "sha256:6b4826a674c226ee0892f4aeda747d9a229a3d7808f91e64fc04c91f7dcb4d6f"
 },
 "nbformat": 3,
 "nbformat_minor": 0,
 "worksheets": [
  {
   "cells": [
    {
     "cell_type": "markdown",
     "metadata": {},
     "source": [
      "#Julia\n",
      "Al actualizar **Julia** en Ubuntu, hay que volver a instalar **IJulia** dentro de julia con:\n",
      "######Pkg.add(\"IJulia\")\n",
      "######Pkg.build(\"IJulia\")\n",
      "Meterse a pkg.julialang.org , all\u00ed salen todos los paquetes que hay para ***Julia***.\n",
      "Tambi\u00e9n se puede guardar un archivo de julia como nombre.jl, y luego usar la funci\u00f3n **include(\"trayectoria al archivo\")**."
     ]
    },
    {
     "cell_type": "code",
     "collapsed": false,
     "input": [],
     "language": "python",
     "metadata": {},
     "outputs": []
    }
   ],
   "metadata": {}
  }
 ]
}