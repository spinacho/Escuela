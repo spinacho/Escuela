{
 "metadata": {
  "name": "",
  "signature": "sha256:e178d80ac04d7f470472e188a20f068d9614b55a1fedd62e9934d5f50c85b64c"
 },
 "nbformat": 3,
 "nbformat_minor": 0,
 "worksheets": [
  {
   "cells": [
    {
     "cell_type": "heading",
     "level": 2,
     "metadata": {},
     "source": [
      "Grafiquemos algunas funciones"
     ]
    },
    {
     "cell_type": "code",
     "collapsed": false,
     "input": [
      "def func(x):\n",
      "    return (x - 3) * (x - 5) * (x - 7) + 85\n",
      "\n",
      "\n",
      "a, b = 2, 9 # integral limits\n",
      "x = np.linspace(0, 10)\n",
      "y = func(x)\n",
      "\n",
      "fig, ax = plt.subplots()\n",
      "plt.plot(x, y, 'r', linewidth=2)\n",
      "plt.ylim(ymin=0)\n",
      "\n",
      "# Make the shaded region\n",
      "ix = np.linspace(a, b)\n",
      "iy = func(ix)\n",
      "verts = [(a, 0)] + list(zip(ix, iy)) + [(b, 0)]\n",
      "poly = Polygon(verts, facecolor='0.9', edgecolor='0.5')\n",
      "ax.add_patch(poly)\n",
      "\n",
      "plt.text(0.5 * (a + b), 30, r\"$\\int_a^b f(x)\\mathrm{d}x$\",\n",
      "         horizontalalignment='center', fontsize=20)\n",
      "\n",
      "plt.figtext(0.9, 0.05, '$x$')\n",
      "plt.figtext(0.1, 0.9, '$y$')\n",
      "\n",
      "ax.spines['right'].set_visible(False)\n",
      "ax.spines['top'].set_visible(False)\n",
      "ax.xaxis.set_ticks_position('bottom')\n",
      "\n",
      "ax.set_xticks((a, b))\n",
      "ax.set_xticklabels(('$a$', '$b$'))\n",
      "ax.set_yticks([])\n",
      "\n",
      "plt.show()"
     ],
     "language": "python",
     "metadata": {},
     "outputs": [
      {
       "ename": "NameError",
       "evalue": "name 'Polygon' is not defined",
       "output_type": "pyerr",
       "traceback": [
        "\u001b[1;31m---------------------------------------------------------------------------\u001b[0m\n\u001b[1;31mNameError\u001b[0m                                 Traceback (most recent call last)",
        "\u001b[1;32m<ipython-input-4-18a066fed6d2>\u001b[0m in \u001b[0;36m<module>\u001b[1;34m()\u001b[0m\n\u001b[0;32m     15\u001b[0m \u001b[0miy\u001b[0m \u001b[1;33m=\u001b[0m \u001b[0mfunc\u001b[0m\u001b[1;33m(\u001b[0m\u001b[0mix\u001b[0m\u001b[1;33m)\u001b[0m\u001b[1;33m\u001b[0m\u001b[0m\n\u001b[0;32m     16\u001b[0m \u001b[0mverts\u001b[0m \u001b[1;33m=\u001b[0m \u001b[1;33m[\u001b[0m\u001b[1;33m(\u001b[0m\u001b[0ma\u001b[0m\u001b[1;33m,\u001b[0m \u001b[1;36m0\u001b[0m\u001b[1;33m)\u001b[0m\u001b[1;33m]\u001b[0m \u001b[1;33m+\u001b[0m \u001b[0mlist\u001b[0m\u001b[1;33m(\u001b[0m\u001b[0mzip\u001b[0m\u001b[1;33m(\u001b[0m\u001b[0mix\u001b[0m\u001b[1;33m,\u001b[0m \u001b[0miy\u001b[0m\u001b[1;33m)\u001b[0m\u001b[1;33m)\u001b[0m \u001b[1;33m+\u001b[0m \u001b[1;33m[\u001b[0m\u001b[1;33m(\u001b[0m\u001b[0mb\u001b[0m\u001b[1;33m,\u001b[0m \u001b[1;36m0\u001b[0m\u001b[1;33m)\u001b[0m\u001b[1;33m]\u001b[0m\u001b[1;33m\u001b[0m\u001b[0m\n\u001b[1;32m---> 17\u001b[1;33m \u001b[0mpoly\u001b[0m \u001b[1;33m=\u001b[0m \u001b[0mPolygon\u001b[0m\u001b[1;33m(\u001b[0m\u001b[0mverts\u001b[0m\u001b[1;33m,\u001b[0m \u001b[0mfacecolor\u001b[0m\u001b[1;33m=\u001b[0m\u001b[1;34m'0.9'\u001b[0m\u001b[1;33m,\u001b[0m \u001b[0medgecolor\u001b[0m\u001b[1;33m=\u001b[0m\u001b[1;34m'0.5'\u001b[0m\u001b[1;33m)\u001b[0m\u001b[1;33m\u001b[0m\u001b[0m\n\u001b[0m\u001b[0;32m     18\u001b[0m \u001b[0max\u001b[0m\u001b[1;33m.\u001b[0m\u001b[0madd_patch\u001b[0m\u001b[1;33m(\u001b[0m\u001b[0mpoly\u001b[0m\u001b[1;33m)\u001b[0m\u001b[1;33m\u001b[0m\u001b[0m\n\u001b[0;32m     19\u001b[0m \u001b[1;33m\u001b[0m\u001b[0m\n",
        "\u001b[1;31mNameError\u001b[0m: name 'Polygon' is not defined"
       ]
      },
      {
       "metadata": {},
       "output_type": "display_data",
       "png": "[encoded data removed]",
       "text": [
        "<matplotlib.figure.Figure at 0x7fa6d86d6e50>"
       ]
      }
     ],
     "prompt_number": 4
    },
    {
     "cell_type": "code",
     "collapsed": false,
     "input": [],
     "language": "python",
     "metadata": {},
     "outputs": []
    }
   ],
   "metadata": {}
  }
 ]
}