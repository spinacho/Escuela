{
 "metadata": {
  "name": "",
  "signature": "sha256:683f6d7ae9de07da1b7e35fe0a1f1992a57aaea50c7aaf77e039d7623ee88a59"
 },
 "nbformat": 3,
 "nbformat_minor": 0,
 "worksheets": [
  {
   "cells": [
    {
     "cell_type": "code",
     "collapsed": false,
     "input": [
      "import matplotlib.pyplot as plt\n",
      "import numpy as np\n",
      "def f(t):\n",
      "    return (-4*t*t*t+5*t*t+3*t*t-6)\n",
      "t=np.linspace(-10,10)\n",
      "y=f(t)\n",
      "plt.plot(t,y,\"b\")\n",
      "plt.ylim(ymin=-10, ymax=10)\n",
      "plt.savefig('funcion')"
     ],
     "language": "python",
     "metadata": {},
     "outputs": [],
     "prompt_number": 29
    },
    {
     "cell_type": "markdown",
     "metadata": {},
     "source": [
      "<img src=\"./funcion.png\" />"
     ]
    },
    {
     "cell_type": "code",
     "collapsed": false,
     "input": [],
     "language": "python",
     "metadata": {},
     "outputs": []
    }
   ],
   "metadata": {}
  }
 ]
}